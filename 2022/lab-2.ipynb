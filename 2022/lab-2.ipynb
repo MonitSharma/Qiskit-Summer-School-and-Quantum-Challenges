{
 "cells": [
  {
   "cell_type": "markdown",
   "metadata": {},
   "source": [
    "# Lab 2: Advanced Circuits\n",
    "Welcome to Qiskit! Before starting with the exercises, please run the cell below by pressing 'shift' + 'return'."
   ]
  },
  {
   "cell_type": "code",
   "execution_count": 37,
   "metadata": {},
   "outputs": [],
   "source": [
    "import numpy as np\n",
    "from qiskit.opflow import I, X, Y, Z, MatrixEvolution, PauliTrotterEvolution\n",
    "from qiskit.circuit import Parameter\n",
    "from qiskit import QuantumCircuit\n",
    "from qiskit import Aer\n",
    "from qiskit.compiler import transpile\n",
    "import qc_grader\n",
    "\n"
   ]
  },
  {
   "cell_type": "markdown",
   "metadata": {},
   "source": [
    "## II.1: Operators and Qiskit Opflow\n",
    "In this notebook we will learn the fundamentals of Qiskit Opflow module, this has advanced features that aim to bridge the gap from quantum information theory to experiments. The Qiskit Opflow module will allow us to quickly enter the realm of quantum simulation. Quoting the Qiskit documentation: \n",
    "\n",
    "<em>\"The Operator Flow is meant to serve as a lingua franca between the theory and implementation of Quantum Algorithms & Applications. Meaning, the ultimate goal is that when theorists speak their theory in the Operator Flow, they are speaking valid implementation, and when the engineers speak their implementation in the Operator Flow, they are speaking valid physical formalism.\"</em>\n",
    "\n",
    "[Here](https://qiskit.org/documentation/tutorials/operators/01_operator_flow.html) you can find more documentation and examples on the module. To start, let's get familiar with how to define operators.\n",
    "\n",
    "### 1.) Define Pauli operators for one qubit\n",
    "Define operators for the four pauli matrices: `X`, `Y`, `Z`, `I`; and collect them in a list `pauli_list`.\n",
    "  \n"
   ]
  },
  {
   "cell_type": "code",
   "execution_count": 38,
   "metadata": {},
   "outputs": [
    {
     "name": "stdout",
     "output_type": "stream",
     "text": [
      "X \n",
      "\n",
      "Y \n",
      "\n",
      "Z \n",
      "\n",
      "I \n",
      "\n"
     ]
    }
   ],
   "source": [
    "# Define which will contain the Paulis\n",
    "pauli_list = []\n",
    "\n",
    "# Define Paulis and add them to the list\n",
    "###INSERT CODE BELOW THIS LINE\n",
    "\n",
    "pauli_list =[X,Y,Z,I]\n",
    "###DO NOT EDIT BELOW THIS LINE\n",
    "\n",
    "for pauli in pauli_list:\n",
    "    print(pauli, '\\n')\n"
   ]
  },
  {
   "cell_type": "code",
   "execution_count": 39,
   "metadata": {},
   "outputs": [
    {
     "name": "stdout",
     "output_type": "stream",
     "text": [
      "Submitting your answer. Please wait...\n",
      "Congratulations 🎉! Your answer is correct and has been submitted.\n"
     ]
    }
   ],
   "source": [
    "from qc_grader.challenges.qgss_2022 import grade_lab2_ex1\n",
    "\n",
    "grade_lab2_ex1(pauli_list)"
   ]
  },
  {
   "cell_type": "markdown",
   "metadata": {},
   "source": [
    "There's a few operations that we can do on operators which are implemented in Qiskit Opflow. For example, we can rescale an operator by a scalar factor using `*`, we can compose operators using `@` and we can take the tensor product of operators using `^`. In the following, let us try to use these operations. Note that we need to be careful with the operations' precedences as python evaluates `+` before `^` and that may change the intended value of an expression. For example, `I^X+X^I` is actually interpreted as `I^(X+X)^I=2(I^X^I)`. Therefore the use of parenthesis is strongly recommended to avoid these types of errors. Also, keep in mind that the imaginary unit <em>i</em> is defined as `1j` in Python.\n",
    "\n",
    "\n",
    "### 2.) Define the ladder operator: $\\hat{\\sigma}^{+} = \\frac{ \\hat{\\sigma}_x + i \\hat{\\sigma}_y}{2}$ and $\\hat{\\sigma}^{-} = \\frac{\\hat{\\sigma}_x - i \\hat{\\sigma}_y}{2}$"
   ]
  },
  {
   "cell_type": "code",
   "execution_count": 40,
   "metadata": {},
   "outputs": [
    {
     "name": "stdout",
     "output_type": "stream",
     "text": [
      "0.5 * X\n",
      "+ 0.5j * Y \n",
      "\n",
      "0.5 * X\n",
      "+ -0.5j * Y \n",
      "\n"
     ]
    }
   ],
   "source": [
    "# Define list of ladder operators\n",
    "ladder_operator_list = []\n",
    "\n",
    "# Define ladder operators and add the to the list\n",
    "###INSERT CODE BELOW THIS LINE\n",
    "sigma_plus = (X+ 1j*Y)/2\n",
    "sigma_minus = (X - 1j*Y)/2\n",
    "\n",
    "ladder_operator_list = [sigma_plus, sigma_minus]\n",
    "\n",
    "###DO NOT EDIT BELOW THIS LINE\n",
    "\n",
    "for ladder_operator in ladder_operator_list:\n",
    "    print(ladder_operator, '\\n')\n"
   ]
  },
  {
   "cell_type": "code",
   "execution_count": 41,
   "metadata": {},
   "outputs": [
    {
     "name": "stdout",
     "output_type": "stream",
     "text": [
      "Submitting your answer. Please wait...\n",
      "Congratulations 🎉! Your answer is correct and has been submitted.\n"
     ]
    }
   ],
   "source": [
    "from qc_grader.challenges.qgss_2022 import grade_lab2_ex2\n",
    "\n",
    "grade_lab2_ex2(ladder_operator_list)"
   ]
  },
  {
   "cell_type": "markdown",
   "metadata": {},
   "source": [
    "We can take the operators defined in Qiskit Opflow and translate them into other representation. For example the `to_matrix()` method of an Operator object allows us to retrieve the matrix representation of the operator (as a numpy array)\n",
    "\n",
    "### 3.) Obtain the matrix representation of the pauli operators (`sigma_X`, `sigma_Y`, `sigma_Z` and `identity` )\n",
    "Please submit the result as a list with the operators ordered as above.\n"
   ]
  },
  {
   "cell_type": "code",
   "execution_count": 42,
   "metadata": {},
   "outputs": [
    {
     "name": "stdout",
     "output_type": "stream",
     "text": [
      "[[0.+0.j 1.+0.j]\n",
      " [1.+0.j 0.+0.j]] \n",
      "\n",
      "[[0.+0.j 0.-1.j]\n",
      " [0.+1.j 0.+0.j]] \n",
      "\n",
      "[[ 1.+0.j  0.+0.j]\n",
      " [ 0.+0.j -1.+0.j]] \n",
      "\n",
      "[[1.+0.j 0.+0.j]\n",
      " [0.+0.j 1.+0.j]] \n",
      "\n"
     ]
    }
   ],
   "source": [
    "# Define list which will contain the matrices representing the Pauli operators\n",
    "matrix_sigma_list = []\n",
    "\n",
    "# Add matrix representation of Paulis to the list\n",
    "###INSERT CODE BELOW THIS LINE\n",
    "sigma_X = X.to_matrix()\n",
    "sigma_Y = Y.to_matrix()\n",
    "sigma_Z = Z.to_matrix()\n",
    "identity = I.to_matrix()\n",
    "\n",
    "matrix_sigma_list = [sigma_X, sigma_Y, sigma_Z, identity]\n",
    "\n",
    "\n",
    "###DO NOT EDIT BELOW THIS LINE\n",
    "\n",
    "for matrix_sigma in matrix_sigma_list:\n",
    "    print(matrix_sigma, '\\n')"
   ]
  },
  {
   "cell_type": "code",
   "execution_count": 43,
   "metadata": {},
   "outputs": [
    {
     "name": "stdout",
     "output_type": "stream",
     "text": [
      "Submitting your answer. Please wait...\n",
      "Congratulations 🎉! Your answer is correct and has been submitted.\n"
     ]
    }
   ],
   "source": [
    "from qc_grader.challenges.qgss_2022 import grade_lab2_ex3\n",
    "\n",
    "grade_lab2_ex3(matrix_sigma_list)"
   ]
  },
  {
   "cell_type": "markdown",
   "metadata": {},
   "source": [
    "We can also generate a circuit representation of the operator using the `to_circuit()` method\n",
    "\n",
    "### 4.) Obtain the circuit representation of the pauli operators (`sigma_X`, `sigma_Y`, `sigma_Z` and `identity` )\n",
    "Please submit the result as a list with the operators ordered as above.\n"
   ]
  },
  {
   "cell_type": "code",
   "execution_count": 44,
   "metadata": {},
   "outputs": [
    {
     "name": "stdout",
     "output_type": "stream",
     "text": [
      "   ┌───┐\n",
      "q: ┤ X ├\n",
      "   └───┘ \n",
      "\n",
      "   ┌───┐\n",
      "q: ┤ Y ├\n",
      "   └───┘ \n",
      "\n",
      "   ┌───┐\n",
      "q: ┤ Z ├\n",
      "   └───┘ \n",
      "\n",
      "   \n",
      "q: \n",
      "    \n",
      "\n"
     ]
    }
   ],
   "source": [
    "# Define a list which will contain the circuit representation of the Paulis\n",
    "circuit_sigma_list = []\n",
    "\n",
    "# Add circuits to list\n",
    "###INSERT CODE BELOW THIS LINE\n",
    "sigma_X = X.to_circuit()\n",
    "sigma_Y = Y.to_circuit()\n",
    "sigma_Z = Z.to_circuit()\n",
    "identity = I.to_circuit()\n",
    "\n",
    "circuit_sigma_list = [sigma_X, sigma_Y, sigma_Z, identity]\n",
    "\n",
    "\n",
    "\n",
    "###DO NOT EDIT BELOW THIS LINE\n",
    "\n",
    "for circuit in circuit_sigma_list:\n",
    "    print(circuit, '\\n')\n",
    "\n"
   ]
  },
  {
   "cell_type": "code",
   "execution_count": 45,
   "metadata": {},
   "outputs": [
    {
     "name": "stdout",
     "output_type": "stream",
     "text": [
      "Submitting your answer. Please wait...\n",
      "Congratulations 🎉! Your answer is correct and has been submitted.\n"
     ]
    }
   ],
   "source": [
    "from qc_grader.challenges.qgss_2022 import grade_lab2_ex4\n",
    "\n",
    "grade_lab2_ex4(circuit_sigma_list)"
   ]
  },
  {
   "cell_type": "markdown",
   "metadata": {},
   "source": [
    "## II.2: Simulating Time-Evolution with Quantum Circuits\n",
    "\n",
    "Now that we are a little more familiar with the syntax of the Qiskit Opflow module we can put this knowledge to use to build the first quantum circuit simulating the dynamics (or time-evolution) of a system described by a given Hamiltonian. As a first step, let us introduce parametrized circuits. Below we'll create a circuit with a parametrized rotation with an angle $\\theta$. The goal is not to directly use parametrized rotations but to understand how Qiskit's quantum circuit can accept parameters whose values will be defined later on. We'll need that to create circuits that represent time-evolution operators with a parametrized value for the time.\n",
    "\n",
    "### 1.) Create a circuit with a parametrized RX rotation of an angle $\\theta$"
   ]
  },
  {
   "cell_type": "code",
   "execution_count": 46,
   "metadata": {},
   "outputs": [
    {
     "name": "stdout",
     "output_type": "stream",
     "text": [
      "   ┌───────────┐\n",
      "q: ┤ Rx(theta) ├\n",
      "   └───────────┘\n"
     ]
    }
   ],
   "source": [
    "# Define a variable theta to be a parameter with name 'theta'\n",
    "theta = Parameter('theta')\n",
    "# Set number of qubits to 1\n",
    "qubits_count = 1\n",
    "# Initialize a quantum circuit with one qubit\n",
    "quantum_circuit = QuantumCircuit(qubits_count)\n",
    "\n",
    "# Add a parametrized RX rotation on the qubit\n",
    "###INSERT CODE BELOW THIS LINE\n",
    "\n",
    "quantum_circuit.rx(theta,0)\n",
    "###DO NOT EDIT BELOW THIS LINE\n",
    "\n",
    "print(quantum_circuit)\n"
   ]
  },
  {
   "cell_type": "code",
   "execution_count": 47,
   "metadata": {},
   "outputs": [
    {
     "name": "stdout",
     "output_type": "stream",
     "text": [
      "Submitting your answer. Please wait...\n",
      "Congratulations 🎉! Your answer is correct and has been submitted.\n"
     ]
    }
   ],
   "source": [
    "from qc_grader.challenges.qgss_2022 import grade_lab2_ex5\n",
    "\n",
    "grade_lab2_ex5(quantum_circuit)"
   ]
  },
  {
   "cell_type": "markdown",
   "metadata": {},
   "source": [
    "This creates a circuit where the parameter of the RX gate is a placeholder which is waiting for a value. Once we decide on the value of $\\theta$, we can bind it to the circuit using the `bind_parameters({parameter: parameter_value})` method of the `QuantumCircuit` object.\n",
    "\n",
    "### 2.) Bind numerical value of the angle $\\theta$"
   ]
  },
  {
   "cell_type": "code",
   "execution_count": 51,
   "metadata": {},
   "outputs": [
    {
     "name": "stdout",
     "output_type": "stream",
     "text": [
      "   ┌───────┐\n",
      "q: ┤ Rx(π) ├\n",
      "   └───────┘\n"
     ]
    }
   ],
   "source": [
    "# Set the value of the parameter\n",
    "theta_value = np.pi\n",
    "\n",
    "# Bind the value to the parametrized circuit\n",
    "###INSERT CODE BELOW THIS LINE\n",
    "\n",
    "quantum_circuit = quantum_circuit.assign_parameters({theta: theta_value})\n",
    "\n",
    "###DO NOT EDIT BELOW THIS LINE\n",
    "\n",
    "print(quantum_circuit)"
   ]
  },
  {
   "cell_type": "code",
   "execution_count": 52,
   "metadata": {},
   "outputs": [
    {
     "name": "stdout",
     "output_type": "stream",
     "text": [
      "Submitting your answer. Please wait...\n",
      "Congratulations 🎉! Your answer is correct and has been submitted.\n"
     ]
    }
   ],
   "source": [
    "from qc_grader.challenges.qgss_2022 import grade_lab2_ex6\n",
    "\n",
    "grade_lab2_ex6(quantum_circuit)"
   ]
  },
  {
   "cell_type": "markdown",
   "metadata": {},
   "source": [
    "Let us start to prepare the building blocks we'll need to calculate the time-evolution of a quantum system using a quantum computer. First let's define the Hamiltonian of the system to be the Heisenberg Hamiltonian for two qubits:\n",
    "\n",
    "$$ \\hat{H} = \\frac{1}{2} \\left( \\hat{I}\\otimes \\hat{I} +  \\hat{\\sigma}_x \\otimes \\hat{\\sigma}_x + \\hat{\\sigma}_y \\otimes \\hat{\\sigma}_y + \\hat{\\sigma}_z \\otimes \\hat{\\sigma}_z \\right) $$\n",
    "\n",
    "### 3.) Define the Heisenberg Hamiltonian using Qiskit Opflow"
   ]
  },
  {
   "cell_type": "code",
   "execution_count": 53,
   "metadata": {},
   "outputs": [
    {
     "name": "stdout",
     "output_type": "stream",
     "text": [
      "[[1.+0.j 0.+0.j 0.+0.j 0.+0.j]\n",
      " [0.+0.j 0.+0.j 1.+0.j 0.+0.j]\n",
      " [0.+0.j 1.+0.j 0.+0.j 0.+0.j]\n",
      " [0.+0.j 0.+0.j 0.+0.j 1.+0.j]]\n"
     ]
    }
   ],
   "source": [
    "# Use the formula above to define the Hamiltonian operator\n",
    "###INSERT CODE BELOW THIS LINE\n",
    "H = 0.5 * ((I^I) + (X^X) + (Y^Y) + (Z^Z))\n",
    "\n",
    "###DO NOT EDIT BELOW THIS LINE\n",
    "\n",
    "# Get its matrix representation\n",
    "H_matrix = H.to_matrix()\n",
    "\n",
    "print(H_matrix)"
   ]
  },
  {
   "cell_type": "code",
   "execution_count": 54,
   "metadata": {},
   "outputs": [
    {
     "name": "stdout",
     "output_type": "stream",
     "text": [
      "Submitting your answer. Please wait...\n",
      "Congratulations 🎉! Your answer is correct and has been submitted.\n"
     ]
    }
   ],
   "source": [
    "from qc_grader.challenges.qgss_2022 import grade_lab2_ex7\n",
    "\n",
    "grade_lab2_ex7(H_matrix)"
   ]
  },
  {
   "cell_type": "markdown",
   "metadata": {},
   "source": [
    "Next, let's create a quantum circuit for time evolution! We'll parametrize the time `t` with a Qiskit `Parameter` and exponentiate the Heisenberg Hamiltonian with the Qiskit Opflow method `exp_i()` which implements the corressponding time-evolution operator $e^{-i \\hat{H} t}$\n",
    "\n",
    "### 4.) Define the time evolution operator for the Heisenberg Hamiltonian $\\hat{H}$ and the time step $t$"
   ]
  },
  {
   "cell_type": "code",
   "execution_count": 55,
   "metadata": {},
   "outputs": [
    {
     "name": "stdout",
     "output_type": "stream",
     "text": [
      "e^(-i*1.0*t * (\n",
      "  0.5 * II\n",
      "  + 0.5 * XX\n",
      "  + 0.5 * YY\n",
      "  + 0.5 * ZZ\n",
      "))\n"
     ]
    }
   ],
   "source": [
    "# Define a parameter t for the time in the time evolution operator\n",
    "t = Parameter('t')\n",
    "\n",
    "# Follow the instructions above to define a time-evolution operator\n",
    "###INSERT CODE BELOW THIS LINE\n",
    "time_evolution_operator = (t*H).exp_i()\n",
    "\n",
    "\n",
    "\n",
    "###DO NOT EDIT BELOW THIS LINE\n",
    "\n",
    "print(time_evolution_operator)"
   ]
  },
  {
   "cell_type": "code",
   "execution_count": 56,
   "metadata": {},
   "outputs": [
    {
     "name": "stdout",
     "output_type": "stream",
     "text": [
      "Submitting your answer. Please wait...\n",
      "Congratulations 🎉! Your answer is correct and has been submitted.\n"
     ]
    }
   ],
   "source": [
    "from qc_grader.challenges.qgss_2022 import grade_lab2_ex8\n",
    "\n",
    "grade_lab2_ex8(time_evolution_operator)"
   ]
  },
  {
   "cell_type": "markdown",
   "metadata": {},
   "source": [
    "We can then generate a circuit which implements the necessary operations that compute the time-evolution operator for a given evolution time. First, let's try to do this exactly with the `MatrxEvolution` class of Qiskit Opflow.\n",
    "\n",
    "### 5.) Use `MatrixEvolution` to calculate the exact exponentiation at time $t$\n",
    "\n",
    "*Hint: First you'll need to instantiate a `MatrixEvolution()` object. This object has a method called `convert(operator)` which takes a time-evolution operator and generates a quantum circuit implementing the operation. Finally, you'll need to bind the value of the evolution time to the circuit."
   ]
  },
  {
   "cell_type": "code",
   "execution_count": 59,
   "metadata": {},
   "outputs": [
    {
     "name": "stderr",
     "output_type": "stream",
     "text": [
      "Evolved Hamiltonian is not composed of only MatrixOps, converting to Matrix representation, which can be expensive.\n"
     ]
    },
    {
     "name": "stdout",
     "output_type": "stream",
     "text": [
      "     ┌──────────────┐\n",
      "q_0: ┤0             ├\n",
      "     │  Hamiltonian │\n",
      "q_1: ┤1             ├\n",
      "     └──────────────┘\n"
     ]
    }
   ],
   "source": [
    "# Set a total time for the time evolution\n",
    "evolution_time = 0.5\n",
    "\n",
    "# Instantiate a MatrixEvolution() object to convert the time evolution operator\n",
    "#  and bind the value for the time parameter\n",
    "###INSERT CODE BELOW THIS LINE\n",
    "bound_matrix_exponentiation_circuit = MatrixEvolution().convert(time_evolution_operator)\n",
    "bound_matrix_exponentiation_circuit = bound_matrix_exponentiation_circuit.assign_parameters({t: evolution_time})\n",
    "\n",
    "###DO NOT EDIT BELOW THIS LINE\n",
    "\n",
    "print(bound_matrix_exponentiation_circuit)"
   ]
  },
  {
   "cell_type": "code",
   "execution_count": 60,
   "metadata": {},
   "outputs": [
    {
     "name": "stdout",
     "output_type": "stream",
     "text": [
      "Submitting your answer. Please wait...\n",
      "Congratulations 🎉! Your answer is correct and has been submitted.\n"
     ]
    }
   ],
   "source": [
    "from qc_grader.challenges.qgss_2022 import grade_lab2_ex9\n",
    "\n",
    "grade_lab2_ex9(bound_matrix_exponentiation_circuit)"
   ]
  },
  {
   "cell_type": "markdown",
   "metadata": {},
   "source": [
    "As a last step, let us also generate the circuit corresponding to the time-evolution operator calculated using the Trotter-Suzuki decomposition. For this we'll use the `PauliTrotterEvolution` class in the same way we've used the  `MatrixEvolution()` one.\n",
    "\n",
    "### 6.) Use `PauliTrotterEvolution` to calculate the approximate exponentiation for a small time step"
   ]
  },
  {
   "cell_type": "code",
   "execution_count": 63,
   "metadata": {},
   "outputs": [
    {
     "name": "stdout",
     "output_type": "stream",
     "text": [
      "     ┌────────────────────────────────────┐\n",
      "q_0: ┤0                                   ├\n",
      "     │  exp(-it (II + XX + YY + ZZ))(0.1) │\n",
      "q_1: ┤1                                   ├\n",
      "     └────────────────────────────────────┘\n"
     ]
    }
   ],
   "source": [
    "# Define a value for the duration of the time-step\n",
    "time_step_value = 0.1\n",
    "\n",
    "# Instantiate a PauliTrotterEvolution() object and convert the time-evolution operator\n",
    "# to then bind the value of the time step\n",
    "###INSERT CODE BELOW THIS LINE\n",
    "bound_trotter_exponentiation_circuit = PauliTrotterEvolution().convert(time_evolution_operator)\n",
    "bound_trotter_exponentiation_circuit = bound_trotter_exponentiation_circuit.bind_parameters({t: .1})\n",
    "\n",
    "###DO NOT EDIT BELOW THIS LINE\n",
    "\n",
    "print(bound_trotter_exponentiation_circuit)"
   ]
  },
  {
   "cell_type": "code",
   "execution_count": 64,
   "metadata": {},
   "outputs": [
    {
     "name": "stdout",
     "output_type": "stream",
     "text": [
      "Submitting your answer. Please wait...\n",
      "Congratulations 🎉! Your answer is correct and has been submitted.\n"
     ]
    }
   ],
   "source": [
    "from qc_grader.challenges.qgss_2022 import grade_lab2_ex10\n",
    "\n",
    "grade_lab2_ex10(bound_trotter_exponentiation_circuit)"
   ]
  },
  {
   "cell_type": "markdown",
   "metadata": {},
   "source": [
    "The full evolution can then be obtained by putting together several Trotter steps up to the desired evolution time. For each Trotter step you can compose the single-step Trotter using the `@` operator.\n",
    "\n",
    "### 7.) Concatenate several Trotter steps to generate the desired evolution"
   ]
  },
  {
   "cell_type": "code",
   "execution_count": 66,
   "metadata": {},
   "outputs": [
    {
     "name": "stdout",
     "output_type": "stream",
     "text": [
      "     ┌────────────────────────────────────┐»\n",
      "q_0: ┤0                                   ├»\n",
      "     │  exp(-it (II + XX + YY + ZZ))(0.1) │»\n",
      "q_1: ┤1                                   ├»\n",
      "     └────────────────────────────────────┘»\n",
      "«     ┌────────────────────────────────────┐»\n",
      "«q_0: ┤0                                   ├»\n",
      "«     │  exp(-it (II + XX + YY + ZZ))(0.1) │»\n",
      "«q_1: ┤1                                   ├»\n",
      "«     └────────────────────────────────────┘»\n",
      "«     ┌────────────────────────────────────┐»\n",
      "«q_0: ┤0                                   ├»\n",
      "«     │  exp(-it (II + XX + YY + ZZ))(0.1) │»\n",
      "«q_1: ┤1                                   ├»\n",
      "«     └────────────────────────────────────┘»\n",
      "«     ┌────────────────────────────────────┐»\n",
      "«q_0: ┤0                                   ├»\n",
      "«     │  exp(-it (II + XX + YY + ZZ))(0.1) │»\n",
      "«q_1: ┤1                                   ├»\n",
      "«     └────────────────────────────────────┘»\n",
      "«     ┌────────────────────────────────────┐\n",
      "«q_0: ┤0                                   ├\n",
      "«     │  exp(-it (II + XX + YY + ZZ))(0.1) │\n",
      "«q_1: ┤1                                   ├\n",
      "«     └────────────────────────────────────┘\n"
     ]
    }
   ],
   "source": [
    "# Define the number of steps needed to reach the previously set total time-evolution\n",
    "steps = int(evolution_time/time_step_value)\n",
    "\n",
    "# Compose the operator for a Trotter step several times to generate the \n",
    "# operator for the full time-evolution\n",
    "###INSERT CODE BELOW THIS LINE\n",
    "\n",
    "total_time_evolution_circuit = bound_trotter_exponentiation_circuit @ bound_trotter_exponentiation_circuit @bound_trotter_exponentiation_circuit @bound_trotter_exponentiation_circuit @ bound_trotter_exponentiation_circuit\n",
    "\n",
    "###DO NOT EDIT BELOW THIS LINE\n",
    "\n",
    "print(total_time_evolution_circuit)\n"
   ]
  },
  {
   "cell_type": "code",
   "execution_count": 67,
   "metadata": {},
   "outputs": [
    {
     "name": "stdout",
     "output_type": "stream",
     "text": [
      "Submitting your answer. Please wait...\n",
      "Congratulations 🎉! Your answer is correct and has been submitted.\n"
     ]
    }
   ],
   "source": [
    "from qc_grader.challenges.qgss_2022 import grade_lab2_ex11\n",
    "\n",
    "grade_lab2_ex11(total_time_evolution_circuit)"
   ]
  },
  {
   "cell_type": "markdown",
   "metadata": {},
   "source": [
    "Consider now a system of three qubits initially in the $\\vert 001 \\rangle$ state, whose evolution is determined by the tight binding Hamiltonian \n",
    "\n",
    "$$\\hat{H} = \\sum_{i=0}^{1} \\hat{\\sigma}_x^{(i)} \\hat{\\sigma}_x^{(i+1)}  + \\sum_{i=0}^{1} \\hat{\\sigma}_y^{(i)} \\hat{\\sigma}_y^{(i+1)} $$\n",
    "\n",
    "Determine the final state at time $t=2$ by evolving the initial state with the time-evolution operator generated by the tight binding Hamiltonian. You can proceed in a similar way as the previous exercises, be careful to compose the circuit for the state preparation and for the time evolution correctly. Note that you should define the Hamiltonian operator exactly as the definition above to get the right aswer for the grader.\n",
    "\n",
    "### 8.) Construct the circuit for preparing an initial state and evolving it under the tight binding Hamiltonian"
   ]
  },
  {
   "cell_type": "code",
   "execution_count": null,
   "metadata": {},
   "outputs": [],
   "source": [
    "# Set number of qubits\n",
    "num_qubits = 3\n",
    "# Define time parameter\n",
    "t = Parameter('t')\n",
    "# Set total evolution time\n",
    "evolution_time_t = 2\n",
    "# Set size of time-step for Trotter evolution\n",
    "time_step_value_t = 0.1\n",
    "# Define the number of steps\n",
    "steps_t = int(evolution_time_t/time_step_value_t)\n",
    "# Create circuit\n",
    "tight_binding_circuit = QuantumCircuit(num_qubits)\n",
    "# Add initial state preparation\n",
    "tight_binding_circuit.x(0)\n",
    "\n",
    "# Define the Hamiltonian, the time-evolution operator, the Trotter step and the total evolution\n",
    "###INSERT CODE BELOW THIS LINE\n",
    "H = (I^X^X) + (I^Y^Y)\n",
    "time_evolution_operator = (t*H).exp_i()\n",
    "#PauliTrotterEvolution(trotter_mode=Suzuki(order=2, reps=1))\n",
    "bound_trotter_exponentiation_circuit = PauliTrotterEvolution().convert(time_evolution_operator)\n",
    "\n",
    "bound_trotter_exponentiation_circuit = bound_trotter_exponentiation_circuit.bind_parameters({t: 0.1})\n",
    "\n",
    "\n",
    "\n",
    "\n",
    "full_time_evolution_circuit = bound_trotter_exponentiation_circuit @ bound_trotter_exponentiation_circuit @bound_trotter_exponentiation_circuit@ bound_trotter_exponentiation_circuit @ bound_trotter_exponentiation_circuit@ bound_trotter_exponentiation_circuit@ bound_trotter_exponentiation_circuit@ bound_trotter_exponentiation_circuit@bound_trotter_exponentiation_circuit@ bound_trotter_exponentiation_circuit@ bound_trotter_exponentiation_circuit@ bound_trotter_exponentiation_circuit@ bound_trotter_exponentiation_circuit@ bound_trotter_exponentiation_circuit@ bound_trotter_exponentiation_circuit@ bound_trotter_exponentiation_circuit@ bound_trotter_exponentiation_circuit@ bound_trotter_exponentiation_circuit@ bound_trotter_exponentiation_circuit@ bound_trotter_exponentiation_circuit\n",
    "full_time_evolution_circuit = full_time_evolution_circuit.to_circuit()\n",
    "full_time_evolution_circuit = tight_binding_circuit + full_time_evolution_circuit\n",
    "###DO NOT EDIT BELOW THIS LINE\n",
    "\n",
    "\n",
    "print(full_time_evolution_circuit)\n",
    "\n"
   ]
  },
  {
   "cell_type": "code",
   "execution_count": 89,
   "metadata": {},
   "outputs": [
    {
     "name": "stdout",
     "output_type": "stream",
     "text": [
      "Submitting your answer. Please wait...\n",
      "Oops 😕! Circuit output does not match expected output.\n",
      "Please review your answer and try again.\n"
     ]
    }
   ],
   "source": [
    "from qc_grader.challenges.qgss_2022 import grade_lab2_ex12\n",
    "\n",
    "grade_lab2_ex12(full_time_evolution_circuit)"
   ]
  },
  {
   "cell_type": "code",
   "execution_count": null,
   "metadata": {},
   "outputs": [],
   "source": []
  }
 ],
 "metadata": {
  "interpreter": {
   "hash": "bf4bbb548724c59dba6ce516cee24299166586d445daadc417657751c92c7365"
  },
  "kernelspec": {
   "display_name": "Python 3 (ipykernel)",
   "language": "python",
   "name": "python3"
  },
  "language_info": {
   "codemirror_mode": {
    "name": "ipython",
    "version": 3
   },
   "file_extension": ".py",
   "mimetype": "text/x-python",
   "name": "python",
   "nbconvert_exporter": "python",
   "pygments_lexer": "ipython3",
   "version": "3.8.13"
  },
  "widgets": {
   "application/vnd.jupyter.widget-state+json": {
    "state": {},
    "version_major": 2,
    "version_minor": 0
   }
  }
 },
 "nbformat": 4,
 "nbformat_minor": 4
}
