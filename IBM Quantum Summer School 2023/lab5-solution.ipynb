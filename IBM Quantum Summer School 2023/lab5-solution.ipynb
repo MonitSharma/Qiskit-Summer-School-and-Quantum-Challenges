{
 "cells": [
  {
   "attachments": {},
   "cell_type": "markdown",
   "metadata": {},
   "source": [
    "# Lab 5: Error mitigation with Qiskit Runtime\n",
    "\n",
    "In this lab, we'll explore a few of the error mitigation options available through Qiskit Runtime. Specifically, we'll define a simple observable and initial state and use the Estimator primitive to measure the expectation value. Using noisy simulations, we'll explore the effect of different error mitigation strategies."
   ]
  },
  {
   "attachments": {},
   "cell_type": "markdown",
   "metadata": {},
   "source": [
    "## Setup\n",
    "\n",
    "We'll define a simple Heisenberg Hamiltonian model to use as an example. We'll also construct a simple state preparation circuit."
   ]
  },
  {
   "cell_type": "code",
   "execution_count": null,
   "metadata": {},
   "outputs": [],
   "source": [
    "from qiskit import QuantumCircuit, QuantumRegister\n",
    "from qiskit.quantum_info import SparsePauliOp\n",
    "\n",
    "\n",
    "def heisenberg_hamiltonian(\n",
    "    length: int, jx: float = 1.0, jy: float = 0.0, jz: float = 0.0\n",
    ") -> SparsePauliOp:\n",
    "    terms = []\n",
    "    for i in range(length - 1):\n",
    "        if jx:\n",
    "            terms.append((\"XX\", [i, i + 1], jx))\n",
    "        if jy:\n",
    "            terms.append((\"YY\", [i, i + 1], jy))\n",
    "        if jz:\n",
    "            terms.append((\"ZZ\", [i, i + 1], jz))\n",
    "    return SparsePauliOp.from_sparse_list(terms, num_qubits=length)\n",
    "\n",
    "\n",
    "def state_prep_circuit(num_qubits: int, layers: int = 1) -> QuantumCircuit:\n",
    "    qubits = QuantumRegister(num_qubits, name=\"q\")\n",
    "    circuit = QuantumCircuit(qubits)\n",
    "    circuit.h(qubits)\n",
    "    for _ in range(layers):\n",
    "        for i in range(0, num_qubits - 1, 2):\n",
    "            circuit.cx(qubits[i], qubits[i + 1])\n",
    "        circuit.ry(0.1, qubits)\n",
    "        for i in range(1, num_qubits - 1, 2):\n",
    "            circuit.cx(qubits[i], qubits[i + 1])\n",
    "        circuit.ry(0.1, qubits)\n",
    "    return circuit"
   ]
  },
  {
   "cell_type": "code",
   "execution_count": null,
   "metadata": {},
   "outputs": [],
   "source": [
    "length = 5\n",
    "\n",
    "hamiltonian = heisenberg_hamiltonian(length, 1.0, 1.0)\n",
    "circuit = state_prep_circuit(length, layers=2)\n",
    "\n",
    "print(hamiltonian)\n",
    "circuit.draw(\"mpl\")"
   ]
  },
  {
   "attachments": {},
   "cell_type": "markdown",
   "metadata": {},
   "source": [
    "## Calculate exact expectation value (energy)\n",
    "\n",
    "First, we'll calculate the exact expectation value using a local simulator implementation of the Estimator primitive. The expectation value of a Hamiltonian is also referred to as \"energy.\""
   ]
  },
  {
   "cell_type": "code",
   "execution_count": null,
   "metadata": {},
   "outputs": [],
   "source": [
    "from qiskit_aer.primitives import Estimator\n",
    "\n",
    "estimator = Estimator(approximation=True)\n",
    "job = estimator.run(circuit, hamiltonian, shots=None)\n",
    "result = job.result()\n",
    "exact_value = result.values[0]\n",
    "\n",
    "print(f\"Exact energy: {exact_value}\")"
   ]
  },
  {
   "attachments": {},
   "cell_type": "markdown",
   "metadata": {},
   "source": [
    "## Run noisy simulation through Qiskit Runtime\n",
    "\n",
    "Next, we'll initialize the Qiskit Runtime service and switch to using its Estimator primitive, backed by a simulator that can handle noise."
   ]
  },
  {
   "cell_type": "code",
   "execution_count": null,
   "metadata": {},
   "outputs": [],
   "source": [
    "from qiskit_ibm_runtime import QiskitRuntimeService\n",
    "\n",
    "hub = \"ibm-q-internal\"\n",
    "group = \"deployed\"\n",
    "project = \"default\"\n",
    "service = QiskitRuntimeService(instance=f\"{hub}/{group}/{project}\")"
   ]
  },
  {
   "cell_type": "code",
   "execution_count": null,
   "metadata": {},
   "outputs": [],
   "source": [
    "from qiskit_ibm_runtime import Estimator, Options, Session\n",
    "from qiskit.transpiler import CouplingMap\n",
    "\n",
    "backend = service.get_backend(\"simulator_statevector\")\n",
    "# set simulation options\n",
    "simulator = {\n",
    "    \"basis_gates\": [\"id\", \"rz\", \"sx\", \"cx\", \"reset\"],\n",
    "    \"coupling_map\": list(CouplingMap.from_line(length + 1)),\n",
    "}\n",
    "shots = 10000"
   ]
  },
  {
   "attachments": {},
   "cell_type": "markdown",
   "metadata": {},
   "source": [
    "### No noise"
   ]
  },
  {
   "attachments": {},
   "cell_type": "markdown",
   "metadata": {},
   "source": [
    "First, we'll run the simulation with no noise."
   ]
  },
  {
   "cell_type": "code",
   "execution_count": null,
   "metadata": {},
   "outputs": [],
   "source": [
    "import math\n",
    "\n",
    "options = Options(\n",
    "    simulator=simulator,\n",
    "    resilience_level=0,\n",
    ")\n",
    "\n",
    "with Session(service=service, backend=backend):\n",
    "    estimator = Estimator(options=options)\n",
    "    job = estimator.run(circuit, hamiltonian, shots=shots)\n",
    "\n",
    "result = job.result()\n",
    "experiment_value = result.values[0]\n",
    "error = abs(experiment_value - exact_value)\n",
    "variance = result.metadata[0][\"variance\"]\n",
    "std = math.sqrt(variance / shots)\n",
    "\n",
    "print(f\"Estimated energy: {experiment_value}\")\n",
    "print(f\"Energy error: {error}\")\n",
    "print(f\"Variance: {variance}\")\n",
    "print(f\"Standard error: {std}\")"
   ]
  },
  {
   "attachments": {},
   "cell_type": "markdown",
   "metadata": {},
   "source": [
    "### Readout error\n",
    "\n",
    "Next, let's run a simulation with readout error."
   ]
  },
  {
   "attachments": {},
   "cell_type": "markdown",
   "metadata": {},
   "source": [
    "#### Exercise 1\n",
    "\n",
    "In this exercise, you'll construct a noise model that has modest readout error on all qubits except for the first qubit, which will have really bad readout error.\n",
    "\n",
    "Specifically, construct a noise model with the following properties:\n",
    "- For the first qubit (qubit 0):\n",
    "  - A readout of 1 has a 50% probability of being erroneously read as 0.\n",
    "  - A readout of 0 has a 20% probability of being erroneously read as 1.\n",
    "- For the rest of the qubits:\n",
    "  - A readout of 1 has a 5% probability of being erroneously read as 0.\n",
    "  - A readout of 0 has a 2% probability of being erroneously read as 1.\n",
    "\n",
    "You may find it helpful to consult the following resources:\n",
    "  - https://qiskit.org/ecosystem/aer/apidocs/aer_noise.html\n",
    "  - https://qiskit.org/documentation/tutorials/simulators/3_building_noise_models.html"
   ]
  },
  {
   "cell_type": "code",
   "execution_count": null,
   "metadata": {},
   "outputs": [],
   "source": [
    "from qiskit_aer.noise import NoiseModel, ReadoutError\n",
    "\n",
    "noise_model = NoiseModel()\n",
    "\n",
    "##### your code here #####\n",
    "\n",
    "# add modest readout error on all qubits\n",
    "p0given1 = 0.05\n",
    "p1given0 = 0.02\n",
    "readout_error = ReadoutError(\n",
    "    [\n",
    "        [1 - p1given0, p1given0],\n",
    "        [p0given1, 1 - p0given1],\n",
    "    ]\n",
    ")\n",
    "noise_model.add_all_qubit_readout_error(readout_error)\n",
    "\n",
    "# add really bad readout error on qubit 0\n",
    "p0given1 = 0.5\n",
    "p1given0 = 0.2\n",
    "readout_error = ReadoutError(\n",
    "    [\n",
    "        [1 - p1given0, p1given0],\n",
    "        [p0given1, 1 - p0given1],\n",
    "    ]\n",
    ")\n",
    "noise_model.add_readout_error(readout_error, [0])\n",
    "\n",
    "print(noise_model)"
   ]
  },
  {
   "cell_type": "code",
   "execution_count": null,
   "metadata": {},
   "outputs": [],
   "source": [
    "# Submit your answer\n",
    "\n",
    "from qc_grader.challenges.qgss_2023 import grade_lab5_ex1\n",
    "\n",
    "grade_lab5_ex1(noise_model)"
   ]
  },
  {
   "attachments": {},
   "cell_type": "markdown",
   "metadata": {},
   "source": [
    "First, let's try running the simulation without doing anything to mitigate the readout error. We'll explicitly set `resilience_level = 0` to ensure that no error mitigation is applied by the Runtime service. To illustrate the effect of a poor choice of qubits, we'll explicitly specify an initial layout that includes qubit 0."
   ]
  },
  {
   "cell_type": "code",
   "execution_count": null,
   "metadata": {},
   "outputs": [],
   "source": [
    "options = Options(\n",
    "    simulator=dict(noise_model=noise_model, **simulator),\n",
    "    resilience_level=0,\n",
    "    transpilation=dict(initial_layout=list(range(length))),\n",
    ")\n",
    "\n",
    "with Session(service=service, backend=backend):\n",
    "    estimator = Estimator(options=options)\n",
    "    job = estimator.run(circuit, hamiltonian, shots=shots)\n",
    "\n",
    "result = job.result()\n",
    "experiment_value = result.values[0]\n",
    "error = abs(experiment_value - exact_value)\n",
    "variance = result.metadata[0][\"variance\"]\n",
    "std = math.sqrt(variance / shots)\n",
    "\n",
    "print(f\"Estimated energy: {experiment_value}\")\n",
    "print(f\"Energy error: {error}\")\n",
    "print(f\"Variance: {variance}\")\n",
    "print(f\"Standard error: {std}\")"
   ]
  },
  {
   "attachments": {},
   "cell_type": "markdown",
   "metadata": {},
   "source": [
    "The error we get is pretty large. To improve things, let's pick a qubit layout that avoids qubit 0."
   ]
  },
  {
   "cell_type": "code",
   "execution_count": null,
   "metadata": {},
   "outputs": [],
   "source": [
    "options = Options(\n",
    "    simulator=dict(noise_model=noise_model, **simulator),\n",
    "    resilience_level=0,\n",
    "    transpilation=dict(initial_layout=list(range(1, length + 1))),\n",
    ")\n",
    "\n",
    "with Session(service=service, backend=backend):\n",
    "    estimator = Estimator(options=options)\n",
    "    job = estimator.run(circuit, hamiltonian, shots=shots)\n",
    "\n",
    "result = job.result()\n",
    "experiment_value = result.values[0]\n",
    "error = abs(experiment_value - exact_value)\n",
    "variance = result.metadata[0][\"variance\"]\n",
    "std = math.sqrt(variance / shots)\n",
    "\n",
    "print(f\"Estimated energy: {experiment_value}\")\n",
    "print(f\"Energy error: {error}\")\n",
    "print(f\"Variance: {variance}\")\n",
    "print(f\"Standard error: {std}\")"
   ]
  },
  {
   "attachments": {},
   "cell_type": "markdown",
   "metadata": {},
   "source": [
    "The error is smaller now, but still significant. Let's now enable readout error mitigation by setting `resilience_level = 1`."
   ]
  },
  {
   "cell_type": "code",
   "execution_count": null,
   "metadata": {},
   "outputs": [],
   "source": [
    "options = Options(\n",
    "    simulator=dict(noise_model=noise_model, **simulator),\n",
    "    resilience_level=1,\n",
    "    transpilation=dict(initial_layout=list(range(1, length + 1))),\n",
    ")\n",
    "\n",
    "with Session(service=service, backend=backend):\n",
    "    estimator = Estimator(options=options)\n",
    "    job = estimator.run(circuit, hamiltonian, shots=shots)\n",
    "\n",
    "result = job.result()\n",
    "experiment_value = result.values[0]\n",
    "error = abs(experiment_value - exact_value)\n",
    "variance = result.metadata[0][\"variance\"]\n",
    "std = math.sqrt(variance / shots)\n",
    "\n",
    "print(f\"Estimated energy: {experiment_value}\")\n",
    "print(f\"Energy error: {error}\")\n",
    "print(f\"Variance: {variance}\")\n",
    "print(f\"Standard error: {std}\")"
   ]
  },
  {
   "attachments": {},
   "cell_type": "markdown",
   "metadata": {},
   "source": [
    "Now, the effect of readout error has been almost completely mitigated! This mitigation did not come for free. In particular,\n",
    "- To perform readout error mitigation, the Runtime service has to run additional calibration circuits, so the overall running time may be longer.\n",
    "- The variance of the estimator has increased, leading to a larger standard error of the mean. As a consequence, a larger number of shots needs to be specified in order to achieve a given standard error.\n",
    "\n",
    "Typically, these costs are relatively small, so it is almost always worthwhile to enable readout error mitigation."
   ]
  },
  {
   "attachments": {},
   "cell_type": "markdown",
   "metadata": {},
   "source": [
    "#### Exercise 2\n",
    "\n",
    "Suppose that turning on readout error mitigation increases the variance of your estimator by a factor of 2. If you originally ran your experiment with 10,000 shots, how many shots should you now use to achieve the same standard error of the mean?"
   ]
  },
  {
   "cell_type": "code",
   "execution_count": null,
   "metadata": {},
   "outputs": [],
   "source": [
    "new_shots: int\n",
    "\n",
    "##### your code here #####\n",
    "\n",
    "new_shots = 20000"
   ]
  },
  {
   "cell_type": "code",
   "execution_count": null,
   "metadata": {},
   "outputs": [],
   "source": [
    "# Submit your answer\n",
    "\n",
    "from qc_grader.challenges.qgss_2023 import grade_lab5_ex2\n",
    "\n",
    "grade_lab5_ex2(new_shots)"
   ]
  },
  {
   "attachments": {},
   "cell_type": "markdown",
   "metadata": {},
   "source": [
    "### Depolarizing error and zero-noise extrapolation\n",
    "\n",
    "In this section, we will see how depolarizing error can be mitigated using zero-noise extrapolation. Because the zero-noise extrapolation feature of Qiskit Runtime is still in beta, it currently has a few limitations. In particular, as of the time of this writing, the zero-noise extrapolation feature does not mitigate readout error. Therefore, in the examples below, we will remove readout error from our noise model."
   ]
  },
  {
   "attachments": {},
   "cell_type": "markdown",
   "metadata": {},
   "source": [
    "#### Exercise 3\n",
    "\n",
    "Construct a noise model that adds two-qubit depolarizing error after each CNOT gate, such that the error channel maps the input quantum state to the completely mixed state with 1% probability."
   ]
  },
  {
   "cell_type": "code",
   "execution_count": null,
   "metadata": {},
   "outputs": [],
   "source": [
    "from qiskit_aer.noise import depolarizing_error\n",
    "\n",
    "noise_model = NoiseModel()\n",
    "\n",
    "##### your code here #####\n",
    "\n",
    "noise_model.add_all_qubit_quantum_error(depolarizing_error(0.01, 2), [\"cx\"])\n",
    "\n",
    "print(noise_model)"
   ]
  },
  {
   "cell_type": "code",
   "execution_count": null,
   "metadata": {},
   "outputs": [],
   "source": [
    "# Submit your answer\n",
    "\n",
    "from qc_grader.challenges.qgss_2023 import grade_lab5_ex3\n",
    "\n",
    "grade_lab5_ex3(noise_model)"
   ]
  },
  {
   "attachments": {},
   "cell_type": "markdown",
   "metadata": {},
   "source": [
    "Let's run the estimator with `resilience_level = 1`, which turns on readout error mitigation. Because our noise model doesn't include readout error mitigation, we don't expect this to help."
   ]
  },
  {
   "cell_type": "code",
   "execution_count": null,
   "metadata": {},
   "outputs": [],
   "source": [
    "options = Options(\n",
    "    simulator=dict(noise_model=noise_model, **simulator),\n",
    "    resilience_level=1,\n",
    ")\n",
    "\n",
    "with Session(service=service, backend=backend):\n",
    "    estimator = Estimator(options=options)\n",
    "    job = estimator.run(circuit, hamiltonian, shots=shots)\n",
    "\n",
    "result = job.result()\n",
    "experiment_value = result.values[0]\n",
    "error = abs(experiment_value - exact_value)\n",
    "variance = result.metadata[0][\"variance\"]\n",
    "std = math.sqrt(variance / shots)\n",
    "\n",
    "print(f\"Estimated energy: {experiment_value}\")\n",
    "print(f\"Energy error: {error}\")\n",
    "print(f\"Variance: {variance}\")\n",
    "print(f\"Standard error: {std}\")"
   ]
  },
  {
   "attachments": {},
   "cell_type": "markdown",
   "metadata": {},
   "source": [
    "As expected, the error we get is pretty significant.\n",
    "\n",
    "Now, let's turn on zero-noise extrapolation by setting `resilience_level = 2`."
   ]
  },
  {
   "cell_type": "code",
   "execution_count": null,
   "metadata": {},
   "outputs": [],
   "source": [
    "options = Options(\n",
    "    simulator=dict(noise_model=noise_model, **simulator),\n",
    "    resilience_level=2,\n",
    ")\n",
    "\n",
    "with Session(service=service, backend=backend):\n",
    "    estimator = Estimator(options=options)\n",
    "    job = estimator.run(circuit, hamiltonian, shots=shots)\n",
    "\n",
    "result = job.result()\n",
    "experiment_value = result.values[0]\n",
    "error = abs(experiment_value - exact_value)\n",
    "variances = result.metadata[0][\"zne\"][\"noise_amplification\"][\"variance\"]\n",
    "\n",
    "print(f\"Estimated energy: {experiment_value}\")\n",
    "print(f\"Energy error: {error}\")\n",
    "print(f\"Variances: {variances}\")"
   ]
  },
  {
   "attachments": {},
   "cell_type": "markdown",
   "metadata": {},
   "source": [
    "Now, the effect of depolarizing noise has been almost completely mitigated! Note that instead of getting a single variance value for the estimator, we are now returned a list of variances, one for each data point measured for the extrapolation. In a future version of Qiskit Runtime, these variances will also be extrapolated to return a single variance for the final estimator."
   ]
  },
  {
   "attachments": {},
   "cell_type": "markdown",
   "metadata": {},
   "source": [
    "#### Exercise 4 (ungraded)\n",
    "\n",
    "Besides depolarizing error, what other kinds of noise can be mitigated by zero-noise extrapolation? Test your proposals by constructing other noise models, and then simulating them with and without zero-noise extrapolation."
   ]
  },
  {
   "cell_type": "code",
   "execution_count": null,
   "metadata": {},
   "outputs": [],
   "source": [
    "from qiskit_aer.noise import depolarizing_error, amplitude_damping_error\n",
    "\n",
    "noise_model = NoiseModel()\n",
    "\n",
    "##### your code here #####\n",
    "\n",
    "noise_model.add_all_qubit_quantum_error(amplitude_damping_error(0.01).tensor(amplitude_damping_error(0.05)), [\"cx\"])\n",
    "\n",
    "print(noise_model)"
   ]
  },
  {
   "cell_type": "code",
   "execution_count": null,
   "metadata": {},
   "outputs": [],
   "source": [
    "options = Options(\n",
    "    simulator=dict(noise_model=noise_model, **simulator),\n",
    "    resilience_level=1,\n",
    ")\n",
    "\n",
    "with Session(service=service, backend=backend):\n",
    "    estimator = Estimator(options=options)\n",
    "    job = estimator.run(circuit, hamiltonian, shots=shots)\n",
    "\n",
    "result = job.result()\n",
    "experiment_value = result.values[0]\n",
    "error = abs(experiment_value - exact_value)\n",
    "variance = result.metadata[0][\"variance\"]\n",
    "std = math.sqrt(variance / shots)\n",
    "\n",
    "print(f\"Estimated energy: {experiment_value}\")\n",
    "print(f\"Energy error: {error}\")\n",
    "print(f\"Variance: {variance}\")\n",
    "print(f\"Standard error: {std}\")"
   ]
  },
  {
   "cell_type": "code",
   "execution_count": null,
   "metadata": {},
   "outputs": [],
   "source": [
    "options = Options(\n",
    "    simulator=dict(noise_model=noise_model, **simulator),\n",
    "    resilience_level=2,\n",
    ")\n",
    "\n",
    "with Session(service=service, backend=backend):\n",
    "    estimator = Estimator(options=options)\n",
    "    job = estimator.run(circuit, hamiltonian, shots=shots)\n",
    "\n",
    "result = job.result()\n",
    "experiment_value = result.values[0]\n",
    "error = abs(experiment_value - exact_value)\n",
    "variances = result.metadata[0][\"zne\"][\"noise_amplification\"][\"variance\"]\n",
    "\n",
    "print(f\"Estimated energy: {experiment_value}\")\n",
    "print(f\"Energy error: {error}\")\n",
    "print(f\"Variances: {variances}\")"
   ]
  }
 ],
 "metadata": {
  "kernelspec": {
   "display_name": "qgss-2023-svnk7ds3",
   "language": "python",
   "name": "python3"
  },
  "language_info": {
   "codemirror_mode": {
    "name": "ipython",
    "version": 3
   },
   "file_extension": ".py",
   "mimetype": "text/x-python",
   "name": "python",
   "nbconvert_exporter": "python",
   "pygments_lexer": "ipython3",
   "version": "3.10.11"
  },
  "orig_nbformat": 4
 },
 "nbformat": 4,
 "nbformat_minor": 2
}
