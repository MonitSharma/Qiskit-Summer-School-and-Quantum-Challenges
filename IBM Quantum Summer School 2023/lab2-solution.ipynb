{
 "cells": [
  {
   "attachments": {},
   "cell_type": "markdown",
   "metadata": {},
   "source": [
    "# Lab 2 - Creating Entanglement with Qiskit\n",
    "\n",
    "This lab demonstrates interesting properties of *entangled* qubits. In particular, we will consider two experiments:\n",
    "- **CHSH Inequality Violation** - this shows that quantum mechanics *cannot* be explained by a local hidden variable theory\n",
    "- **Teleportation** - teleport an arbitrary quantum state using an entangled qubit pair as a resource\n",
    "\n",
    "In particular, this lab demonstrates how to use new features from IBM Quantum \n",
    "- **Primitives** - abstract measurement and error mitigation for scalable quantum computing\n",
    "- **Dynamic Circuits** - mid-circuit measurement and feed-forward within the qubits' coherence time"
   ]
  },
  {
   "attachments": {},
   "cell_type": "markdown",
   "metadata": {},
   "source": [
    "## Getting Started\n",
    "\n",
    "Start by importing some libraries we need, including the `Sampler` and `Estimator` primitives from Qiskit. While the primitives from `qiskit.providers` use a local statevector simulator by default, the syntax within this lab is easily generalizable to running experiments on real systems.\n",
    "\n",
    "To run on real hearware requires a Qiskit Runtime service instance. If you haven't done so already, follow the instructions in the Qiskit [Getting started guide](https://qiskit.org/documentation/partners/qiskit_ibm_runtime/getting_started.html) to set one up. TODO: include video links and such. After setup, import the `Sampler` and `Estimator` primitives from `qiskit_ibm_runtime` instead. Additionally we will need `QiskitRuntimeService` and `Session`, which form the interface between Qiskit and Qiskit IBM Runtime. Then the below exercises can be run on real systems by instantiating the primitives in this way (as opposed to from `qiskit.primitives`):\n",
    "\n",
    "```\n",
    "from qiskit_ibm_runtime import QiskitRuntimeService, Session, Sampler, Estimator\n",
    "\n",
    "service = QiskitRuntimeService()\n",
    "backend = service.get_backend('...')\n",
    "session = Session(service=service, backend=backend)\n",
    "sampler = Sampler(session=session)\n",
    "estimator = Estimator(session=session)\n",
    "```\n",
    "where additional options can be specified in the `Sampler` and `Estimator` with the `Options` class. See this [how-to](https://qiskit.org/ecosystem/ibm-runtime/how_to/run_session.html) for using Primitives with Runtime Sessions.\n"
   ]
  },
  {
   "cell_type": "code",
   "execution_count": 1,
   "metadata": {},
   "outputs": [
    {
     "name": "stdout",
     "output_type": "stream",
     "text": [
      "env: QC_GRADE_ONLY=true\n"
     ]
    }
   ],
   "source": [
    "%set_env QC_GRADE_ONLY=true\n",
    "\n",
    "from qiskit.circuit import QuantumCircuit\n",
    "from qiskit.primitives import Estimator, Sampler\n",
    "from qiskit.quantum_info import SparsePauliOp\n",
    "from qiskit.visualization import plot_histogram\n",
    "\n",
    "import numpy as np\n",
    "import matplotlib.pyplot as plt\n",
    "plt.style.use('dark_background') # optional"
   ]
  },
  {
   "attachments": {},
   "cell_type": "markdown",
   "metadata": {},
   "source": [
    "## CHSH Inequality Violation\n",
    "\n",
    "### Warm Up\n",
    "\n",
    "Create circuits that put the qubit in the excited $|1\\rangle$ and superposition $|+\\rangle$ states, respectivly, and measure them in different bases. This is done first with the `Sampler` primitive (which is most similar to the `backend.run()` used in the previous lab), and then with the `Estimator` primitive to show how measurement is abstracted in that we do not need to worry about rotating the qubit into the appropriate measurement basis. The primitives will be executed withing the `Session` context which allows efficiency to optimize workloads."
   ]
  },
  {
   "cell_type": "code",
   "execution_count": 2,
   "metadata": {},
   "outputs": [
    {
     "data": {
      "image/png": "[encoded data removed]",
      "text/plain": [
       "<Figure size 133.526x84.28 with 1 Axes>"
      ]
     },
     "execution_count": 2,
     "metadata": {},
     "output_type": "execute_result"
    }
   ],
   "source": [
    "# create excited |1> state\n",
    "qc_1 = QuantumCircuit(1)\n",
    "qc_1.x(0)\n",
    "qc_1.draw('mpl')\n"
   ]
  },
  {
   "cell_type": "code",
   "execution_count": 3,
   "metadata": {},
   "outputs": [
    {
     "data": {
      "image/png": "[encoded data removed]",
      "text/plain": [
       "<Figure size 133.526x84.28 with 1 Axes>"
      ]
     },
     "execution_count": 3,
     "metadata": {},
     "output_type": "execute_result"
    }
   ],
   "source": [
    "# create superposition |+> state\n",
    "qc_plus = QuantumCircuit(1)\n",
    "qc_plus.h(0)\n",
    "qc_plus.draw('mpl')"
   ]
  },
  {
   "attachments": {},
   "cell_type": "markdown",
   "metadata": {},
   "source": [
    "### Sampler Primitive\n",
    "\n",
    "First use the `Sampler` to measure qubits in the $Z$-basis (the physical basis in which qubits are measured). The `Sampler` will count the number of outcomes of the $|0\\rangle$ state and $|1\\rangle$ state, normalized by the number of shots (experiments performed). The `Sampler` also offers the ability to easily perform error mitigation (which is covered in Lab 5), which modifies this calculation, and hence the outcomes are refered to as *quasi-probabilities*.\n",
    "\n",
    "Measurments must be present in the circuit when using the `Sampler` primitive. Then the `Session` context is opened, the `Sampler` is instantiated, and `sampler.run()` is used to send the circuits to the backend, similar to the `backend.run()` syntax you may already be familiar with."
   ]
  },
  {
   "cell_type": "code",
   "execution_count": 4,
   "metadata": {},
   "outputs": [],
   "source": [
    "qc_1.measure_all()\n",
    "qc_plus.measure_all()\n",
    "\n",
    "sampler = Sampler()\n",
    "job_1 = sampler.run(qc_1)\n",
    "job_plus = sampler.run(qc_plus)"
   ]
  },
  {
   "cell_type": "code",
   "execution_count": 5,
   "metadata": {},
   "outputs": [
    {
     "data": {
      "text/plain": [
       "[{1: 1.0}]"
      ]
     },
     "execution_count": 5,
     "metadata": {},
     "output_type": "execute_result"
    }
   ],
   "source": [
    "job_1.result().quasi_dists"
   ]
  },
  {
   "cell_type": "code",
   "execution_count": 6,
   "metadata": {},
   "outputs": [
    {
     "data": {
      "text/plain": [
       "[{0: 0.4999999999999999, 1: 0.4999999999999999}]"
      ]
     },
     "execution_count": 6,
     "metadata": {},
     "output_type": "execute_result"
    }
   ],
   "source": [
    "job_plus.result().quasi_dists"
   ]
  },
  {
   "cell_type": "code",
   "execution_count": 7,
   "metadata": {},
   "outputs": [
    {
     "data": {
      "image/png": "[encoded data removed]",
      "text/plain": [
       "<Figure size 504x360 with 1 Axes>"
      ]
     },
     "execution_count": 7,
     "metadata": {},
     "output_type": "execute_result"
    }
   ],
   "source": [
    "legend = [\"Excited State\", \"Plus State\"] # TODO: Excited State does not appear\n",
    "plot_histogram([job_1.result().quasi_dists[0], job_plus.result().quasi_dists[0]], legend=legend)"
   ]
  },
  {
   "attachments": {},
   "cell_type": "markdown",
   "metadata": {},
   "source": [
    "The result for the excited state is always $|1\\rangle$ wheres it is roughly half $|0\\rangle$ and half |1\\rangle$ for the plus superposition state. This is because the $|0\\rangle$ and $|1\\rangle$ states are *eigenstates* of the $Z$ operator (with $+1$ and $-1$ eigenvalues, respectively).\n",
    "\n",
    "Let's switch and measure in the $X$ basis. Using the `Sampler` we must rotate the qubit from the $X$-basis to the $Z$-basis for measurement (because that is the only basis we can actually perform measurement in)."
   ]
  },
  {
   "cell_type": "code",
   "execution_count": 8,
   "metadata": {},
   "outputs": [],
   "source": [
    "qc_1.remove_final_measurements()\n",
    "qc_plus.remove_final_measurements()\n",
    "\n",
    "# rotate into the X-basis\n",
    "qc_1.h(0)\n",
    "qc_plus.h(0)\n",
    "\n",
    "qc_1.measure_all()\n",
    "qc_plus.measure_all()"
   ]
  },
  {
   "cell_type": "code",
   "execution_count": 9,
   "metadata": {},
   "outputs": [],
   "source": [
    "sampler = Sampler()\n",
    "job_1 = sampler.run(qc_1)\n",
    "job_plus = sampler.run(qc_plus)"
   ]
  },
  {
   "cell_type": "code",
   "execution_count": 10,
   "metadata": {},
   "outputs": [
    {
     "data": {
      "image/png": "[encoded data removed]",
      "text/plain": [
       "<Figure size 504x360 with 1 Axes>"
      ]
     },
     "execution_count": 10,
     "metadata": {},
     "output_type": "execute_result"
    }
   ],
   "source": [
    "plot_histogram([job_1.result().quasi_dists[0], job_plus.result().quasi_dists[0]], legend=legend)"
   ]
  },
  {
   "attachments": {},
   "cell_type": "markdown",
   "metadata": {},
   "source": [
    "Now we see the opposite: the plus superposition always give the 1 result, hence an eigenstate of the $X$ operator, whereas the excited $|1\\rangle$ yields a roughtly fifty-fifty split. The $|+\\rangle$ and $|-\\rangle$ states are eigenstates of the $X$ operator, with eigenvalues $+1$ and $-1$, respectively. This is good to remember when considering how the `Estimator` works in the next subsection. "
   ]
  },
  {
   "attachments": {},
   "cell_type": "markdown",
   "metadata": {},
   "source": [
    "### Estimator Primitive\n",
    "\n",
    "The Qiskit Runtime Primitives allow us to abstract measurement into the `Estimator` primitive, where it is specified as an *observable*. In particular, we can construct the same circuits, the excited $|1\\rangle$ and superposition $|+\\rangle$ as before. However, in the case of the `Estimator`, we *do not* add measurements to the circuit. Instead, specify a list of observables which take the form of Pauli strings. In our case for a measurement of a single qubit, we specify `'Z'` for the $Z$-basis and `'X'` for the $X$-basis."
   ]
  },
  {
   "cell_type": "code",
   "execution_count": 11,
   "metadata": {},
   "outputs": [],
   "source": [
    "qc2_1 = QuantumCircuit(1)\n",
    "qc2_1.x(0)\n",
    "\n",
    "qc2_plus = QuantumCircuit(1)\n",
    "qc2_plus.h(0)\n",
    "\n",
    "obsvs = list(SparsePauliOp(['Z', 'X']))"
   ]
  },
  {
   "cell_type": "code",
   "execution_count": 12,
   "metadata": {},
   "outputs": [],
   "source": [
    "estimator = Estimator()\n",
    "job2_1 = estimator.run([qc2_1]*len(obsvs), observables=obsvs)\n",
    "job2_plus = estimator.run([qc2_plus]*len(obsvs), observables=obsvs)"
   ]
  },
  {
   "cell_type": "code",
   "execution_count": 13,
   "metadata": {},
   "outputs": [
    {
     "data": {
      "text/plain": [
       "EstimatorResult(values=array([-1.,  0.]), metadata=[{}, {}])"
      ]
     },
     "execution_count": 13,
     "metadata": {},
     "output_type": "execute_result"
    }
   ],
   "source": [
    "job2_1.result()"
   ]
  },
  {
   "cell_type": "code",
   "execution_count": 14,
   "metadata": {},
   "outputs": [
    {
     "name": "stdout",
     "output_type": "stream",
     "text": [
      "    |   <Z>   |   <X> \n",
      "----|------------------\n",
      "|1> | -1.0    | 0.0\n",
      "|+> | 0.0 | 0.9999999999999998\n"
     ]
    }
   ],
   "source": [
    "# TODO: make this into module that outputs a nice table\n",
    "print(f'    |   <Z>   |   <X> ')\n",
    "print(f'----|------------------')\n",
    "print(f'|1> | {job2_1.result().values[0]}    | {job2_1.result().values[1]}')\n",
    "print(f'|+> | {job2_plus.result().values[0]} | {job2_plus.result().values[1]}')"
   ]
  },
  {
   "attachments": {},
   "cell_type": "markdown",
   "metadata": {},
   "source": [
    "Just as before, we see the $|1\\rangle$ state expectation in the $Z$-basis is $-1$ (corresponding to its eigenvalue) and around zero in the $X$-basis (average over $+1$ and $-1$ eigenvalues), and vice-versa for the $|+\\rangle$ state (although its eigenvalue of the $X$ operators is $+1$)."
   ]
  },
  {
   "attachments": {},
   "cell_type": "markdown",
   "metadata": {},
   "source": [
    "## CHSH Inequality\n",
    "\n",
    "Imagine Alice and Bob are given each one part of a bipartite entangled system. Each of them then performs two measurements on their part in two different bases. Let's call Alice's bases A and a and Bob's B and b. What is the expectation value of the quantity \n",
    "\n",
    "$$\n",
    "\\langle CHSH \\rangle = \\langle AB \\rangle - \\langle Ab \\rangle + \\langle aB \\rangle + \\langle ab \\rangle ?\n",
    "$$\n",
    "\n",
    "Now, Alice and Bob have one qubit each, so any measurement they perform on their system (qubit) can only yield one of two possible outcomes: +1 or -1. Note that whereas we typically refer to the two qubit states as $|0\\rangle$ and $|1\\rangle$, these are eigenstates, and a projective measurement will yield their eigenvalues, +1 and -1, respectively.\n",
    "\n",
    "Therefore, if any measurement of A, a, B, and b can only yield $\\pm 1$, the quantities $(B-b)$ and $(B+b)$ can only be 0 or $\\pm 2$. And thus, the quantity $A(B-b) + a(B+b)$ can only be either +2 or -2, which means that there should be a bound for the expectation value of the quantity we have called\n",
    "\n",
    "$$\n",
    "|\\langle CHSH \\rangle| = |\\langle AB \\rangle - \\langle Ab \\rangle + \\langle aB \\rangle + \\langle ab \\rangle| \\le 2.\n",
    "$$\n",
    "\n",
    "Now, the above discussion is oversimplified, because we could consider that the outcome on any set of measurements from Alice and Bob could depend on a set of local hidden variables, but it can be shown with some math that, even when that is the case, the expectation value of the quantity $CHSH$ should be bounded by 2 if local realism held.\n",
    "\n",
    "But what happens when we do these experiments with an entangled system? Let's try it!"
   ]
  },
  {
   "attachments": {},
   "cell_type": "markdown",
   "metadata": {},
   "source": [
    "The first step is to build the observable\n",
    "$$\n",
    "CHSH = A(B-b) + a(B+b) = AB - Ab + aB +ab\n",
    "$$\n",
    "where $A, a$ are each one of $\\{IX, IZ\\}$ for qubit 0 and $B, b$ are each one of $\\{XI, ZI\\}$ for qubit 1 (corresponding to little-endian notation). Paulis on different qubits can be composed by specifying order with a Pauli string, for example instantiating a `SparsePauliOp` with the `'ZX'` argument implies a measurement of $\\langle X \\rangle$ on `q0` and $\\langle Z \\rangle$ on `q1` . This *tensor* product (combining operations on *different* qubits) can be explicitly stated using the `.tensor()` method. Additionally, combining operations on the *same* qubit(s) uses the *compositional* product with the `.compose()` method. For example, all these statements create the same Pauli operator:\n",
    "\n",
    "```\n",
    "from qiskit.quantum_info import SparsePauliOp\n",
    "\n",
    "ZX = SparsePauliOp('ZX')\n",
    "ZX = SparsePauliOp(['ZX'], coeffs=[1.]) # extendable to a sum of Paulis\n",
    "ZX = SparsePauliOp('Z').tensor(SparsePauliOp('X')) # extendable to a tensor product of Paulis\n",
    "ZX = SparsePauliOp('XZ').compose(SparsePauliOp('YY')) # extendable to a compositional product of Paulis\n",
    "```\n"
   ]
  },
  {
   "attachments": {},
   "cell_type": "markdown",
   "metadata": {},
   "source": [
    "Ex 1 - create an operator for CHSH witness"
   ]
  },
  {
   "cell_type": "code",
   "execution_count": 15,
   "metadata": {},
   "outputs": [],
   "source": [
    "# this is a correct answer:\n",
    "obsv = SparsePauliOp('X').tensor(SparsePauliOp(['X', 'Z'], coeffs=[1, -1])) + SparsePauliOp('Z').tensor(SparsePauliOp(['X', 'Z'], coeffs=[1, 1]))"
   ]
  },
  {
   "cell_type": "code",
   "execution_count": 16,
   "metadata": {},
   "outputs": [
    {
     "name": "stdout",
     "output_type": "stream",
     "text": [
      "Grading your answer. Please wait...\n",
      "\n",
      "Congratulations 🎉! Your answer is correct.\n"
     ]
    }
   ],
   "source": [
    "from qc_grader.challenges.qgss_2023 import grade_lab2_ex1\n",
    "\n",
    "grade_lab2_ex1(obsv)"
   ]
  },
  {
   "attachments": {},
   "cell_type": "markdown",
   "metadata": {},
   "source": [
    "### Create Entangled Qubit Pair\n",
    "\n",
    "Next we want to test the $CHSH$ observable on an entangled pair, for example the maximally-entangled Bell state\n",
    "$$\n",
    "|\\Phi\\rangle = \\frac{1}{\\sqrt{2}} \\left(|00\\rangle + |11\\rangle \\right)\n",
    "$$\n",
    "which is created with a Hadamard gate followed by a CNOT with the target on the same qubit as the Hadamard. Due to the simplifaction of measuring in just the $X$- and $Z$-bases as discussed above, we will *rotate* the Bell state around the Bloch sphere which is equivalant to changing the measurement basis as demonstrated in the Warmup section. This can be done by applying an $R_y(\\theta)$ gate where $\\theta$ is a `Parameter` to be specified at the `Estimator` API call. This produces the state\n",
    "$$\n",
    "|\\psi\\rangle = \\frac{1}{\\sqrt{2}} \\left(\\cos(\\theta/2) |00\\rangle + \\sin(\\theta/2)|11\\rangle \\right)"
   ]
  },
  {
   "cell_type": "code",
   "execution_count": 17,
   "metadata": {},
   "outputs": [
    {
     "data": {
      "image/png": "[encoded data removed]",
      "text/plain": [
       "<Figure size 267.052x144.48 with 1 Axes>"
      ]
     },
     "execution_count": 17,
     "metadata": {},
     "output_type": "execute_result"
    }
   ],
   "source": [
    "from qiskit.circuit import Parameter\n",
    "\n",
    "theta = Parameter('θ')\n",
    "\n",
    "qc = QuantumCircuit(2)\n",
    "qc.h(0)\n",
    "qc.cx(0, 1)\n",
    "qc.ry(theta, 0)\n",
    "\n",
    "qc.draw('mpl')"
   ]
  },
  {
   "attachments": {},
   "cell_type": "markdown",
   "metadata": {},
   "source": [
    "Next we need to specify a `Sequence` of `Parameter`s that show a clear violation of the CHSH Inequality, namely \n",
    "$$\n",
    "|\\langle CHSH \\rangle| > 2.\n",
    "$$\n",
    "Let's make sure we have at least three points in violation."
   ]
  },
  {
   "attachments": {},
   "cell_type": "markdown",
   "metadata": {},
   "source": [
    "Ex 2 - Create a Parameterization (i.e., list, array) of the angle in the above circuit (in radians)\n",
    "\n",
    "Hint: Note the `type` for the `parameter_values` argument is `Sequence[Sequence[float]]`."
   ]
  },
  {
   "cell_type": "code",
   "execution_count": 18,
   "metadata": {},
   "outputs": [],
   "source": [
    "# this is a correct answer\n",
    "num_params = 21\n",
    "angles=[[angle] for angle in np.linspace(-np.pi, np.pi, num_params)]"
   ]
  },
  {
   "attachments": {},
   "cell_type": "markdown",
   "metadata": {},
   "source": [
    "Test your angles and observable by running with the `Estimator` before submitting to the grader."
   ]
  },
  {
   "cell_type": "code",
   "execution_count": 19,
   "metadata": {},
   "outputs": [
    {
     "data": {
      "text/plain": [
       "<matplotlib.legend.Legend at 0x7f79e9093d30>"
      ]
     },
     "execution_count": 19,
     "metadata": {},
     "output_type": "execute_result"
    },
    {
     "data": {
      "image/png": "[encoded data removed]",
      "text/plain": [
       "<Figure size 432x288 with 1 Axes>"
      ]
     },
     "metadata": {},
     "output_type": "display_data"
    }
   ],
   "source": [
    "estimator = Estimator()\n",
    "job = estimator.run([qc]*len(angles), observables=[obsv]*len(angles), parameter_values=angles)\n",
    "exps = job.result().values\n",
    "\n",
    "plt.plot(angles, exps, marker='x', ls='-', color='green')\n",
    "plt.plot(angles, [2]*len(angles), ls='--', color='red', label='Classical Bound')\n",
    "plt.plot(angles, [-2]*len(angles), ls='--', color='red')\n",
    "plt.xlabel('angle (rad)')\n",
    "plt.ylabel('CHSH Witness')\n",
    "plt.legend(loc=4)"
   ]
  },
  {
   "attachments": {},
   "cell_type": "markdown",
   "metadata": {},
   "source": [
    "Did you see at least 3 points outside the red dashed lines? If so, you are ready to send to the grader!"
   ]
  },
  {
   "cell_type": "code",
   "execution_count": 20,
   "metadata": {},
   "outputs": [
    {
     "name": "stdout",
     "output_type": "stream",
     "text": [
      "Grading your answer. Please wait...\n",
      "\n",
      "Congratulations 🎉! Your answer is correct.\n"
     ]
    }
   ],
   "source": [
    "from qc_grader.challenges.qgss_2023 import grade_lab2_ex2\n",
    "\n",
    "grade_lab2_ex2(obsv, angles)"
   ]
  },
  {
   "attachments": {},
   "cell_type": "markdown",
   "metadata": {},
   "source": [
    "# Teleportation\n",
    "\n",
    "Quantum information cannot be copied due to the *No Cloning Theorem*, however it can be \"teleported\" in the sense that a qubit can be entangled with a quantum resource, and via a protocol of measurements and *classical communication* of their results, the original quantum state can be reconstructed on a different qubit. This process destroys the information in the original qubit via measurement.\n",
    "\n",
    "In this exercise, we will construct a particular qubit state and then transfer that state to another qubit using the teleportation protocol. Here we will be looking at specific classical and quantum registers, so we need to import those."
   ]
  },
  {
   "cell_type": "code",
   "execution_count": 21,
   "metadata": {},
   "outputs": [],
   "source": [
    "from qiskit.circuit import ClassicalRegister, QuantumRegister"
   ]
  },
  {
   "attachments": {},
   "cell_type": "markdown",
   "metadata": {},
   "source": [
    "### Create the circuit\n",
    "\n",
    "Define an angle $\\theta$ to rotate our qubit by. This will allow us to easily make comparisons for the original state and the teleported state."
   ]
  },
  {
   "cell_type": "code",
   "execution_count": 22,
   "metadata": {},
   "outputs": [
    {
     "data": {
      "image/png": "[encoded data removed]",
      "text/plain": [
       "<Figure size 133.526x84.28 with 1 Axes>"
      ]
     },
     "execution_count": 22,
     "metadata": {},
     "output_type": "execute_result"
    }
   ],
   "source": [
    "theta = Parameter('θ')\n",
    "\n",
    "qr = QuantumRegister(1, 'q')\n",
    "qc = QuantumCircuit(qr)\n",
    "qc.ry(theta, 0)\n",
    "qc.draw('mpl')"
   ]
  },
  {
   "attachments": {},
   "cell_type": "markdown",
   "metadata": {},
   "source": [
    "Alice possesses the quantum information $|\\psi\\rangle$ in the state of $q$ and wishes to transfer it to Bob. The resource they share is a special entangled state called a Bell state\n",
    "$$\n",
    "|\\Phi^+\\rangle = \\frac{1}{2} \\left( |00\\rangle + |11\\rangle \\right)\n",
    "$$\n",
    "with the first of the pair going to Alice and the second to Bob. Hence Alice has a 2-qubit register ($q$ and $Bell_0$) and Bob has a single-qubit register ($Bell_1$). We will construct the circuit by copying the original `qc` and adding the appropriate registers."
   ]
  },
  {
   "cell_type": "code",
   "execution_count": 23,
   "metadata": {},
   "outputs": [
    {
     "data": {
      "image/png": "[encoded data removed]",
      "text/plain": [
       "<Figure size 172.322x325.08 with 1 Axes>"
      ]
     },
     "execution_count": 23,
     "metadata": {},
     "output_type": "execute_result"
    }
   ],
   "source": [
    "tele_qc = qc.copy()\n",
    "bell = QuantumRegister(2, 'Bell')\n",
    "alice = ClassicalRegister(2, 'Alice')\n",
    "bob = ClassicalRegister(1, 'Bob')\n",
    "tele_qc.add_register(bell, alice, bob)\n",
    "tele_qc.draw('mpl')"
   ]
  },
  {
   "attachments": {},
   "cell_type": "markdown",
   "metadata": {},
   "source": [
    "Now create the Bell pair with $Bell_0$ going to Alice and $Bell_1$ going to Bob. This is done by using a Hadamard gate to put $Bell_0$ in the $|+\\rangle$ state and then performing a CNOT with the same qubit as the control. After they receive their respective qubit, they part ways."
   ]
  },
  {
   "cell_type": "code",
   "execution_count": 24,
   "metadata": {},
   "outputs": [
    {
     "data": {
      "image/png": "[encoded data removed]",
      "text/plain": [
       "<Figure size 413.122x325.08 with 1 Axes>"
      ]
     },
     "execution_count": 24,
     "metadata": {},
     "output_type": "execute_result"
    }
   ],
   "source": [
    "# create Bell state with other two qubits\n",
    "tele_qc.barrier()\n",
    "tele_qc.h(1)\n",
    "tele_qc.cx(1, 2)\n",
    "tele_qc.barrier()\n",
    "tele_qc.draw('mpl')"
   ]
  },
  {
   "attachments": {},
   "cell_type": "markdown",
   "metadata": {},
   "source": [
    "Next, Alice performs a CNOT controlled by $q$ on $Bell_0$, which maps information about the state onto it. She then applies a Hadamard gate on $q$."
   ]
  },
  {
   "cell_type": "code",
   "execution_count": 25,
   "metadata": {},
   "outputs": [
    {
     "data": {
      "image/png": "[encoded data removed]",
      "text/plain": [
       "<Figure size 593.722x325.08 with 1 Axes>"
      ]
     },
     "execution_count": 25,
     "metadata": {},
     "output_type": "execute_result"
    }
   ],
   "source": [
    "# alice operates on her qubits\n",
    "tele_qc.cx(0, 1)\n",
    "tele_qc.h(0)\n",
    "tele_qc.barrier()\n",
    "tele_qc.draw('mpl')"
   ]
  },
  {
   "attachments": {},
   "cell_type": "markdown",
   "metadata": {},
   "source": [
    "Now Alice measures her qubits and saves the results to her register."
   ]
  },
  {
   "cell_type": "code",
   "execution_count": 26,
   "metadata": {},
   "outputs": [
    {
     "data": {
      "image/png": "[encoded data removed]",
      "text/plain": [
       "<Figure size 714.122x325.08 with 1 Axes>"
      ]
     },
     "execution_count": 26,
     "metadata": {},
     "output_type": "execute_result"
    }
   ],
   "source": [
    "tele_qc.measure([qr[0], bell[0]], alice)\n",
    "tele_qc.draw('mpl')"
   ]
  },
  {
   "attachments": {},
   "cell_type": "markdown",
   "metadata": {},
   "source": [
    "Bob's qubit now has the information $|\\psi\\rangle$ from Alice's qubit $q$ encoded in $Bell_1$, but he does not know what basis to measure in to extract it. Accordingly, Alice must share the information in her register over a *classical* communication channel (this is why teleportation does not violate special relativity, no matter how far Alice and Bob are apart). She instructs Bob to perform an X gate on his qubit if her measurement of $Bell_0$ yields a 1 outcome, followed by a Z gate if her measurement of $q$ yields a 1.\n",
    "\n",
    "The applications of these gates can be conditioned on the measurement outcomes in two ways:\n",
    "- the `.c_if()` [instruction](https://qiskit.org/documentation/stubs/qiskit.circuit.Instruction.c_if.html), which applies the gate it modifies if the value of the `ClassicalRegister` index is equal to the value specified. Note that this works **only** on simulators.\n",
    "- the `.if_test()` [context](https://qiskit.org/documentation/stubs/qiskit.circuit.QuantumCircuit.if_test.html) which operates similarly, but generalizes the syntax to allow for nested conditionals. This works on both simulators and actual hardware."
   ]
  },
  {
   "attachments": {},
   "cell_type": "markdown",
   "metadata": {},
   "source": [
    "Ex 3 - Add approriate conditional gates to transform Bob's qubit into the $Z$-basis."
   ]
  },
  {
   "cell_type": "code",
   "execution_count": 27,
   "metadata": {},
   "outputs": [
    {
     "data": {
      "image/png": "[encoded data removed]",
      "text/plain": [
       "<Figure size 966.456x385.28 with 1 Axes>"
      ]
     },
     "execution_count": 27,
     "metadata": {},
     "output_type": "execute_result"
    }
   ],
   "source": [
    "# either pairs are correct\n",
    "\n",
    "# tele_qc.x(2).c_if(alice[1], 1)\n",
    "# tele_qc.z(2).c_if(alice[0], 1)\n",
    "\n",
    "with tele_qc.if_test((alice[1], 1)):\n",
    "    tele_qc.x(2)\n",
    "with tele_qc.if_test((alice[0], 1)):\n",
    "    tele_qc.z(2)\n",
    "\n",
    "\n",
    "tele_qc.draw('mpl')"
   ]
  },
  {
   "attachments": {},
   "cell_type": "markdown",
   "metadata": {},
   "source": [
    "Finally, Bob can measure his qubit, which would yield results with the same probabilities as had Alice measured it originally."
   ]
  },
  {
   "cell_type": "code",
   "execution_count": 28,
   "metadata": {},
   "outputs": [
    {
     "data": {
      "image/png": "[encoded data removed]",
      "text/plain": [
       "<Figure size 1086.86x385.28 with 1 Axes>"
      ]
     },
     "execution_count": 28,
     "metadata": {},
     "output_type": "execute_result"
    }
   ],
   "source": [
    "tele_qc.barrier()\n",
    "tele_qc.measure(bell[1], bob)\n",
    "tele_qc.draw('mpl')"
   ]
  },
  {
   "cell_type": "code",
   "execution_count": 29,
   "metadata": {},
   "outputs": [
    {
     "name": "stdout",
     "output_type": "stream",
     "text": [
      "Grading your answer. Please wait...\n",
      "\n",
      "Congratulations 🎉! Your answer is correct.\n"
     ]
    }
   ],
   "source": [
    "from qc_grader.challenges.qgss_2023 import grade_lab2_ex3\n",
    "\n",
    "grade_lab2_ex3(tele_qc, theta, 5*np.pi/7)"
   ]
  },
  {
   "attachments": {},
   "cell_type": "markdown",
   "metadata": {},
   "source": [
    "The statevector simulator cannot work with dynamic circuits because measurement is not a unitary operation. Therefore we import the `Sampler` primitive from `qiskit_aer` to use the `AerSimulator`. We choose our angle to be $5\\pi/7$, which will yield a 1 result about 80\\% of the time and 0 result about 20\\% of the time. Then we run both circuits: the original one Alice had and the teleported one Bob receives. "
   ]
  },
  {
   "cell_type": "code",
   "execution_count": 30,
   "metadata": {},
   "outputs": [
    {
     "name": "stdout",
     "output_type": "stream",
     "text": [
      "Original Dists: {'0': 0.2001953125, '1': 0.7998046875}\n",
      "Teleported Dists: {'011': 0.041015625, '111': 0.1650390625, '100': 0.2158203125, '110': 0.208984375, '001': 0.044921875, '010': 0.0556640625, '000': 0.048828125, '101': 0.2197265625}\n"
     ]
    }
   ],
   "source": [
    "from qiskit_aer.primitives import Sampler\n",
    "\n",
    "angle = 5*np.pi/7\n",
    "\n",
    "sampler = Sampler()\n",
    "qc.measure_all()\n",
    "job_static = sampler.run(qc.bind_parameters({theta: angle}))\n",
    "job_dynamic = sampler.run(tele_qc.bind_parameters({theta: angle}))\n",
    "\n",
    "print(f\"Original Dists: {job_static.result().quasi_dists[0].binary_probabilities()}\")\n",
    "print(f\"Teleported Dists: {job_dynamic.result().quasi_dists[0].binary_probabilities()}\")"
   ]
  },
  {
   "attachments": {},
   "cell_type": "markdown",
   "metadata": {},
   "source": [
    "Wait, we see different results! While measuring Alice's original $q$ yields the expected ratio of outcomes, the teleported distributions have many more values. This is because the teleported circuit includes Alice's measurements of $q$ and $Bell_0$, whereas we only wish to see Bob's measurements of $Bell_1$ yield the same distribution. \n",
    "\n",
    "In order to rectify this, we must take the *marginal* counts, meaning we combine results in which Bob measures a 0 and all the results in which Bob measures a 1 over all the possible combinations. This is done with the `marginal_counts` [method](https://qiskit.org/documentation/stubs/qiskit.result.marginal_counts.html) from `qiskit.result`, which combines results over measurement indices."
   ]
  },
  {
   "attachments": {},
   "cell_type": "markdown",
   "metadata": {},
   "source": [
    "Ex 4 - Marginalize the teleported counts\n",
    "\n",
    "Hint: Remember that bit strings are reported in the little-endian convention."
   ]
  },
  {
   "cell_type": "code",
   "execution_count": 31,
   "metadata": {},
   "outputs": [],
   "source": [
    "from qiskit.result import marginal_counts\n",
    "\n",
    "# this is correct\n",
    "tele_counts = marginal_counts(job_dynamic.result().quasi_dists[0].binary_probabilities(), indices=[2])"
   ]
  },
  {
   "attachments": {},
   "cell_type": "markdown",
   "metadata": {},
   "source": [
    "If we marginalized correctly, we will see that the quasi-distributions from Alice's measurement and Bob's measurement are nearly identical, demonstrating that teleportation was successful!"
   ]
  },
  {
   "cell_type": "code",
   "execution_count": 32,
   "metadata": {},
   "outputs": [
    {
     "data": {
      "image/png": "[encoded data removed]",
      "text/plain": [
       "<Figure size 504x360 with 1 Axes>"
      ]
     },
     "execution_count": 32,
     "metadata": {},
     "output_type": "execute_result"
    }
   ],
   "source": [
    "legend = ['Original State', 'Teleported State']\n",
    "plot_histogram([job_static.result().quasi_dists[0].binary_probabilities(), tele_counts], legend=legend)"
   ]
  },
  {
   "cell_type": "code",
   "execution_count": 33,
   "metadata": {},
   "outputs": [
    {
     "name": "stdout",
     "output_type": "stream",
     "text": [
      "Grading your answer. Please wait...\n",
      "Failed: 'result'\n",
      "Unable to grade your answer.\n"
     ]
    }
   ],
   "source": [
    "from qc_grader.challenges.qgss_2023 import grade_lab2_ex4\n",
    "\n",
    "grade_lab2_ex4(tele_counts, job_dynamic.result().quasi_dists[0])"
   ]
  },
  {
   "cell_type": "code",
   "execution_count": 34,
   "metadata": {},
   "outputs": [
    {
     "data": {
      "text/html": [
       "<h3>Version Information</h3><table><tr><th>Qiskit Software</th><th>Version</th></tr><tr><td><code>qiskit-terra</code></td><td>0.24.0</td></tr><tr><td><code>qiskit-aer</code></td><td>0.12.0</td></tr><tr><td><code>qiskit-ignis</code></td><td>0.6.0</td></tr><tr><td><code>qiskit-ibmq-provider</code></td><td>0.20.2</td></tr><tr><td><code>qiskit</code></td><td>0.43.0</td></tr><tr><th>System information</th></tr><tr><td>Python version</td><td>3.9.7</td></tr><tr><td>Python compiler</td><td>Clang 10.0.0 </td></tr><tr><td>Python build</td><td>default, Sep 16 2021 08:50:36</td></tr><tr><td>OS</td><td>Darwin</td></tr><tr><td>CPUs</td><td>2</td></tr><tr><td>Memory (Gb)</td><td>8.0</td></tr><tr><td colspan='2'>Wed Jun 14 17:44:46 2023 -05</td></tr></table>"
      ],
      "text/plain": [
       "<IPython.core.display.HTML object>"
      ]
     },
     "metadata": {},
     "output_type": "display_data"
    }
   ],
   "source": [
    "import qiskit.tools.jupyter\n",
    "%qiskit_version_table"
   ]
  },
  {
   "cell_type": "code",
   "execution_count": null,
   "metadata": {},
   "outputs": [],
   "source": []
  }
 ],
 "metadata": {
  "kernelspec": {
   "display_name": "qiskit-runtime",
   "language": "python",
   "name": "python3"
  },
  "language_info": {
   "codemirror_mode": {
    "name": "ipython",
    "version": 3
   },
   "file_extension": ".py",
   "mimetype": "text/x-python",
   "name": "python",
   "nbconvert_exporter": "python",
   "pygments_lexer": "ipython3",
   "version": "3.9.7"
  },
  "orig_nbformat": 4
 },
 "nbformat": 4,
 "nbformat_minor": 2
}
