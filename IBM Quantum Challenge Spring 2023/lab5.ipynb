{
 "cells": [
  {
   "cell_type": "markdown",
   "id": "f5d21946",
   "metadata": {
    "slideshow": {
     "slide_type": "-"
    }
   },
   "source": [
    "# Challenge 5: Using 127 Qubits\n",
    "\n",
    "Congratulations on solving the previous challenges! You have shown that you can successfully use dynamic circuits.\n",
    "As a reward for making it this far you will be able to use one of our 127 qubit devices.\n",
    "\n",
    "You have seen before already that working with actual physical devices brings its own challenges.\n",
    "This is even more true when you want to use a big number of qubits, since paths can become long, and you have to make sure not to introduce too many errors.\n",
    "\n",
    "In this challenge we want you to prepare a fully entangled 127 qubit state, the so called GHZ-state in a clever way.\n",
    "\n",
    "Then we will give you an outlook of how your previous knowledge of error correction could be applied in order to use such the 127 qubit GHZ-state in order to create a good 54 qubit GHZ-state. \n",
    "\n",
    "We will use ibm_sherbrook as our device and use its even numbered qubits for the 54 qubit GHZ-state, which leaves the odd numbered qubits to be used as stabilizers.\n",
    "\n",
    "*Note: Here we do use the same register for the odd and even qubits, even though they will be used differently. We do this, since it would make it quite a bit more complicated to creae the initial 127 qubit GHZ-state, especially when you want to optimize the depth manually.*"
   ]
  },
  {
   "cell_type": "code",
   "execution_count": null,
   "id": "ff5a01f6-c357-4d6d-8c86-95991b311231",
   "metadata": {
    "slideshow": {
     "slide_type": "-"
    },
    "tags": []
   },
   "outputs": [],
   "source": [
    "# Importing all the parts we need\n",
    "from typing import List, Optional\n",
    "\n",
    "from qiskit import transpile, QuantumCircuit, QuantumRegister, ClassicalRegister\n",
    "from qiskit.result import marginal_counts\n",
    "\n",
    "import warnings\n",
    "\n",
    "warnings.filterwarnings(\"ignore\")\n",
    "\n",
    "import math\n",
    "\n",
    "pi = math.pi\n",
    "\n",
    "# Preparing registers\n",
    "quantum_register = QuantumRegister(127)\n",
    "classical_register = ClassicalRegister(127)\n",
    "\n",
    "# For simplicity we map the physical qubits to the logical qubits directly using the same number.\n",
    "initial_layout = [\n",
    "    0,\n",
    "    1,\n",
    "    2,\n",
    "    3,\n",
    "    4,\n",
    "    5,\n",
    "    6,\n",
    "    7,\n",
    "    8,\n",
    "    9,\n",
    "    10,\n",
    "    11,\n",
    "    12,\n",
    "    13,\n",
    "    14,\n",
    "    15,\n",
    "    16,\n",
    "    17,\n",
    "    18,\n",
    "    19,\n",
    "    20,\n",
    "    21,\n",
    "    22,\n",
    "    23,\n",
    "    24,\n",
    "    25,\n",
    "    26,\n",
    "    27,\n",
    "    28,\n",
    "    29,\n",
    "    30,\n",
    "    31,\n",
    "    32,\n",
    "    33,\n",
    "    34,\n",
    "    35,\n",
    "    36,\n",
    "    37,\n",
    "    38,\n",
    "    39,\n",
    "    40,\n",
    "    41,\n",
    "    42,\n",
    "    43,\n",
    "    44,\n",
    "    45,\n",
    "    46,\n",
    "    47,\n",
    "    48,\n",
    "    49,\n",
    "    50,\n",
    "    51,\n",
    "    52,\n",
    "    53,\n",
    "    54,\n",
    "    55,\n",
    "    56,\n",
    "    57,\n",
    "    58,\n",
    "    59,\n",
    "    60,\n",
    "    61,\n",
    "    62,\n",
    "    63,\n",
    "    64,\n",
    "    65,\n",
    "    66,\n",
    "    67,\n",
    "    68,\n",
    "    69,\n",
    "    70,\n",
    "    71,\n",
    "    72,\n",
    "    73,\n",
    "    74,\n",
    "    75,\n",
    "    76,\n",
    "    77,\n",
    "    78,\n",
    "    79,\n",
    "    80,\n",
    "    81,\n",
    "    82,\n",
    "    83,\n",
    "    84,\n",
    "    85,\n",
    "    86,\n",
    "    87,\n",
    "    88,\n",
    "    89,\n",
    "    90,\n",
    "    91,\n",
    "    92,\n",
    "    93,\n",
    "    94,\n",
    "    95,\n",
    "    96,\n",
    "    97,\n",
    "    98,\n",
    "    99,\n",
    "    100,\n",
    "    101,\n",
    "    102,\n",
    "    103,\n",
    "    104,\n",
    "    105,\n",
    "    106,\n",
    "    107,\n",
    "    108,\n",
    "    109,\n",
    "    110,\n",
    "    111,\n",
    "    112,\n",
    "    113,\n",
    "    114,\n",
    "    115,\n",
    "    116,\n",
    "    117,\n",
    "    118,\n",
    "    119,\n",
    "    120,\n",
    "    121,\n",
    "    122,\n",
    "    123,\n",
    "    124,\n",
    "    125,\n",
    "    126,\n",
    "]\n",
    "# The \"even\"\" qubits will be used for the 54 qubit GHZ-state\n",
    "ghz_qubits = [\n",
    "    0,\n",
    "    2,\n",
    "    4,\n",
    "    6,\n",
    "    8,\n",
    "    10,\n",
    "    12,\n",
    "    18,\n",
    "    20,\n",
    "    22,\n",
    "    24,\n",
    "    26,\n",
    "    28,\n",
    "    30,\n",
    "    32,\n",
    "    37,\n",
    "    39,\n",
    "    41,\n",
    "    43,\n",
    "    45,\n",
    "    47,\n",
    "    49,\n",
    "    51,\n",
    "    56,\n",
    "    58,\n",
    "    60,\n",
    "    62,\n",
    "    64,\n",
    "    66,\n",
    "    68,\n",
    "    70,\n",
    "    75,\n",
    "    77,\n",
    "    79,\n",
    "    81,\n",
    "    83,\n",
    "    85,\n",
    "    87,\n",
    "    89,\n",
    "    94,\n",
    "    96,\n",
    "    98,\n",
    "    100,\n",
    "    102,\n",
    "    104,\n",
    "    106,\n",
    "    108,\n",
    "    114,\n",
    "    116,\n",
    "    118,\n",
    "    120,\n",
    "    122,\n",
    "    124,\n",
    "    126,\n",
    "]\n",
    "# The \"odd\" qubits will be used as the stabilizers\n",
    "stabilizer_qubits = [\n",
    "    1,\n",
    "    3,\n",
    "    5,\n",
    "    7,\n",
    "    9,\n",
    "    11,\n",
    "    14,\n",
    "    15,\n",
    "    16,\n",
    "    17,\n",
    "    19,\n",
    "    21,\n",
    "    23,\n",
    "    25,\n",
    "    27,\n",
    "    29,\n",
    "    31,\n",
    "    33,\n",
    "    34,\n",
    "    35,\n",
    "    36,\n",
    "    38,\n",
    "    40,\n",
    "    42,\n",
    "    44,\n",
    "    46,\n",
    "    48,\n",
    "    50,\n",
    "    52,\n",
    "    53,\n",
    "    54,\n",
    "    55,\n",
    "    57,\n",
    "    59,\n",
    "    61,\n",
    "    63,\n",
    "    65,\n",
    "    67,\n",
    "    69,\n",
    "    71,\n",
    "    72,\n",
    "    73,\n",
    "    74,\n",
    "    76,\n",
    "    78,\n",
    "    80,\n",
    "    82,\n",
    "    84,\n",
    "    86,\n",
    "    88,\n",
    "    90,\n",
    "    91,\n",
    "    92,\n",
    "    93,\n",
    "    95,\n",
    "    97,\n",
    "    99,\n",
    "    101,\n",
    "    103,\n",
    "    105,\n",
    "    107,\n",
    "    109,\n",
    "    110,\n",
    "    111,\n",
    "    112,\n",
    "    115,\n",
    "    117,\n",
    "    119,\n",
    "    121,\n",
    "    123,\n",
    "    125,\n",
    "]"
   ]
  },
  {
   "cell_type": "markdown",
   "id": "5ecb607c-a882-49c4-acce-d26d62c2cd69",
   "metadata": {
    "slideshow": {
     "slide_type": "-"
    },
    "tags": []
   },
   "source": [
    "## Step 1: Creating a BIG GHZ-state\n",
    "\n",
    "In a lot of quantum algorithms it is required to entangle several qubits with each other.\n",
    "\n",
    "One often used state is the generalized GHZ-state, the state $(\\alpha |00...0\\rangle + \\beta |11...1\\rangle)$ with $\\alpha = \\beta$\n",
    "\n",
    "The GHZ-state is fully entangled and can be generalized to any number of qubits so let's create an 127 qubit GHZ-state! \n",
    "No matter how many qubits the GHZ-state has when measured either all qubits are 0 or all qubits are 1. \n",
    "\n",
    "\n",
    "The challenge here is not to entangle 127 qubits in theory, but on an actual device. This means you should take the layout of the device into account (so not using CX-gates between qubits which are not directly connected with each other). and additional try to get the circuit depth as low as possible in order to reduce noise."
   ]
  },
  {
   "cell_type": "markdown",
   "id": "cd7d72be",
   "metadata": {},
   "source": [
    "### Exercise 1\n",
    "\n",
    "Generate a 127 qubit GHZ-state for the 127-qubit device `ibm_sherbrook` using only Hadamard and CNOT gates. As a bonus challenge, try to do it with the lowest circuit depth possible.\n",
    "\n",
    "*Hint: It can help to think first about how you would do it (with minimum depth) for an ideal device where all qubits are connected with each other.*"
   ]
  },
  {
   "cell_type": "code",
   "execution_count": null,
   "id": "432aaaed-a05b-4397-8cb8-5e9c93980473",
   "metadata": {
    "slideshow": {
     "slide_type": "-"
    },
    "tags": []
   },
   "outputs": [],
   "source": [
    "def generate_ghz127():\n",
    "    qc = QuantumCircuit(quantum_register, classical_register)\n",
    "\n",
    "    # Add your code here\n",
    "    #\n",
    "    #\n",
    "\n",
    "    # Hadamard gate\n",
    "    # qc.h(64)\n",
    "    # qc.rz(pi/2, 63) not needed since qubit is in state 0\n",
    "    qc.h(64)\n",
    "    # qc.sx(64)\n",
    "    # qc.rz(pi/2, 64)\n",
    "\n",
    "    qc.cx(64, 63)\n",
    "\n",
    "    qc.cx(63, 62)\n",
    "    qc.cx(64, 65)\n",
    "\n",
    "    qc.cx(62, 61)\n",
    "    qc.cx(64, 54)\n",
    "    qc.cx(65, 66)\n",
    "\n",
    "    qc.cx(61, 60)\n",
    "    qc.cx(62, 72)\n",
    "    qc.cx(54, 45)\n",
    "    qc.cx(66, 73)\n",
    "\n",
    "    qc.cx(60, 53)\n",
    "    qc.cx(72, 81)\n",
    "    qc.cx(45, 46)\n",
    "    qc.cx(66, 67)\n",
    "    qc.cx(73, 85)\n",
    "\n",
    "    qc.cx(53, 41)\n",
    "    qc.cx(60, 59)\n",
    "    qc.cx(81, 80)\n",
    "    qc.cx(46, 47)\n",
    "    qc.cx(45, 44)\n",
    "    qc.cx(67, 68)\n",
    "    qc.cx(85, 86)\n",
    "\n",
    "    qc.cx(41, 40)\n",
    "    qc.cx(59, 58)\n",
    "    qc.cx(44, 43)\n",
    "    qc.cx(47, 35)\n",
    "    qc.cx(68, 69)\n",
    "    qc.cx(80, 79)\n",
    "    qc.cx(81, 82)\n",
    "    qc.cx(85, 84)\n",
    "    qc.cx(86, 87)\n",
    "\n",
    "    qc.cx(43, 34)\n",
    "    qc.cx(40, 39)\n",
    "    qc.cx(41, 42)\n",
    "    qc.cx(58, 71)\n",
    "    qc.cx(79, 91)\n",
    "    qc.cx(82, 83)\n",
    "    qc.cx(35, 28)\n",
    "    qc.cx(47, 48)\n",
    "    qc.cx(68, 55)\n",
    "    qc.cx(69, 70)\n",
    "    qc.cx(87, 93)\n",
    "\n",
    "    qc.cx(39, 33)\n",
    "    qc.cx(34, 24)\n",
    "    qc.cx(28, 29)\n",
    "    qc.cx(48, 49)\n",
    "    qc.cx(58, 57)\n",
    "    qc.cx(71, 77)\n",
    "    qc.cx(79, 78)\n",
    "    qc.cx(91, 98)\n",
    "    qc.cx(83, 92)\n",
    "    qc.cx(93, 106)\n",
    "    qc.cx(87, 88)\n",
    "    qc.cx(70, 74)\n",
    "\n",
    "    qc.cx(33, 20)\n",
    "    qc.cx(24, 23)\n",
    "    qc.cx(28, 27)\n",
    "    qc.cx(29, 30)\n",
    "    qc.cx(39, 38)\n",
    "    qc.cx(49, 50)\n",
    "    qc.cx(57, 56)\n",
    "    qc.cx(77, 76)\n",
    "    qc.cx(88, 89)\n",
    "    qc.cx(98, 97)\n",
    "    qc.cx(92, 102)\n",
    "    qc.cx(106, 107)\n",
    "\n",
    "    qc.cx(20, 19)\n",
    "    qc.cx(23, 22)\n",
    "    qc.cx(27, 26)\n",
    "    qc.cx(30, 17)\n",
    "    qc.cx(38, 37)\n",
    "    qc.cx(50, 51)\n",
    "    qc.cx(56, 52)\n",
    "    qc.cx(76, 75)\n",
    "    qc.cx(97, 96)\n",
    "    qc.cx(102, 101)\n",
    "    qc.cx(106, 105)\n",
    "    qc.cx(107, 108)\n",
    "\n",
    "    qc.cx(17, 12)\n",
    "    qc.cx(19, 18)\n",
    "    qc.cx(20, 21)\n",
    "    qc.cx(24, 25)\n",
    "    qc.cx(22, 15)\n",
    "    qc.cx(26, 16)\n",
    "    qc.cx(30, 31)\n",
    "    qc.cx(51, 36)\n",
    "    qc.cx(75, 90)\n",
    "    qc.cx(96, 109)\n",
    "    qc.cx(98, 99)\n",
    "    qc.cx(101, 100)\n",
    "    qc.cx(102, 103)\n",
    "    qc.cx(105, 104)\n",
    "    qc.cx(108, 112)\n",
    "\n",
    "    qc.cx(12, 11)\n",
    "    qc.cx(15, 4)\n",
    "    qc.cx(16, 8)\n",
    "    qc.cx(18, 14)\n",
    "    qc.cx(31, 32)\n",
    "    qc.cx(90, 94)\n",
    "    qc.cx(96, 95)\n",
    "    qc.cx(100, 110)\n",
    "    qc.cx(104, 111)\n",
    "    qc.cx(109, 114)\n",
    "    qc.cx(112, 126)\n",
    "\n",
    "    qc.cx(4, 3)\n",
    "    qc.cx(8, 7)\n",
    "    qc.cx(11, 10)\n",
    "    qc.cx(12, 13)\n",
    "    qc.cx(14, 0)\n",
    "    qc.cx(110, 118)\n",
    "    qc.cx(111, 122)\n",
    "    qc.cx(114, 115)\n",
    "    qc.cx(126, 125)\n",
    "\n",
    "    qc.cx(0, 1)\n",
    "    qc.cx(3, 2)\n",
    "    qc.cx(4, 5)\n",
    "    qc.cx(7, 6)\n",
    "    qc.cx(10, 9)\n",
    "    qc.cx(114, 113)\n",
    "    qc.cx(115, 116)\n",
    "    qc.cx(118, 119)\n",
    "    qc.cx(122, 121)\n",
    "    qc.cx(125, 124)\n",
    "\n",
    "    qc.cx(116, 117)\n",
    "    qc.cx(119, 120)\n",
    "    qc.cx(122, 123)\n",
    "\n",
    "    # qc.barrier()\n",
    "\n",
    "    # We can check if number of cx is equal to 124 and a single H gate and each one is targeted once only and only from a\n",
    "    # Qubit already in superposition\n",
    "\n",
    "    # Add your code here\n",
    "\n",
    "    return qc\n",
    "\n",
    "\n",
    "ghz_circuit = generate_ghz127()\n",
    "print(ghz_circuit.depth())"
   ]
  },
  {
   "cell_type": "code",
   "execution_count": null,
   "id": "52436751",
   "metadata": {},
   "outputs": [],
   "source": [
    "# Submit your circuit\n",
    "\n",
    "from qc_grader.challenges.spring_2023 import grade_ex5a\n",
    "\n",
    "grade_ex5a(ghz_circuit)"
   ]
  },
  {
   "cell_type": "markdown",
   "id": "0bfdf52c-3579-46c3-9765-56eece914c79",
   "metadata": {
    "slideshow": {
     "slide_type": "-"
    },
    "tags": []
   },
   "source": [
    "## Step 2: Reducing the Size by half\n",
    "\n",
    "We now want to use the GHZ-state created above in order to form a reduced GHZ-state only using the even numbered Qubits.\n",
    "\n",
    "For this we need to unentangle the odd qubits, such that they can be measured without letting the GHZ-state collapse.\n",
    "\n",
    "Since we want to unentangle the Qubits anyway, we can do it in a way to generate stabilizers, similar to what we have seen in the error correction part. \n",
    "\n",
    "So they must be 0 if both qubits that they are connected with have the same value, and they must be 1 if their value is different.\n",
    "\n",
    "We could then use these stabilizers to apply error correction to the reduced GHZ-state, but more about that later. "
   ]
  },
  {
   "cell_type": "markdown",
   "id": "86c18247",
   "metadata": {},
   "source": [
    "### Exercise 2\n",
    "\n",
    "Unentangle the odd qubits of the created GHZ-state in order to create stabilizers. Again, you can challenge yourself to make the circuit depth as small as possible.\n",
    "\n",
    "*Hint: Take into account how you created your GHZ-state above. Your way of unentangling depends on how it was created.*"
   ]
  },
  {
   "cell_type": "code",
   "execution_count": null,
   "id": "9e9bd773-9908-4acc-b0ce-64cf5eb1db54",
   "metadata": {
    "slideshow": {
     "slide_type": "-"
    },
    "tags": []
   },
   "outputs": [],
   "source": [
    "def deentangle_qubits():\n",
    "    qc = QuantumCircuit(quantum_register, classical_register)\n",
    "\n",
    "    # Add your code here\n",
    "    #\n",
    "    #\n",
    "\n",
    "    qc.cx(62, 63)\n",
    "\n",
    "    qc.cx(66, 65)\n",
    "\n",
    "    qc.cx(60, 61)\n",
    "    qc.cx(45, 54)\n",
    "\n",
    "    qc.cx(81, 72)\n",
    "    qc.cx(85, 73)\n",
    "\n",
    "    qc.cx(41, 53)\n",
    "    qc.cx(47, 46)\n",
    "    qc.cx(68, 67)\n",
    "\n",
    "    qc.cx(58, 59)\n",
    "    qc.cx(43, 44)\n",
    "    qc.cx(43, 42)\n",
    "    qc.cx(79, 80)\n",
    "    qc.cx(87, 86)\n",
    "\n",
    "    qc.cx(39, 40)\n",
    "    qc.cx(83, 82)\n",
    "    qc.cx(83, 84)  # other side\n",
    "    qc.cx(28, 35)\n",
    "    qc.cx(70, 69)\n",
    "\n",
    "    qc.cx(24, 34)\n",
    "    qc.cx(49, 48)\n",
    "    qc.cx(49, 55)\n",
    "    qc.cx(77, 71)\n",
    "    qc.cx(77, 78)  # other side\n",
    "    qc.cx(98, 91)\n",
    "    qc.cx(106, 93)\n",
    "\n",
    "    qc.cx(20, 33)\n",
    "    qc.cx(30, 29)\n",
    "    qc.cx(56, 57)\n",
    "    qc.cx(89, 88)\n",
    "    qc.cx(89, 74)  # other side\n",
    "    qc.cx(102, 92)\n",
    "\n",
    "    qc.cx(22, 23)\n",
    "    qc.cx(22, 21)\n",
    "    qc.cx(26, 27)\n",
    "    qc.cx(37, 38)\n",
    "    qc.cx(37, 52)\n",
    "    qc.cx(51, 50)\n",
    "    qc.cx(75, 76)\n",
    "    qc.cx(96, 97)\n",
    "    qc.cx(108, 107)\n",
    "\n",
    "    qc.cx(12, 17)\n",
    "    qc.cx(18, 19)\n",
    "    qc.cx(26, 25)  # other side\n",
    "    qc.cx(100, 101)\n",
    "    qc.cx(100, 99)\n",
    "    qc.cx(104, 105)\n",
    "    qc.cx(104, 103)\n",
    "\n",
    "    qc.cx(4, 15)\n",
    "    qc.cx(8, 16)\n",
    "    qc.cx(32, 31)\n",
    "    qc.cx(32, 36)\n",
    "    qc.cx(94, 90)\n",
    "    qc.cx(94, 95)\n",
    "    qc.cx(114, 109)\n",
    "    qc.cx(126, 112)\n",
    "\n",
    "    qc.cx(10, 11)\n",
    "    qc.cx(0, 14)\n",
    "    qc.cx(118, 110)\n",
    "    qc.cx(122, 111)\n",
    "\n",
    "    qc.cx(2, 3)\n",
    "    qc.cx(2, 1)  # other side\n",
    "    qc.cx(6, 7)\n",
    "    qc.cx(6, 5)\n",
    "    qc.cx(8, 9)\n",
    "    qc.cx(116, 115)\n",
    "    qc.cx(124, 125)\n",
    "\n",
    "    qc.cx(118, 117)\n",
    "    qc.cx(120, 119)\n",
    "    qc.cx(120, 121)\n",
    "    qc.cx(124, 123)\n",
    "\n",
    "    qc.cx(114, 113)\n",
    "    qc.cx(12, 13)\n",
    "\n",
    "    return qc\n",
    "\n",
    "\n",
    "unentangle_circuit = deentangle_qubits()\n",
    "print(unentangle_circuit.depth())\n",
    "\n",
    "complete_circuit = ghz_circuit.compose(unentangle_circuit)"
   ]
  },
  {
   "cell_type": "code",
   "execution_count": null,
   "id": "eec56294",
   "metadata": {},
   "outputs": [],
   "source": [
    "# Submit your circuit\n",
    "\n",
    "from qc_grader.challenges.spring_2023 import grade_ex5b\n",
    "\n",
    "grade_ex5b(complete_circuit)"
   ]
  },
  {
   "cell_type": "markdown",
   "id": "92bd8827-441d-4006-8d85-eb7a289bd64f",
   "metadata": {
    "slideshow": {
     "slide_type": "-"
    },
    "tags": []
   },
   "source": [
    "Now since all odd qubits are unentangled from the even qubits, we can measure them without collapsing  the GHZ-state."
   ]
  },
  {
   "cell_type": "code",
   "execution_count": null,
   "id": "e3148f17-d168-4a9d-a0d8-82213cefd329",
   "metadata": {
    "slideshow": {
     "slide_type": "-"
    },
    "tags": []
   },
   "outputs": [],
   "source": [
    "# Measuring stabilizers this can also be used in post processing to see what went wrong.\n",
    "\n",
    "\n",
    "def measure_stabilizers():\n",
    "    qc = QuantumCircuit(quantum_register, classical_register)\n",
    "    qc.measure(stabilizer_qubits, stabilizer_qubits)\n",
    "    # qc.barrier()\n",
    "    return qc\n",
    "\n",
    "\n",
    "stabilizer_circuit = measure_stabilizers()"
   ]
  },
  {
   "cell_type": "markdown",
   "id": "606df18e-ae9b-41ae-bd0e-cd5b6698cf9d",
   "metadata": {
    "slideshow": {
     "slide_type": "-"
    },
    "tags": []
   },
   "source": [
    "These measurement results could be then used to improve the 54 qubit GHZ-state, but for now let's skip this.\n",
    "\n",
    "\n",
    "After having measured the odd qubits, they could be reset and you could use the 54 GHZ-state in your algorithm, using the odd qubits as potential ancillas. \n",
    "\n",
    "However, before thinking about using the GHZ-state, we should first test how good your GHZ-state is.\n",
    "\n",
    "Therefore, we need to measure the 54 qubit GHZ-state."
   ]
  },
  {
   "cell_type": "code",
   "execution_count": null,
   "id": "0225debb-1fdc-4210-bd7a-9717386e63d5",
   "metadata": {
    "slideshow": {
     "slide_type": "-"
    },
    "tags": []
   },
   "outputs": [],
   "source": [
    "# Measuring the GHZ qubits\n",
    "\n",
    "\n",
    "def measure_ghz():\n",
    "    qc = QuantumCircuit(quantum_register, classical_register)\n",
    "    qc.measure(ghz_qubits, ghz_qubits)\n",
    "    return qc\n",
    "\n",
    "\n",
    "measure_circuit = measure_ghz()"
   ]
  },
  {
   "cell_type": "markdown",
   "id": "626508af-7785-49d6-9af1-aae36925908c",
   "metadata": {
    "slideshow": {
     "slide_type": "-"
    },
    "tags": []
   },
   "source": [
    "Now lets put everything together, such that we can test it."
   ]
  },
  {
   "cell_type": "code",
   "execution_count": null,
   "id": "d0ed3661-c930-43b8-8096-dd1379faf9cb",
   "metadata": {
    "slideshow": {
     "slide_type": "-"
    },
    "tags": []
   },
   "outputs": [],
   "source": [
    "# Everything together\n",
    "\n",
    "simple_ghz = (\n",
    "    ghz_circuit.compose(unentangle_circuit)\n",
    "    .compose(stabilizer_circuit)\n",
    "    .compose(measure_circuit)\n",
    ")"
   ]
  },
  {
   "cell_type": "markdown",
   "id": "6e8f6b50-781f-4e03-951e-94fe73136bea",
   "metadata": {
    "slideshow": {
     "slide_type": "-"
    },
    "tags": []
   },
   "source": [
    "## Step 3: Preparing and Running on the Device\n",
    "\n",
    "We are now ready to run our GHZ-state on a real device, and for that we can use an actual 127 qubit device! \n",
    "\n",
    "There are not that many people in the world who worked with 127 qubits, and you will be soon one of them!\n",
    "\n",
    "First we prepare everything we need and make sure we are ready."
   ]
  },
  {
   "cell_type": "code",
   "execution_count": null,
   "id": "e7472b15-0be2-447b-9b66-6e57ca915fab",
   "metadata": {
    "slideshow": {
     "slide_type": "-"
    },
    "tags": []
   },
   "outputs": [],
   "source": [
    "# Importing provider and getting access to the system\n",
    "from qiskit_ibm_provider import IBMProvider\n",
    "from qiskit import transpile\n",
    "\n",
    "\n",
    "provider = IBMProvider()\n",
    "\n",
    "\n",
    "hub = \"system-request\"\n",
    "group = \"3-9-23-access\"\n",
    "project = \"main\"\n",
    "\n",
    "backend_name = \"ibm_sherbrooke\"\n",
    "backend = provider.get_backend(backend_name, instance=f\"{hub}/{group}/{project}\")\n",
    "\n",
    "number_of_shots: int = 1024"
   ]
  },
  {
   "cell_type": "code",
   "execution_count": null,
   "id": "98ef7c24-bbae-4d9c-92b0-31860cf63014",
   "metadata": {
    "slideshow": {
     "slide_type": "-"
    },
    "tags": []
   },
   "outputs": [],
   "source": [
    "from qiskit_ibm_provider import IBMProvider\n",
    "from qiskit import transpile\n",
    "\n",
    "\n",
    "provider = IBMProvider()\n",
    "\n",
    "\n",
    "hub = \"ibm-q-internal\"\n",
    "group = \"deployed\"\n",
    "project = \"default\"\n",
    "\n",
    "backend_name = \"ibm_brisbane\"\n",
    "backend = provider.get_backend(backend_name, instance=f\"{hub}/{group}/{project}\")\n",
    "\n",
    "number_of_shots: int = 2024"
   ]
  },
  {
   "cell_type": "markdown",
   "id": "51277fb1-4759-456b-8b04-1c9a720cf4c8",
   "metadata": {
    "slideshow": {
     "slide_type": "-"
    },
    "tags": []
   },
   "source": [
    "We first transpile it for the actual device, this should not cause too many changes, since we already had the physical device in mind when making the circuit in the first place, and only used connections which exist."
   ]
  },
  {
   "cell_type": "code",
   "execution_count": null,
   "id": "770c2477-0c21-4dd0-8ccb-96268b88f323",
   "metadata": {
    "slideshow": {
     "slide_type": "-"
    },
    "tags": []
   },
   "outputs": [],
   "source": [
    "# First we transpile the GHZ-state for the actual device\n",
    "qc_transpiled = transpile(simple_ghz, backend, initial_layout=initial_layout)"
   ]
  },
  {
   "cell_type": "markdown",
   "id": "3d20d85e-cef3-4b4d-a206-1ee9f452fcb0",
   "metadata": {
    "slideshow": {
     "slide_type": "-"
    },
    "tags": []
   },
   "source": [
    "Now we can let the job run on the 127-qubit device!\n",
    "We add some tags here to make it easier to find them in the future.\n",
    "\n",
    "Running the job will take some time, depending of how many other people are in the queue trying to run their jobs."
   ]
  },
  {
   "cell_type": "code",
   "execution_count": null,
   "id": "2f71e153-d6ee-4502-b60f-35b61f0ef555",
   "metadata": {
    "slideshow": {
     "slide_type": "-"
    },
    "tags": []
   },
   "outputs": [],
   "source": [
    "# Now we can run the job\n",
    "# We add memory=true to be easier able to analyse  how good the result were and the tags to make it easier to find it later.\n",
    "job = backend.run(\n",
    "    qc_transpiled,\n",
    "    shots=number_of_shots,\n",
    "    memory=True,\n",
    "    job_tags=[\"ghz_state\", \"spring_challenge\"],\n",
    ")\n",
    "\n",
    "# Getting the data of the job for testing\n",
    "data = job.result().get_memory()"
   ]
  },
  {
   "cell_type": "markdown",
   "id": "e2dc42bd-580a-427e-92c7-edc47de5aa84",
   "metadata": {
    "slideshow": {
     "slide_type": "-"
    },
    "tags": []
   },
   "source": [
    "In case you are coming back later, and want to retrieve a job, you can find it in the IBM Quantum Computing Homepage (with the tags used above), copy the name of the job (its id) and replace the *job_id* below with it. A job id should look something like this: *ch36cf1pleju56fajrqg*"
   ]
  },
  {
   "cell_type": "code",
   "execution_count": null,
   "id": "ae75b448-c873-4d8c-b6ff-234881030e61",
   "metadata": {
    "slideshow": {
     "slide_type": "-"
    },
    "tags": []
   },
   "outputs": [],
   "source": [
    "# Change job id to the id of your previous submitted job something like \"ch36cf1pleju56fajrqg\"\n",
    "# You only need to run this if you come back at a later time\n",
    "job = provider.backend.retrieve_job(\"job_id\")\n",
    "\n",
    "# Getting the data of the job for testing\n",
    "data = job.result().get_memory()"
   ]
  },
  {
   "cell_type": "markdown",
   "id": "6196bb31-15ed-43f4-a36f-920989715c02",
   "metadata": {
    "slideshow": {
     "slide_type": "-"
    },
    "tags": []
   },
   "source": [
    "## Step 4: Testing the GHZ-state\n",
    "\n",
    "After you got the results back of running your GHZ-state, you might want to test how good it is. \n",
    "We have not yet added any error mitigation or error correction, so we will expect results which still can be improved.\n",
    "\n",
    "There are different ways to test how good the results are, of course you can just try to look at the results, but since the qubits which are used for the GHZ-State are not next to each other, this might be a bit annoying.\n",
    "\n",
    "\n",
    "So having a function telling us about the quality, or about the errors in the GHZ-State might be useful.\n",
    "\n",
    "\n",
    "### Exercise 3\n",
    "\n",
    "Create a function to test the GHZ-state.\n",
    "\n",
    "We want you to have some freedom here in how you want to test it, find a way which makes sense for you.\n",
    "Important is here that the **better** the GHZ-state is the lower the output of your function.\n",
    "\n",
    "*Hint: This function should be made to test the data we have created, so only testing the qubits which are part of the GHZ-state*"
   ]
  },
  {
   "cell_type": "code",
   "execution_count": null,
   "id": "7e7f0ff0-ba28-4c1f-bcac-1d439e0a560f",
   "metadata": {
    "slideshow": {
     "slide_type": "-"
    },
    "tags": []
   },
   "outputs": [],
   "source": [
    "# A function to test the quality of a GHZ-state. The lower the better\n",
    "def test_ghz(data):\n",
    "    ghz_qubits = [\n",
    "        0,\n",
    "        2,\n",
    "        4,\n",
    "        6,\n",
    "        8,\n",
    "        10,\n",
    "        12,\n",
    "        18,\n",
    "        20,\n",
    "        22,\n",
    "        24,\n",
    "        26,\n",
    "        28,\n",
    "        30,\n",
    "        32,\n",
    "        37,\n",
    "        39,\n",
    "        41,\n",
    "        43,\n",
    "        45,\n",
    "        47,\n",
    "        49,\n",
    "        51,\n",
    "        56,\n",
    "        58,\n",
    "        60,\n",
    "        62,\n",
    "        64,\n",
    "        66,\n",
    "        68,\n",
    "        70,\n",
    "        75,\n",
    "        77,\n",
    "        79,\n",
    "        81,\n",
    "        83,\n",
    "        85,\n",
    "        81,\n",
    "        89,\n",
    "        94,\n",
    "        96,\n",
    "        98,\n",
    "        100,\n",
    "        102,\n",
    "        104,\n",
    "        106,\n",
    "        108,\n",
    "        114,\n",
    "        116,\n",
    "        118,\n",
    "        120,\n",
    "        122,\n",
    "        124,\n",
    "        126,\n",
    "    ]\n",
    "    quality_list = []\n",
    "    average = 0\n",
    "    best = len(data)\n",
    "    worst = 0\n",
    "\n",
    "    for result in data:\n",
    "        count_zeroes = 0\n",
    "        count_ones = 0\n",
    "        bit_count = -1\n",
    "        for bit in result:\n",
    "            bit_count = bit_count + 1\n",
    "            if bit_count not in ghz_qubits:\n",
    "                continue\n",
    "            if bit == \"0\":\n",
    "                count_zeroes = count_zeroes + 1\n",
    "            else:\n",
    "                count_ones = count_ones + 1\n",
    "        if count_ones < count_zeroes:\n",
    "            count_zeroes = count_ones\n",
    "\n",
    "        quality_list.append(count_zeroes)\n",
    "        average = average + count_zeroes\n",
    "\n",
    "        if count_zeroes > worst:\n",
    "            worst = count_zeroes\n",
    "        if count_zeroes < best:\n",
    "            best = count_zeroes\n",
    "\n",
    "    average = average / len(data)\n",
    "    print(average)\n",
    "    print(worst)\n",
    "    print(best)\n",
    "    return average\n",
    "\n",
    "\n",
    "test_ghz(data)"
   ]
  },
  {
   "cell_type": "markdown",
   "id": "78ed4b94-2f2a-4f95-9bd7-ae9594b13f12",
   "metadata": {
    "slideshow": {
     "slide_type": "-"
    },
    "tags": []
   },
   "source": [
    "You now got a number rating your results. Before we go on, think about your method. How would the number look like for really good states? How for a really bad state? (And how would such a bad state look like)?\n",
    "\n",
    "\n",
    "Now let's test your testing function and lets see if it does what it should. (Remember it should give low results for good states, which have phew errors and high results for states with lots of errors)."
   ]
  },
  {
   "cell_type": "code",
   "execution_count": null,
   "id": "b6bbc4fe-94f6-4131-95ec-a8243482bb17",
   "metadata": {
    "slideshow": {
     "slide_type": "-"
    },
    "tags": []
   },
   "outputs": [],
   "source": [
    "# Submit your circuit\n",
    "\n",
    "from qc_grader.challenges.spring_2023 import grade_ex5c\n",
    "\n",
    "# Since we test here a function, we do not need brackets after test_ghz, since the input is the function\n",
    "grade_ex5c(test_ghz)"
   ]
  },
  {
   "cell_type": "markdown",
   "id": "f278f65b-4896-46b3-aa7c-bfea2ed866b1",
   "metadata": {
    "slideshow": {
     "slide_type": "-"
    },
    "tags": []
   },
   "source": [
    "So now after we got the results for the GHZ-state, the question is how can we improve on it?\n",
    "\n",
    "One of the first steps would be to try to decrease the depth of the circuit further. Lets look at the depth of your transpiled circuit:\n"
   ]
  },
  {
   "cell_type": "code",
   "execution_count": null,
   "id": "7d2ce1e5-8fc7-4ad6-ac80-04688c897285",
   "metadata": {
    "slideshow": {
     "slide_type": "-"
    },
    "tags": []
   },
   "outputs": [],
   "source": [
    "qc_transpiled.depth()"
   ]
  },
  {
   "cell_type": "markdown",
   "id": "3322071d-a207-494e-ac17-a039a6a31743",
   "metadata": {
    "slideshow": {
     "slide_type": "-"
    },
    "tags": []
   },
   "source": [
    "We can see that the depth got bigger during the transpilation process, by more than a factor 2.\n",
    "\n",
    "Let's take a look at how it looks like now, to see where this additional depth comes from:"
   ]
  },
  {
   "cell_type": "code",
   "execution_count": null,
   "id": "f6d42633-03fc-405b-af40-970e70e48c2d",
   "metadata": {
    "slideshow": {
     "slide_type": "-"
    },
    "tags": []
   },
   "outputs": [],
   "source": [
    "qc_transpiled.draw()"
   ]
  },
  {
   "cell_type": "markdown",
   "id": "edaa3f49-6fe8-498a-979f-f84a3b6cbfe9",
   "metadata": {
    "slideshow": {
     "slide_type": "-"
    },
    "tags": []
   },
   "source": [
    "What we can actually see here is that the Hadamard gate and also the CX-gate got transpiled into other Gates. This is not so surprising for the Hadamard gate, since none of the IBM Quantum devices have it directly, but it is always constructed by 3 rotations.\n",
    "\n",
    "On the other hand, the ECR-gate which you can see is new and only used in some devices. It is also an entangling gate, similar to the CX-gate, but it works a bit different. However, a CX-gate can be made using only a single ECR-gate and local rotations.\n",
    "\n",
    "You can find more about the ECR-gate here: https://qiskit.org/documentation/stable/0.39/stubs/qiskit.circuit.library.ECRGate.html\n",
    "\n",
    "Now that you know that the ECR-gate is used instead, could you make a circuit with a better depth?\n",
    "\n",
    "This is not an exercise, but something you can try, if you want to, since reducing depth is often the best way to minimize the error rate.\n",
    "\n",
    "\n",
    "If you are interested in other ways one could use to make the GHZ-state better, feel free to read on. The following part is just a bonus and not at all mandatory. It is meant as a short outlook to show how error correction could be used, but also showing why error correction can be hard."
   ]
  },
  {
   "cell_type": "markdown",
   "id": "9a82183f-8bc3-45e8-a7a0-d08a3e21824b",
   "metadata": {
    "slideshow": {
     "slide_type": "-"
    },
    "tags": []
   },
   "source": [
    "# Bonus: The Way to Correcting Errors\n",
    "\n",
    "\n",
    "Error correction is still an active and important research topic. So correcting errors on a real device, even in a simple case like our GHZ-state example, is not that straight forward and we want to give you the opportunity to come up with your own ideas, while giving you some guidance and hints on what potential ways could be.\n",
    "\n",
    "\n",
    "\n",
    "## Step 1: How good is the actual State?\n",
    "\n",
    "Before we can correct any errors, we first need to know how good the state was, and even this is not as straight forward as one might think.\n",
    "\n",
    "\n",
    "The simplest way for testing how good your GHZ-state was, is to test how many of the even numbered qubits have different results from the majority. This is what you have most likely used above.\n",
    "\n",
    "\n",
    "However, this does not necessarily mean that this also correlated with the number of errors which occurred . And one could say that the number of errors which occurred  is more important, for telling how good the GHZ-state is.\n",
    "\n",
    "\n",
    "**Example A** to illustrate this thought: Let's say we have 10 qubits connected in a line and form a GHZ-state with them:\n",
    "\n",
    "0 - 1 - 2 - 3 - 4 - 5 - 6 - 7 - 8 - 9\n",
    "\n",
    "If we now say that error occurred  not in the readout, but when applying the entangling gate between qubit 4 and qubit 5 the output could look like this:\n",
    "\n",
    "0000011111 \n",
    "\n",
    "This would be the worst possible result for the measurement \"how many qubits have the same result\".\n",
    "\n",
    "For this reason a run in which more errors occurred, could actually lead to a better measure for \"how many qubits have the same result\" although most likely that state would be a lot less useful.\n",
    "\n",
    "If the above state would have been created and you had (working) stabilizer measurements between the qubits, you would only have the one between qubit 4 and 5 be 1. And to correct that error you could potentially just flip qubits 5-9.\n",
    "\n",
    "\n",
    "To get a first idea on how the errors look like for your case, it might be a good idea, to look at the raw data, the results which you got from running it on the actual device, and taking into account how you built the GHZ-state.\n",
    "\n",
    "\n",
    "For **Example A**  we could maybe find an error correction which would look like this:\n"
   ]
  },
  {
   "cell_type": "code",
   "execution_count": null,
   "id": "4d96b276-ccbd-4183-8d44-6055cea976b7",
   "metadata": {
    "slideshow": {
     "slide_type": "-"
    },
    "tags": []
   },
   "outputs": [],
   "source": [
    "# Simple idea for Example A find where the error happened and flip accordingly\n",
    "def correct_ghz():\n",
    "    qc = QuantumCircuit(quantum_register, classical_register)\n",
    "\n",
    "    with qc.if_test((classical_register[9], 1)):\n",
    "        qc.x(quantum_register[9])\n",
    "\n",
    "    with qc.if_test((classical_register[8], 1)):\n",
    "        qc.x(quantum_register[8])\n",
    "\n",
    "    with qc.if_test((classical_register[8], 1)):\n",
    "        qc.x(quantum_register[9])\n",
    "\n",
    "    with qc.if_test((classical_register[7], 1)):\n",
    "        qc.x(quantum_register[9])\n",
    "\n",
    "    with qc.if_test((classical_register[7], 1)):\n",
    "        qc.x(quantum_register[8])\n",
    "\n",
    "    with qc.if_test((classical_register[7], 1)):\n",
    "        qc.x(quantum_register[7])\n",
    "\n",
    "    # ...\n",
    "\n",
    "    # qc.barrier()\n",
    "    return qc\n",
    "\n",
    "\n",
    "correcting_circuit = correct_ghz()"
   ]
  },
  {
   "cell_type": "markdown",
   "id": "76751955-fa29-40d8-a033-0949d94af4f2",
   "metadata": {
    "slideshow": {
     "slide_type": "-"
    },
    "tags": []
   },
   "source": [
    "And if we would now adapt the above code to our 54 GHZ case, we could build everything together:\n"
   ]
  },
  {
   "cell_type": "code",
   "execution_count": null,
   "id": "ff234bbb-4ef5-461e-b6e0-2d23ba62ddba",
   "metadata": {
    "slideshow": {
     "slide_type": "-"
    },
    "tags": []
   },
   "outputs": [],
   "source": [
    "# Everything together corrected\n",
    "\n",
    "error_corrected_ghz = (\n",
    "    ghz_circuit.compose(unentangle_circuit)\n",
    "    .compose(stabilizer_circuit)\n",
    "    .compose(correcting_circuit)\n",
    "    .compose(measure_circuit)\n",
    ")"
   ]
  },
  {
   "cell_type": "markdown",
   "id": "c71cfe66-a165-47d6-b8d2-b819c4b0ccb4",
   "metadata": {
    "slideshow": {
     "slide_type": "-"
    },
    "tags": []
   },
   "source": [
    "## Step 2: Why considering single stabilizers might not be enough.\n",
    "\n",
    "In the error correction exercise, we have seen that you could either use single bits, or the whole bitstring from the measurement of the stabilizer qubits in order to condition operations on them.\n",
    "\n",
    "Since our stabilizer measurements are 54 bits long, using the whole bit strings to condition on them, is not feasible, since this would need 2^54 different bitstrings which need to be considered.\n",
    "\n",
    "\n",
    "On the other hand, if we just consider single bit it might not be possible/overly complicated.\n",
    "\n",
    "\n",
    "**Example B**: We have again 10 qubits connected in a line and form a GHZ-state with them:\n",
    "\n",
    "0 - 1 - 2 - 3 - 4 - 5 - 6 - 7 - 8 - 9\n",
    "\n",
    "Now we assume that we get as the measurement result 0000010000\n",
    "\n",
    "If we have stabilizer measurements in this case the one on the right of the 1 and the one on the left of the 1 would both have value 1.\n",
    "\n",
    "This means in this case just looking at a single stabilizer would not be enough to know that you only need to flip qubit number 5 (and no others), unless we would be ok with flipping some qubits several times, which is not ideal. \n",
    "\n",
    "So in this case it would be ideal if we could apply functions to the measurement results of the stabilizers, and use their results for as conditions in the dynamic circuits. \n",
    "\n",
    "This is possible, however, this needs to be done in Open QASM3 code, instead of in Qiskit, which will not be covered in this exercise.\n",
    "If you are interested to learn more about Dynamic Circuits with Open QASM3 you can find information about it here: \n",
    "\n",
    "https://quantum-computing.ibm.com/services/resources/docs/resources/manage/systems/dynamic-circuits/Dynamic-Circuits-basics-with-OpenQASM3\n",
    "\n",
    "\n",
    "Below is a simple example to show you how Open QASM3 code looks like:\n"
   ]
  },
  {
   "cell_type": "code",
   "execution_count": null,
   "id": "4e502711-6741-4082-a055-ff4f03dbef11",
   "metadata": {
    "slideshow": {
     "slide_type": "-"
    },
    "tags": []
   },
   "outputs": [],
   "source": [
    "from qiskit import qasm3, QuantumCircuit, transpile\n",
    "\n",
    "# Creating a bell circuit\n",
    "qc_bell = QuantumCircuit(2, 2)\n",
    "qc_bell.h(0)\n",
    "qc_bell.cx(0, 1)\n",
    "qc_bell.measure(0, 0)\n",
    "qc_bell.measure(0, 1)\n",
    "\n",
    "# Transpiling it for our device (as above it does not have the H- and CX- Gates)\n",
    "qc_bell = transpile(qc_bell, backend)\n",
    "\n",
    "# Generate qasm3 code before we can print it\n",
    "exporter = qasm3.Exporter(\n",
    "    includes=[], disable_constants=True, basis_gates=backend.configuration().basis_gates\n",
    ")\n",
    "print(qasm3_bell := exporter.dumps(qc_bell))\n",
    "\n",
    "# Draw a circuit as comparison\n",
    "qc_bell.draw(output=\"mpl\", idle_wires=False)"
   ]
  },
  {
   "cell_type": "markdown",
   "id": "9ff29862-0ee6-45d4-89cb-b1081041c84f",
   "metadata": {
    "slideshow": {
     "slide_type": "-"
    },
    "tags": []
   },
   "source": [
    "## Step 3: How not to introduce more Errors\n",
    "\n",
    "\n",
    "There are different reasons which can lead to errors. Decoherence over time and errors introduced in entangling gates like the CX-Gate are two of them. Both of them can also apply to the stabilizers and we have to make sure to not introduce more noise by our attempts of correcting it, since that would beat the whole purpose. This might be less of a problem in the future, when the general error rate will go further down, but is still something which needs to be considered.\n",
    "\n",
    "What does this mean for us?\n",
    "\n",
    "Well one can think of when we want to create and measure the stabilizers. Do we unentangle them directly after they are no longer used for entangling the next qubit?  Do we wait until the whole circuit is entangled? (This of course depends on which kind of errors we might want to correct). We can also think about resetting the stabilizers and create new ones later (using the same qubits) and use 2 phases in which we try to correct errors.\n",
    "\n",
    "\n",
    "\n",
    "And we can think of what the probability is that an error occurred  from entangling a qubit (through the stabilizer) and compare it to the probability that an error is introduced in the stabilizer by unentangling it. So maybe having the stabilizers just makes it worse?\n",
    "\n",
    "When is this worth it? You can play around with the code below to get some impressions and ideas, again this is something which can change in the future, when error rates will go further down."
   ]
  },
  {
   "cell_type": "code",
   "execution_count": null,
   "id": "2e2e7294-df6e-4d99-bcce-5469c09a40df",
   "metadata": {
    "slideshow": {
     "slide_type": "-"
    },
    "tags": []
   },
   "outputs": [],
   "source": [
    "# All the probabilities here only consider errors introduced by the CX gate and assumes they are bit flip errors.\n",
    "\n",
    "# Probability for a single CX gate\n",
    "p1 = 0.01\n",
    "# Probability that there is an error after 2 CX gates (going through stabilizer)\n",
    "p2 = p1 * (1 - p1) + (1 - p1) * p1\n",
    "# Probability that the stabilizer shows something wrong even though it is correct\n",
    "p3 = p1 * p1 + (1 - p1) * (1 - p1) * p1\n",
    "\n",
    "print(\"Probability of a single cx having an error: {}\".format(p1))\n",
    "print(\"Probability of having an error after 2 cx: {:.4f}\".format(p2))\n",
    "print(\"Probability of the stabilizer showing a non existent error: {:.4f}\".format(p3))"
   ]
  },
  {
   "cell_type": "markdown",
   "id": "a122c390-a440-4ad0-9838-deb55ecd1d17",
   "metadata": {
    "slideshow": {
     "slide_type": "-"
    },
    "tags": []
   },
   "source": [
    "## Step 4: What can one do?\n",
    "\n",
    "There are a lot of possibilities you can try:\n",
    "\n",
    "\n",
    "\n",
    "- You can try to find some good logical functions using several stabilizers and use QASM3\n",
    "\n",
    "- You can think about resetting the stabilizers and reusing them.\n",
    "\n",
    "- You can try if the simple approach as seen in example A could be made to work (by changing the timing of when the measurements are made.)\n",
    "\n",
    "- You can find your own idea! be creative!\n",
    "\n",
    "\n",
    "What is important for all of them is that you not just blindly start trying on the quantum computer, but instead try to verify your ideas first using the data of letting the initial GHZ-state run on the device.\n",
    "\n",
    "You have created testing data above: You have the output of the GHZ-state and also the output of the stabilizers.\n",
    "\n",
    "\n",
    "If your approach does not work as postprocessing, then running it on the actual device, where all the operations have a further error rate, will also not work.\n",
    "\n",
    "When you have an algorithm which works in theory with the data you have (and generated better GHZ-state according to your test you can use the code below to try to let your whole circuit, including the error correction, run on the actual device. \n",
    "\n",
    "*Hint: Make sure you use the error_correction function above and also generate the error_corrected_ghz above.*"
   ]
  },
  {
   "cell_type": "code",
   "execution_count": null,
   "id": "e073f632-2e2d-4d53-b615-d86c8ef5c5e2",
   "metadata": {
    "slideshow": {
     "slide_type": "-"
    },
    "tags": []
   },
   "outputs": [],
   "source": [
    "# First we transpile the GHZ-state for the actual device\n",
    "qc_corrected_transpiled = transpile(\n",
    "    error_corrected_ghz, backend, initial_layout=initial_layout\n",
    ")\n",
    "\n",
    "# Now we can run the job\n",
    "job_corrected = backend.run(\n",
    "    qc_corrected_transpiled,\n",
    "    dynamic=True,\n",
    "    shots=number_of_shots,\n",
    "    memory=True,\n",
    "    job_tags=[\"dynamic\", \"spring_challenge\"],\n",
    ")\n",
    "\n",
    "job_id = job_corrected.job_id()\n",
    "print(job_id)"
   ]
  },
  {
   "cell_type": "code",
   "execution_count": null,
   "id": "be6614c1",
   "metadata": {},
   "outputs": [],
   "source": [
    "job_corrected = provider.retrieve_job(job_id)\n",
    "job_corrected.status()"
   ]
  },
  {
   "cell_type": "code",
   "execution_count": null,
   "id": "24cbaa62",
   "metadata": {},
   "outputs": [],
   "source": [
    "# And get the results back\n",
    "counts_corrected = job_corrected.result().get_counts()"
   ]
  }
 ],
 "metadata": {
  "celltoolbar": "Slideshow",
  "kernelspec": {
   "display_name": "Python 3 (ipykernel)",
   "language": "python",
   "name": "python3"
  },
  "language_info": {
   "codemirror_mode": {
    "name": "ipython",
    "version": 3
   },
   "file_extension": ".py",
   "mimetype": "text/x-python",
   "name": "python",
   "nbconvert_exporter": "python",
   "pygments_lexer": "ipython3",
   "version": "3.10.8"
  },
  "widgets": {
   "application/vnd.jupyter.widget-state+json": {
    "state": {},
    "version_major": 2,
    "version_minor": 0
   }
  }
 },
 "nbformat": 4,
 "nbformat_minor": 5
}
