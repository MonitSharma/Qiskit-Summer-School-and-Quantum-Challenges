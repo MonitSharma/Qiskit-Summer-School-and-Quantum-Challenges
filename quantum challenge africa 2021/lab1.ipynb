{
 "cells": [
  {
   "cell_type": "markdown",
   "metadata": {},
   "source": [
    "<h1>IBM Quantum Challenge Africa 2021</h1>\n",
    "<p style=\"font-size:xx-large;\">Introduction and the Crop-Yield Problem</p>"
   ]
  },
  {
   "cell_type": "markdown",
   "metadata": {},
   "source": [
    "Quantum Computing has the potential to revolutionize computing, as it can solve problems that are not possible to solve on a classical computer. This extra ability that quantum computers have is called quantum advantage. To achieve this goal, the world needs passionate and competent end-users: those who know how to apply the technology to their field.\n",
    "\n",
    "In this challenge you will be exposed, at a high-level, to quantum computing through Qiskit. As current or future users of quantum computers, you need to know what problems are appropriate for quantum computation, how to structure the problem model/inputs so that they are compatible with your chosen algorithm, and how to execute a given algorithm and quantum solution to solve the problem.\n",
    "\n",
    "This is the first notebook for the IBM Quantum Challenge Africa. Before starting here, ensure you have completed the Week 0 content in preparation for the following exercises."
   ]
  },
  {
   "cell_type": "markdown",
   "metadata": {},
   "source": [
    "## Initialization"
   ]
  },
  {
   "cell_type": "markdown",
   "metadata": {},
   "source": [
    "To ensure the demonstrations and exercises have the required Python modules and libraries, run the following cell before continuing."
   ]
  },
  {
   "cell_type": "code",
   "execution_count": 1,
   "metadata": {},
   "outputs": [],
   "source": [
    "# Import auxiliary libraries\n",
    "import numpy as np\n",
    "\n",
    "# Import Qiskit\n",
    "from qiskit import IBMQ, Aer\n",
    "from qiskit.algorithms import QAOA, VQE, NumPyMinimumEigensolver\n",
    "from qiskit.algorithms.optimizers import COBYLA\n",
    "from qiskit.utils import QuantumInstance, algorithm_globals\n",
    "from qiskit.providers.aer.noise.noise_model import NoiseModel\n",
    "\n",
    "from qiskit_optimization import QuadraticProgram\n",
    "from qiskit_optimization.algorithms import MinimumEigenOptimizer\n",
    "from qiskit_optimization.converters import QuadraticProgramToQubo\n",
    "\n",
    "import qiskit.test.mock as Fake"
   ]
  },
  {
   "cell_type": "markdown",
   "metadata": {},
   "source": [
    "## Table of Contents"
   ]
  },
  {
   "cell_type": "markdown",
   "metadata": {},
   "source": [
    "The notebook is structured as follows:"
   ]
  },
  {
   "cell_type": "markdown",
   "metadata": {},
   "source": [
    "1. Initialization\n",
    "2. Table of Contents\n",
    "3. Qiskit and its parts\n",
    "4. Setting up the Qiskit Environment\n",
    "5. Quadratic Problems\n",
    "6. Crop-Yield Problem as a Quadratic Problem\n",
    "7. Solving the Crop-Yield Problem using Quantum Computing\n",
    "8. Simulating a Real Quantum Computer for the Crop-Yield Problem"
   ]
  },
  {
   "cell_type": "markdown",
   "metadata": {},
   "source": [
    "## Qiskit and its parts"
   ]
  },
  {
   "cell_type": "markdown",
   "metadata": {},
   "source": [
    "Qiskit is divided into multiple modules for different purposes, with Terra at the core of the Qiskit ecosystem. It helps to be familiar with what each module can do and whether you will need to utilize the software contained within them for your specific problem. There are four modules that deal with the application of quantum computing; with tools and algorithms built specifically for their fields.\n",
    "\n",
    "Have a quick look at the [Qiskit documentation](https://qiskit.org/overview) and this IBM Research [blog post](https://www.ibm.com/blogs/research/2021/04/qiskit-application-modules/) to see what these modules are called. Once you have done so, you can complete the first exercise of the challenge: replace the ficticious module names, in the python cell below, with the correct module names. Though it would be fun to have a Qiskit Gaming module, it has not yet been developed. If you are interested in contributing to the open-source Qiskit community, have a look at the [contribution guide](https://qiskit.org/documentation/contributing_to_qiskit.html)."
   ]
  },
  {
   "cell_type": "markdown",
   "metadata": {},
   "source": [
    "### Exercise 1a: Qiskit Applications Modules"
   ]
  },
  {
   "cell_type": "code",
   "execution_count": 10,
   "metadata": {},
   "outputs": [],
   "source": [
    "# Definitely real Qiskit module names\n",
    "qiskit_module_names = [\"Qiskit Nature\",\"Qiskit Finance\" ,\"Qiskit Optimization\", \"Qiskit Machine Learning\" ]"
   ]
  },
  {
   "cell_type": "markdown",
   "metadata": {},
   "source": [
    "Run the following python cell to check if you have the correct module names."
   ]
  },
  {
   "cell_type": "code",
   "execution_count": 11,
   "metadata": {},
   "outputs": [
    {
     "name": "stdout",
     "output_type": "stream",
     "text": [
      "Submitting your answer for ex1/partA. Please wait...\n",
      "Congratulations 🎉! Your answer is correct and has been submitted.\n"
     ]
    }
   ],
   "source": [
    "from qc_grader import grade_ex1a\n",
    "\n",
    "grade_ex1a(qiskit_module_names)"
   ]
  },
  {
   "cell_type": "markdown",
   "metadata": {},
   "source": [
    "### Qiskit Applications Modules"
   ]
  },
  {
   "cell_type": "markdown",
   "metadata": {},
   "source": [
    "In this notebook, we will use the `Qiskit Optimization` applications module for a specific problem to illustrate how\n",
    "\n",
    "1. classical and mathematical problem definitions are represented in Qiskit,\n",
    "2. some quantum algorithms are defined,\n",
    "3. to execute a quantum algorithm for a given problem definition,\n",
    "4. and algorithms and Qiskit problems are executed on real and simulated quantum computers.\n",
    "\n",
    "We will also be using Qiskit Terra and Aer as they provide the foundation of Qiskit and high-performance quantum simulators respectively."
   ]
  },
  {
   "cell_type": "markdown",
   "metadata": {},
   "source": [
    "## Quadratic Problems"
   ]
  },
  {
   "cell_type": "markdown",
   "metadata": {},
   "source": [
    "Some computational problems can be formulated into quadratic equations such that the minimum of the quadratic equations is the optimal solution, if any exist. These problems are encountered in finance, agriculture, operations and production management, and economics.\n",
    "\n",
    "Quadratic programming is also used to identify an optimal financial portfolio with minimum risk and optimizing the layout of production components in a factory to minimize the travel distance of resources. This notebook focuses on agriculture as it is a relevant application of quantum computing to problems facing the African continent. However, all of these applications share two common characteristics: the system can be modelled as a quadratic equation and the system variables may be constrained, with their values limited to within a given range.\n",
    "\n",
    "---\n",
    "\n",
    "Quadratic problems take on the following structure. Given a vector of $n$ variables $x\\in\\mathbb{R}^n$, the quadratic function to minimize is as follows.\n",
    "\n",
    "$$\n",
    "\\begin{align}\n",
    "\\text{minimize}\\quad & f\\left(x\\right)=\\frac{1}{2}x^\\top{}\\mathbf{Q}x + c^\\top{}x &\\\\\n",
    "\\text{subject to}\\quad & \\mathbf{A}x\\leq{}b&\\\\\n",
    "& x^\\top{}\\mathbf{Q}_ix + c_{i}^\\top{}x\\leq{}r_i,\\quad&\\forall{}i\\in[1,k_q]\\\\\n",
    "& l_i\\leq{}x_i\\leq{}u_i,\\quad&\\forall{}i\\in[1,k_l]\\\\\n",
    "\\end{align}\n",
    "$$\n",
    "\n",
    "$\\mathbf{Q}$, $\\mathbf{Q}_i$, and $\\mathbf{A}$ are $n\\times{}n$ symmetric matrices. $c$ and $c_i$ are $n\\times{}1$ column vectors. $\\mathbf{Q}_i$, $\\mathbf{A}$, $c_i$, $l_i$, and $u_i$ define constraints on the variables in $x$. The quadratic equation at the core of the quadratic problem is found by multiplying out the matrices in the minimization function. Though '$\\leq{}$' is used in the constraint equations above, any identity relationship may be used for any number of constraints: i.e. \"$<$\", \"$=$\", \"$>$\", \"$\\geq$\", or \"$\\leq$\".\n",
    "\n",
    "A valid solution to the quadratic must satisfy all conditions for the problem. Examples of some constraints are given below. The first two are linear constraints whereas the third example is a quadratic constraint.\n",
    "\n",
    "$$ x_1 + x_4 \\leq{} 10$$\n",
    "\n",
    "$$ x_2 - 3x_6 = 10$$\n",
    "\n",
    "$$x_1x_2 - 4x_3x_4 + x_5 \\leq{} 15 $$\n"
   ]
  },
  {
   "cell_type": "markdown",
   "metadata": {},
   "source": [
    "Qiskit has Python code that allows you to implement a quadratic problem as a `QuadraticProgram` instance. Though our definition above used matrices to define the coefficients, `QuadraticProgram` allows you to define the objective (function overwhich to minimize) directly. To illustrate how to use `QuadraticProgram`, we will use the following quadratic problem definition, with three integer variables.\n",
    "\n",
    "$$\\begin{align}\n",
    "\\text{minimize}\\quad{} & f(x)=(x_1)^2 + (x_2)^2 - x_1x_2 - 6x_3 \\\\\n",
    "\\text{subject to}\\quad{} & x_1 + x_2 = 2             \\\\\n",
    "                         & x_2x_3 \\geq{} 1           \\\\\n",
    "                         & -2 \\leq{} x_2 \\leq{} 2    \\\\\n",
    "                         & -2 \\leq{} x_3 \\leq{} 4    \\\\\n",
    "\\end{align}$$"
   ]
  },
  {
   "cell_type": "markdown",
   "metadata": {},
   "source": [
    "The figure below shows the constraints on $x_1$ and $x_3$, with some simplifcation. The shaded area denotes valid values for $x_1$ and $x_3$, within which $f(x)$ must be minimized."
   ]
  },
  {
   "cell_type": "markdown",
   "metadata": {},
   "source": [
    "<img src=\"quadratic_example.svg\" width=512px/>"
   ]
  },
  {
   "cell_type": "markdown",
   "metadata": {},
   "source": [
    "In the following code, the above quadratic problem is defined as a `QuadraticProgram` instance. Have a look at the [Qiskit documentation for `QuadraticProgram`](https://qiskit.org/documentation/stubs/qiskit.optimization.QuadraticProgram.html), as it can be very useful in helping your understanding of its interface.\n",
    "\n",
    "The quadratic to minimize, called an objective, is implemented using dictionaries. This allows you, the developer, to explicitly define coefficients for specific variables and terms. The keys in the dictionaries are the variable names identifying a term in $f(x)$. For example, `(\"x_1\",\"x_2\")` is for $x_1x_2$. The values for each item are the coefficients for said terms. Terms that are subtracted in $f(x)$ must have a negative coefficient."
   ]
  },
  {
   "cell_type": "code",
   "execution_count": 12,
   "metadata": {},
   "outputs": [
    {
     "data": {
      "text/plain": [
       "<qiskit_optimization.problems.quadratic_constraint.QuadraticConstraint at 0x7fb110c7d2e0>"
      ]
     },
     "execution_count": 12,
     "metadata": {},
     "output_type": "execute_result"
    }
   ],
   "source": [
    "quadprog = QuadraticProgram(name=\"example 1\")\n",
    "quadprog.integer_var(name=\"x_1\", lowerbound=0, upperbound=4)\n",
    "quadprog.integer_var(name=\"x_2\", lowerbound=-2, upperbound=2)\n",
    "quadprog.integer_var(name=\"x_3\", lowerbound=-2, upperbound=4)\n",
    "quadprog.minimize(\n",
    "    linear={\"x_3\": -6},\n",
    "    quadratic={(\"x_1\", \"x_1\"): 1, (\"x_2\", \"x_2\"): 1, (\"x_1\", \"x_2\"): -1},\n",
    ")\n",
    "quadprog.linear_constraint(linear={\"x_1\": 1, \"x_2\": 1}, sense=\"=\", rhs=2)\n",
    "quadprog.quadratic_constraint(quadratic={(\"x_2\", \"x_3\"): 1}, sense=\">=\", rhs=1)"
   ]
  },
  {
   "cell_type": "markdown",
   "metadata": {},
   "source": [
    "A `QuadraticProgram` can have three types of variables: binary, integer, and continuous. The Qiskit implementation of the algorithms we are going to use currently only support binary and integer variables. There are other algorithms that allow for the simulation of continuous variables, but they are not covered in this notebook. If you want to know more about them though, have a look at this Qiskit tutorial on [algorithms to solve mixed-variable quadratic problems](https://qiskit.org/documentation/tutorials/optimization/5_admm_optimizer.html)."
   ]
  },
  {
   "cell_type": "markdown",
   "metadata": {},
   "source": [
    "We can visualize the `QuadraticProgram` as an LP string, a portable text-based format used representating the model as a **L**inear **P**rogramming problem."
   ]
  },
  {
   "cell_type": "code",
   "execution_count": 13,
   "metadata": {},
   "outputs": [
    {
     "name": "stdout",
     "output_type": "stream",
     "text": [
      "\\ This file has been generated by DOcplex\n",
      "\\ ENCODING=ISO-8859-1\n",
      "\\Problem name: example 1\n",
      "\n",
      "Minimize\n",
      " obj: - 6 x_3 + [ 2 x_1^2 - 2 x_1*x_2 + 2 x_2^2 ]/2\n",
      "Subject To\n",
      " c0: x_1 + x_2 = 2\n",
      " q0: [ x_2*x_3 ] >= 1\n",
      "\n",
      "Bounds\n",
      "       x_1 <= 4\n",
      " -2 <= x_2 <= 2\n",
      " -2 <= x_3 <= 4\n",
      "\n",
      "Generals\n",
      " x_1 x_2 x_3\n",
      "End\n",
      "\n"
     ]
    }
   ],
   "source": [
    "print(quadprog.export_as_lp_string())"
   ]
  },
  {
   "cell_type": "markdown",
   "metadata": {},
   "source": [
    "Any optimization problem that can be represented as a single second-order equation, in that the greatest exponent of any term is 2, can be transformed into a quadratic problem or program of the form given above. The above example is arbitrary and does not necessarily represent a given real-world problem. The main problem of this notebook focuses on optimizing the yield of a farm, though only the problem definition need be changed to apply this technique to other quadratic problem applications."
   ]
  },
  {
   "cell_type": "markdown",
   "metadata": {},
   "source": [
    "## Crop-Yield Problem as a Quadratic Problem"
   ]
  },
  {
   "cell_type": "markdown",
   "metadata": {},
   "source": [
    "To show how to solve your quadratic program using a quantum computer, we will use two algorithms to solve the crop-yield problem. It is a common need to optimize the crops and management of a farm to reduce risk while increasing profits. One of the big challenges facing Africa and the whole world is how to produce enough food for everyone. The problem here focuses not on profits but on the tonnage of crops harvested. Imagine you have a farm with three hectares of land suitable for farming. You need to choose which crops to plant from a selection of four. Furthermore, you also need to determine how many hectares of each you should plant. The four crops you can plant are wheat, soybeans, maize, and a push-pull crop. The fourth cannot be sold once harvested but it can help increase the yield of the other crops.\n",
    "\n",
    "<table>\n",
    "    <tr>\n",
    "        <th>\n",
    "            <img src=\"farm_template.svg\" width=\"384px\"/>\n",
    "        </th>\n",
    "    </tr>\n",
    "    <tr>\n",
    "        <th>\n",
    "            Our beautiful three hectare farm\n",
    "        </th>\n",
    "    </tr>\n",
    "</table>\n",
    "\n",
    "<table>\n",
    "    <tr>\n",
    "        <th>\n",
    "        <img src=\"crop_wheat.svg\" width=\"256px\"/>\n",
    "        </th>\n",
    "        <th>\n",
    "            <img src=\"crop_soybeans.svg\" width=\"256px\"/>\n",
    "        </th>\n",
    "        <th>\n",
    "            <img src=\"crop_maize.svg\" width=\"256px\"/>\n",
    "        </th>\n",
    "        <th>\n",
    "            <img src=\"crop_pushpull.svg\" width=\"256px\"/>\n",
    "        </th>\n",
    "    </tr>\n",
    "    <tr>\n",
    "        <th>\n",
    "            Wheat\n",
    "        </th>\n",
    "        <th>\n",
    "            Soybeans\n",
    "        </th>\n",
    "        <th>\n",
    "            Maize\n",
    "        </th>\n",
    "        <th>\n",
    "            Push-Pull\n",
    "        </th>\n",
    "<!--         <th>\n",
    "            <p align=\"right\" style=\"height:32px;padding-top:10px;\">Wheat<img src=\"wheat.svg\" width=\"32px\" style=\"float:left;margin-top:-10px;margin-right:8px;\"/></p>\n",
    "        </th>\n",
    "        <th>\n",
    "            <p style=\"height:32px;padding-top:10px;\">Soybeans<img src=\"soybeans.svg\" width=\"32px\" style=\"float:left;margin-top:-10px;margin-right:8px;\"/></p>\n",
    "        </th>\n",
    "        <th>\n",
    "            <p style=\"height:32px;padding-top:10px;\">Maize<img src=\"maize.svg\" width=\"32px\" style=\"float:left;margin-top:-10px;margin-right:8px;\"/></p>\n",
    "        </th>\n",
    "        <th>\n",
    "            <p style=\"height:32px;padding-top:10px;\">Push-Pull<img src=\"pushpull.svg\" width=\"32px\" style=\"float:left;margin-top:-10px;margin-right:8px;\"/></p>\n",
    "        </th> -->\n",
    "    </tr>\n",
    "</table>\n",
    "\n",
    "There are three types of farming methods we can use: monocropping, intercropping, and push-pull farming. These are shown below. Monocropping is where only one crop is farmed. This is can make the farm susceptible to disease and pests as the entire yield would be affected. In some instances, growing two different plants nearby each other will increase the yield of both, though sometimes it can decrease the yield. Intercropping is the process where different plants are chosen to _increase_ the yield. Push-Pull crops are pairs of plants that repel pests and attract pests respectively. Integrating them into a larger farm increases the yield of harvested food but with the cost of not necessarily being able to use the harvest of Push-Pull crops as part of the total yield. This is because the Push-Pull crop may not be usable or even edible.\n",
    "\n",
    "<table>\n",
    "    <tr>\n",
    "        <th>\n",
    "        <img src=\"farm_mono.svg\" width=\"256px\"/>\n",
    "        </th>\n",
    "        <th>\n",
    "            <img src=\"farm_intercrop.svg\" width=\"256px\"/>\n",
    "        </th>\n",
    "        <th>\n",
    "            <img src=\"farm_intercrop_pushpull.svg\" width=\"256px\"/>\n",
    "        </th>\n",
    "    </tr>\n",
    "    <tr>\n",
    "        <th>\n",
    "            Monocropping\n",
    "        </th>\n",
    "        <th>\n",
    "            Intercropping\n",
    "        </th>\n",
    "        <th>\n",
    "            Push-Pull farming\n",
    "        </th>\n",
    "    </tr>\n",
    "</table>"
   ]
  },
  {
   "cell_type": "markdown",
   "metadata": {},
   "source": [
    "---\n",
    "Only in certain cases can quadratic programming problems be solved easily using classical problems. In their general sense, they are NP-Hard; a class of problems that is difficult to solve using classical computational methods. In fact, the best classical method to solve these problems involves heuristics, a technique that finds an approximate solution. Quantum Computers have been shown to provide significant speed-up and better scaling for some heuristic problems. The crop-yield problem is a combinatorial problem, in that the solution is a specific combination of input parameters. Though the problem shown here is small enough to solve classically, larger problems become intractable on a classical computer owing to the number of combinations of which to optimize.\n",
    "\n",
    "\n",
    "Solving the above problem using quantum computing involves three components:\n",
    "\n",
    "1. Defining the problem\n",
    "2. Defining the algorithm\n",
    "3. Executing the algorithm on a backend\n",
    "\n",
    "Many problems in Qiskit follow this structure as the algorithm you use can typically be swapped for another without significantly redefining your problem. Execution on different backends is the easiest, as long as the device has sufficient resource. The first component is given below, with the second and third in sections 1.5 and 1.6."
   ]
  },
  {
   "cell_type": "markdown",
   "metadata": {},
   "source": [
    "### Define the Crop-Yield problem"
   ]
  },
  {
   "cell_type": "markdown",
   "metadata": {},
   "source": [
    "The following problem is defined for you but the `QuadraticProgram` is not implemented. Your task at the end of this section is to implement the `QuadraticProgram` for the given crop-yield model.\n",
    "\n",
    "Your farm has three hectares available, $3~ha$, with each crop taking up $0~ha$ or $1~ha$. We define the yield of the farm as a quadratic function where the influence of each crop on eachother is represented by the quadratic coefficients. The variables in this quadratic are the number of hectares of the crop to be planted and the objective function to maximize is the yield of usable crops in tons. Here is the mathematical model for the problem. In this scenario, all crops increase the yield of other crops. However, the problem to solve is which crops to use to achieve the maximum yield."
   ]
  },
  {
   "cell_type": "markdown",
   "metadata": {},
   "source": [
    "<img src=\"qubo_problem_graphical_variables.svg\" width=\"534px\"/>\n",
    "\n",
    "The farm yield, in tons, is modelled as a quadratic equation, given below, with constraints on the hectares used by each crop and the total hectares available. Each crop is shown using a different symbol, as shown above, representing the number of hectares to be planted of said plant. Note that we can only plant up to 1 hectare of each crop and that our farm is constrained to 3 hectares.\n",
    "\n",
    "<img src=\"qubo_problem_graphical.svg\" width=\"400px\"/>"
   ]
  },
  {
   "cell_type": "markdown",
   "metadata": {},
   "source": [
    "----\n",
    "#### Non-graphical notation\n",
    "Here is a non-graphical representation of the above model, if you are struggling to interpret the above graphic.\n",
    "\n",
    "$$\n",
    "\\begin{align}\n",
    "    \\text{maximize} \\quad & 2(\\operatorname{Wheat}) + \\operatorname{Soybeans} + 4(\\operatorname{Maize}) \\\\\n",
    "    & + 2.4(\\operatorname{Wheat}\\times\\operatorname{Soybeans}) \\\\ & + 4(\\operatorname{Wheat}\\times\\operatorname{Maize})\\\\\n",
    "    &+ 4(\\operatorname{Wheat}\\times\\operatorname{PushPull}) \\\\ & + 2(\\operatorname{Soybeans}\\times\\operatorname{Maize}) \\\\\n",
    "                          & + (\\operatorname{Soybeans}\\times\\operatorname{PushPull}) \\\\ & + 5(\\operatorname{Maize}\\times\\operatorname{PushPull})\n",
    "\\end{align}\n",
    "$$\n",
    "\n",
    "$$\n",
    "\\begin{align}\n",
    "\\text{subject to} \\quad & \\operatorname{Wheat} + \\operatorname{Soybeans} + \\operatorname{Maize} + \\operatorname{PushPull} \\leq{} 3\\\\\n",
    "& 0\\leq{}\\operatorname{Wheat}\\leq{}1\\\\\n",
    "& 0\\leq{}\\operatorname{Soybeans}\\leq{}1\\\\\n",
    "& 0\\leq{}\\operatorname{Maize}\\leq{}1\\\\\n",
    "& 0\\leq{}\\operatorname{PushPull}\\leq{}1\n",
    "\\end{align}\n",
    "$$"
   ]
  },
  {
   "cell_type": "markdown",
   "metadata": {},
   "source": [
    "### Exercise 1b: Create Quadratic Program from crop-yield variables"
   ]
  },
  {
   "cell_type": "markdown",
   "metadata": {},
   "source": [
    "Your first exercise is to create a `QuadraticProgram` that represents the above model. Write your implementation in the `cropyield_quadratic_program` function below. Remember to use the example as a guide, and to look at the [QuadraticProgram documentation](https://qiskit.org/documentation/tutorials/optimization/1_quadratic_program.html?highlight=quadraticprogram) and [Qiskit reference](https://qiskit.org/documentation/stubs/qiskit.optimization.QuadraticProgram.html?highlight=quadraticprogram#qiskit.optimization.QuadraticProgram).\n",
    "\n",
    "**Note:** Ensure your variables are named `Wheat`, `Soybeans`, `Maize,` and `PushPull`. This is necessary for the grader to work."
   ]
  },
  {
   "cell_type": "code",
   "execution_count": 16,
   "metadata": {},
   "outputs": [],
   "source": [
    "def cropyield_quadratic_program():\n",
    "    cropyield = QuadraticProgram(name=\"Crop Yield\")\n",
    "    ##############################\n",
    "    # Put your implementation here\n",
    "    cropyield.integer_var(name=\"Wheat\", lowerbound=0, upperbound=1)\n",
    "    cropyield.integer_var(name=\"Soybeans\", lowerbound=0, upperbound=1)\n",
    "    cropyield.integer_var(name=\"Maize\", lowerbound=0, upperbound=1)\n",
    "    cropyield.integer_var(name=\"PushPull\", lowerbound = 0, upperbound = 1)\n",
    "    cropyield.maximize(\n",
    "    linear={\"Wheat\": 2,\"Soybeans\" : 1, \"Maize\":4},\n",
    "    quadratic={(\"Wheat\", \"Soybeans\"): 12/5, (\"Wheat\", \"Maize\"): 4, (\"Wheat\", \"PushPull\"): 4, (\"Soybeans\", \"Maize\"): 2, (\"Soybeans\", \"PushPull\"): 1,(\"Maize\", \"PushPull\"): 5},\n",
    "    )\n",
    "    cropyield.linear_constraint(linear={\"Wheat\": 1, \"Soybeans\": 1, \"Maize\" : 1, \"PushPull\" : 1}, sense=\"<=\", rhs=3)\n",
    "    #cropyield.quadratic_constraint(quadratic={(\"x_2\", \"x_3\"): 1}, sense=\">=\", rhs=1)\n",
    "\n",
    "    #\n",
    "    ##############################\n",
    "    return cropyield"
   ]
  },
  {
   "cell_type": "markdown",
   "metadata": {},
   "source": [
    "Once you feel your implementation is correct, you can grade your solution in the following cell."
   ]
  },
  {
   "cell_type": "code",
   "execution_count": 17,
   "metadata": {},
   "outputs": [
    {
     "name": "stdout",
     "output_type": "stream",
     "text": [
      "Submitting your answer for ex1/partB. Please wait...\n",
      "Congratulations 🎉! Your answer is correct and has been submitted.\n"
     ]
    }
   ],
   "source": [
    "# Execute this cell to grade your solution\n",
    "from qc_grader import grade_ex1b\n",
    "\n",
    "cropyield = cropyield_quadratic_program()\n",
    "grade_ex1b(cropyield)"
   ]
  },
  {
   "cell_type": "markdown",
   "metadata": {},
   "source": [
    "### Converting QuadraticPrograms"
   ]
  },
  {
   "cell_type": "markdown",
   "metadata": {},
   "source": [
    "If we want to estimate how many qubits this quadratic program requires, we can convert it to an Ising Model and print the `num_qubits` parameter. An [ising model](https://qiskit.org/documentation/apidoc/qiskit.optimization.applications.ising.html?highlight=ising) is a special system model type that is well suited for quantum computing. Though we will not be using an ising model explicitly, the algorithms and Qiskit classes we are using do this conversion internally."
   ]
  },
  {
   "cell_type": "code",
   "execution_count": 18,
   "metadata": {},
   "outputs": [
    {
     "name": "stdout",
     "output_type": "stream",
     "text": [
      "Number of qubits required is 6\n"
     ]
    }
   ],
   "source": [
    "# Estimate the number of qubits required\n",
    "ising_operations, _ = (\n",
    "    QuadraticProgramToQubo()\n",
    "    .convert(\n",
    "        cropyield,\n",
    "    )\n",
    "    .to_ising()\n",
    ")\n",
    "print(f\"Number of qubits required is {ising_operations.num_qubits}\")"
   ]
  },
  {
   "cell_type": "markdown",
   "metadata": {},
   "source": [
    "Even though quadratic programs are widely used in Qiskit, the algorithms we are going to use require binary variables. Qiskit provides an automated method for converting our integer variables into binary variables. The binary-only form is called a _Quadratic Unconstrained Binary Optimization_ problem, or `QUBO`. The conversion is done using `QuadraticProgramToQUBO` from the Qiskit optimization module. Every integer variable, and their associated constraints, are transformed into binary variables.\n",
    "\n",
    "Run the following code to see how the QUBO version of the cropyield problem looks. Notice how the quadratic becomes longer and more variables are added. This is to account for the bits in each variable, including the constraints. When we run our quantum algorithm to solve this QuadraticProgram, it is converted to a QUBO instance within the Qiskit algorith implementation, implicitly."
   ]
  },
  {
   "cell_type": "code",
   "execution_count": 19,
   "metadata": {},
   "outputs": [
    {
     "data": {
      "text/plain": [
       "\\ This file has been generated by DOcplex\n",
       "\\ ENCODING=ISO-8859-1\n",
       "\\Problem name: Crop Yield\n",
       "\n",
       "Minimize\n",
       " obj: - 160.400000000000 Wheat@0 - 159.400000000000 Soybeans@0\n",
       "      - 162.400000000000 Maize@0 - 158.400000000000 PushPull@0\n",
       "      - 158.400000000000 c0@int_slack@0 - 316.800000000000 c0@int_slack@1 + [\n",
       "      52.800000000000 Wheat@0^2 + 100.800000000000 Wheat@0*Soybeans@0\n",
       "      + 97.600000000000 Wheat@0*Maize@0 + 97.600000000000 Wheat@0*PushPull@0\n",
       "      + 105.600000000000 Wheat@0*c0@int_slack@0\n",
       "      + 211.200000000000 Wheat@0*c0@int_slack@1 + 52.800000000000 Soybeans@0^2\n",
       "      + 101.600000000000 Soybeans@0*Maize@0\n",
       "      + 103.600000000000 Soybeans@0*PushPull@0\n",
       "      + 105.600000000000 Soybeans@0*c0@int_slack@0\n",
       "      + 211.200000000000 Soybeans@0*c0@int_slack@1 + 52.800000000000 Maize@0^2\n",
       "      + 95.600000000000 Maize@0*PushPull@0\n",
       "      + 105.600000000000 Maize@0*c0@int_slack@0\n",
       "      + 211.200000000000 Maize@0*c0@int_slack@1 + 52.800000000000 PushPull@0^2\n",
       "      + 105.600000000000 PushPull@0*c0@int_slack@0\n",
       "      + 211.200000000000 PushPull@0*c0@int_slack@1\n",
       "      + 52.800000000000 c0@int_slack@0^2\n",
       "      + 211.200000000000 c0@int_slack@0*c0@int_slack@1\n",
       "      + 211.200000000000 c0@int_slack@1^2 ]/2 + 237.600000000000\n",
       "Subject To\n",
       "\n",
       "Bounds\n",
       " 0 <= Wheat@0 <= 1\n",
       " 0 <= Soybeans@0 <= 1\n",
       " 0 <= Maize@0 <= 1\n",
       " 0 <= PushPull@0 <= 1\n",
       " 0 <= c0@int_slack@0 <= 1\n",
       " 0 <= c0@int_slack@1 <= 1\n",
       "\n",
       "Binaries\n",
       " Wheat@0 Soybeans@0 Maize@0 PushPull@0 c0@int_slack@0 c0@int_slack@1\n",
       "End"
      ]
     },
     "execution_count": 19,
     "metadata": {},
     "output_type": "execute_result"
    }
   ],
   "source": [
    "QuadraticProgramToQubo().convert(cropyield)"
   ]
  },
  {
   "cell_type": "markdown",
   "metadata": {},
   "source": [
    "## Solving the Crop-Yield Problem using a Quantum Computer"
   ]
  },
  {
   "cell_type": "markdown",
   "metadata": {},
   "source": [
    "There are three ways to _run_ a quantum algorithm using Qiskit:\n",
    "1. on a simulator locally on your own machine\n",
    "2. on a simulator hosted in the cloud by IBM\n",
    "3. on an actual quantum computer accessible through IBM Quantum.\n",
    "\n",
    "All of these are called backends. In all cases, the _backend_ can easily be swapped for another as long as the simulator or device has appropriate resources (number of qubits etc.). In the code below, we show how to access different backends. We demonstrate this using the local Aer QASM simulator from Qiskit. The Aer QASM simulator models the physical properties of a real quantum computer so you, researchers, and developers can test their quantum computing code and algorithms before running on real devices."
   ]
  },
  {
   "cell_type": "code",
   "execution_count": 20,
   "metadata": {},
   "outputs": [],
   "source": [
    "# We will use the Aer provided QASM simulator\n",
    "backend = Aer.get_backend(\"qasm_simulator\")\n",
    "\n",
    "# Given we are using a simulator, we will fix the algorithm seed to ensure our results are reproducible\n",
    "algorithm_globals.random_seed = 271828"
   ]
  },
  {
   "cell_type": "markdown",
   "metadata": {},
   "source": [
    "We would like to compare our quantum solution to that obtained classically. Secondly, we also want to try different algorithms. The following three subsections show how these different methods for solving the Crop-Yield problem are implemented in Qiskit. The two algorithms used are the [_Quantum Approximate Optimization Algorithm_](https://qiskit.org/documentation/stubs/qiskit.algorithms.QAOA.html?highlight=qaoa#qiskit.algorithms.QAOA) `QAOA` and the [_Variational Quantum Eigensolver_](https://qiskit.org/documentation/stubs/qiskit.algorithms.VQE.html?highlight=vqe#qiskit.algorithms.VQE) `VQE`.\n",
    "\n",
    "Both of these algorithms are hybrid, in that they use a classical _optimizer_ to alter parameters that affect the quantum computation. The VQE algorithm is used to find the lowest eigenvalue of a matrix, which can describe a system to optimize. The QAOA also finds the lowest eigenvalue, but achieves this is a different way to VQE. Both are very popular algorithms, with varying applications and strengths."
   ]
  },
  {
   "cell_type": "markdown",
   "metadata": {},
   "source": [
    "### Classical Solution"
   ]
  },
  {
   "cell_type": "markdown",
   "metadata": {},
   "source": [
    "The classical solution to the crop-yield problem can easily be found using Numpy and Qiskit. The QUBO problem can be solved by finding the minimum eigenvalue of its underlying matrix representation. Fortunately, we don't have to know what this matrix looks like. We only need to pass it to a `MinimumEigensolver` and `MinimumEigenOptimizer`.\n",
    "\n",
    "The optimizer translates the provided problem into a parameterised representation which is then passed to the solver. By optimizing the paramters, the solver will eventually give the minimum eigenvalue for the parameterized representation and thus the solution to the original problem. Here we use a classical solver from NumPy, the `NumPyMinimumEigensolver`."
   ]
  },
  {
   "cell_type": "code",
   "execution_count": 21,
   "metadata": {},
   "outputs": [],
   "source": [
    "def get_classical_solution_for(quadprog: QuadraticProgram):\n",
    "    # Create solver\n",
    "    solver = NumPyMinimumEigensolver()\n",
    "\n",
    "    # Create optimizer for solver\n",
    "    optimizer = MinimumEigenOptimizer(solver)\n",
    "\n",
    "    # Return result from optimizer\n",
    "    return optimizer.solve(quadprog)"
   ]
  },
  {
   "cell_type": "markdown",
   "metadata": {},
   "source": [
    "If we execute the classical method for our crop-yield problem, we get a valid solution that maximises the yield."
   ]
  },
  {
   "cell_type": "code",
   "execution_count": 22,
   "metadata": {},
   "outputs": [
    {
     "name": "stdout",
     "output_type": "stream",
     "text": [
      "Solution found using the classical method:\n",
      "\n",
      "Maximum crop-yield is 19.0 tons\n",
      "Crops used are: \n",
      "\t1.0 ha of Wheat\n",
      "\t0.0 ha of Soybeans\n",
      "\t1.0 ha of Maize\n",
      "\t1.0 ha of PushPull\n"
     ]
    }
   ],
   "source": [
    "# Get classical result\n",
    "classical_result = get_classical_solution_for(cropyield)\n",
    "\n",
    "# Format and print result\n",
    "print(\"Solution found using the classical method:\\n\")\n",
    "print(f\"Maximum crop-yield is {classical_result.fval} tons\")\n",
    "print(f\"Crops used are: \")\n",
    "\n",
    "_crops = [v.name for v in cropyield.variables]\n",
    "for cropIndex, cropHectares in enumerate(classical_result.x):\n",
    "    print(f\"\\t{cropHectares} ha of {_crops[cropIndex]}\")"
   ]
  },
  {
   "cell_type": "markdown",
   "metadata": {},
   "source": [
    "### QAOA Solution"
   ]
  },
  {
   "cell_type": "markdown",
   "metadata": {},
   "source": [
    "To solve our problem using QAOA, we need only replace the classical_solver with a `QAOA` class instance. Now that we are running a quantum algorithm, we need to tell the solver where to execute the quantum component. We use a `QuantumInstance` to store the backend information. The QAOA is an iterative algorithm, and thus is run multiple times with different internal parameters. The parameters are tuned classically during the optimization step of the computation by `optimizer`. If we leave `optimizer` as `None`, our algorithms will use the default optimization algorithm. To determine how many iterations there are, we define a callback function that runs for each iteration and stores the number of evaluations thus far. At the end of our algorithm execution, we return the result and the number of iterations."
   ]
  },
  {
   "cell_type": "code",
   "execution_count": 23,
   "metadata": {},
   "outputs": [],
   "source": [
    "def get_QAOA_solution_for(\n",
    "    quadprog: QuadraticProgram, quantumInstance: QuantumInstance, optimizer=None,\n",
    "):\n",
    "    _eval_count = 0\n",
    "\n",
    "    def callback(eval_count, parameters, mean, std):\n",
    "        nonlocal _eval_count\n",
    "        _eval_count = eval_count\n",
    "\n",
    "    # Create solver\n",
    "    solver = QAOA(\n",
    "        optimizer=optimizer, quantum_instance=quantumInstance, callback=callback,\n",
    "    )\n",
    "\n",
    "    # Create optimizer for solver\n",
    "    optimizer = MinimumEigenOptimizer(solver)\n",
    "\n",
    "    # Get result from optimizer\n",
    "    result = optimizer.solve(quadprog)\n",
    "    return result, _eval_count"
   ]
  },
  {
   "cell_type": "markdown",
   "metadata": {},
   "source": [
    "If we execute the QAOA method for our crop-yield problem, we get the same result as the classical method, showing that 1) the quantum solution is correct and 2) that you now know how to use a quantum algorithm! 🌟"
   ]
  },
  {
   "cell_type": "code",
   "execution_count": 24,
   "metadata": {},
   "outputs": [
    {
     "name": "stdout",
     "output_type": "stream",
     "text": [
      "Solution found using the QAOA method:\n",
      "\n",
      "Maximum crop-yield is 19.0 tons\n",
      "Crops used are: \n",
      "\t1.0 ha of Wheat\n",
      "\t0.0 ha of Soybeans\n",
      "\t1.0 ha of Maize\n",
      "\t1.0 ha of PushPull\n",
      "\n",
      "The solution was found within 3 evaluations of QAOA.\n"
     ]
    }
   ],
   "source": [
    "# Create a QuantumInstance\n",
    "simulator_instance = QuantumInstance(\n",
    "    backend=backend,\n",
    "    seed_simulator=algorithm_globals.random_seed,\n",
    "    seed_transpiler=algorithm_globals.random_seed,\n",
    ")\n",
    "\n",
    "# Get QAOA result\n",
    "qaoa_result, qaoa_eval_count = get_QAOA_solution_for(cropyield, simulator_instance)\n",
    "\n",
    "# Format and print result\n",
    "print(\"Solution found using the QAOA method:\\n\")\n",
    "print(f\"Maximum crop-yield is {qaoa_result.fval} tons\")\n",
    "print(f\"Crops used are: \")\n",
    "for cropHectares, cropName in zip(qaoa_result.x, qaoa_result.variable_names):\n",
    "    print(f\"\\t{cropHectares} ha of {cropName}\")\n",
    "\n",
    "print(f\"\\nThe solution was found within {qaoa_eval_count} evaluations of QAOA.\")"
   ]
  },
  {
   "cell_type": "markdown",
   "metadata": {},
   "source": [
    "### VQE Solution"
   ]
  },
  {
   "cell_type": "markdown",
   "metadata": {},
   "source": [
    "The `VQE` algorithm works in a very similar way to the `QAOA`. Not only in a mathematical modelling and algorithmic perspective, but also programmatically. There is a quantum solver and a classical optimizer. The `VQE` instance is also iterative, and so we can measure how many iterations are needed to find a solution to the Crop-Yield problem."
   ]
  },
  {
   "cell_type": "code",
   "execution_count": 25,
   "metadata": {},
   "outputs": [],
   "source": [
    "def get_VQE_solution_for(\n",
    "    quadprog: QuadraticProgram, quantumInstance: QuantumInstance, optimizer=None,\n",
    "):\n",
    "    _eval_count = 0\n",
    "\n",
    "    def callback(eval_count, parameters, mean, std):\n",
    "        nonlocal _eval_count\n",
    "        _eval_count = eval_count\n",
    "\n",
    "    # Create solver and optimizer\n",
    "    solver = VQE(\n",
    "        optimizer=optimizer, quantum_instance=quantumInstance, callback=callback\n",
    "    )\n",
    "\n",
    "    # Create optimizer for solver\n",
    "    optimizer = MinimumEigenOptimizer(solver)\n",
    "\n",
    "    # Get result from optimizer\n",
    "    result = optimizer.solve(quadprog)\n",
    "    return result, _eval_count"
   ]
  },
  {
   "cell_type": "markdown",
   "metadata": {},
   "source": [
    "And we should get the exact same answer as before."
   ]
  },
  {
   "cell_type": "code",
   "execution_count": 26,
   "metadata": {},
   "outputs": [
    {
     "name": "stdout",
     "output_type": "stream",
     "text": [
      "Solution found using the VQE method:\n",
      "\n",
      "Maximum crop-yield is 19.0 tons\n",
      "Crops used are: \n",
      "\t1.0 ha of Wheat\n",
      "\t0.0 ha of Soybeans\n",
      "\t1.0 ha of Maize\n",
      "\t1.0 ha of PushPull\n",
      "\n",
      "The solution was found within 25 evaluations of VQE\n"
     ]
    }
   ],
   "source": [
    "# Create a QuantumInstance\n",
    "simulator_instance = QuantumInstance(\n",
    "    backend=backend,\n",
    "    seed_simulator=algorithm_globals.random_seed,\n",
    "    seed_transpiler=algorithm_globals.random_seed,\n",
    ")\n",
    "\n",
    "# Get VQE result\n",
    "vqe_result, vqe_eval_count = get_VQE_solution_for(cropyield, simulator_instance)\n",
    "\n",
    "# Format and print result\n",
    "print(\"Solution found using the VQE method:\\n\")\n",
    "print(f\"Maximum crop-yield is {vqe_result.fval} tons\")\n",
    "print(f\"Crops used are: \")\n",
    "for cropHectares, cropName in zip(vqe_result.x, vqe_result.variable_names):\n",
    "    print(f\"\\t{cropHectares} ha of {cropName}\")\n",
    "\n",
    "print(f\"\\nThe solution was found within {vqe_eval_count} evaluations of VQE\")"
   ]
  },
  {
   "cell_type": "markdown",
   "metadata": {},
   "source": [
    "### Exercise 1c: Classical and Quantum Computational Results"
   ]
  },
  {
   "cell_type": "markdown",
   "metadata": {},
   "source": [
    "From the above computations you received six results, the maximum crop-yield and the number of evaluations for three different methods. The maximum yield values should be the same. If your yield values aren't all the same, rerun the algorithms. Sometimes the optimization process can miss the correct answer because of the randomness used to initialize the algorithm parameters.\n",
    "\n",
    "Run the code cell below to see if the maximum yields you computed are correct."
   ]
  },
  {
   "cell_type": "code",
   "execution_count": 27,
   "metadata": {},
   "outputs": [
    {
     "name": "stdout",
     "output_type": "stream",
     "text": [
      "Submitting your answer for ex1/partC. Please wait...\n",
      "Congratulations 🎉! Your answer is correct and has been submitted.\n"
     ]
    }
   ],
   "source": [
    "from qc_grader import grade_ex1c\n",
    "\n",
    "max_yield_qaoa = qaoa_result.fval\n",
    "max_yield_vqe = vqe_result.fval\n",
    "\n",
    "grade_ex1c(tonnage_qaoa=max_yield_qaoa, tonnage_vqe=max_yield_vqe)"
   ]
  },
  {
   "cell_type": "markdown",
   "metadata": {},
   "source": [
    "_You could always verify your result with the classical method, though this is only possible here given the size of the problem. Larger problems become more difficult to verify._"
   ]
  },
  {
   "cell_type": "markdown",
   "metadata": {},
   "source": [
    "## Simulating a Real Quantum Computer for the Crop-Yield Problem"
   ]
  },
  {
   "cell_type": "markdown",
   "metadata": {},
   "source": [
    "Sometimes one would want to _simulate_ a real quantum computer to see how the actual hardware may impact the performance of the algorithm. All quantum computers have an underlying architecture, different noise characeristics, and error rates. These three aspects impact how well the algorithm can perform on a given deivce. To test the impact a given quantum computer has on the QAOA instance, we can utilize a _fake_ instance of the device in Qiskit to tell our simulator what parameters to use. In this example we will be simulating `ibmq_johannesburg`, a device named after the city of Johannesburg in South Africa."
   ]
  },
  {
   "cell_type": "code",
   "execution_count": 28,
   "metadata": {},
   "outputs": [],
   "source": [
    "fake_device = Fake.FakeJohannesburg()"
   ]
  },
  {
   "cell_type": "markdown",
   "metadata": {},
   "source": [
    "We can inspect what this device _looks_ like using the Qiskit Jupyter tools, shown below. You do not need to know about this structure to execute quantum programs on a device, but it is useful to visualize the parameters."
   ]
  },
  {
   "cell_type": "code",
   "execution_count": 29,
   "metadata": {},
   "outputs": [
    {
     "data": {
      "application/vnd.jupyter.widget-view+json": {
       "model_id": "3ba60071415c4add82483d3a29632f3b",
       "version_major": 2,
       "version_minor": 0
      },
      "text/plain": [
       "VBox(children=(HTML(value=\"<h1 style='color:#ffffff;background-color:#000000;padding-top: 1%;padding-bottom: 1…"
      ]
     },
     "metadata": {},
     "output_type": "display_data"
    },
    {
     "data": {
      "text/plain": [
       "<FakeJohannesburg('fake_johannesburg')>"
      ]
     },
     "execution_count": 29,
     "metadata": {},
     "output_type": "execute_result"
    }
   ],
   "source": [
    "import qiskit.tools.jupyter\n",
    "\n",
    "fake_device"
   ]
  },
  {
   "cell_type": "markdown",
   "metadata": {},
   "source": [
    "The three aforementioned components of a quantum computer are represented as a noise model, coupling map, and the basis gate set. The noise model is a representation of how the noise and errors in the computer behave. The coupling map and basis gate set are core to the architecture of the device. The coupling map represents how the physical qubits can interact whereas the basis gate set is analogous to the set of fundamental computatonal instructions we can use. You can see the coupling map in the above widget as the lines connecting each qubit in the architecture diagram.\n",
    "\n",
    "To simulate `ibmq_johannesburg`, we must pass these three components to our Aer simulator."
   ]
  },
  {
   "cell_type": "code",
   "execution_count": 30,
   "metadata": {},
   "outputs": [],
   "source": [
    "# Create the noise model, which contains the basis gate set\n",
    "noise_model = NoiseModel.from_backend(fake_device)\n",
    "\n",
    "# Get the coupling map\n",
    "coupling_map = fake_device.configuration().coupling_map"
   ]
  },
  {
   "cell_type": "markdown",
   "metadata": {},
   "source": [
    "Next we create a new `QuantumInstance` with these parameters"
   ]
  },
  {
   "cell_type": "code",
   "execution_count": 31,
   "metadata": {},
   "outputs": [],
   "source": [
    "fake_instance = QuantumInstance(\n",
    "    backend=backend,\n",
    "    basis_gates=noise_model.basis_gates,\n",
    "    coupling_map=coupling_map,\n",
    "    noise_model=noise_model,\n",
    "    seed_simulator=algorithm_globals.random_seed,\n",
    "    seed_transpiler=algorithm_globals.random_seed,\n",
    ")"
   ]
  },
  {
   "cell_type": "markdown",
   "metadata": {},
   "source": [
    "We can then execute the `QAOA` from before on this new _fake_ quantum device."
   ]
  },
  {
   "cell_type": "code",
   "execution_count": 32,
   "metadata": {},
   "outputs": [
    {
     "name": "stdout",
     "output_type": "stream",
     "text": [
      "Solution found using the QAOA method:\n",
      "\n",
      "Maximum crop-yield is 19.0 tons\n",
      "Crops used are: \n",
      "\t1.0 ha of Wheat\n",
      "\t0.0 ha of Soybeans\n",
      "\t1.0 ha of Maize\n",
      "\t1.0 ha of PushPull\n",
      "\n",
      "The solution was found within 3 evaluations of QAOA.\n"
     ]
    }
   ],
   "source": [
    "# Get QAOA result\n",
    "qaoa_result, qaoa_eval_count = get_QAOA_solution_for(cropyield, fake_instance)\n",
    "\n",
    "# Format and print result\n",
    "print(\"Solution found using the QAOA method:\\n\")\n",
    "print(f\"Maximum crop-yield is {qaoa_result.fval} tons\")\n",
    "print(f\"Crops used are: \")\n",
    "for cropHectares, cropName in zip(qaoa_result.x, qaoa_result.variable_names):\n",
    "    print(f\"\\t{cropHectares} ha of {cropName}\")\n",
    "\n",
    "print(f\"\\nThe solution was found within {qaoa_eval_count} evaluations of QAOA.\")"
   ]
  },
  {
   "cell_type": "markdown",
   "metadata": {},
   "source": [
    "### Scaling of the Quantum Solution vs Classical"
   ]
  },
  {
   "cell_type": "markdown",
   "metadata": {},
   "source": [
    "When we created our quadratic program for the crop-yield problem, we saw that the Ising Model required 6 qubits. We had constrained our problem such that we could only plant up to 1 hectare per crop. However, we could change the model so that we can plot 3 hectares per crop, upto our maximum available farm area of 3 hectares.\n",
    "\n",
    "How many qubits would this ising model require?\n",
    "\n",
    "---\n",
    "\n",
    "Furthermore, what if we had more land to farm? We know that this problem is NP-Hard and thus classical solutions are mostly found using heuristics. This is the core reason why quantum computers are promising to solve these kinds of problems. But what are the resource requirements for the quantum solution, with a larger farm and crops that can be planted in more hectares?\n",
    "\n",
    "To illustrate this, we've provided a function that returns the number of qubits required by the underlying Ising Model for the Crop-Yield Problem. We then see the estimated number of qubits needed for different problem parameters. Feel free to modify the variables being used to see how the qubit resource requirements change."
   ]
  },
  {
   "cell_type": "code",
   "execution_count": 33,
   "metadata": {
    "scrolled": true
   },
   "outputs": [
    {
     "name": "stdout",
     "output_type": "stream",
     "text": [
      "Optimizing a 10 ha farm with each crop taking up to 10 ha each, the computation is estimated to require 20 qubits.\n"
     ]
    }
   ],
   "source": [
    "# Function to estimate the number of qubits required\n",
    "def estimate_number_of_qubits_required_for(max_hectares_per_crop, hectares_available):\n",
    "    return int(\n",
    "        4 * np.ceil(np.log2(max_hectares_per_crop + 1))\n",
    "        + np.ceil(np.log2(hectares_available + 1))\n",
    "    )\n",
    "\n",
    "\n",
    "# Our new problem parameters\n",
    "hectares_available = 10\n",
    "max_hectares_per_crop = 10\n",
    "\n",
    "# Retrieving the number of qubits required\n",
    "number_of_qubits_required = estimate_number_of_qubits_required_for(\n",
    "    max_hectares_per_crop=max_hectares_per_crop, hectares_available=hectares_available\n",
    ")\n",
    "\n",
    "print(\n",
    "    f\"Optimizing a {hectares_available} ha farm with each crop taking up to {max_hectares_per_crop} ha each,\",\n",
    "    f\"the computation is estimated to require {number_of_qubits_required} qubits.\",\n",
    ")"
   ]
  },
  {
   "cell_type": "markdown",
   "metadata": {},
   "source": [
    "The number of qubits required is related to the constraints in the quadratic program and how the integer variables are converted to binary variables. In fact, the scaling of the number of qubits, as a function of the hectares available, is logarithmic in nature; owing to this conversion."
   ]
  },
  {
   "cell_type": "markdown",
   "metadata": {},
   "source": [
    "## Running on real quantum hardware"
   ]
  },
  {
   "cell_type": "markdown",
   "metadata": {},
   "source": [
    "To use the IBM Quantum platform is easy. First you need to load the account you enabled in the week 0 content. If you didn't complete this, follow this [quick guide](https://quantum-computing.ibm.com/lab/docs/iql/manage/account/ibmq) on connecting your IBM Quantum account with Qiskit in python and Jupyter."
   ]
  },
  {
   "cell_type": "code",
   "execution_count": 34,
   "metadata": {},
   "outputs": [
    {
     "data": {
      "text/plain": [
       "<AccountProvider for IBMQ(hub='ibm-q', group='open', project='main')>"
      ]
     },
     "execution_count": 34,
     "metadata": {},
     "output_type": "execute_result"
    }
   ],
   "source": [
    "IBMQ.load_account()"
   ]
  },
  {
   "cell_type": "markdown",
   "metadata": {},
   "source": [
    "IBM Quantum backends are accessed through a provider, which manages the devices to which you have access. For this challenge, you have access to the new `ibm_perth` quantum computer! Typically, you would find your provider details under your [IBM Quantum account details](https://quantum-computing.ibm.com/account). Under your account you can see the different hubs, groups, and projects you are a part of. Qiskit allows us to retrieve a provider using just the hub, group, and project as follows:\n",
    "\n",
    "```python\n",
    "provider = IBMQ.get_provider(hub=\"ibm-q\", group=\"open\", project=\"main\")\n",
    "```\n",
    "\n",
    "However, because we have given you special access for this challenge, we are going to retrive the provider using a different method. Execute the code cell below to retrieve the correct provider."
   ]
  },
  {
   "cell_type": "code",
   "execution_count": 35,
   "metadata": {},
   "outputs": [
    {
     "name": "stdout",
     "output_type": "stream",
     "text": [
      "Yay! The expected provider was found!\n"
     ]
    }
   ],
   "source": [
    "provider = None\n",
    "for prov in IBMQ.providers():\n",
    "    if (\n",
    "        \"iqc-africa-21\" in prov.credentials.hub\n",
    "        and \"q-challenge\" in prov.credentials.group\n",
    "        and \"ex1\" in prov.credentials.project\n",
    "    ):\n",
    "        # Correct provider found\n",
    "        provider = prov\n",
    "        \n",
    "if provider == None:\n",
    "    print(\"ERROR: The expected provider was not found!\")\n",
    "else:\n",
    "    print(\"Yay! The expected provider was found!\")"
   ]
  },
  {
   "cell_type": "markdown",
   "metadata": {},
   "source": [
    "If the above code cell returned an error, you may not yet have access to the real quantum computer. The list of participants is updated daily, so you may have to wait some time before the correct provider appears. If you need assistance, send a message to the challenge Slack channel [#challenge-africa-2021](https://qiskit.slack.com/archives/C02C8MKP153) and make sure to tag the admin team with [@africa_admin](#)."
   ]
  },
  {
   "cell_type": "markdown",
   "metadata": {},
   "source": [
    "------\n",
    "\n",
    "To retrieve a backend from the provider, one needs only request it by name. For example, we can request `ibm_perth` as follows."
   ]
  },
  {
   "cell_type": "code",
   "execution_count": 36,
   "metadata": {},
   "outputs": [],
   "source": [
    "backend_real = provider.get_backend(\"ibm_perth\")"
   ]
  },
  {
   "cell_type": "markdown",
   "metadata": {},
   "source": [
    "We can also list all backends available through a given backend. In this example we use the _open_ provider as it has access to all open devices and simulators, instead of the limited few for the challenge."
   ]
  },
  {
   "cell_type": "code",
   "execution_count": 37,
   "metadata": {},
   "outputs": [
    {
     "name": "stdout",
     "output_type": "stream",
     "text": [
      "ibmq_qasm_simulator\n",
      "ibmq_armonk\n",
      "ibmq_santiago\n",
      "ibmq_bogota\n",
      "ibmq_lima\n",
      "ibmq_belem\n",
      "ibmq_quito\n",
      "simulator_statevector\n",
      "simulator_mps\n",
      "simulator_extended_stabilizer\n",
      "simulator_stabilizer\n",
      "ibmq_manila\n"
     ]
    }
   ],
   "source": [
    "for _backend in IBMQ.get_provider(hub='ibm-q', group='open', project='main').backends():\n",
    "    print(_backend.name())"
   ]
  },
  {
   "cell_type": "markdown",
   "metadata": {},
   "source": [
    "Qiskit provides visual tools to view backend information in a jupyter notebook. To accomplish this, one needs to import the `jupyter` submodule and call the appropriate _magic comment_. With `qiskit_backend_overview` you can view all devices accessible by the current IBMQ account. Notice how it does not include simulators. Furthermore, you should see that all devices available through the _open group_ have at most 5 qubits. This is a problem for solving the crop-yield problem we created earlier, as we showed it requires 6 qubits.\n",
    "\n",
    "To demonstrate how a real quantum device is used, a smaller `QuadraticProgram` is provided, requiring a maximum of 4 qubits."
   ]
  },
  {
   "cell_type": "code",
   "execution_count": 38,
   "metadata": {},
   "outputs": [
    {
     "data": {
      "application/vnd.jupyter.widget-view+json": {
       "model_id": "5909c518d9414c3ea351f0ac247486f5",
       "version_major": 2,
       "version_minor": 0
      },
      "text/plain": [
       "VBox(children=(HTML(value=\"<h2 style ='color:#ffffff; background-color:#000000;padding-top: 1%; padding-bottom…"
      ]
     },
     "metadata": {},
     "output_type": "display_data"
    }
   ],
   "source": [
    "%qiskit_backend_overview"
   ]
  },
  {
   "cell_type": "markdown",
   "metadata": {},
   "source": [
    "<div class=\"alert alert-block alert-warning\">\n",
    "    \n",
    "If you want access to larger and more sophisticated quantum computers through IBM, see if your university or company is part of the [IBM Quantum Network](https://www.ibm.com/quantum-computing/network/members/). Researchers are institutions that are part of the [African Research Universities Alliance (ARUA)](https://arua.org.za/) can also apply for access through the University of the Witwatersrand, in South Africa; which is a member of the IBM Quantum Network. If you are a researcher, you can also apply for access through the [IBM Quantum Researchers Program](https://www.ibm.com/quantum-computing/researchers-program/). If you're a student at a highschool or university, you can ask your teachers or lecturers to apply for access through the [IBM Quantum Educators Program](https://www.ibm.com/quantum-computing/educators-program/).\n",
    "\n",
    "</div>"
   ]
  },
  {
   "cell_type": "markdown",
   "metadata": {},
   "source": [
    "Given that we have imported `qiskit.tools.jupyter`, Jupyter will now display a helpful widget when an IBMQ backend is displayed. We do not have to use a _magic comment_ here as the jupyter submodule defines how some variables are displayed in a jupyter notebook, without requiring a _magic comment_."
   ]
  },
  {
   "cell_type": "code",
   "execution_count": 39,
   "metadata": {},
   "outputs": [
    {
     "data": {
      "application/vnd.jupyter.widget-view+json": {
       "model_id": "3830123a3f5048dcb5cd4593d9a3c443",
       "version_major": 2,
       "version_minor": 0
      },
      "text/plain": [
       "VBox(children=(HTML(value=\"<h1 style='color:#ffffff;background-color:#000000;padding-top: 1%;padding-bottom: 1…"
      ]
     },
     "metadata": {},
     "output_type": "display_data"
    },
    {
     "data": {
      "text/plain": [
       "<IBMQBackend('ibm_perth') from IBMQ(hub='iqc-africa-21-4', group='q-challenge', project='ex1-recXsdH50myXnyKFk')>"
      ]
     },
     "execution_count": 39,
     "metadata": {},
     "output_type": "execute_result"
    }
   ],
   "source": [
    "backend_real"
   ]
  },
  {
   "cell_type": "markdown",
   "metadata": {},
   "source": [
    "We can create a new `QuantumInstance` object to contain our real quantum computer backend, similar to how we created one to manage our simulator. For real devices, there is an extra parameter we can set: `shots`. The output of a quantum computing algorithm is probabilistic. Therefore, we must execute the quantum computation multiple times, sampling the outputs to estimate their probabilities. The number of `shots` is the number of executions of the quantum computation. Here we set out `QuantumInstance` to use the least busy backend with 2048 shots."
   ]
  },
  {
   "cell_type": "code",
   "execution_count": 40,
   "metadata": {},
   "outputs": [],
   "source": [
    "quantum_instance_real = QuantumInstance(backend_real, shots=2048)"
   ]
  },
  {
   "cell_type": "markdown",
   "metadata": {},
   "source": [
    "The VQE algorithm and QAOA are iterative, meaning that they incorporate a classical-quantum loop which repeats certain computations, _hopefully_ converging to a valid solution. In each iteration, or evaluation, the quantum backend will execute the quantum operations 2048 times. Each shot is quite fast, so we do not have to worry about a significant increase in processing time by using more shots."
   ]
  },
  {
   "cell_type": "markdown",
   "metadata": {},
   "source": [
    "----\n",
    "We now define our small crop-yield problem, which only requires 4 qubits. In this example, only Wheat and Maize are used. The model is altered to illustrate the impact of growing too much of a single crop, with the yield decreasing as the number of hectares of a single crop is increased. However, utilizing both wheat and maize increases yield, showing the benefits of intercropping.\n",
    "\n",
    "**NB:** The maximum number of hectares available is 4, but given that the model would never exceed this limit, the linear constraint defining the maximum number of hectares is not included. This reduces the number of qubits required from 6 to 4."
   ]
  },
  {
   "cell_type": "code",
   "execution_count": 41,
   "metadata": {},
   "outputs": [
    {
     "name": "stdout",
     "output_type": "stream",
     "text": [
      "\\ This file has been generated by DOcplex\n",
      "\\ ENCODING=ISO-8859-1\n",
      "\\Problem name: Small Crop-Yield\n",
      "\n",
      "Maximize\n",
      " obj: 3 Wheat + 3 Maize + [ - 4 Wheat^2 + 2 Wheat*Maize - 4 Maize^2 ]/2\n",
      "Subject To\n",
      "\n",
      "Bounds\n",
      "       Wheat <= 2\n",
      "       Maize <= 2\n",
      "\n",
      "Generals\n",
      " Wheat Maize\n",
      "End\n",
      "\n"
     ]
    }
   ],
   "source": [
    "# Create a small crop-yield example quadratic program\n",
    "cropyield_small = QuadraticProgram(name=\"Small Crop-Yield\")\n",
    "\n",
    "# Add two variables, indicating whether we grow 0, 1, or 2 hectares for two different crops\n",
    "cropyield_small.integer_var(lowerbound=0, upperbound=2, name=\"Wheat\")\n",
    "cropyield_small.integer_var(lowerbound=0, upperbound=2, name=\"Maize\")\n",
    "\n",
    "# Add the objective function defining the yield in tonnes\n",
    "cropyield_small.maximize(\n",
    "    linear={\"Wheat\": 3, \"Maize\": 3},\n",
    "    quadratic={(\"Maize\", \"Wheat\"): 1, (\"Maize\", \"Maize\"): -2, (\"Wheat\", \"Wheat\"): -2},\n",
    ")\n",
    "\n",
    "# This linear constraint is not used as the model never reaches this. This is because the\n",
    "# sum of the upperbounds on both variables is 4 already. If this constraint is applied, the\n",
    "# model would require 6 qubits instead of 4.\n",
    "# cropyield_small.linear_constraint(linear={\"Wheat\": 1, \"Maize\": 1}, sense=\"<=\", rhs=4)\n",
    "\n",
    "print(cropyield_small)"
   ]
  },
  {
   "cell_type": "markdown",
   "metadata": {},
   "source": [
    "Here we verify that our small crop-yield problem requires only 4 qubits."
   ]
  },
  {
   "cell_type": "code",
   "execution_count": 42,
   "metadata": {},
   "outputs": [
    {
     "name": "stdout",
     "output_type": "stream",
     "text": [
      "Number of qubits required is 4\n"
     ]
    }
   ],
   "source": [
    "# Estimate the number of qubits required\n",
    "ising_operations_small, _ = (\n",
    "    QuadraticProgramToQubo()\n",
    "    .convert(\n",
    "        cropyield_small,\n",
    "    )\n",
    "    .to_ising()\n",
    ")\n",
    "print(f\"Number of qubits required is {ising_operations_small.num_qubits}\")"
   ]
  },
  {
   "cell_type": "markdown",
   "metadata": {},
   "source": [
    "### Exercise 1d: Submitting a job to a real quantum computer"
   ]
  },
  {
   "cell_type": "markdown",
   "metadata": {},
   "source": [
    "Now that we know the problem can be run on our chosen device, we can execute the VQE algorithm. In this case we will set the optimizer, with a maximum number of iterations of 1, so that we do not occupy the device for too long. Our answer will be incorrect, but we only want to see how to send a quantum program to a real quantum computer."
   ]
  },
  {
   "cell_type": "code",
   "execution_count": 43,
   "metadata": {},
   "outputs": [
    {
     "name": "stderr",
     "output_type": "stream",
     "text": [
      "/opt/conda/lib/python3.8/site-packages/qiskit/utils/run_circuits.py:695: UserWarning: max_credits is not a recognized runtime option and may be ignored by the backend.\n",
      "  return backend.run(circuits, **run_kwargs)\n"
     ]
    }
   ],
   "source": [
    "# Create our optimizer\n",
    "optimizer = COBYLA(maxiter=1)\n",
    "\n",
    "## Get result from real device with VQE\n",
    "vqe_result_real, vqe_eval_count_real = get_VQE_solution_for(\n",
    "    cropyield_small, quantum_instance_real, optimizer=optimizer\n",
    ")"
   ]
  },
  {
   "cell_type": "markdown",
   "metadata": {},
   "source": [
    "Qiskit uses `jobs` to track computations and their results on remote devices and simulators. We can query the backend object for the jobs it received, which would be those created by the VQE algorithm."
   ]
  },
  {
   "cell_type": "code",
   "execution_count": 44,
   "metadata": {},
   "outputs": [
    {
     "name": "stdout",
     "output_type": "stream",
     "text": [
      "VQE job created at 2021-09-09 09:49:47.700000+00:00 and has a job id of 6139d8bba92e5070d610b81a\n"
     ]
    }
   ],
   "source": [
    "# Retrieve the VQE job sent\n",
    "job_real = backend_real.jobs()[0]\n",
    "\n",
    "print(f\"VQE job created at {job_real.creation_date()} and has a job id of {job_real.job_id()}\")"
   ]
  },
  {
   "cell_type": "markdown",
   "metadata": {},
   "source": [
    "Put the job id for your the above job into the cell below and execute the code cell."
   ]
  },
  {
   "cell_type": "code",
   "execution_count": 46,
   "metadata": {},
   "outputs": [
    {
     "name": "stdout",
     "output_type": "stream",
     "text": [
      "Submitting your answer for ex1/partD. Please wait...\n",
      "Congratulations 🎉! Your answer is correct and has been submitted.\n"
     ]
    }
   ],
   "source": [
    "from qc_grader import grade_ex1d\n",
    "\n",
    "job_id = '6139d8bba92e5070d610b81a'\n",
    "\n",
    "grade_ex1d(job_id)"
   ]
  },
  {
   "cell_type": "markdown",
   "metadata": {},
   "source": [
    "You have now completed the first lab of the IBM Quantum Challenge Africa 2021! Make sure that you are on the [Qiskit Slack channel](https://ibm.co/Africa_Slack) so you can ask questions and talk to other participants. There are two more labs left in the challenge, which are more difficult than this introductory lab, covering quantum computing for finance and HIV."
   ]
  },
  {
   "cell_type": "markdown",
   "metadata": {},
   "source": [
    "## References"
   ]
  },
  {
   "cell_type": "markdown",
   "metadata": {},
   "source": [
    "[1] A. A. Nel, ‘Crop rotation in the summer rainfall area of South Africa’, South African Journal of Plant and Soil, vol. 22, no. 4, pp. 274–278, Jan. 2005, doi: 10.1080/02571862.2005.10634721.\n",
    "\n",
    "[2] H. Ritchie and M. Roser, ‘Crop yields’, Our World in Data, 2013, [Online]. Available: https://ourworldindata.org/crop-yields.\n",
    "\n",
    "[3] G. Brion, ‘Controlling Pests with Plants: The power of intercropping’, UVM Food Feed, Jan. 09, 2014. https://learn.uvm.edu/foodsystemsblog/2014/01/09/controlling-pests-with-plants-the-power-of-intercropping/ (accessed Feb. 15, 2021).\n",
    "\n",
    "[4] N. O. Ogot, J. O. Pittchar, C. A. O. Midega, and Z. R. Khan, ‘Attributes of push-pull technology in enhancing food and nutrition security’, African Journal of Agriculture and Food Security, vol. 6, pp. 229–242, Mar. 2018."
   ]
  },
  {
   "cell_type": "code",
   "execution_count": 47,
   "metadata": {},
   "outputs": [
    {
     "name": "stderr",
     "output_type": "stream",
     "text": [
      "/opt/conda/lib/python3.8/site-packages/qiskit/aqua/__init__.py:86: DeprecationWarning: The package qiskit.aqua is deprecated. It was moved/refactored to qiskit-terra For more information see <https://github.com/Qiskit/qiskit-aqua/blob/main/README.md#migration-guide>\n",
      "  warn_package('aqua', 'qiskit-terra')\n"
     ]
    },
    {
     "data": {
      "text/html": [
       "<h3>Version Information</h3><table><tr><th>Qiskit Software</th><th>Version</th></tr><tr><td><code>qiskit-terra</code></td><td>0.18.1</td></tr><tr><td><code>qiskit-aer</code></td><td>0.8.2</td></tr><tr><td><code>qiskit-ignis</code></td><td>0.6.0</td></tr><tr><td><code>qiskit-ibmq-provider</code></td><td>0.16.0</td></tr><tr><td><code>qiskit-aqua</code></td><td>0.9.4</td></tr><tr><td><code>qiskit</code></td><td>0.29.0</td></tr><tr><td><code>qiskit-nature</code></td><td>0.1.5</td></tr><tr><td><code>qiskit-finance</code></td><td>0.2.0</td></tr><tr><td><code>qiskit-optimization</code></td><td>0.2.1</td></tr><tr><td><code>qiskit-machine-learning</code></td><td>0.2.0</td></tr><tr><th>System information</th></tr><tr><td>Python</td><td>3.8.10 | packaged by conda-forge | (default, May 11 2021, 07:01:05) \n",
       "[GCC 9.3.0]</td></tr><tr><td>OS</td><td>Linux</td></tr><tr><td>CPUs</td><td>8</td></tr><tr><td>Memory (Gb)</td><td>31.400043487548828</td></tr><tr><td colspan='2'>Thu Sep 09 09:50:20 2021 UTC</td></tr></table>"
      ],
      "text/plain": [
       "<IPython.core.display.HTML object>"
      ]
     },
     "metadata": {},
     "output_type": "display_data"
    },
    {
     "data": {
      "text/html": [
       "<div style='width: 100%; background-color:#d5d9e0;padding-left: 10px; padding-bottom: 10px; padding-right: 10px; padding-top: 5px'><h3>This code is a part of Qiskit</h3><p>&copy; Copyright IBM 2017, 2021.</p><p>This code is licensed under the Apache License, Version 2.0. You may<br>obtain a copy of this license in the LICENSE.txt file in the root directory<br> of this source tree or at http://www.apache.org/licenses/LICENSE-2.0.<p>Any modifications or derivative works of this code must retain this<br>copyright notice, and modified files need to carry a notice indicating<br>that they have been altered from the originals.</p></div>"
      ],
      "text/plain": [
       "<IPython.core.display.HTML object>"
      ]
     },
     "metadata": {},
     "output_type": "display_data"
    }
   ],
   "source": [
    "import qiskit.tools.jupyter\n",
    "\n",
    "%qiskit_version_table\n",
    "%qiskit_copyright"
   ]
  },
  {
   "cell_type": "code",
   "execution_count": null,
   "metadata": {},
   "outputs": [],
   "source": []
  }
 ],
 "metadata": {
  "kernelspec": {
   "display_name": "Qiskit v0.29.0",
   "language": "python",
   "name": "python3"
  },
  "language_info": {
   "codemirror_mode": {
    "name": "ipython",
    "version": 3
   },
   "file_extension": ".py",
   "mimetype": "text/x-python",
   "name": "python",
   "nbconvert_exporter": "python",
   "pygments_lexer": "ipython3",
   "version": "3.8.10"
  },
  "toc": {
   "base_numbering": 1,
   "nav_menu": {},
   "number_sections": true,
   "sideBar": true,
   "skip_h1_title": false,
   "title_cell": "Table of Contents",
   "title_sidebar": "Contents",
   "toc_cell": false,
   "toc_position": {
    "height": "calc(100% - 180px)",
    "left": "10px",
    "top": "150px",
    "width": "195px"
   },
   "toc_section_display": true,
   "toc_window_display": true
  },
  "varInspector": {
   "cols": {
    "lenName": 16,
    "lenType": 16,
    "lenVar": 40
   },
   "kernels_config": {
    "python": {
     "delete_cmd_postfix": "",
     "delete_cmd_prefix": "del ",
     "library": "var_list.py",
     "varRefreshCmd": "print(var_dic_list())"
    },
    "r": {
     "delete_cmd_postfix": ") ",
     "delete_cmd_prefix": "rm(",
     "library": "var_list.r",
     "varRefreshCmd": "cat(var_dic_list()) "
    }
   },
   "oldHeight": 676.85,
   "position": {
    "height": "698.85px",
    "left": "2014px",
    "right": "20px",
    "top": "158px",
    "width": "477px"
   },
   "types_to_exclude": [
    "module",
    "function",
    "builtin_function_or_method",
    "instance",
    "_Feature"
   ],
   "varInspector_section_display": "block",
   "window_display": false
  },
  "widgets": {
   "application/vnd.jupyter.widget-state+json": {
    "state": {
     "00d13c06b4594a0b97f97c4511eb8fcc": {
      "model_module": "@jupyter-widgets/controls",
      "model_module_version": "1.5.0",
      "model_name": "VBoxModel",
      "state": {
       "children": [
        "IPY_MODEL_5c3c303cb64f4b778e7f9b7e8183a4f7",
        "IPY_MODEL_92464f121271424697cf09508f44dd96",
        "IPY_MODEL_c4a8c916b1bb41038a18ff0cd0624ba6",
        "IPY_MODEL_c1e75582f5d34b21b42eb8e534f545e3",
        "IPY_MODEL_21dba41fcefb4c029b07129f1d6c346b",
        "IPY_MODEL_67c86a8b882e4a0fb65da9728ad6e73d",
        "IPY_MODEL_293d7a90edb14bd59be89f4b967d513b",
        "IPY_MODEL_85e2724f990c448485f8166add04f217",
        "IPY_MODEL_9a3af98a2d7a47cca99568bbb618245a",
        "IPY_MODEL_ce891f1c81a547ee8bb9777a7ae72f27"
       ],
       "layout": "IPY_MODEL_abf7ddbc955a4415b88c683c8a893b1f"
      }
     },
     "015aab9b5ccb45bf8b3b0a2d8661580e": {
      "model_module": "@jupyter-widgets/base",
      "model_module_version": "1.2.0",
      "model_name": "LayoutModel",
      "state": {
       "overflow_x": "scroll"
      }
     },
     "01b09fa8c9154910ac4777983d159c92": {
      "model_module": "@jupyter-widgets/base",
      "model_module_version": "1.2.0",
      "model_name": "LayoutModel",
      "state": {
       "margin": "0px 0px 0px 0px"
      }
     },
     "0281e59fe4234517a1f8b334c638c955": {
      "model_module": "@jupyter-widgets/controls",
      "model_module_version": "1.5.0",
      "model_name": "HTMLModel",
      "state": {
       "layout": "IPY_MODEL_0d56d1b1050746fe827aee6317badc88",
       "style": "IPY_MODEL_432686d60f7c4b7da8bee2437fc84db7",
       "value": "<h5>0.0083</h5>"
      }
     },
     "02a2796ade734b38a30820cdab187dc4": {
      "model_module": "@jupyter-widgets/controls",
      "model_module_version": "1.5.0",
      "model_name": "DescriptionStyleModel",
      "state": {
       "description_width": ""
      }
     },
     "033d2173c3844cb4a5373f16af8e7f34": {
      "model_module": "@jupyter-widgets/base",
      "model_module_version": "1.2.0",
      "model_name": "LayoutModel",
      "state": {
       "max_height": "620px"
      }
     },
     "03a09fe143144f63a26ca416c3d2c878": {
      "model_module": "@jupyter-widgets/base",
      "model_module_version": "1.2.0",
      "model_name": "LayoutModel",
      "state": {
       "margin": "10px 0px 0px 0px"
      }
     },
     "03f466e7a474437aaa55f3b27e9fba3e": {
      "model_module": "@jupyter-widgets/controls",
      "model_module_version": "1.5.0",
      "model_name": "DescriptionStyleModel",
      "state": {
       "description_width": ""
      }
     },
     "043a93be76c9474e9023f33df3260fe6": {
      "model_module": "@jupyter-widgets/base",
      "model_module_version": "1.2.0",
      "model_name": "LayoutModel",
      "state": {
       "max_width": "180px"
      }
     },
     "04902aee6cb545da8671d1130b129eb4": {
      "model_module": "@jupyter-widgets/controls",
      "model_module_version": "1.5.0",
      "model_name": "DescriptionStyleModel",
      "state": {
       "description_width": ""
      }
     },
     "04cfe89d639b4830a965db7cf17b3f21": {
      "model_module": "@jupyter-widgets/controls",
      "model_module_version": "1.5.0",
      "model_name": "IntProgressModel",
      "state": {
       "layout": "IPY_MODEL_126485bb3a424e4eb2304ed15cc763ee",
       "max": 50,
       "style": "IPY_MODEL_95d3e49627964578a0082bafc9f912a5",
       "value": 1
      }
     },
     "04d97e290f0048e4a1bdd5e18af64770": {
      "model_module": "@jupyter-widgets/base",
      "model_module_version": "1.2.0",
      "model_name": "LayoutModel",
      "state": {
       "align_items": "center",
       "display": "flex-inline"
      }
     },
     "054283a67b5045f79fb1e6369e66d65d": {
      "model_module": "@jupyter-widgets/controls",
      "model_module_version": "1.5.0",
      "model_name": "DescriptionStyleModel",
      "state": {
       "description_width": ""
      }
     },
     "068b3ec832eb4562bc7e93c0a3c5bc33": {
      "model_module": "@jupyter-widgets/controls",
      "model_module_version": "1.5.0",
      "model_name": "DescriptionStyleModel",
      "state": {
       "description_width": ""
      }
     },
     "072bffee6a734a5da20c37afcc6bf1df": {
      "model_module": "@jupyter-widgets/controls",
      "model_module_version": "1.5.0",
      "model_name": "DescriptionStyleModel",
      "state": {
       "description_width": ""
      }
     },
     "0835f0c823cf4eec82e14efa7418c59f": {
      "model_module": "@jupyter-widgets/controls",
      "model_module_version": "1.5.0",
      "model_name": "DescriptionStyleModel",
      "state": {
       "description_width": ""
      }
     },
     "086d35f74ba84ac49239571f08cea88d": {
      "model_module": "@jupyter-widgets/controls",
      "model_module_version": "1.5.0",
      "model_name": "HTMLModel",
      "state": {
       "layout": "IPY_MODEL_1044f4b2af644d33b58a3075761ac610",
       "style": "IPY_MODEL_d8c44ddc146a4d3c90438c937e28a946",
       "value": "<h5>32</h5>"
      }
     },
     "087e3cb4c23242b3a303bb8bbd5f92cf": {
      "model_module": "@jupyter-widgets/controls",
      "model_module_version": "1.5.0",
      "model_name": "HTMLModel",
      "state": {
       "layout": "IPY_MODEL_015aab9b5ccb45bf8b3b0a2d8661580e",
       "style": "IPY_MODEL_227f503594374ec388f908523537bf04",
       "value": "job has successfully run"
      }
     },
     "09a994f098e84b0488ec72e39609ef12": {
      "model_module": "@jupyter-widgets/base",
      "model_module_version": "1.2.0",
      "model_name": "LayoutModel",
      "state": {
       "justify_content": "center",
       "max_width": "250px",
       "min_width": "250px"
      }
     },
     "0a0d1c82c6b042f5b43d7eb7105cb16f": {
      "model_module": "@jupyter-widgets/base",
      "model_module_version": "1.2.0",
      "model_name": "LayoutModel",
      "state": {
       "max_width": "700px",
       "min_width": "700px"
      }
     },
     "0b91605f55eb4e208ae196792df122ae": {
      "model_module": "@jupyter-widgets/controls",
      "model_module_version": "1.5.0",
      "model_name": "DescriptionStyleModel",
      "state": {
       "description_width": ""
      }
     },
     "0bf9011608b6455887c5d8eda63e4a78": {
      "model_module": "@jupyter-widgets/base",
      "model_module_version": "1.2.0",
      "model_name": "LayoutModel",
      "state": {
       "justify_content": "center"
      }
     },
     "0c4d7ebddcbb4c07ae35579218458fff": {
      "model_module": "@jupyter-widgets/output",
      "model_module_version": "1.0.0",
      "model_name": "OutputModel",
      "state": {
       "layout": "IPY_MODEL_04d97e290f0048e4a1bdd5e18af64770",
       "outputs": [
        {
         "data": {
          "image/png": "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\n",
          "text/plain": "<Figure size 792x648 with 5 Axes>"
         },
         "metadata": {},
         "output_type": "display_data"
        }
       ]
      }
     },
     "0c93bf33fb624ead8ef078a9b29c0c99": {
      "model_module": "@jupyter-widgets/controls",
      "model_module_version": "1.5.0",
      "model_name": "DescriptionStyleModel",
      "state": {
       "description_width": ""
      }
     },
     "0d56d1b1050746fe827aee6317badc88": {
      "model_module": "@jupyter-widgets/base",
      "model_module_version": "1.2.0",
      "model_name": "LayoutModel",
      "state": {}
     },
     "0dd12459154c49498f9ae4e75feb198b": {
      "model_module": "@jupyter-widgets/base",
      "model_module_version": "1.2.0",
      "model_name": "LayoutModel",
      "state": {
       "max_width": "180px"
      }
     },
     "0f61798fa60646b3ba75b186d98da7b0": {
      "model_module": "@jupyter-widgets/base",
      "model_module_version": "1.2.0",
      "model_name": "LayoutModel",
      "state": {
       "align_items": "center",
       "display": "flex-inline"
      }
     },
     "0f9cf7fbdad148fe9c388d51b5d6f6b5": {
      "model_module": "@jupyter-widgets/controls",
      "model_module_version": "1.5.0",
      "model_name": "HTMLModel",
      "state": {
       "layout": "IPY_MODEL_1366e83a41154627951b405ce3ed49bd",
       "style": "IPY_MODEL_4d11914a02474ca0b633aae3247493ee",
       "value": "<h5>32</h5>"
      }
     },
     "0fa49a70d02346ac936aaca58067e16d": {
      "model_module": "@jupyter-widgets/base",
      "model_module_version": "1.2.0",
      "model_name": "LayoutModel",
      "state": {
       "margin": "0px 0px 0px 37px",
       "width": "600px"
      }
     },
     "1044f4b2af644d33b58a3075761ac610": {
      "model_module": "@jupyter-widgets/base",
      "model_module_version": "1.2.0",
      "model_name": "LayoutModel",
      "state": {
       "justify_content": "center"
      }
     },
     "104b7e595b584b549d86727caea84b67": {
      "model_module": "@jupyter-widgets/base",
      "model_module_version": "1.2.0",
      "model_name": "LayoutModel",
      "state": {
       "justify_content": "center"
      }
     },
     "104f679467e541a7815785747f1da26f": {
      "model_module": "@jupyter-widgets/controls",
      "model_module_version": "1.5.0",
      "model_name": "DescriptionStyleModel",
      "state": {
       "description_width": ""
      }
     },
     "109d29d6398a430987fe9cbfd517cf5b": {
      "model_module": "@jupyter-widgets/controls",
      "model_module_version": "1.5.0",
      "model_name": "HTMLModel",
      "state": {
       "layout": "IPY_MODEL_573227bd7b19421db92430cbbb7bda86",
       "style": "IPY_MODEL_f29ce7e4fdb8424a97189ce6b4a7b861",
       "value": "<h5>0.0208</h5>"
      }
     },
     "1120030bd1b84375ba373d972ba67e50": {
      "model_module": "@jupyter-widgets/base",
      "model_module_version": "1.2.0",
      "model_name": "LayoutModel",
      "state": {
       "align_items": "center",
       "justify_content": "center",
       "margin": "0px 0px 0px 0px",
       "max_height": "250px",
       "max_width": "250px",
       "min_height": "250px",
       "min_width": "250px"
      }
     },
     "126485bb3a424e4eb2304ed15cc763ee": {
      "model_module": "@jupyter-widgets/base",
      "model_module_version": "1.2.0",
      "model_name": "LayoutModel",
      "state": {
       "max_width": "180px"
      }
     },
     "1266745a7cf94e52b3f8bdbf9937fe3f": {
      "model_module": "@jupyter-widgets/controls",
      "model_module_version": "1.5.0",
      "model_name": "GridBoxModel",
      "state": {
       "children": [
        "IPY_MODEL_14400ff553754f8983ed4fd7ea5598f8",
        "IPY_MODEL_34ffb7fdae714c588d1e94cf28a63105",
        "IPY_MODEL_c6609ad470ea482380ad5ff990e71327",
        "IPY_MODEL_5ce84463151b471a87cc58f6e847bfd9"
       ],
       "layout": "IPY_MODEL_52b1121b4f2c46ebaa075735da6842bb"
      }
     },
     "12b0461e580a42779d5c137155896023": {
      "model_module": "@jupyter-widgets/base",
      "model_module_version": "1.2.0",
      "model_name": "LayoutModel",
      "state": {}
     },
     "130c856fc64c404da69d49ce0a5dad21": {
      "model_module": "@jupyter-widgets/controls",
      "model_module_version": "1.5.0",
      "model_name": "VBoxModel",
      "state": {
       "children": [
        "IPY_MODEL_d57e51c8ba4842a4a3c430fbde72b92f",
        "IPY_MODEL_e6f92091632e46579f16ad75e264f152",
        "IPY_MODEL_d27b09c2842442a380e2b238c216a3fb",
        "IPY_MODEL_561b86b6be5747088306db78eb87a5db",
        "IPY_MODEL_bdc5117758c1477094c97760c4afc4c1",
        "IPY_MODEL_91a7b01c724f465ca26bbc87abadb96e",
        "IPY_MODEL_3aa4dee3685742f2962ee0e7afde2617",
        "IPY_MODEL_9d53a4f88ac8494bae12776553f31603",
        "IPY_MODEL_e21f74fead5a476ab8d121287acced58",
        "IPY_MODEL_109d29d6398a430987fe9cbfd517cf5b"
       ],
       "layout": "IPY_MODEL_9ecd95ea415c4e7f972dad347bf7395c"
      }
     },
     "13238e2824854dbe81f5be8b9bb87951": {
      "model_module": "@jupyter-widgets/controls",
      "model_module_version": "1.5.0",
      "model_name": "DescriptionStyleModel",
      "state": {
       "description_width": ""
      }
     },
     "134a34ad3b39418aac4763cffbced8ae": {
      "model_module": "@jupyter-widgets/controls",
      "model_module_version": "1.5.0",
      "model_name": "HTMLModel",
      "state": {
       "layout": "IPY_MODEL_c53952ce9cf54dc88d8adb1ce7fd798c",
       "style": "IPY_MODEL_39108906ed8a4384b7221e07b244d185",
       "value": "<table><style>\ntable {\n    border-collapse: collapse;\n    width: auto;\n}\n\nth, td {\n    text-align: left;\n    padding: 8px;\n}\n\ntr:nth-child(even) {background-color: #f6f6f6;};\n</style><tr><th></th><th>Type</th><th>Gate error</th></tr><tr><td><font style='font-weight:bold'>cx2_1</font></td><td>cx</td><td>0.01158</td></tr><tr><td><font style='font-weight:bold'>cx1_2</font></td><td>cx</td><td>0.01158</td></tr><tr><td><font style='font-weight:bold'>cx0_1</font></td><td>cx</td><td>0.00568</td></tr><tr><td><font style='font-weight:bold'>cx1_0</font></td><td>cx</td><td>0.00568</td></tr></table>"
      }
     },
     "1351a6199e11416791defcc2b053d758": {
      "model_module": "@jupyter-widgets/controls",
      "model_module_version": "1.5.0",
      "model_name": "HTMLModel",
      "state": {
       "layout": "IPY_MODEL_c377ce60918c4ed9bd115cfdb7fce973",
       "style": "IPY_MODEL_e14eb7c49171420995e069528065a285",
       "value": "<h5>Message</h5>"
      }
     },
     "1366e83a41154627951b405ce3ed49bd": {
      "model_module": "@jupyter-widgets/base",
      "model_module_version": "1.2.0",
      "model_name": "LayoutModel",
      "state": {
       "justify_content": "center"
      }
     },
     "13d77017e0c24915b533d44ffc02529c": {
      "model_module": "@jupyter-widgets/controls",
      "model_module_version": "1.5.0",
      "model_name": "DescriptionStyleModel",
      "state": {
       "description_width": ""
      }
     },
     "13fb8e1195b4460ba5edb54b3c3a11ce": {
      "model_module": "@jupyter-widgets/controls",
      "model_module_version": "1.5.0",
      "model_name": "HTMLModel",
      "state": {
       "layout": "IPY_MODEL_ddbcf3d756074c4580e988029e533eb0",
       "style": "IPY_MODEL_da8cdad7a4054db3a12d4a3167554d38",
       "value": "<table><style>\ntable {\n    border-collapse: collapse;\n    width: auto;\n}\n\nth, td {\n    text-align: left;\n    padding: 8px;\n}\n\ntr:nth-child(even) {background-color: #f6f6f6;};\n</style><tr><th></th><th>Type</th><th>Gate error</th></tr><tr><td><font style='font-weight:bold'>cx3_5</font></td><td>cx</td><td>0.0082</td></tr><tr><td><font style='font-weight:bold'>cx5_3</font></td><td>cx</td><td>0.0082</td></tr><tr><td><font style='font-weight:bold'>cx3_1</font></td><td>cx</td><td>0.00599</td></tr><tr><td><font style='font-weight:bold'>cx1_3</font></td><td>cx</td><td>0.00599</td></tr></table>"
      }
     },
     "14400ff553754f8983ed4fd7ea5598f8": {
      "model_module": "@jupyter-widgets/controls",
      "model_module_version": "1.5.0",
      "model_name": "HTMLModel",
      "state": {
       "layout": "IPY_MODEL_e29e6e95cad645b0af4638bd030aefd8",
       "style": "IPY_MODEL_803ca972c4ba44d396f35364b80cf393",
       "value": "<div><font style='font-weight:bold'>last_update_date</font>: 2020-08-09 14:09:32-04:00</div>"
      }
     },
     "14f6d88d67a7464fb634b1c097e1ffa7": {
      "model_module": "@jupyter-widgets/controls",
      "model_module_version": "1.5.0",
      "model_name": "DescriptionStyleModel",
      "state": {
       "description_width": ""
      }
     },
     "155dc31e07ee449ab497af6734825e60": {
      "model_module": "@jupyter-widgets/base",
      "model_module_version": "1.2.0",
      "model_name": "LayoutModel",
      "state": {}
     },
     "157650d9d9294b74852499e025923228": {
      "model_module": "@jupyter-widgets/base",
      "model_module_version": "1.2.0",
      "model_name": "LayoutModel",
      "state": {
       "margin": "0px 0px 10px 0px"
      }
     },
     "15be92d1067643bc81cc5572c929ca2e": {
      "model_module": "@jupyter-widgets/base",
      "model_module_version": "1.2.0",
      "model_name": "LayoutModel",
      "state": {}
     },
     "16d4effb3dff433191390238aa6830a0": {
      "model_module": "@jupyter-widgets/controls",
      "model_module_version": "1.5.0",
      "model_name": "LabelModel",
      "state": {
       "layout": "IPY_MODEL_782288e8eb0046edbc98e2be5e00d6ea",
       "style": "IPY_MODEL_1e5ad1800cd34aecb9f7839a6c1db02b",
       "value": "50"
      }
     },
     "16d9840a0bc84f7ab6278292d81ade1f": {
      "model_module": "@jupyter-widgets/base",
      "model_module_version": "1.2.0",
      "model_name": "LayoutModel",
      "state": {
       "align_items": "center",
       "justify_content": "center",
       "margin": "0px 0px 0px 0px",
       "max_height": "250px",
       "max_width": "250px",
       "min_height": "250px",
       "min_width": "250px"
      }
     },
     "174452d515da469d973cff0fbcfc8003": {
      "model_module": "@jupyter-widgets/controls",
      "model_module_version": "1.5.0",
      "model_name": "HTMLModel",
      "state": {
       "layout": "IPY_MODEL_3fdda7cd7dc0445c90a7ef29b5ce9230",
       "style": "IPY_MODEL_d218f483cec24118bb786cf20d3015ef",
       "value": "6139d8a917e5887ebdba289f"
      }
     },
     "17d0fb1b2e3c4904a6535445440db6da": {
      "model_module": "@jupyter-widgets/controls",
      "model_module_version": "1.5.0",
      "model_name": "DescriptionStyleModel",
      "state": {
       "description_width": ""
      }
     },
     "1842ab503de94035b1a3ea2265dd6bde": {
      "model_module": "@jupyter-widgets/controls",
      "model_module_version": "1.5.0",
      "model_name": "DescriptionStyleModel",
      "state": {
       "description_width": ""
      }
     },
     "1957f8de19974a1bb6de964af79dbf51": {
      "model_module": "@jupyter-widgets/controls",
      "model_module_version": "1.5.0",
      "model_name": "DescriptionStyleModel",
      "state": {
       "description_width": ""
      }
     },
     "199dacaccd6c4c7cae0a647df11d48c0": {
      "model_module": "@jupyter-widgets/controls",
      "model_module_version": "1.5.0",
      "model_name": "HTMLModel",
      "state": {
       "layout": "IPY_MODEL_a303e6ce7f7f46c3a37e222ac532a9cf",
       "style": "IPY_MODEL_75c6da7a5a914efcb53a8f877f4d0069",
       "value": "<table><style>\ntable {\n    border-collapse: collapse;\n    width: auto;\n}\n\nth, td {\n    text-align: left;\n    padding: 8px;\n}\n\ntr:nth-child(even) {background-color: #f6f6f6;}\n</style><tr><th></th><th>Frequency</th><th>T1</th><th>T2</th><th>U1</th><th>U2</th><th>U3</th><th>Readout error</th></tr><tr><td><font style='font-weight:bold'>Q0</font></td><td>4.66492 GHz</td><td>65.02615 µs</td><td>17.70905 µs</td><td>0</td><td>0.00075</td><td>0.00151</td><td>0.0334 </td><tr><td><font style='font-weight:bold'>Q1</font></td><td>4.76767 GHz</td><td>43.9688 µs</td><td>15.58758 µs</td><td>0</td><td>0.00068</td><td>0.00137</td><td>0.0867 </td><tr><td><font style='font-weight:bold'>Q2</font></td><td>4.61803 GHz</td><td>52.93976 µs</td><td>13.80566 µs</td><td>0</td><td>0.00087</td><td>0.00174</td><td>0.0926 </td><tr><td><font style='font-weight:bold'>Q3</font></td><td>5.02263 GHz</td><td>48.80939 µs</td><td>14.67257 µs</td><td>0</td><td>0.00088</td><td>0.00175</td><td>0.0765 </td><tr><td><font style='font-weight:bold'>Q4</font></td><td>4.65579 GHz</td><td>76.5053 µs</td><td>15.55758 µs</td><td>0</td><td>0.00074</td><td>0.00149</td><td>0.0681 </td><tr><td><font style='font-weight:bold'>Q5</font></td><td>4.74578 GHz</td><td>62.26546 µs</td><td>9.21099 µs</td><td>0</td><td>0.00101</td><td>0.00203</td><td>0.0701 </td><tr><td><font style='font-weight:bold'>Q6</font></td><td>4.83168 GHz</td><td>51.07522 µs</td><td>14.30637 µs</td><td>0</td><td>0.00131</td><td>0.00261</td><td>0.0672 </td><tr><td><font style='font-weight:bold'>Q7</font></td><td>4.70569 GHz</td><td>34.47778 µs</td><td>12.42501 µs</td><td>0</td><td>0.00097</td><td>0.00194</td><td>0.0175 </td><tr><td><font style='font-weight:bold'>Q8</font></td><td>4.8984 GHz</td><td>22.00524 µs</td><td>5.4628 µs</td><td>0</td><td>0.00185</td><td>0.0037</td><td>0.0902 </td><tr><td><font style='font-weight:bold'>Q9</font></td><td>4.7406 GHz</td><td>61.6795 µs</td><td>12.31188 µs</td><td>0</td><td>0.00098</td><td>0.00197</td><td>0.097 </td><tr><td><font style='font-weight:bold'>Q10</font></td><td>4.84131 GHz</td><td>39.29521 µs</td><td>8.29331 µs</td><td>0</td><td>0.0011</td><td>0.0022</td><td>0.0724 </td><tr><td><font style='font-weight:bold'>Q11</font></td><td>4.75709 GHz</td><td>71.76919 µs</td><td>13.57695 µs</td><td>0</td><td>0.00074</td><td>0.00147</td><td>0.1013 </td><tr><td><font style='font-weight:bold'>Q12</font></td><td>4.61986 GHz</td><td>82.39661 µs</td><td>17.04141 µs</td><td>0</td><td>0.00076</td><td>0.00153</td><td>0.0884 </td><tr><td><font style='font-weight:bold'>Q13</font></td><td>4.85395 GHz</td><td>51.26071 µs</td><td>12.95339 µs</td><td>0</td><td>0.0007</td><td>0.00141</td><td>0.0265 </td><tr><td><font style='font-weight:bold'>Q14</font></td><td>4.40127 GHz</td><td>35.98483 µs</td><td>12.06972 µs</td><td>0</td><td>0.00106</td><td>0.00212</td><td>0.1173 </td><tr><td><font style='font-weight:bold'>Q15</font></td><td>4.69354 GHz</td><td>56.86022 µs</td><td>17.28385 µs</td><td>0</td><td>0.00065</td><td>0.0013</td><td>0.0644 </td><tr><td><font style='font-weight:bold'>Q16</font></td><td>4.51267 GHz</td><td>69.36949 µs</td><td>15.96325 µs</td><td>0</td><td>0.00085</td><td>0.0017</td><td>0.1727 </td><tr><td><font style='font-weight:bold'>Q17</font></td><td>4.72421 GHz</td><td>44.24938 µs</td><td>14.42326 µs</td><td>0</td><td>0.00083</td><td>0.00165</td><td>0.0681 </td><tr><td><font style='font-weight:bold'>Q18</font></td><td>4.3351 GHz</td><td>62.35078 µs</td><td>14.96326 µs</td><td>0</td><td>0.00082</td><td>0.00164</td><td>0.1678 </td><tr><td><font style='font-weight:bold'>Q19</font></td><td>4.58623 GHz</td><td>78.6054 µs</td><td>20.57852 µs</td><td>0</td><td>0.00076</td><td>0.00153</td><td>0.1042 </td></table>"
      }
     },
     "19e0289d6dee4f91b72c14b871e1fe89": {
      "model_module": "@jupyter-widgets/base",
      "model_module_version": "1.2.0",
      "model_name": "LayoutModel",
      "state": {
       "max_width": "180px"
      }
     },
     "1a5c78f4a93f4ecab19b2df6bd5606ee": {
      "model_module": "@jupyter-widgets/base",
      "model_module_version": "1.2.0",
      "model_name": "LayoutModel",
      "state": {}
     },
     "1b933c4ff7e74fe0bf9cfeb60dad6a3f": {
      "model_module": "@jupyter-widgets/base",
      "model_module_version": "1.2.0",
      "model_name": "LayoutModel",
      "state": {
       "align_items": "center",
       "justify_content": "center",
       "margin": "0px 0px 0px 0px",
       "max_height": "250px",
       "max_width": "250px",
       "min_height": "250px",
       "min_width": "250px"
      }
     },
     "1b9ae90b032e4b05884b51f172086ad2": {
      "model_module": "@jupyter-widgets/controls",
      "model_module_version": "1.5.0",
      "model_name": "HTMLModel",
      "state": {
       "layout": "IPY_MODEL_fa4af0220f5b48dcac36128ad369530a",
       "style": "IPY_MODEL_c9096015517d4b0c83fa76c6c240135b",
       "value": "<h5 style='color:#dc267f'>False</h5>"
      }
     },
     "1c4f14ce99304ac3be612de1f407ddf9": {
      "model_module": "@jupyter-widgets/controls",
      "model_module_version": "1.5.0",
      "model_name": "IntProgressModel",
      "state": {
       "layout": "IPY_MODEL_7bc25e7696ef40d0ae85ebc98c452dfd",
       "max": 50,
       "style": "IPY_MODEL_a3ce6b75a5b3434a908ebe7cef1b8494"
      }
     },
     "1c70391dec9d48a1a98e3f55ffce37fa": {
      "model_module": "@jupyter-widgets/controls",
      "model_module_version": "1.5.0",
      "model_name": "HBoxModel",
      "state": {
       "children": [
        "IPY_MODEL_3ab739773f994f5f9f6061617cc9d08d",
        "IPY_MODEL_1c4f14ce99304ac3be612de1f407ddf9",
        "IPY_MODEL_16d4effb3dff433191390238aa6830a0"
       ],
       "layout": "IPY_MODEL_91bc5eb04d004e9b871f5a0568266ca2"
      }
     },
     "1d8fe86d9f6a42bfaa1b742ea306883b": {
      "model_module": "@jupyter-widgets/controls",
      "model_module_version": "1.5.0",
      "model_name": "DescriptionStyleModel",
      "state": {
       "description_width": ""
      }
     },
     "1e5ad1800cd34aecb9f7839a6c1db02b": {
      "model_module": "@jupyter-widgets/controls",
      "model_module_version": "1.5.0",
      "model_name": "DescriptionStyleModel",
      "state": {
       "description_width": ""
      }
     },
     "1f1ecbff3a4149cba6d1f667bd44fc2c": {
      "model_module": "@jupyter-widgets/base",
      "model_module_version": "1.2.0",
      "model_name": "LayoutModel",
      "state": {
       "width": "70px"
      }
     },
     "1f361e9835b4470388dd8a508fea33e0": {
      "model_module": "@jupyter-widgets/base",
      "model_module_version": "1.2.0",
      "model_name": "LayoutModel",
      "state": {
       "max_width": "180px"
      }
     },
     "1f5091e886194ae5a3f807968fb6072b": {
      "model_module": "@jupyter-widgets/controls",
      "model_module_version": "1.5.0",
      "model_name": "HTMLModel",
      "state": {
       "layout": "IPY_MODEL_155dc31e07ee449ab497af6734825e60",
       "style": "IPY_MODEL_821a4e0e1bbf49b8b1a7aac8adadf45f",
       "value": "<h5>91.3 / 93.3 us</h5>"
      }
     },
     "1fd776f7a2984e2fbbaec375e4e0c2d1": {
      "model_module": "@jupyter-widgets/base",
      "model_module_version": "1.2.0",
      "model_name": "LayoutModel",
      "state": {
       "justify_content": "center",
       "max_width": "250px",
       "min_width": "250px"
      }
     },
     "1fd8fcd04aae463b9051512ab76681dc": {
      "model_module": "@jupyter-widgets/controls",
      "model_module_version": "1.5.0",
      "model_name": "DescriptionStyleModel",
      "state": {
       "description_width": ""
      }
     },
     "1fde49733d614b25899733065b771035": {
      "model_module": "@jupyter-widgets/controls",
      "model_module_version": "1.5.0",
      "model_name": "HTMLModel",
      "state": {
       "layout": "IPY_MODEL_5f632d238c7e43e8965a58cb000a0ab6",
       "style": "IPY_MODEL_8c001ed4bbb84f0ea10506845bb8075c",
       "value": "<h5 style='color:#dc267f'>False</h5>"
      }
     },
     "20a30fbdc56d4936964b43c3ac9f37c2": {
      "model_module": "@jupyter-widgets/controls",
      "model_module_version": "1.5.0",
      "model_name": "ProgressStyleModel",
      "state": {
       "bar_color": "#71cddd",
       "description_width": ""
      }
     },
     "21dba41fcefb4c029b07129f1d6c346b": {
      "model_module": "@jupyter-widgets/controls",
      "model_module_version": "1.5.0",
      "model_name": "HBoxModel",
      "state": {
       "children": [
        "IPY_MODEL_c27b9b3db3d241e3b97a0f92b020c173",
        "IPY_MODEL_cbd513a7684442a8bc58ebd53effe2f3",
        "IPY_MODEL_f38f7ee583a245a693391b519b6d7b95"
       ],
       "layout": "IPY_MODEL_5b8309f90f4f4ab0972df296da6102c3"
      }
     },
     "2277af7b98324ed58fb2faa90ee8f77c": {
      "model_module": "@jupyter-widgets/base",
      "model_module_version": "1.2.0",
      "model_name": "LayoutModel",
      "state": {
       "min_width": "auto"
      }
     },
     "227c1c4a3b904229aaddc95a4f75b43d": {
      "model_module": "@jupyter-widgets/base",
      "model_module_version": "1.2.0",
      "model_name": "LayoutModel",
      "state": {
       "grid_area": "right"
      }
     },
     "227f503594374ec388f908523537bf04": {
      "model_module": "@jupyter-widgets/controls",
      "model_module_version": "1.5.0",
      "model_name": "DescriptionStyleModel",
      "state": {
       "description_width": ""
      }
     },
     "22a82f80c02740828bb3bea40a6bb463": {
      "model_module": "@jupyter-widgets/controls",
      "model_module_version": "1.5.0",
      "model_name": "HTMLModel",
      "state": {
       "layout": "IPY_MODEL_8a3d4378f5d74621a51c84fa068eef29",
       "style": "IPY_MODEL_14f6d88d67a7464fb634b1c097e1ffa7",
       "value": "<h5>Backend</h5>"
      }
     },
     "2315c6e7734f4a78b09f0b5483ba05a0": {
      "model_module": "@jupyter-widgets/base",
      "model_module_version": "1.2.0",
      "model_name": "LayoutModel",
      "state": {}
     },
     "2382843050384a4dad829b8aac469df6": {
      "model_module": "@jupyter-widgets/controls",
      "model_module_version": "1.5.0",
      "model_name": "DescriptionStyleModel",
      "state": {
       "description_width": ""
      }
     },
     "24950f5967be4016a49f56007f7a2a28": {
      "model_module": "@jupyter-widgets/base",
      "model_module_version": "1.2.0",
      "model_name": "LayoutModel",
      "state": {
       "min_width": "auto"
      }
     },
     "249ecdb44f714848a7056d0ca5cf4da7": {
      "model_module": "@jupyter-widgets/controls",
      "model_module_version": "1.5.0",
      "model_name": "HBoxModel",
      "state": {
       "children": [
        "IPY_MODEL_363f5654c3c34272ba8a73c2129caf9d",
        "IPY_MODEL_174452d515da469d973cff0fbcfc8003",
        "IPY_MODEL_8e0f038244974c41ac5bec5718cda92d",
        "IPY_MODEL_c31e3f8704aa49189506d3575d859c21",
        "IPY_MODEL_3291cfb3ef534e91821521e082a83cd2",
        "IPY_MODEL_087e3cb4c23242b3a303bb8bbd5f92cf"
       ],
       "layout": "IPY_MODEL_0a0d1c82c6b042f5b43d7eb7105cb16f"
      }
     },
     "25edc6f083f1433da781f34ca8c55d6d": {
      "model_module": "@jupyter-widgets/controls",
      "model_module_version": "1.5.0",
      "model_name": "HTMLMathModel",
      "state": {
       "layout": "IPY_MODEL_756bb316e61e46a1b6c3baabccecb5c1",
       "style": "IPY_MODEL_0835f0c823cf4eec82e14efa7418c59f",
       "value": "<table><style>\ntable {\n    border-collapse: collapse;\n    width: auto;\n}\n\nth, td {\n    text-align: left;\n    padding: 8px;\n}\n\ntr:nth-child(even) {background-color: #f6f6f6;}\n</style><tr><th>Property</th><th>Value</th></tr><tr><td><font style='font-weight:bold'>n_qubits</font></td><td>7</td></tr><tr><td><font style='font-weight:bold'>quantum_volume</font></td><td>32</td></tr><tr><td><font style='font-weight:bold'>operational</font></td><td>True</td></tr><tr><td><font style='font-weight:bold'>status_msg</font></td><td>active</td></tr><tr><td><font style='font-weight:bold'>pending_jobs</font></td><td>0</td></tr><tr><td><font style='font-weight:bold'>backend_version</font></td><td>1.0.0</td></tr><tr><td><font style='font-weight:bold'>basis_gates</font></td><td>['id', 'rz', 'sx', 'x', 'cx', 'reset']</td></tr><tr><td><font style='font-weight:bold'>max_shots</font></td><td>2048</td></tr><tr><td><font style='font-weight:bold'>max_experiments</font></td><td>4</td></tr></table>"
      }
     },
     "2753ae17baf040e0a3c6a8924d42f555": {
      "model_module": "@jupyter-widgets/controls",
      "model_module_version": "1.5.0",
      "model_name": "HTMLModel",
      "state": {
       "layout": "IPY_MODEL_945af75df5fe48cd8caa86ba6d7c61d0",
       "style": "IPY_MODEL_e63a7fce31154fbb98ca5c2ea3e75e2e",
       "value": "<h5>Status</h5>"
      }
     },
     "2764d1cf15d340c3a72e4bac7599cadb": {
      "model_module": "@jupyter-widgets/base",
      "model_module_version": "1.2.0",
      "model_name": "LayoutModel",
      "state": {
       "align_items": "center",
       "display": "flex-inline",
       "grid_area": "right",
       "max_height": "325px",
       "padding": "10px 10px 10px 10px",
       "width": "auto"
      }
     },
     "2808216aa5ff43c9b6bdfbb1b9649231": {
      "model_module": "@jupyter-widgets/base",
      "model_module_version": "1.2.0",
      "model_name": "LayoutModel",
      "state": {
       "min_width": "auto"
      }
     },
     "2819bc07572d427cbc531e0c0f0ebf10": {
      "model_module": "@jupyter-widgets/base",
      "model_module_version": "1.2.0",
      "model_name": "LayoutModel",
      "state": {}
     },
     "28359baa87294cbca71f2dc1d3ef3fc1": {
      "model_module": "@jupyter-widgets/controls",
      "model_module_version": "1.5.0",
      "model_name": "DescriptionStyleModel",
      "state": {
       "description_width": ""
      }
     },
     "293d7a90edb14bd59be89f4b967d513b": {
      "model_module": "@jupyter-widgets/controls",
      "model_module_version": "1.5.0",
      "model_name": "HTMLModel",
      "state": {
       "layout": "IPY_MODEL_9f370ca8c48c4942886029b22fcc4262",
       "style": "IPY_MODEL_7f1edf898293413a819e2c570fee56af",
       "value": "<h5 style='color:#dc267f'>False</h5>"
      }
     },
     "294257e45e954f8ebf3fba36b1af30ae": {
      "model_module": "@jupyter-widgets/controls",
      "model_module_version": "1.5.0",
      "model_name": "ProgressStyleModel",
      "state": {
       "bar_color": "#71cddd",
       "description_width": ""
      }
     },
     "2b985b59915b499db621f7eff6a382e7": {
      "model_module": "@jupyter-widgets/controls",
      "model_module_version": "1.5.0",
      "model_name": "LabelModel",
      "state": {
       "layout": "IPY_MODEL_2277af7b98324ed58fb2faa90ee8f77c",
       "style": "IPY_MODEL_652bf50a51e84e3f9302f061c94a2a1b",
       "value": "52"
      }
     },
     "2db5b05a747a48efa0245fb734f0b3a3": {
      "model_module": "@jupyter-widgets/controls",
      "model_module_version": "1.5.0",
      "model_name": "ButtonStyleModel",
      "state": {
       "button_color": "white"
      }
     },
     "2df2075c31cf40fa9a645cf7313381b7": {
      "model_module": "@jupyter-widgets/base",
      "model_module_version": "1.2.0",
      "model_name": "LayoutModel",
      "state": {
       "grid_gap": "0px 0px",
       "grid_template_areas": "\n                               \"left right right right\"\n                               \"bottom bottom bottom bottom\"\n                               ",
       "grid_template_columns": "31% 23% 23% 23%",
       "grid_template_rows": "auto auto"
      }
     },
     "2e31c72e6474447bb60af9a3e4691d18": {
      "model_module": "@jupyter-widgets/controls",
      "model_module_version": "1.5.0",
      "model_name": "DescriptionStyleModel",
      "state": {
       "description_width": ""
      }
     },
     "2ed23e93c7a8446aa0ed2a15f5fd17f4": {
      "model_module": "@jupyter-widgets/controls",
      "model_module_version": "1.5.0",
      "model_name": "DescriptionStyleModel",
      "state": {
       "description_width": ""
      }
     },
     "2f19520fb91944da9422f2a653466a68": {
      "model_module": "@jupyter-widgets/base",
      "model_module_version": "1.2.0",
      "model_name": "LayoutModel",
      "state": {}
     },
     "2f98424127ba4f95ac3a0b3bff0460d7": {
      "model_module": "@jupyter-widgets/controls",
      "model_module_version": "1.5.0",
      "model_name": "DescriptionStyleModel",
      "state": {
       "description_width": ""
      }
     },
     "3007ce77d05a4175815dcb757462b77e": {
      "model_module": "@jupyter-widgets/controls",
      "model_module_version": "1.5.0",
      "model_name": "VBoxModel",
      "state": {
       "children": [
        "IPY_MODEL_90c6d2a574d74e318532fa8581773731",
        "IPY_MODEL_c377ea3479e047cdb6c7e710a889d7ea",
        "IPY_MODEL_fd4fbd52e95f4d76b81087eb443c2797",
        "IPY_MODEL_086d35f74ba84ac49239571f08cea88d",
        "IPY_MODEL_5dc1eca30a8e4afcaca50e4d116d0526",
        "IPY_MODEL_945f0612989e4fc88c57822e42fc6f53",
        "IPY_MODEL_4db030130eb543d9a9e9227fb206a11e",
        "IPY_MODEL_a0da9f3ba245428da4499c0a80d6849a",
        "IPY_MODEL_f8c06900545f4922899fc0de185bdcc3",
        "IPY_MODEL_b0182175218b48e08a4a9dc5cc1aa620"
       ],
       "layout": "IPY_MODEL_95e229893d4f470f964632a8de2d7443"
      }
     },
     "31139e0614ee4d42a36ae2da5cc7baa2": {
      "model_module": "@jupyter-widgets/controls",
      "model_module_version": "1.5.0",
      "model_name": "GridBoxModel",
      "state": {
       "children": [
        "IPY_MODEL_4db34a1f6461490b9dececa59e93cb74",
        "IPY_MODEL_a0d2ce528052496ca0c57249fc025e01",
        "IPY_MODEL_13fb8e1195b4460ba5edb54b3c3a11ce",
        "IPY_MODEL_134a34ad3b39418aac4763cffbced8ae"
       ],
       "layout": "IPY_MODEL_c9c225fcb4b34d18bb2a8467fa52fc06"
      }
     },
     "31151cfa6ece40669d5ca180d3bd21de": {
      "model_module": "@jupyter-widgets/base",
      "model_module_version": "1.2.0",
      "model_name": "LayoutModel",
      "state": {
       "min_width": "auto"
      }
     },
     "31c215e090a14442bb797165286690e1": {
      "model_module": "@jupyter-widgets/controls",
      "model_module_version": "1.5.0",
      "model_name": "DescriptionStyleModel",
      "state": {
       "description_width": ""
      }
     },
     "3282ecd3cb9942b0a7e99ec44b2f050f": {
      "model_module": "@jupyter-widgets/controls",
      "model_module_version": "1.5.0",
      "model_name": "DescriptionStyleModel",
      "state": {
       "description_width": ""
      }
     },
     "3291cfb3ef534e91821521e082a83cd2": {
      "model_module": "@jupyter-widgets/controls",
      "model_module_version": "1.5.0",
      "model_name": "HTMLModel",
      "state": {
       "layout": "IPY_MODEL_fa5f213e0d1644f48254a1fc8d7e56f2",
       "style": "IPY_MODEL_2e31c72e6474447bb60af9a3e4691d18",
       "value": "-"
      }
     },
     "33c43dfddc1c460db56a28abb99f35b9": {
      "model_module": "@jupyter-widgets/base",
      "model_module_version": "1.2.0",
      "model_name": "LayoutModel",
      "state": {
       "margin": "295px 0px 0px 0px",
       "min_width": "100px"
      }
     },
     "33c84763576643399915873faae97371": {
      "model_module": "@jupyter-widgets/base",
      "model_module_version": "1.2.0",
      "model_name": "LayoutModel",
      "state": {
       "justify_content": "center"
      }
     },
     "33f1d7150d424201a927d114e96e8147": {
      "model_module": "@jupyter-widgets/controls",
      "model_module_version": "1.5.0",
      "model_name": "IntProgressModel",
      "state": {
       "layout": "IPY_MODEL_19e0289d6dee4f91b72c14b871e1fe89",
       "max": 52,
       "style": "IPY_MODEL_82a31f07dbac484487ceb8fac1d41545",
       "value": 42
      }
     },
     "3453740fcca045ddaba2f48b738726be": {
      "model_module": "@jupyter-widgets/controls",
      "model_module_version": "1.5.0",
      "model_name": "DescriptionStyleModel",
      "state": {
       "description_width": ""
      }
     },
     "34ffb7fdae714c588d1e94cf28a63105": {
      "model_module": "@jupyter-widgets/controls",
      "model_module_version": "1.5.0",
      "model_name": "HTMLModel",
      "state": {
       "layout": "IPY_MODEL_63cb816f42d14927ab8e52f3d54a53e6",
       "style": "IPY_MODEL_054283a67b5045f79fb1e6369e66d65d",
       "value": "<table><style>\ntable {\n    border-collapse: collapse;\n    width: auto;\n}\n\nth, td {\n    text-align: left;\n    padding: 8px;\n}\n\ntr:nth-child(even) {background-color: #f6f6f6;};\n</style><tr><th></th><th>Type</th><th>Gate error</th></tr><tr><td><font style='font-weight:bold'>cx0_1</font></td><td>cx</td><td>0.01345</td></tr><tr><td><font style='font-weight:bold'>cx0_5</font></td><td>cx</td><td>0.01872</td></tr><tr><td><font style='font-weight:bold'>cx1_0</font></td><td>cx</td><td>0.01345</td></tr><tr><td><font style='font-weight:bold'>cx1_2</font></td><td>cx</td><td>0.02611</td></tr><tr><td><font style='font-weight:bold'>cx2_1</font></td><td>cx</td><td>0.02611</td></tr><tr><td><font style='font-weight:bold'>cx2_3</font></td><td>cx</td><td>0.03695</td></tr><tr><td><font style='font-weight:bold'>cx3_2</font></td><td>cx</td><td>0.03695</td></tr><tr><td><font style='font-weight:bold'>cx3_4</font></td><td>cx</td><td>0.02886</td></tr><tr><td><font style='font-weight:bold'>cx4_3</font></td><td>cx</td><td>0.02886</td></tr><tr><td><font style='font-weight:bold'>cx4_9</font></td><td>cx</td><td>0.02049</td></tr><tr><td><font style='font-weight:bold'>cx5_0</font></td><td>cx</td><td>0.01872</td></tr><tr><td><font style='font-weight:bold'>cx5_6</font></td><td>cx</td><td>0.02532</td></tr><tr><td><font style='font-weight:bold'>cx5_10</font></td><td>cx</td><td>0.03206</td></tr><tr><td><font style='font-weight:bold'>cx6_5</font></td><td>cx</td><td>0.02532</td></tr><tr><td><font style='font-weight:bold'>cx6_7</font></td><td>cx</td><td>0.04163</td></tr><tr><td><font style='font-weight:bold'>cx7_6</font></td><td>cx</td><td>0.04163</td></tr></table>"
      }
     },
     "36264f3600a6442982cb2d8e4e8314b1": {
      "model_module": "@jupyter-widgets/base",
      "model_module_version": "1.2.0",
      "model_name": "LayoutModel",
      "state": {}
     },
     "363f5654c3c34272ba8a73c2129caf9d": {
      "model_module": "@jupyter-widgets/controls",
      "model_module_version": "1.5.0",
      "model_name": "ButtonModel",
      "state": {
       "icon": "close",
       "layout": "IPY_MODEL_e4054dc428b246c08198f3e429eee00f",
       "style": "IPY_MODEL_2db5b05a747a48efa0245fb734f0b3a3"
      }
     },
     "3722bd6956484a159a805768b30bd4de": {
      "model_module": "@jupyter-widgets/controls",
      "model_module_version": "1.5.0",
      "model_name": "DescriptionStyleModel",
      "state": {
       "description_width": ""
      }
     },
     "37b943ebb7204e30b8bc96d10b706741": {
      "model_module": "@jupyter-widgets/base",
      "model_module_version": "1.2.0",
      "model_name": "LayoutModel",
      "state": {
       "justify_content": "center",
       "max_width": "250px",
       "min_width": "250px"
      }
     },
     "37db4fda59404b43b3d335014d8fe5fa": {
      "model_module": "@jupyter-widgets/controls",
      "model_module_version": "1.5.0",
      "model_name": "VBoxModel",
      "state": {
       "children": [
        "IPY_MODEL_429c21f2944647b49deadf43175517a2",
        "IPY_MODEL_a351e30f7a484510a17bf13c643e5210",
        "IPY_MODEL_4ae9a9e5e0ff4fa990bec40aecdeeeee",
        "IPY_MODEL_caa926c925ae44a49bcdaf6b592be575",
        "IPY_MODEL_f4c6fa5a3c964c62afb6722a842de737",
        "IPY_MODEL_87839ac747d1461391a59913d2f7cf57",
        "IPY_MODEL_1fde49733d614b25899733065b771035",
        "IPY_MODEL_806dd88f1c7e452e861ecd212bf2f73a",
        "IPY_MODEL_446290dfe05849398768ffeba09effaf",
        "IPY_MODEL_8773f446084e44efa88c89d4b5f85f2d"
       ],
       "layout": "IPY_MODEL_a1b0e60afbfd4bf6805b1c0e0187716e"
      }
     },
     "3830123a3f5048dcb5cd4593d9a3c443": {
      "model_module": "@jupyter-widgets/controls",
      "model_module_version": "1.5.0",
      "model_name": "VBoxModel",
      "state": {
       "children": [
        "IPY_MODEL_ee963528e4214827a4f437ba2cf1b37f",
        "IPY_MODEL_402222506ec447c1bc28e20789d20140"
       ],
       "layout": "IPY_MODEL_cdb3176a2ab346feafce19e1d2fa9047"
      }
     },
     "3869b04cdb4a41629f8538d8dd4aaad7": {
      "model_module": "@jupyter-widgets/output",
      "model_module_version": "1.0.0",
      "model_name": "OutputModel",
      "state": {
       "layout": "IPY_MODEL_1120030bd1b84375ba373d972ba67e50",
       "outputs": [
        {
         "data": {
          "image/png": "iVBORw0KGgoAAAANSUhEUgAAAR4AAAEeCAYAAABcyXrWAAAAOXRFWHRTb2Z0d2FyZQBNYXRwbG90bGliIHZlcnNpb24zLjQuMywgaHR0cHM6Ly9tYXRwbG90bGliLm9yZy/MnkTPAAAACXBIWXMAAAsTAAALEwEAmpwYAAASu0lEQVR4nO3df6xkVWHA8e/bXdhfLEq0ptZWhcIiRRDRloq01loxEAU09Ve0ioXb1B9Nr1Zpq0RQQSNIvUYjDVeUWmur2KLQYsFotJVWDWAFAQtINahVog3Cvre77I/pH+cOPN4+Hm/fzJxz7pzvJ9lssvP23vPuzHzn/pp7ZwaDAZIU06rUA5BUHsMjKTrDIyk6wyMpOsMjKTrDIyk6wyMpOsMjKTrDIyk6wyMpOsMjKTrDIyk6wyMpOsMjKTrDIyk6wyMpOsMjKTrDIyk6wyMpOsMjKTrDIyk6wyMpOsMjKTrDIyk6wyMpOsMjKTrDIyk6wyMpOsMjKTrDIyk6wyMpOsMjKTrDIyk6wyMpOsMjKTrDIyk6wyMpOsMjKTrDIyk6wyMpOsMjKTrDIyk6wyMpOsMjKTrDIyk6wyMpOsMjKTrDIyk6wyMpOsMjKTrDIyk6wyMpOsMjKTrDIyk6wyMpOsMjKbo1qQegfqgaZoBfBp4G/BqwPzADzAK3A9cBt7U1u5MNUr0xMxgMUo9BGasajgLeBJxC+KC6D9gPWN39yADYQlh7XgN8BXgf8EUjpIdieLSoquF44ALgIGAtD4Tm4QwIa0H3AmcBH2lrfJHpQQyPHqRqeATwIeBFwIYRJzcL3Ai8rK35/qhj0/QwPLpf1XA0cBVhU2rdmCa7E9gOnNrWfGZM01TPeVRLAFQNxxL2zzya8UUHwn6fjcDHq4bXjHG66jHXeDTcgfzvhDWdSZojrPlcOuH5KHOGp3BVwwbgNuCxhMPjkzYHHNHW3BFhXsqUm1o6HziAONGBcITsU1Xja69kPvkFqxqeAbwGWB9xtquBw4DXRpynMmN4yvZOxrsjebk2AmdVzbLPDdKUMTyFqhoeDxxHvE2shdYBJySatxIzPOV6LemiA7AJOCPh/JWQ4SnXiwg7elP6zaphn8RjUAKGp0BVw77AganHAWwDDk89CMVneMp0OOFNn9oqwmU2VBjDU6bNkMU3xjcSru2jwhieMq0nn+d+U+oBKL5cXnyKK4e1nSEvFlYgw1OmOfJ4ww8IFwxTYQxPmW4hj+d+eKEwFSaHF5/i+w6wb+pBdK5LPQDFZ3gK1NbsJFwKI7V9CRFUYQxPuf4B2Jpw/gPgS23NroRjUCKGp1wXkfa7WrPAeQnnr4QMT6HamruAfyXd0a27gS8nmrcSMzxlezvhDhCxzQJneL+tchmegrU1NxIufTobcbb3AdcQ9jGpUIZH5xA2e2IZAK92badshkcnAI+JOL+1wGkR56cMGZ6CVQ0nAZ+B6BfjOqdqeFvkeSojhqdQS0TnLsJ3ucZlO+H7WAvPGTI+BTM8BVoiOqcDvwI0hFCMuh9mDrgCeCJwPLBlwePGp1DeSbQwS0Wnrbl43s8dBbwbeDbhRMPlXp95J7CD8FWIM9uaK+dN8zjg8+x5q+Qz25pz9+LXUM8ZnoIsNzoL/s/jCHekeDlhbWgrsP+CH/s5sAH4KXAl0LQ1336I6RkfGZ5SrCQ6i0xjHXAE8I0FD/0O8M225p5lTsf4FM7wFGAc0VkwvQe9aNp677/zZXzK5s7lKTfu6IxLW/NVwjlE7nAukOGZYrlGZ8j4lMvwTKncozNkfMpkeKZQX6IzZHzKY3imTN+iM2R8ymJ4pkhfozNkfMpheKZE36MzZHzKYHimwLREZ8j4TD/D03PTFp0h4zPdDE+PTWt0hozP9DI8PTXt0RkyPtPJ8PRQKdEZMj7Tx/D0TNVwDnAZhURn6GHic1WCIWkEhqdHuui8jT2ft6mOztAS8Tm+arg6wZC0QoanJ6qGd8GimxVFRGdoXny2LXjoua759Ifh6YGq4WTgLxZ56JKSojPUxedNizx0vPt8+sHwZK6LzqXAmgUPXdLWvCbBkLLQ1lwIvG6Rh9zh3AOGJ2PzojN/R/IAuLjk6AzNi8/CzS7jkznDk6klonN6W3N6mlHlp4vPc/FQe68Yngw9THQ+mmZU+fI8n/4xPJkxOitjfPrF8GTE6IzG+PSH4cmE0RkP49MPhicDRme8jE/+DE9iRmcyjE/eDE9CRmeyjE++DE8iRicO45Mnw5OA0YnL+OTH8ERmdNIwPnkxPBEZnbSMTz4MTyRGJw/GJw8zg8Eg9RiyVDWsAg4BngYcCTwSWA3MArcC1wI3tPUe34xebFq9j07VsBrYDDwd+PiCh/+YsDy+3dZsjz22lagajgM+D+y34KEz25pzl/H/1wBPIrw+ngzsD8wQgnYzcB1heewY57inheGZp2qYAY4B/gx4PrAL2E14cc7M+9E5YCewAbgBOA+4rK25b5Fp9jY63fI4Dngz8DxgB2Hsmxb86HB5rAeuJyyPy9uanfFGu/f2Nj7d8ng28Bbgd+H+53sjD359zBJeO+uBrwHnA1e2NbvG+gv0mOHpVA0nAg3wS4QXzN5sht5LCNT7gPcOP+V6Hp0XAhcAv8Ceb6yHcy8hRO8G3p/zG2458emC83LgvYQ135Usj+3A2cCFbc3u0Ubdf8WHp2o4ALgQeAFhDWYUs8APgJcAB9LD6FQNjwYuBp5DeIONYha4A3hJW/OdUcc2KUvFB/goYdPyGYxnedwCvLStuWPEafVa0eGpGo4Gria84NaOabIDwibJ6u7P/H/PPTrHAlcC6xjf8thN+LR/XVtzyZimOXZLxGc7Ye134e2EVmpXN81T25pLxzTN3ik2PN2b7Cr2fKFNQh+i8xzgc4z+qf5Q5oC3tjUfmND0R7ZEfCZhDnhDW/OxCPPKTpHhqRqeAnwVowNA1XAM8CVG39R8OHPA63uw5nM1YT/fpG0FXtXWfCbCvLJS3Hk8VcN64Aom98m+0A7gm5Hmtdeqhk2E5THp6NDN48NVw5MizGulboZoR+PWA5dUDU+MNL9sFBce4D3Ao9i7oxKj2Ae4tGrYN9L89tYHiLPmN7QW+HR3XlCOLoKoz9Va4JPdkbNiFBWequHpwB8R59N9aAZ4LOEISVaqhmcBLyXOZsXQKuAgoI44z2XpTqk4gfHtWF+ONYQTVIu6c0hR4QHOIhyxiW0D8MZuMy8n7yRuhIc2Am/rzv7NybmkWx5nd2fLF6GYX7Rq+EXC/ZdSrtK+OOG8H6RqOAj4jYRDWEM4dyoLVcMRwKEJh7A/4dypIhQTHsImVspDePsBf55w/gu9nrTP/ybyWh5/yvjO1VmJjYSvphShpPC8kDSbWfMdUjXsn3gMQycRdyfqYo6umqj7U5ZyInvenz6mGeC3S9ncKuKX7J7Mw1KPg3Aey1NTD6J7sz8h9TgI57E8OfUgqoZHAI9OPQ7CWc0Hpx5EDEWEh3B5ixy+Kb2OcBmF1J5MeNOntoY8lsdTCR8Kqe0mj+UxcaWE52DyCM9awqHT1A4h7U72oQ2QxcmEh5B2M2toP8JYpl4p4VlHHm80iHfG9FJyWh4xT158KOsgixMaZ8jj9TFxpYRnQNojWvPlcC2WXJYFkMW1elwekZUSntnUA5jn56kHQFgeuQTwntSD4IErBqa2kz2vBT2VSgnPzaQ/dAxhB+b1qQcB3EQez/0W4MbUgyAsjxzCM0sYy9TL4cUXww/IY+fyTsJFwFO7lbQnyw3NEC4Sn9oNpPmqxEJryeP1MXFFhKetGRBeXKmtJ4NP+O4ayLemHgchfsnH0d0p5M7U4yBcPP6HqQcRQxHh6fwt6befr1nO7XAi+QRpz13ZDVyV0YXPPwlJn5udwOe6D8mpV1J4/o60v++9hNu+5OJi0i6POcJtX3JxYeL53wf8VeIxRFNMeNqaLYRP+VQ3WJsjXOM5C23NzwjXWE61U/Uu4JpE895DW/ND4MukO7T+3bbmvxLNO7piwtN5N+x5070IZoEzMtqsGDqLNMtjDnhzhpsVf0maza05wk0ki1FUeNqa7xPuAhnzvJ4dwDcI+5iy0tb8N+FiYDGXx3bgC23NZRHnuSzdGsf7ibvvaxvwj23NFyLOM7miwtP5a8KRpVibXNuBV2b46T50PuGme7FON9hG3pf5fAfxDkIMunm9IdL8slFceLoAnAz8hMnv35gDTmlrfjTh+axYd2j9ROD/mPzZzLPAiW3NTyc8n1H8AfCYSPOaBY5v6yzO3o6quPAAtDV3AccCP2Zyaz5zhFvVfnFC0x+btuYHwDOBnzG5NZ9Z4KS25j8mNP2RVQ2nAR+JMKsB4Sjn89o631sfTVKR4QFoa+4kXPvkW4x3H8c2wtrDiW3NP49xuhPV1twOHE24t/c4l8dWwhGs57Q1XxrjdMfqIaKzg3BC37iXx4+A38o5wpNWbHgA2pqfAMcAbyWsoYy66TUHfBb41bbmKyNOK7puzeepwDmEN8g4lsffAwe3NV8fcVoTs0R0fh84ELiAsDxG2RQddNO4GNjc1nxrhGn1XpG3MF5Md9eFswl3gtjF8q+Lch/hBXk9cPa0HJ2oGg4l7Gg9mfD7Lfe7TMPl8XXgrNwDvFR02prL5/3cEYTlcQIhIsu9VdH27uf/jbA8vjbyoKeA4Vmgangk8Oruz2GECO3igbXD4bV91hO+3/MvwAfbmtuiDzaCquFRwGnAKwi3f9lBCMtiy+N7hNshf6it+Z/og91Ly43Ogv/zGKACXgZs5oHQzl8eEC4udgdwGfDhbtNeHcOzhO4i8QcTrlG8kXCVum3Ad4EbM/reVRTd8tgMHE5YHqsImw+3Ad9u6yQnI67ISqKzyDRWEy7dehhhjXAVYfPyVuCmtk52lnz2DI+KM47oaDRF71xWeYxOHgyPimF08mF4VASjkxfDo6lndPJjeDTVjE6eDI+mltHJl+HRVDI6eTM8mjpGJ3+GR1PF6PSD4dHUMDr9YXg0FYxOvxge9Z7R6Z81qQcgjaJq+Bhw6oJ/NjqZc41HvWV0+svwqJeqhovZMzq7MTq9YHjUO90+nT9c5KH3GJ1+MDzqlSVuQXNuW3Nm7PFoZdy5rN54iOjsJKzpvD3BkLRChke94CHz6eKmlrJndKaP4VHWjM50MjzKltGZXoZHWTI6083wKDtGZ/oZHmXF6JTB8CgbRqcchkdZMDplMTxKzuiUx/AoKaNTJsOjZIxOuQyPkjA6ZfNLolqWqmEdcCTwNOBo4BHADDAL3AhcB1zf1tyzjGkZncLNDAaD1GNQpqqG1cDzgDOAY4GthA+rDQt+dDuwrfv324DzgE+3NVsXmabRkeHRnqqGGeBVhICsBzbt5SS2dH83wLvamvu66RodAYZHC1QNjwM+Afw6sHHEyc0B/wu8mLB5ZnQEGB7NUzX8HnAZsBbYZ0yTHRCuErhwekanYIZHAFQNzwc+xZ77bybB6BTO8Iiq4VnAlcSJzi7gRUanbJ7HU7iq4QDgn4gTHQjh+V6keSlThkcXMvpO5L2xD3Bp1YxtH5J6yPAUrGp4LvACws7kWGaAxxHODVKhDE/Z3kG8Taz5NgJvqRr2TTBvZcDwFKpq2AwclXAIq4BTEs5fCRmecv0Jab+rtwk3t4pleMp1IuM7SXCljuy+fKrCGJ4CdW/2x6ceB+FLp0ekHoTiMzxlOpLwParU1gBPTz0IxWd4ynQQ4bB2ahuAzakHofgMT5nWk0d4IO7Ji8qE4SnTrtQDmCensSgSw1OmLcDu1IMgXDLj7tSDUHyGp0w3AatTD4IQwBtSD0LxGZ4y3UYe4VlFuEi8CmN4CtTW7Aa+k3ochPjdnnoQis/wlOtvCLemSWU3cEUXQRXG8JTrEtJubm0FLkg4fyVkeArV1twNXEq6w9k/BL6RaN5KzPCU7WzCzfhimwPe2NZ4we9CGZ6CtTV3AG8l7r6ebcDlbc2VEeepzBgefRC4hXDLmRhmgddGmpcyZXgK1x1Vej5wF5Pf37MFOL7bv6SCGR7R1vwEeAbhdsOTWPMZAPcSonP9BKavnjE8AqCtuZNwbZxrGe8+nzngTuC4tuY/xzhd9Zjh0f26NZ9nAm8mxGfnCJMbEM7VuQg4tK39TpYe4C2Mtaiq4QmEI16vJJxlvN8y/+u27u+rgXe1NddOYHjqOcOjJVUN+wGvIAToKYQLxA/P/ZkhrNmsIZwFfQvwWeCitubH0Qer3jA8Wraquf8uoIcTLlu6irA5dTtwu9+70nIZHknRuXNZUnSGR1J0hkdSdIZHUnSGR1J0hkdSdIZHUnSGR1J0hkdSdIZHUnSGR1J0hkdSdIZHUnSGR1J0hkdSdIZHUnSGR1J0hkdSdIZHUnSGR1J0hkdSdIZHUnSGR1J0hkdSdIZHUnSGR1J0hkdSdIZHUnSGR1J0hkdSdIZHUnSGR1J0hkdSdIZHUnSGR1J0hkdSdIZHUnSGR1J0hkdSdIZHUnSGR1J0hkdSdIZHUnSGR1J0hkdSdIZHUnSGR1J0hkdSdIZHUnSGR1J0hkdSdIZHUnSGR1J0hkdSdIZHUnSGR1J0/w9S6qAa8C+pDwAAAABJRU5ErkJggg==\n",
          "text/plain": "<Figure size 360x360 with 1 Axes>"
         },
         "metadata": {},
         "output_type": "display_data"
        }
       ]
      }
     },
     "3886211918a04335874856f03db7c45b": {
      "model_module": "@jupyter-widgets/controls",
      "model_module_version": "1.5.0",
      "model_name": "LabelModel",
      "state": {
       "layout": "IPY_MODEL_d63934558b384200855508945769cafa",
       "style": "IPY_MODEL_e9c545c0cd104a6c98772ce9d60b9e17",
       "value": "Num. Qubits"
      }
     },
     "39108906ed8a4384b7221e07b244d185": {
      "model_module": "@jupyter-widgets/controls",
      "model_module_version": "1.5.0",
      "model_name": "DescriptionStyleModel",
      "state": {
       "description_width": ""
      }
     },
     "392fb6956fa441f6a92e857c8e3b1e6f": {
      "model_module": "@jupyter-widgets/controls",
      "model_module_version": "1.5.0",
      "model_name": "HTMLModel",
      "state": {
       "layout": "IPY_MODEL_c7e566d464194999992cf1e613050fb2",
       "style": "IPY_MODEL_b58066654d7947a081338d7dbccd32a6",
       "value": "<h5 style='color:#34bc6e'>True</h5>"
      }
     },
     "393abd66f8e3444994b733c913a58df3": {
      "model_module": "@jupyter-widgets/controls",
      "model_module_version": "1.5.0",
      "model_name": "HTMLModel",
      "state": {
       "layout": "IPY_MODEL_36264f3600a6442982cb2d8e4e8314b1",
       "style": "IPY_MODEL_efc16269ad5a40b691135bb87b7db00c",
       "value": "<h4>ibmq_quito</h4>"
      }
     },
     "396d4720e8694ef2b5f206f4a9cc7cc9": {
      "model_module": "@jupyter-widgets/base",
      "model_module_version": "1.2.0",
      "model_name": "LayoutModel",
      "state": {}
     },
     "39c35fa7d5394ef9b80c051ce6b7fa33": {
      "model_module": "@jupyter-widgets/base",
      "model_module_version": "1.2.0",
      "model_name": "LayoutModel",
      "state": {
       "justify_content": "center"
      }
     },
     "39e9973920e54c3da582fc0a57e69bcc": {
      "model_module": "@jupyter-widgets/controls",
      "model_module_version": "1.5.0",
      "model_name": "DescriptionStyleModel",
      "state": {
       "description_width": ""
      }
     },
     "3a3087de529a4c2b9960c5950d7e6922": {
      "model_module": "@jupyter-widgets/base",
      "model_module_version": "1.2.0",
      "model_name": "LayoutModel",
      "state": {
       "overflow_x": "scroll"
      }
     },
     "3aa4dee3685742f2962ee0e7afde2617": {
      "model_module": "@jupyter-widgets/controls",
      "model_module_version": "1.5.0",
      "model_name": "HTMLModel",
      "state": {
       "layout": "IPY_MODEL_9e35b583812b4efc9e9d3c0fe26be46f",
       "style": "IPY_MODEL_702ba8dc15f04ed58ed6df653d0bbda3",
       "value": "<h5 style='color:#dc267f'>False</h5>"
      }
     },
     "3ab739773f994f5f9f6061617cc9d08d": {
      "model_module": "@jupyter-widgets/controls",
      "model_module_version": "1.5.0",
      "model_name": "LabelModel",
      "state": {
       "layout": "IPY_MODEL_47e4fe0dd20b4690b74c4afc472ddaf0",
       "style": "IPY_MODEL_13238e2824854dbe81f5be8b9bb87951",
       "value": "0"
      }
     },
     "3b5b7166def64b63bdfce6d83ebc0ec8": {
      "model_module": "@jupyter-widgets/base",
      "model_module_version": "1.2.0",
      "model_name": "LayoutModel",
      "state": {}
     },
     "3ba60071415c4add82483d3a29632f3b": {
      "model_module": "@jupyter-widgets/controls",
      "model_module_version": "1.5.0",
      "model_name": "VBoxModel",
      "state": {
       "children": [
        "IPY_MODEL_9638112c2f0f44529a6b77feb4ad667c",
        "IPY_MODEL_8329c91e578e434a83eae21263a061b0"
       ],
       "layout": "IPY_MODEL_62d730f6cb444a009299b7c3b044d550"
      }
     },
     "3be1a32d333b415eb6eae08bc55c1a81": {
      "model_module": "@jupyter-widgets/controls",
      "model_module_version": "1.5.0",
      "model_name": "VBoxModel",
      "state": {
       "children": [
        "IPY_MODEL_4241844bf3bc480dbba83f0f54e21510",
        "IPY_MODEL_199dacaccd6c4c7cae0a647df11d48c0"
       ],
       "layout": "IPY_MODEL_523fc9222957496b97f4f8377de23a0f"
      }
     },
     "3bed3e5eec914567aa0307dbabd71d0f": {
      "model_module": "@jupyter-widgets/controls",
      "model_module_version": "1.5.0",
      "model_name": "DescriptionStyleModel",
      "state": {
       "description_width": ""
      }
     },
     "3dd58868ca3343fdb61ea2e80477cdb6": {
      "model_module": "@jupyter-widgets/base",
      "model_module_version": "1.2.0",
      "model_name": "LayoutModel",
      "state": {
       "margin": "8px 0px 0px 0px"
      }
     },
     "3f1a2631221c4ce3a8a9f458b5516812": {
      "model_module": "@jupyter-widgets/controls",
      "model_module_version": "1.5.0",
      "model_name": "HBoxModel",
      "state": {
       "children": [
        "IPY_MODEL_61d0652e7d514906b51297522080e299",
        "IPY_MODEL_22a82f80c02740828bb3bea40a6bb463",
        "IPY_MODEL_2753ae17baf040e0a3c6a8924d42f555",
        "IPY_MODEL_a06b3b9704494e5ab9c88302101fc3ba",
        "IPY_MODEL_1351a6199e11416791defcc2b053d758"
       ],
       "layout": "IPY_MODEL_0fa49a70d02346ac936aaca58067e16d"
      }
     },
     "3fdda7cd7dc0445c90a7ef29b5ce9230": {
      "model_module": "@jupyter-widgets/base",
      "model_module_version": "1.2.0",
      "model_name": "LayoutModel",
      "state": {
       "width": "190px"
      }
     },
     "4005dc74bbd84da59f22199a943b081a": {
      "model_module": "@jupyter-widgets/controls",
      "model_module_version": "1.5.0",
      "model_name": "HTMLModel",
      "state": {
       "layout": "IPY_MODEL_f26bad065b0946a18817a412646723bd",
       "style": "IPY_MODEL_9482e375c3f8483996fd932445749797",
       "value": "<h5>0.036</h5>"
      }
     },
     "402222506ec447c1bc28e20789d20140": {
      "model_module": "@jupyter-widgets/controls",
      "model_module_version": "1.5.0",
      "model_name": "TabModel",
      "state": {
       "_titles": {
        "0": "Configuration",
        "1": "Qubit Properties",
        "2": "Multi-Qubit Gates",
        "3": "Error Map",
        "4": "Job History"
       },
       "children": [
        "IPY_MODEL_99c4369b481b45a29df05be94ef1e1a8",
        "IPY_MODEL_7b72f0669def4a60ad2a19904b9e830a",
        "IPY_MODEL_31139e0614ee4d42a36ae2da5cc7baa2",
        "IPY_MODEL_0c4d7ebddcbb4c07ae35579218458fff",
        "IPY_MODEL_71c8a821e4f84c8ab67bd272a4cc0104"
       ],
       "layout": "IPY_MODEL_dbbc122de08d4ea99a9bc9f54464bdd3"
      }
     },
     "40290abf6aa04e7e8d66715d9cbf1546": {
      "model_module": "@jupyter-widgets/base",
      "model_module_version": "1.2.0",
      "model_name": "LayoutModel",
      "state": {
       "width": "95px"
      }
     },
     "4061caf1ebe44b1dab371ceecf992ff3": {
      "model_module": "@jupyter-widgets/base",
      "model_module_version": "1.2.0",
      "model_name": "LayoutModel",
      "state": {}
     },
     "413ba937bea34cf2b4b4a035392d2c63": {
      "model_module": "@jupyter-widgets/controls",
      "model_module_version": "1.5.0",
      "model_name": "LabelModel",
      "state": {
       "layout": "IPY_MODEL_f205c86d88784f71bfac58fd2651d2b4",
       "style": "IPY_MODEL_47952a252cfc435ca609d0d70c980646",
       "value": "0"
      }
     },
     "41bc2940aded48109a427d1e9590f425": {
      "model_module": "@jupyter-widgets/controls",
      "model_module_version": "1.5.0",
      "model_name": "IntProgressModel",
      "state": {
       "layout": "IPY_MODEL_0dd12459154c49498f9ae4e75feb198b",
       "max": 50,
       "style": "IPY_MODEL_294257e45e954f8ebf3fba36b1af30ae",
       "value": 10
      }
     },
     "4241844bf3bc480dbba83f0f54e21510": {
      "model_module": "@jupyter-widgets/controls",
      "model_module_version": "1.5.0",
      "model_name": "HTMLModel",
      "state": {
       "layout": "IPY_MODEL_adb8d29a1c064e1ebfbf6518770e41ac",
       "style": "IPY_MODEL_5357a09c4a0f48a392c1ab34b205fac6",
       "value": "<div><font style='font-weight:bold'>last_update_date</font>: Sun 09 August 2020 at 14:09 </div>"
      }
     },
     "429c21f2944647b49deadf43175517a2": {
      "model_module": "@jupyter-widgets/controls",
      "model_module_version": "1.5.0",
      "model_name": "HTMLModel",
      "state": {
       "layout": "IPY_MODEL_15be92d1067643bc81cc5572c929ca2e",
       "style": "IPY_MODEL_9115277209d14b7798302f76e4b6bbe9",
       "value": "<h4>ibmq_armonk</h4>"
      }
     },
     "432686d60f7c4b7da8bee2437fc84db7": {
      "model_module": "@jupyter-widgets/controls",
      "model_module_version": "1.5.0",
      "model_name": "DescriptionStyleModel",
      "state": {
       "description_width": ""
      }
     },
     "446290dfe05849398768ffeba09effaf": {
      "model_module": "@jupyter-widgets/controls",
      "model_module_version": "1.5.0",
      "model_name": "HTMLModel",
      "state": {
       "layout": "IPY_MODEL_4f6c4951979e420dbd1f87e5357234d2",
       "style": "IPY_MODEL_47cfc3b550224dcf98ce853be36b7c71",
       "value": "<h5>NA</h5>"
      }
     },
     "448fe398a694427887c1152eac44b92f": {
      "model_module": "@jupyter-widgets/controls",
      "model_module_version": "1.5.0",
      "model_name": "HTMLModel",
      "state": {
       "layout": "IPY_MODEL_ac1bf1bbf87b4edf9858f34dcf3e79c0",
       "style": "IPY_MODEL_0c93bf33fb624ead8ef078a9b29c0c99",
       "value": "<h5>0.0408</h5>"
      }
     },
     "4523875cfe57459990df580ec153b6b5": {
      "model_module": "@jupyter-widgets/base",
      "model_module_version": "1.2.0",
      "model_name": "LayoutModel",
      "state": {
       "justify_content": "center"
      }
     },
     "464626e263554814ae38702fb7d22c55": {
      "model_module": "@jupyter-widgets/base",
      "model_module_version": "1.2.0",
      "model_name": "LayoutModel",
      "state": {
       "grid_area": "right",
       "padding": "0px 0px 0px 0px",
       "width": "70px"
      }
     },
     "47516a77271e4bec90fdf394f9b2e635": {
      "model_module": "@jupyter-widgets/controls",
      "model_module_version": "1.5.0",
      "model_name": "LabelModel",
      "state": {
       "layout": "IPY_MODEL_58824e81efa541f98a4b6966ed2875f8",
       "style": "IPY_MODEL_efcb1a34899c4d2ca4f8cd4ab29098e7",
       "value": "12"
      }
     },
     "47952a252cfc435ca609d0d70c980646": {
      "model_module": "@jupyter-widgets/controls",
      "model_module_version": "1.5.0",
      "model_name": "DescriptionStyleModel",
      "state": {
       "description_width": ""
      }
     },
     "47cfc3b550224dcf98ce853be36b7c71": {
      "model_module": "@jupyter-widgets/controls",
      "model_module_version": "1.5.0",
      "model_name": "DescriptionStyleModel",
      "state": {
       "description_width": ""
      }
     },
     "47e4fe0dd20b4690b74c4afc472ddaf0": {
      "model_module": "@jupyter-widgets/base",
      "model_module_version": "1.2.0",
      "model_name": "LayoutModel",
      "state": {
       "min_width": "auto"
      }
     },
     "48437d04291c40e1a427ba6c04b0ecf7": {
      "model_module": "@jupyter-widgets/base",
      "model_module_version": "1.2.0",
      "model_name": "LayoutModel",
      "state": {}
     },
     "4875d0cc80da4ce1b87c36236cf821e0": {
      "model_module": "@jupyter-widgets/base",
      "model_module_version": "1.2.0",
      "model_name": "LayoutModel",
      "state": {
       "justify_content": "center"
      }
     },
     "49617ce6fece4ab89f94e8908ff8f626": {
      "model_module": "@jupyter-widgets/controls",
      "model_module_version": "1.5.0",
      "model_name": "DescriptionStyleModel",
      "state": {
       "description_width": ""
      }
     },
     "49b191736ba64ef4afff253ceaeb46a2": {
      "model_module": "@jupyter-widgets/controls",
      "model_module_version": "1.5.0",
      "model_name": "DescriptionStyleModel",
      "state": {
       "description_width": ""
      }
     },
     "4a4826f8f9aa44ee944a1e8cc1f72be9": {
      "model_module": "@jupyter-widgets/controls",
      "model_module_version": "1.5.0",
      "model_name": "HTMLModel",
      "state": {
       "layout": "IPY_MODEL_920cf74169434b009ec1576fb0a60759",
       "style": "IPY_MODEL_f898276c5f6c465696529817ca102e96",
       "value": "<h5 style='color:#34bc6e'>True</h5>"
      }
     },
     "4ae9a9e5e0ff4fa990bec40aecdeeeee": {
      "model_module": "@jupyter-widgets/controls",
      "model_module_version": "1.5.0",
      "model_name": "HTMLModel",
      "state": {
       "layout": "IPY_MODEL_5ecfe82def4e43e2afffed0db72541f8",
       "style": "IPY_MODEL_8e74cf2d1dc74501967eef2f2216df2a",
       "value": "<h5><b>1</b></h5>"
      }
     },
     "4b9d553fc9d64f668e40da670b7f8be0": {
      "model_module": "@jupyter-widgets/base",
      "model_module_version": "1.2.0",
      "model_name": "LayoutModel",
      "state": {}
     },
     "4d11914a02474ca0b633aae3247493ee": {
      "model_module": "@jupyter-widgets/controls",
      "model_module_version": "1.5.0",
      "model_name": "DescriptionStyleModel",
      "state": {
       "description_width": ""
      }
     },
     "4db030130eb543d9a9e9227fb206a11e": {
      "model_module": "@jupyter-widgets/controls",
      "model_module_version": "1.5.0",
      "model_name": "HTMLModel",
      "state": {
       "layout": "IPY_MODEL_4875d0cc80da4ce1b87c36236cf821e0",
       "style": "IPY_MODEL_905fa26d58764089b8a177d0bb00660f",
       "value": "<h5 style='color:#dc267f'>False</h5>"
      }
     },
     "4db34a1f6461490b9dececa59e93cb74": {
      "model_module": "@jupyter-widgets/controls",
      "model_module_version": "1.5.0",
      "model_name": "HTMLModel",
      "state": {
       "layout": "IPY_MODEL_892745295ab94d00a2abc3ecfc4f2c2e",
       "style": "IPY_MODEL_6173533458fb4d15bb6d15665dbcc893",
       "value": "<div><font style='font-weight:bold'>last_update_date</font>: 2021-09-09 09:00:48+00:00</div>"
      }
     },
     "4ec52d930ddb4efcabab35ff971071b8": {
      "model_module": "@jupyter-widgets/controls",
      "model_module_version": "1.5.0",
      "model_name": "DescriptionStyleModel",
      "state": {
       "description_width": ""
      }
     },
     "4ed4a504abfe48ada9a098990a363c30": {
      "model_module": "@jupyter-widgets/base",
      "model_module_version": "1.2.0",
      "model_name": "LayoutModel",
      "state": {
       "justify_content": "center"
      }
     },
     "4f6c4951979e420dbd1f87e5357234d2": {
      "model_module": "@jupyter-widgets/base",
      "model_module_version": "1.2.0",
      "model_name": "LayoutModel",
      "state": {}
     },
     "507682c29c804cf2b58a5455f9d83925": {
      "model_module": "@jupyter-widgets/base",
      "model_module_version": "1.2.0",
      "model_name": "LayoutModel",
      "state": {}
     },
     "50d92b5e8f9c448db5ccc109e3ab8d73": {
      "model_module": "@jupyter-widgets/base",
      "model_module_version": "1.2.0",
      "model_name": "LayoutModel",
      "state": {
       "align_items": "center",
       "justify_content": "center",
       "margin": "0px 0px 0px 0px",
       "max_height": "250px",
       "max_width": "250px",
       "min_height": "250px",
       "min_width": "250px"
      }
     },
     "523fc9222957496b97f4f8377de23a0f": {
      "model_module": "@jupyter-widgets/base",
      "model_module_version": "1.2.0",
      "model_name": "LayoutModel",
      "state": {}
     },
     "52b1121b4f2c46ebaa075735da6842bb": {
      "model_module": "@jupyter-widgets/base",
      "model_module_version": "1.2.0",
      "model_name": "LayoutModel",
      "state": {
       "grid_gap": "0px 0px",
       "grid_template_areas": "\n                                                   \"top top top\"\n                                                   \"left middle right\"\n                                                   ",
       "grid_template_columns": "33% 33% 33%",
       "grid_template_rows": "auto auto"
      }
     },
     "52bee217772e406faf186e87c91809bd": {
      "model_module": "@jupyter-widgets/base",
      "model_module_version": "1.2.0",
      "model_name": "LayoutModel",
      "state": {
       "width": "190px"
      }
     },
     "52df5139a4534fb7a94005b3a9871d86": {
      "model_module": "@jupyter-widgets/base",
      "model_module_version": "1.2.0",
      "model_name": "LayoutModel",
      "state": {
       "align_items": "center",
       "justify_content": "center",
       "margin": "0px 0px 0px 0px",
       "max_height": "250px",
       "max_width": "250px",
       "min_height": "250px",
       "min_width": "250px"
      }
     },
     "53245b8e6b984d6c89a178026db92787": {
      "model_module": "@jupyter-widgets/base",
      "model_module_version": "1.2.0",
      "model_name": "LayoutModel",
      "state": {
       "justify_content": "center"
      }
     },
     "5357a09c4a0f48a392c1ab34b205fac6": {
      "model_module": "@jupyter-widgets/controls",
      "model_module_version": "1.5.0",
      "model_name": "DescriptionStyleModel",
      "state": {
       "description_width": ""
      }
     },
     "5450e4d163244cc18ba879e90c06227e": {
      "model_module": "@jupyter-widgets/controls",
      "model_module_version": "1.5.0",
      "model_name": "DescriptionStyleModel",
      "state": {
       "description_width": ""
      }
     },
     "54810b8a36b04103a97caac222a5acc0": {
      "model_module": "@jupyter-widgets/output",
      "model_module_version": "1.0.0",
      "model_name": "OutputModel",
      "state": {
       "layout": "IPY_MODEL_2764d1cf15d340c3a72e4bac7599cadb",
       "outputs": [
        {
         "data": {
          "image/png": "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\n",
          "text/plain": "<Figure size 360x360 with 1 Axes>"
         },
         "metadata": {},
         "output_type": "display_data"
        }
       ]
      }
     },
     "561b86b6be5747088306db78eb87a5db": {
      "model_module": "@jupyter-widgets/controls",
      "model_module_version": "1.5.0",
      "model_name": "HTMLModel",
      "state": {
       "layout": "IPY_MODEL_53245b8e6b984d6c89a178026db92787",
       "style": "IPY_MODEL_742a128e86994fd9931e2d447bc3e059",
       "value": "<h5>16</h5>"
      }
     },
     "56b3571adde2477b82db0f6dbdd59c6f": {
      "model_module": "@jupyter-widgets/controls",
      "model_module_version": "1.5.0",
      "model_name": "DescriptionStyleModel",
      "state": {
       "description_width": ""
      }
     },
     "572ca7709c984518b79f6022b0eafd5f": {
      "model_module": "@jupyter-widgets/controls",
      "model_module_version": "1.5.0",
      "model_name": "HTMLModel",
      "state": {
       "layout": "IPY_MODEL_52bee217772e406faf186e87c91809bd",
       "style": "IPY_MODEL_6f96c2e685b245079a7f249e1db580b1",
       "value": "6139d8bba92e5070d610b81a"
      }
     },
     "573227bd7b19421db92430cbbb7bda86": {
      "model_module": "@jupyter-widgets/base",
      "model_module_version": "1.2.0",
      "model_name": "LayoutModel",
      "state": {}
     },
     "575db7b7af464d20b5ad22c9f899ac7d": {
      "model_module": "@jupyter-widgets/controls",
      "model_module_version": "1.5.0",
      "model_name": "HBoxModel",
      "state": {
       "children": [
        "IPY_MODEL_da957a1bf289404f9de240543dc66741",
        "IPY_MODEL_41bc2940aded48109a427d1e9590f425",
        "IPY_MODEL_88bd5790b091428e9b27b4e263df967b"
       ],
       "layout": "IPY_MODEL_9d8c57bf17d24953aad6a274048e9d43"
      }
     },
     "57faee2277c24121b1ece4f56e85c896": {
      "model_module": "@jupyter-widgets/controls",
      "model_module_version": "1.5.0",
      "model_name": "TabModel",
      "state": {
       "layout": "IPY_MODEL_f9e617c4ede145ca9be54f1ba69f1820"
      }
     },
     "582f2f0fe69645c4adf211833140d9dd": {
      "model_module": "@jupyter-widgets/controls",
      "model_module_version": "1.5.0",
      "model_name": "HTMLModel",
      "state": {
       "layout": "IPY_MODEL_6b37b3515e1f43bea7891e7beea1e510",
       "style": "IPY_MODEL_0b91605f55eb4e208ae196792df122ae",
       "value": "<h5><b>7</b></h5>"
      }
     },
     "58344a17ccd04b6b87bfe54baf1a0cbd": {
      "model_module": "@jupyter-widgets/base",
      "model_module_version": "1.2.0",
      "model_name": "LayoutModel",
      "state": {
       "grid_gap": "0px 0px",
       "grid_template_areas": "\n                               \"left right right right\"\n                               \"bottom bottom bottom bottom\"\n                               ",
       "grid_template_columns": "31% 23% 23% 23%",
       "grid_template_rows": "auto auto"
      }
     },
     "58824e81efa541f98a4b6966ed2875f8": {
      "model_module": "@jupyter-widgets/base",
      "model_module_version": "1.2.0",
      "model_name": "LayoutModel",
      "state": {
       "min_width": "auto"
      }
     },
     "5909c518d9414c3ea351f0ac247486f5": {
      "model_module": "@jupyter-widgets/controls",
      "model_module_version": "1.5.0",
      "model_name": "VBoxModel",
      "state": {
       "children": [
        "IPY_MODEL_ea299d38f737419d82a8a5654cf16a1e",
        "IPY_MODEL_886479dfd23346718cedf2c6c5ff89ba"
       ],
       "layout": "IPY_MODEL_c670b9235d5743bba6b836bdfc2f2e3e"
      }
     },
     "5b8309f90f4f4ab0972df296da6102c3": {
      "model_module": "@jupyter-widgets/base",
      "model_module_version": "1.2.0",
      "model_name": "LayoutModel",
      "state": {
       "justify_content": "center",
       "max_width": "250px",
       "min_width": "250px"
      }
     },
     "5bc861b1893443b9a951056a7b53c4ae": {
      "model_module": "@jupyter-widgets/controls",
      "model_module_version": "1.5.0",
      "model_name": "HTMLModel",
      "state": {
       "layout": "IPY_MODEL_87dc64cc368d4da08082f4c1b503e13b",
       "style": "IPY_MODEL_69c8d21b4ae642bca2d937ef3b212f57",
       "value": "<h5>16</h5>"
      }
     },
     "5bd5b13c7784437d986e12e4aec83126": {
      "model_module": "@jupyter-widgets/controls",
      "model_module_version": "1.5.0",
      "model_name": "DescriptionStyleModel",
      "state": {
       "description_width": ""
      }
     },
     "5c3c303cb64f4b778e7f9b7e8183a4f7": {
      "model_module": "@jupyter-widgets/controls",
      "model_module_version": "1.5.0",
      "model_name": "HTMLModel",
      "state": {
       "layout": "IPY_MODEL_ea00ab82c0004748bda6e62c775bdbe5",
       "style": "IPY_MODEL_af684ed815a047ef811e394511fc906e",
       "value": "<h4>ibmq_lima</h4>"
      }
     },
     "5cbcf595384d4b62a8b79952a88c2c21": {
      "model_module": "@jupyter-widgets/base",
      "model_module_version": "1.2.0",
      "model_name": "LayoutModel",
      "state": {
       "grid_area": "bottom",
       "width": "auto"
      }
     },
     "5cd0819993044eeea31e36c28f1c63e5": {
      "model_module": "@jupyter-widgets/controls",
      "model_module_version": "1.5.0",
      "model_name": "DescriptionStyleModel",
      "state": {
       "description_width": ""
      }
     },
     "5ce84463151b471a87cc58f6e847bfd9": {
      "model_module": "@jupyter-widgets/controls",
      "model_module_version": "1.5.0",
      "model_name": "HTMLModel",
      "state": {
       "layout": "IPY_MODEL_227c1c4a3b904229aaddc95a4f75b43d",
       "style": "IPY_MODEL_a0926c33a68041988e96913a452722c6",
       "value": "<table><style>\ntable {\n    border-collapse: collapse;\n    width: auto;\n}\n\nth, td {\n    text-align: left;\n    padding: 8px;\n}\n\ntr:nth-child(even) {background-color: #f6f6f6;};\n</style><tr><th></th><th>Type</th><th>Gate error</th></tr><tr><td><font style='font-weight:bold'>cx13_12</font></td><td>cx</td><td>0.01666</td></tr><tr><td><font style='font-weight:bold'>cx13_14</font></td><td>cx</td><td>0.05884</td></tr><tr><td><font style='font-weight:bold'>cx14_9</font></td><td>cx</td><td>0.03955</td></tr><tr><td><font style='font-weight:bold'>cx14_13</font></td><td>cx</td><td>0.05884</td></tr><tr><td><font style='font-weight:bold'>cx14_19</font></td><td>cx</td><td>0.02031</td></tr><tr><td><font style='font-weight:bold'>cx15_10</font></td><td>cx</td><td>0.02979</td></tr><tr><td><font style='font-weight:bold'>cx15_16</font></td><td>cx</td><td>0.02217</td></tr><tr><td><font style='font-weight:bold'>cx16_15</font></td><td>cx</td><td>0.02217</td></tr><tr><td><font style='font-weight:bold'>cx16_17</font></td><td>cx</td><td>0.02326</td></tr><tr><td><font style='font-weight:bold'>cx17_16</font></td><td>cx</td><td>0.02326</td></tr><tr><td><font style='font-weight:bold'>cx17_18</font></td><td>cx</td><td>0.04465</td></tr><tr><td><font style='font-weight:bold'>cx18_17</font></td><td>cx</td><td>0.04465</td></tr><tr><td><font style='font-weight:bold'>cx18_19</font></td><td>cx</td><td>0.02858</td></tr><tr><td><font style='font-weight:bold'>cx19_14</font></td><td>cx</td><td>0.02031</td></tr><tr><td><font style='font-weight:bold'>cx19_18</font></td><td>cx</td><td>0.02858</td></tr></table>"
      }
     },
     "5dc1eca30a8e4afcaca50e4d116d0526": {
      "model_module": "@jupyter-widgets/controls",
      "model_module_version": "1.5.0",
      "model_name": "HBoxModel",
      "state": {
       "children": [
        "IPY_MODEL_b6d23021ea2e4488918e7969081f5a79",
        "IPY_MODEL_9e69014ab6624f07a1d0d32215c3e7ac",
        "IPY_MODEL_ce6b14abac494321ab3adb207ea8650d"
       ],
       "layout": "IPY_MODEL_8c4a6c7e1aa64aeca834928c74546991"
      }
     },
     "5e969dbfb9154ddb927f627ba1b1e90e": {
      "model_module": "@jupyter-widgets/controls",
      "model_module_version": "1.5.0",
      "model_name": "DescriptionStyleModel",
      "state": {
       "description_width": ""
      }
     },
     "5ebf5dd45a42482aa3667b650cc58aa5": {
      "model_module": "@jupyter-widgets/base",
      "model_module_version": "1.2.0",
      "model_name": "LayoutModel",
      "state": {
       "width": "145px"
      }
     },
     "5ecfe82def4e43e2afffed0db72541f8": {
      "model_module": "@jupyter-widgets/base",
      "model_module_version": "1.2.0",
      "model_name": "LayoutModel",
      "state": {
       "justify_content": "center"
      }
     },
     "5f632d238c7e43e8965a58cb000a0ab6": {
      "model_module": "@jupyter-widgets/base",
      "model_module_version": "1.2.0",
      "model_name": "LayoutModel",
      "state": {
       "justify_content": "center"
      }
     },
     "5fe23f927d824b7eaed28591f0f40256": {
      "model_module": "@jupyter-widgets/controls",
      "model_module_version": "1.5.0",
      "model_name": "DescriptionStyleModel",
      "state": {
       "description_width": ""
      }
     },
     "60e2f2f699054e1bb2609db8efc76810": {
      "model_module": "@jupyter-widgets/base",
      "model_module_version": "1.2.0",
      "model_name": "LayoutModel",
      "state": {}
     },
     "6173533458fb4d15bb6d15665dbcc893": {
      "model_module": "@jupyter-widgets/controls",
      "model_module_version": "1.5.0",
      "model_name": "DescriptionStyleModel",
      "state": {
       "description_width": ""
      }
     },
     "61d0652e7d514906b51297522080e299": {
      "model_module": "@jupyter-widgets/controls",
      "model_module_version": "1.5.0",
      "model_name": "HTMLModel",
      "state": {
       "layout": "IPY_MODEL_a916bd26873f41448321bab449899736",
       "style": "IPY_MODEL_e158a97e2a9f4505a7b56a445eaf84a9",
       "value": "<h5>Job ID</h5>"
      }
     },
     "624bc6dc78ca456dae12ca23ee57c3f6": {
      "model_module": "@jupyter-widgets/controls",
      "model_module_version": "1.5.0",
      "model_name": "DescriptionStyleModel",
      "state": {
       "description_width": ""
      }
     },
     "62723f87340441ae99bb0951af0694ed": {
      "model_module": "@jupyter-widgets/controls",
      "model_module_version": "1.5.0",
      "model_name": "DescriptionStyleModel",
      "state": {
       "description_width": ""
      }
     },
     "62d730f6cb444a009299b7c3b044d550": {
      "model_module": "@jupyter-widgets/base",
      "model_module_version": "1.2.0",
      "model_name": "LayoutModel",
      "state": {
       "border": "4px solid #000000",
       "max_height": "650px",
       "min_height": "650px",
       "overflow_y": "hidden"
      }
     },
     "63044d1938674de99c28199fb2033312": {
      "model_module": "@jupyter-widgets/base",
      "model_module_version": "1.2.0",
      "model_name": "LayoutModel",
      "state": {
       "justify_content": "center",
       "max_width": "250px",
       "min_width": "250px"
      }
     },
     "63cb816f42d14927ab8e52f3d54a53e6": {
      "model_module": "@jupyter-widgets/base",
      "model_module_version": "1.2.0",
      "model_name": "LayoutModel",
      "state": {
       "grid_area": "left"
      }
     },
     "63e19005249d4b89a90b8f6bbd814c55": {
      "model_module": "@jupyter-widgets/controls",
      "model_module_version": "1.5.0",
      "model_name": "DescriptionStyleModel",
      "state": {
       "description_width": ""
      }
     },
     "6455744e26554d34b7f462ddef30db6b": {
      "model_module": "@jupyter-widgets/controls",
      "model_module_version": "1.5.0",
      "model_name": "DescriptionStyleModel",
      "state": {
       "description_width": ""
      }
     },
     "652bf50a51e84e3f9302f061c94a2a1b": {
      "model_module": "@jupyter-widgets/controls",
      "model_module_version": "1.5.0",
      "model_name": "DescriptionStyleModel",
      "state": {
       "description_width": ""
      }
     },
     "67c86a8b882e4a0fb65da9728ad6e73d": {
      "model_module": "@jupyter-widgets/controls",
      "model_module_version": "1.5.0",
      "model_name": "HTMLModel",
      "state": {
       "layout": "IPY_MODEL_4523875cfe57459990df580ec153b6b5",
       "style": "IPY_MODEL_104f679467e541a7815785747f1da26f",
       "value": "<h5 style='color:#34bc6e'>True</h5>"
      }
     },
     "684df29cdb674a9893fd2a46568d2e68": {
      "model_module": "@jupyter-widgets/base",
      "model_module_version": "1.2.0",
      "model_name": "LayoutModel",
      "state": {
       "justify_content": "center"
      }
     },
     "69c8d21b4ae642bca2d937ef3b212f57": {
      "model_module": "@jupyter-widgets/controls",
      "model_module_version": "1.5.0",
      "model_name": "DescriptionStyleModel",
      "state": {
       "description_width": ""
      }
     },
     "6b37b3515e1f43bea7891e7beea1e510": {
      "model_module": "@jupyter-widgets/base",
      "model_module_version": "1.2.0",
      "model_name": "LayoutModel",
      "state": {
       "justify_content": "center"
      }
     },
     "6b462513ded7408f9370b51d16c4e512": {
      "model_module": "@jupyter-widgets/controls",
      "model_module_version": "1.5.0",
      "model_name": "HBoxModel",
      "state": {
       "children": [
        "IPY_MODEL_cb1f570570d7401384bacd1de91cd9a1",
        "IPY_MODEL_04cfe89d639b4830a965db7cf17b3f21",
        "IPY_MODEL_a397b7192bb44ec688f45fa112095aa2"
       ],
       "layout": "IPY_MODEL_63044d1938674de99c28199fb2033312"
      }
     },
     "6bc6776514b14793a688c68454209105": {
      "model_module": "@jupyter-widgets/base",
      "model_module_version": "1.2.0",
      "model_name": "LayoutModel",
      "state": {
       "grid_gap": "0px 25px",
       "grid_template_columns": "250px 250px 250px 250px 250px 250px 250px 250px ",
       "grid_template_rows": "auto"
      }
     },
     "6d2cbf604b37465094f33f7279bcfbd4": {
      "model_module": "@jupyter-widgets/base",
      "model_module_version": "1.2.0",
      "model_name": "LayoutModel",
      "state": {
       "grid_area": "left"
      }
     },
     "6d8b8655ca124dd88f9d13d9a2f639d4": {
      "model_module": "@jupyter-widgets/base",
      "model_module_version": "1.2.0",
      "model_name": "LayoutModel",
      "state": {
       "justify_content": "center"
      }
     },
     "6e097992fa7a4f368f3dffbcf1bb70a2": {
      "model_module": "@jupyter-widgets/controls",
      "model_module_version": "1.5.0",
      "model_name": "HTMLModel",
      "state": {
       "layout": "IPY_MODEL_f599d552430042cb91009b7740534f04",
       "style": "IPY_MODEL_17d0fb1b2e3c4904a6535445440db6da",
       "value": "<div><font style='font-weight:bold'>last_update_date</font>: Thu 09 September 2021 at 09:00 UTC</div>"
      }
     },
     "6e41a86f8a5840afb89ed9856d64e10e": {
      "model_module": "@jupyter-widgets/base",
      "model_module_version": "1.2.0",
      "model_name": "LayoutModel",
      "state": {}
     },
     "6ed261ec35334c4595947f1fff48c191": {
      "model_module": "@jupyter-widgets/base",
      "model_module_version": "1.2.0",
      "model_name": "LayoutModel",
      "state": {
       "align_items": "center",
       "justify_content": "center",
       "margin": "0px 0px 0px 0px",
       "max_height": "250px",
       "max_width": "250px",
       "min_height": "250px",
       "min_width": "250px"
      }
     },
     "6eecb86069a04b419f8f9e2a66bd798b": {
      "model_module": "@jupyter-widgets/base",
      "model_module_version": "1.2.0",
      "model_name": "LayoutModel",
      "state": {
       "width": "95px"
      }
     },
     "6f65fd54196b427aba658b7f7ef701c9": {
      "model_module": "@jupyter-widgets/controls",
      "model_module_version": "1.5.0",
      "model_name": "LabelModel",
      "state": {
       "layout": "IPY_MODEL_796c410722bd4af5b34749e62f658c7e",
       "style": "IPY_MODEL_e079d0f3de1e43379c420a4e36460d2c",
       "value": "Avg. CX Err."
      }
     },
     "6f96c2e685b245079a7f249e1db580b1": {
      "model_module": "@jupyter-widgets/controls",
      "model_module_version": "1.5.0",
      "model_name": "DescriptionStyleModel",
      "state": {
       "description_width": ""
      }
     },
     "702ba8dc15f04ed58ed6df653d0bbda3": {
      "model_module": "@jupyter-widgets/controls",
      "model_module_version": "1.5.0",
      "model_name": "DescriptionStyleModel",
      "state": {
       "description_width": ""
      }
     },
     "70e5201e18b64cc297fc52a500fbe817": {
      "model_module": "@jupyter-widgets/base",
      "model_module_version": "1.2.0",
      "model_name": "LayoutModel",
      "state": {
       "min_width": "auto"
      }
     },
     "71c8a821e4f84c8ab67bd272a4cc0104": {
      "model_module": "@jupyter-widgets/controls",
      "model_module_version": "1.5.0",
      "model_name": "TabModel",
      "state": {
       "layout": "IPY_MODEL_033d2173c3844cb4a5373f16af8e7f34"
      }
     },
     "73e11133e55a4dabb56858d509b73f30": {
      "model_module": "@jupyter-widgets/base",
      "model_module_version": "1.2.0",
      "model_name": "LayoutModel",
      "state": {
       "justify_content": "center"
      }
     },
     "7422486f1ccf4d0488804c3c3873883a": {
      "model_module": "@jupyter-widgets/controls",
      "model_module_version": "1.5.0",
      "model_name": "ProgressStyleModel",
      "state": {
       "bar_color": "#71cddd",
       "description_width": ""
      }
     },
     "742a128e86994fd9931e2d447bc3e059": {
      "model_module": "@jupyter-widgets/controls",
      "model_module_version": "1.5.0",
      "model_name": "DescriptionStyleModel",
      "state": {
       "description_width": ""
      }
     },
     "74f5640f0bc24bf79d26ead0923cf3c9": {
      "model_module": "@jupyter-widgets/controls",
      "model_module_version": "1.5.0",
      "model_name": "GridBoxModel",
      "state": {
       "children": [
        "IPY_MODEL_e75363ac47ba493da8c30ad87f22a9d0",
        "IPY_MODEL_54810b8a36b04103a97caac222a5acc0",
        "IPY_MODEL_d609400e8e514ff4a968087c60dc1794"
       ],
       "layout": "IPY_MODEL_58344a17ccd04b6b87bfe54baf1a0cbd"
      }
     },
     "756bb316e61e46a1b6c3baabccecb5c1": {
      "model_module": "@jupyter-widgets/base",
      "model_module_version": "1.2.0",
      "model_name": "LayoutModel",
      "state": {
       "grid_area": "left",
       "width": "100%"
      }
     },
     "75aa57c83c634c63b364cad086618e0a": {
      "model_module": "@jupyter-widgets/controls",
      "model_module_version": "1.5.0",
      "model_name": "DescriptionStyleModel",
      "state": {
       "description_width": ""
      }
     },
     "75c6da7a5a914efcb53a8f877f4d0069": {
      "model_module": "@jupyter-widgets/controls",
      "model_module_version": "1.5.0",
      "model_name": "DescriptionStyleModel",
      "state": {
       "description_width": ""
      }
     },
     "75db519e84524b358837708978df7e9a": {
      "model_module": "@jupyter-widgets/base",
      "model_module_version": "1.2.0",
      "model_name": "LayoutModel",
      "state": {
       "justify_content": "center"
      }
     },
     "76a78939572143189ca9e6220df71dba": {
      "model_module": "@jupyter-widgets/controls",
      "model_module_version": "1.5.0",
      "model_name": "HTMLModel",
      "state": {
       "layout": "IPY_MODEL_822b40d0c99243f0b9746de140a47f39",
       "style": "IPY_MODEL_f2b86ec854ee4f6596784f3501b7c181",
       "value": "<h4>ibmq_bogota</h4>"
      }
     },
     "782288e8eb0046edbc98e2be5e00d6ea": {
      "model_module": "@jupyter-widgets/base",
      "model_module_version": "1.2.0",
      "model_name": "LayoutModel",
      "state": {
       "min_width": "auto"
      }
     },
     "788ecfaa502142ca83a95968ac28e1fc": {
      "model_module": "@jupyter-widgets/base",
      "model_module_version": "1.2.0",
      "model_name": "LayoutModel",
      "state": {}
     },
     "78fbf6fa0aaf45ae8bef1415616dc0a3": {
      "model_module": "@jupyter-widgets/controls",
      "model_module_version": "1.5.0",
      "model_name": "ButtonStyleModel",
      "state": {}
     },
     "79003e58f9a24fc0849c4a0699970db3": {
      "model_module": "@jupyter-widgets/controls",
      "model_module_version": "1.5.0",
      "model_name": "DescriptionStyleModel",
      "state": {
       "description_width": ""
      }
     },
     "7958ea8f2fe9438695fad0c23a643642": {
      "model_module": "@jupyter-widgets/controls",
      "model_module_version": "1.5.0",
      "model_name": "DescriptionStyleModel",
      "state": {
       "description_width": ""
      }
     },
     "796c410722bd4af5b34749e62f658c7e": {
      "model_module": "@jupyter-widgets/base",
      "model_module_version": "1.2.0",
      "model_name": "LayoutModel",
      "state": {
       "margin": "8px 0px 0px 0px"
      }
     },
     "7a5ae75f3984478fae3f22279109e358": {
      "model_module": "@jupyter-widgets/controls",
      "model_module_version": "1.5.0",
      "model_name": "LabelModel",
      "state": {
       "layout": "IPY_MODEL_c9480926b58f4dacaac928eb3e35fd3f",
       "style": "IPY_MODEL_28359baa87294cbca71f2dc1d3ef3fc1",
       "value": "Quantum Vol."
      }
     },
     "7aa6b8785a5f4e158dda4f23f9514785": {
      "model_module": "@jupyter-widgets/controls",
      "model_module_version": "1.5.0",
      "model_name": "HTMLModel",
      "state": {
       "layout": "IPY_MODEL_d3b882e27e8a48b6b07e28f75589eaec",
       "style": "IPY_MODEL_920bc9e4c34745bb896ebc6ffbd4166e",
       "value": "<h5>0.0174</h5>"
      }
     },
     "7b72f0669def4a60ad2a19904b9e830a": {
      "model_module": "@jupyter-widgets/controls",
      "model_module_version": "1.5.0",
      "model_name": "VBoxModel",
      "state": {
       "children": [
        "IPY_MODEL_6e097992fa7a4f368f3dffbcf1bb70a2",
        "IPY_MODEL_fd8e769d07d74fdd8dde686cbb8634a4"
       ],
       "layout": "IPY_MODEL_788ecfaa502142ca83a95968ac28e1fc"
      }
     },
     "7bad261a86da4c89a5edcf4837b07e42": {
      "model_module": "@jupyter-widgets/controls",
      "model_module_version": "1.5.0",
      "model_name": "DescriptionStyleModel",
      "state": {
       "description_width": ""
      }
     },
     "7bc25e7696ef40d0ae85ebc98c452dfd": {
      "model_module": "@jupyter-widgets/base",
      "model_module_version": "1.2.0",
      "model_name": "LayoutModel",
      "state": {
       "max_width": "180px"
      }
     },
     "7c3c73a4742746c988555e138259475e": {
      "model_module": "@jupyter-widgets/controls",
      "model_module_version": "1.5.0",
      "model_name": "HTMLModel",
      "state": {
       "layout": "IPY_MODEL_0bf9011608b6455887c5d8eda63e4a78",
       "style": "IPY_MODEL_072bffee6a734a5da20c37afcc6bf1df",
       "value": "<h5 style='color:#34bc6e'>True</h5>"
      }
     },
     "7c835e6433664dd1852d494d2193896b": {
      "model_module": "@jupyter-widgets/controls",
      "model_module_version": "1.5.0",
      "model_name": "LabelModel",
      "state": {
       "layout": "IPY_MODEL_03a09fe143144f63a26ca416c3d2c878",
       "style": "IPY_MODEL_9d4bf04b105446638e312e8896b2ead7",
       "value": "Least Busy"
      }
     },
     "7d6f648249d54fc0b6553cc2cb209dff": {
      "model_module": "@jupyter-widgets/controls",
      "model_module_version": "1.5.0",
      "model_name": "ButtonStyleModel",
      "state": {
       "button_color": "white"
      }
     },
     "7db469fa60634e1eab9e00799de579b6": {
      "model_module": "@jupyter-widgets/controls",
      "model_module_version": "1.5.0",
      "model_name": "HTMLModel",
      "state": {
       "layout": "IPY_MODEL_d5a3d8c3c2ce4dec837aa37c52d88dbf",
       "style": "IPY_MODEL_dcd6c89b1f2a40878b105b9e91e47d07",
       "value": "<h5 style='color:#dc267f'>False</h5>"
      }
     },
     "7eb18eb0080246e286b156180d4f58ba": {
      "model_module": "@jupyter-widgets/base",
      "model_module_version": "1.2.0",
      "model_name": "LayoutModel",
      "state": {
       "align_items": "center",
       "display": "flex-inline",
       "grid_area": "right",
       "max_height": "325px",
       "padding": "10px 10px 10px 10px",
       "width": "auto"
      }
     },
     "7f1edf898293413a819e2c570fee56af": {
      "model_module": "@jupyter-widgets/controls",
      "model_module_version": "1.5.0",
      "model_name": "DescriptionStyleModel",
      "state": {
       "description_width": ""
      }
     },
     "7feac45a6c9e4ec99e7e66b82fb900c5": {
      "model_module": "@jupyter-widgets/controls",
      "model_module_version": "1.5.0",
      "model_name": "HTMLModel",
      "state": {
       "layout": "IPY_MODEL_8116f7c5bf034afe9790d77c4267e895",
       "style": "IPY_MODEL_91bd290dec1f4a9ba64b6096d02f356f",
       "value": "<h5>137.5 / 149.6 us</h5>"
      }
     },
     "7ff3261d72b64b48a91c4e06d7346762": {
      "model_module": "@jupyter-widgets/base",
      "model_module_version": "1.2.0",
      "model_name": "LayoutModel",
      "state": {
       "grid_area": "left",
       "width": "100%"
      }
     },
     "80077ba55ca94e4ea521e7d9ed7b4d25": {
      "model_module": "@jupyter-widgets/controls",
      "model_module_version": "1.5.0",
      "model_name": "DescriptionStyleModel",
      "state": {
       "description_width": ""
      }
     },
     "803ca972c4ba44d396f35364b80cf393": {
      "model_module": "@jupyter-widgets/controls",
      "model_module_version": "1.5.0",
      "model_name": "DescriptionStyleModel",
      "state": {
       "description_width": ""
      }
     },
     "804e5c7710694f6a9f377eddf9b471c7": {
      "model_module": "@jupyter-widgets/base",
      "model_module_version": "1.2.0",
      "model_name": "LayoutModel",
      "state": {}
     },
     "806dd88f1c7e452e861ecd212bf2f73a": {
      "model_module": "@jupyter-widgets/controls",
      "model_module_version": "1.5.0",
      "model_name": "HTMLModel",
      "state": {
       "layout": "IPY_MODEL_6e41a86f8a5840afb89ed9856d64e10e",
       "style": "IPY_MODEL_5e969dbfb9154ddb927f627ba1b1e90e",
       "value": "<h5>156.5 / 252.0 us</h5>"
      }
     },
     "8116f7c5bf034afe9790d77c4267e895": {
      "model_module": "@jupyter-widgets/base",
      "model_module_version": "1.2.0",
      "model_name": "LayoutModel",
      "state": {}
     },
     "817a934e4436492ca56faa4eedfa8b94": {
      "model_module": "@jupyter-widgets/base",
      "model_module_version": "1.2.0",
      "model_name": "LayoutModel",
      "state": {
       "justify_content": "center"
      }
     },
     "821a4e0e1bbf49b8b1a7aac8adadf45f": {
      "model_module": "@jupyter-widgets/controls",
      "model_module_version": "1.5.0",
      "model_name": "DescriptionStyleModel",
      "state": {
       "description_width": ""
      }
     },
     "822b40d0c99243f0b9746de140a47f39": {
      "model_module": "@jupyter-widgets/base",
      "model_module_version": "1.2.0",
      "model_name": "LayoutModel",
      "state": {}
     },
     "82a31f07dbac484487ceb8fac1d41545": {
      "model_module": "@jupyter-widgets/controls",
      "model_module_version": "1.5.0",
      "model_name": "ProgressStyleModel",
      "state": {
       "bar_color": "#71cddd",
       "description_width": ""
      }
     },
     "8329c91e578e434a83eae21263a061b0": {
      "model_module": "@jupyter-widgets/controls",
      "model_module_version": "1.5.0",
      "model_name": "TabModel",
      "state": {
       "_titles": {
        "0": "Configuration",
        "1": "Qubit Properties",
        "2": "Multi-Qubit Gates",
        "3": "Error Map",
        "4": "Job History"
       },
       "children": [
        "IPY_MODEL_74f5640f0bc24bf79d26ead0923cf3c9",
        "IPY_MODEL_3be1a32d333b415eb6eae08bc55c1a81",
        "IPY_MODEL_1266745a7cf94e52b3f8bdbf9937fe3f",
        "IPY_MODEL_84dab4832326461c8372cfa16f7d6c83",
        "IPY_MODEL_57faee2277c24121b1ece4f56e85c896"
       ],
       "layout": "IPY_MODEL_adae732f88904e87be7339267d555fc4"
      }
     },
     "83bfa53ec3614879a38a76c7f1959f0c": {
      "model_module": "@jupyter-widgets/controls",
      "model_module_version": "1.5.0",
      "model_name": "VBoxModel",
      "state": {
       "children": [
        "IPY_MODEL_f6df220e363741c6b68fc4d3b710f20b",
        "IPY_MODEL_a3fb8ce6c80248c7af832b50ee9d5bf6",
        "IPY_MODEL_e464f3a121224a3c812a8d1fb0d4b1b4",
        "IPY_MODEL_b3b887582d4647468fa79fba8394e975",
        "IPY_MODEL_c203003439d144b6bf0005451d467718",
        "IPY_MODEL_d6cbc66e92df4942bc1f635129f2e59c",
        "IPY_MODEL_cefb1243362e4294a4ba4abdf7c36fb1",
        "IPY_MODEL_8711c8b5a4854b16968051849dd3cd8b",
        "IPY_MODEL_e1056b777add41bd8f458e323d713446",
        "IPY_MODEL_9ea753f2bc54415795ff556050c58654"
       ],
       "layout": "IPY_MODEL_ee45a968841f48da9b48f874b7b07cf1"
      }
     },
     "84dab4832326461c8372cfa16f7d6c83": {
      "model_module": "@jupyter-widgets/output",
      "model_module_version": "1.0.0",
      "model_name": "OutputModel",
      "state": {
       "layout": "IPY_MODEL_0f61798fa60646b3ba75b186d98da7b0",
       "outputs": [
        {
         "data": {
          "image/png": "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\n",
          "text/plain": "<Figure size 792x648 with 5 Axes>"
         },
         "metadata": {},
         "output_type": "display_data"
        }
       ]
      }
     },
     "857781a7396d49afba379237e2c5c9ad": {
      "model_module": "@jupyter-widgets/controls",
      "model_module_version": "1.5.0",
      "model_name": "DescriptionStyleModel",
      "state": {
       "description_width": ""
      }
     },
     "8595b678aa8d4ff084d833d08dcc41ee": {
      "model_module": "@jupyter-widgets/base",
      "model_module_version": "1.2.0",
      "model_name": "LayoutModel",
      "state": {
       "align_items": "center",
       "display": "inline-flex",
       "flex_flow": "column"
      }
     },
     "8599816dffaa4cb99cf2fbd2ce2f2ebe": {
      "model_module": "@jupyter-widgets/controls",
      "model_module_version": "1.5.0",
      "model_name": "DescriptionStyleModel",
      "state": {
       "description_width": ""
      }
     },
     "85a8e1bf42034727a850e7de749bdf49": {
      "model_module": "@jupyter-widgets/base",
      "model_module_version": "1.2.0",
      "model_name": "LayoutModel",
      "state": {
       "margin": "0px 5px 0px 0px",
       "width": "32px"
      }
     },
     "85e2724f990c448485f8166add04f217": {
      "model_module": "@jupyter-widgets/controls",
      "model_module_version": "1.5.0",
      "model_name": "HTMLModel",
      "state": {
       "layout": "IPY_MODEL_ad786cb7de7e483e80641e63216cf5a9",
       "style": "IPY_MODEL_624bc6dc78ca456dae12ca23ee57c3f6",
       "value": "<h5>74.1 / 103.0 us</h5>"
      }
     },
     "85fbbf6ae142489682d6b55e414c6eec": {
      "model_module": "@jupyter-widgets/controls",
      "model_module_version": "1.5.0",
      "model_name": "HTMLModel",
      "state": {
       "layout": "IPY_MODEL_2f19520fb91944da9422f2a653466a68",
       "style": "IPY_MODEL_9459ec787bca4b30be58090dbf55b461",
       "value": "<h5>0.022</h5>"
      }
     },
     "8711c8b5a4854b16968051849dd3cd8b": {
      "model_module": "@jupyter-widgets/controls",
      "model_module_version": "1.5.0",
      "model_name": "HTMLModel",
      "state": {
       "layout": "IPY_MODEL_804e5c7710694f6a9f377eddf9b471c7",
       "style": "IPY_MODEL_c813d369323e445c85c605bace4aaa36",
       "value": "<h5>149.4 / 59.9 us</h5>"
      }
     },
     "8773f446084e44efa88c89d4b5f85f2d": {
      "model_module": "@jupyter-widgets/controls",
      "model_module_version": "1.5.0",
      "model_name": "HTMLModel",
      "state": {
       "layout": "IPY_MODEL_507682c29c804cf2b58a5455f9d83925",
       "style": "IPY_MODEL_49b191736ba64ef4afff253ceaeb46a2",
       "value": "<h5>0.0363</h5>"
      }
     },
     "87839ac747d1461391a59913d2f7cf57": {
      "model_module": "@jupyter-widgets/controls",
      "model_module_version": "1.5.0",
      "model_name": "HTMLModel",
      "state": {
       "layout": "IPY_MODEL_39c35fa7d5394ef9b80c051ce6b7fa33",
       "style": "IPY_MODEL_8a1acbb06f8e437d8168eb206e0eb71b",
       "value": "<h5 style='color:#34bc6e'>True</h5>"
      }
     },
     "87dc64cc368d4da08082f4c1b503e13b": {
      "model_module": "@jupyter-widgets/base",
      "model_module_version": "1.2.0",
      "model_name": "LayoutModel",
      "state": {
       "justify_content": "center"
      }
     },
     "886479dfd23346718cedf2c6c5ff89ba": {
      "model_module": "@jupyter-widgets/controls",
      "model_module_version": "1.5.0",
      "model_name": "HBoxModel",
      "state": {
       "children": [
        "IPY_MODEL_d8098d8797fb419dbc763b032db8d89f",
        "IPY_MODEL_a5cb6a5c667d4ed1aeeb62b5442f5f9c"
       ],
       "layout": "IPY_MODEL_2819bc07572d427cbc531e0c0f0ebf10"
      }
     },
     "88bd5790b091428e9b27b4e263df967b": {
      "model_module": "@jupyter-widgets/controls",
      "model_module_version": "1.5.0",
      "model_name": "LabelModel",
      "state": {
       "layout": "IPY_MODEL_e4a912b8615f40d7a6a2f8302f7fda26",
       "style": "IPY_MODEL_a73f41ae615c4d4a9782cefca50005a4",
       "value": "50"
      }
     },
     "892745295ab94d00a2abc3ecfc4f2c2e": {
      "model_module": "@jupyter-widgets/base",
      "model_module_version": "1.2.0",
      "model_name": "LayoutModel",
      "state": {
       "grid_area": "top"
      }
     },
     "898873b4b9ee4e00b4b50dcdfbfde533": {
      "model_module": "@jupyter-widgets/controls",
      "model_module_version": "1.5.0",
      "model_name": "VBoxModel",
      "state": {
       "children": [
        "IPY_MODEL_393abd66f8e3444994b733c913a58df3",
        "IPY_MODEL_3869b04cdb4a41629f8538d8dd4aaad7",
        "IPY_MODEL_e70e3fca01054049bca60232b8d4c96e",
        "IPY_MODEL_5bc861b1893443b9a951056a7b53c4ae",
        "IPY_MODEL_6b462513ded7408f9370b51d16c4e512",
        "IPY_MODEL_7c3c73a4742746c988555e138259475e",
        "IPY_MODEL_7db469fa60634e1eab9e00799de579b6",
        "IPY_MODEL_1f5091e886194ae5a3f807968fb6072b",
        "IPY_MODEL_7aa6b8785a5f4e158dda4f23f9514785",
        "IPY_MODEL_448fe398a694427887c1152eac44b92f"
       ],
       "layout": "IPY_MODEL_8595b678aa8d4ff084d833d08dcc41ee"
      }
     },
     "8a1acbb06f8e437d8168eb206e0eb71b": {
      "model_module": "@jupyter-widgets/controls",
      "model_module_version": "1.5.0",
      "model_name": "DescriptionStyleModel",
      "state": {
       "description_width": ""
      }
     },
     "8a3d4378f5d74621a51c84fa068eef29": {
      "model_module": "@jupyter-widgets/base",
      "model_module_version": "1.2.0",
      "model_name": "LayoutModel",
      "state": {
       "width": "145px"
      }
     },
     "8aff9a63cf9d475e9d3a700630efd0fa": {
      "model_module": "@jupyter-widgets/controls",
      "model_module_version": "1.5.0",
      "model_name": "DescriptionStyleModel",
      "state": {
       "description_width": ""
      }
     },
     "8c001ed4bbb84f0ea10506845bb8075c": {
      "model_module": "@jupyter-widgets/controls",
      "model_module_version": "1.5.0",
      "model_name": "DescriptionStyleModel",
      "state": {
       "description_width": ""
      }
     },
     "8c4a6c7e1aa64aeca834928c74546991": {
      "model_module": "@jupyter-widgets/base",
      "model_module_version": "1.2.0",
      "model_name": "LayoutModel",
      "state": {
       "justify_content": "center",
       "max_width": "250px",
       "min_width": "250px"
      }
     },
     "8c6046bd62db408688cf6547a6383118": {
      "model_module": "@jupyter-widgets/controls",
      "model_module_version": "1.5.0",
      "model_name": "DescriptionStyleModel",
      "state": {
       "description_width": ""
      }
     },
     "8ce379424bcf4e8c86f2dd316fe64c72": {
      "model_module": "@jupyter-widgets/controls",
      "model_module_version": "1.5.0",
      "model_name": "HTMLMathModel",
      "state": {
       "layout": "IPY_MODEL_5cbcf595384d4b62a8b79952a88c2c21",
       "style": "IPY_MODEL_9c59b37a785748be902a6de3862ec51a",
       "value": "<table><style>\ntable {\n    border-collapse: collapse;\n    width: auto;\n}\n\nth, td {\n    text-align: left;\n    padding: 8px;\n}\n\ntr:nth-child(even) {background-color: #f6f6f6;}\n</style><tr><th></th><th></th></tr><tr><td>coupling_map</td><td>[[0, 1], [1, 0], [1, 2], [1, 3], [2, 1], [3, 1], [3, 5], [4, 5], [5, 3], [5, 4], [5, 6], [6, 5]]</td></tr><tr><td>url</td><td>None</td></tr><tr><td>sample_name</td><td>family: Falcon, revision: 5.11, segment: H</td></tr><tr><td>u_channel_lo</td><td>[[{'q': 1, 'scale': (1+0j)}], [{'q': 0, 'scale': (1+0j)}], [{'q': 2, 'scale': (1+0j)}], [{'q': 3, 'scale': (1+0j)}], [{'q': 1, 'scale': (1+0j)}], [{'q': 1, 'scale': (1+0j)}], [{'q': 5, 'scale': (1+0j)}], [{'q': 5, 'scale': (1+0j)}], [{'q': 3, 'scale': (1+0j)}], [{'q': 4, 'scale': (1+0j)}], [{'q': 6, 'scale': (1+0j)}], [{'q': 5, 'scale': (1+0j)}]]</td></tr><tr><td>dtm</td><td>0.2222222222222222</td></tr><tr><td>online_date</td><td>2021-07-22 04:00:00+00:00</td></tr><tr><td>supported_instructions</td><td>['u1', 'sx', 'delay', 'measure', 'id', 'setf', 'u2', 'acquire', 'rz', 'play', 'cx', 'u3', 'x', 'shiftf', 'reset']</td></tr><tr><td>channels</td><td>{'acquire0': {'operates': {'qubits': [0]}, 'purpose': 'acquire', 'type': 'acquire'}, 'acquire1': {'operates': {'qubits': [1]}, 'purpose': 'acquire', 'type': 'acquire'}, 'acquire2': {'operates': {'qubits': [2]}, 'purpose': 'acquire', 'type': 'acquire'}, 'acquire3': {'operates': {'qubits': [3]}, 'purpose': 'acquire', 'type': 'acquire'}, 'acquire4': {'operates': {'qubits': [4]}, 'purpose': 'acquire', 'type': 'acquire'}, 'acquire5': {'operates': {'qubits': [5]}, 'purpose': 'acquire', 'type': 'acquire'}, 'acquire6': {'operates': {'qubits': [6]}, 'purpose': 'acquire', 'type': 'acquire'}, 'd0': {'operates': {'qubits': [0]}, 'purpose': 'drive', 'type': 'drive'}, 'd1': {'operates': {'qubits': [1]}, 'purpose': 'drive', 'type': 'drive'}, 'd2': {'operates': {'qubits': [2]}, 'purpose': 'drive', 'type': 'drive'}, 'd3': {'operates': {'qubits': [3]}, 'purpose': 'drive', 'type': 'drive'}, 'd4': {'operates': {'qubits': [4]}, 'purpose': 'drive', 'type': 'drive'}, 'd5': {'operates': {'qubits': [5]}, 'purpose': 'drive', 'type': 'drive'}, 'd6': {'operates': {'qubits': [6]}, 'purpose': 'drive', 'type': 'drive'}, 'm0': {'operates': {'qubits': [0]}, 'purpose': 'measure', 'type': 'measure'}, 'm1': {'operates': {'qubits': [1]}, 'purpose': 'measure', 'type': 'measure'}, 'm2': {'operates': {'qubits': [2]}, 'purpose': 'measure', 'type': 'measure'}, 'm3': {'operates': {'qubits': [3]}, 'purpose': 'measure', 'type': 'measure'}, 'm4': {'operates': {'qubits': [4]}, 'purpose': 'measure', 'type': 'measure'}, 'm5': {'operates': {'qubits': [5]}, 'purpose': 'measure', 'type': 'measure'}, 'm6': {'operates': {'qubits': [6]}, 'purpose': 'measure', 'type': 'measure'}, 'u0': {'operates': {'qubits': [0, 1]}, 'purpose': 'cross-resonance', 'type': 'control'}, 'u1': {'operates': {'qubits': [1, 0]}, 'purpose': 'cross-resonance', 'type': 'control'}, 'u10': {'operates': {'qubits': [5, 6]}, 'purpose': 'cross-resonance', 'type': 'control'}, 'u11': {'operates': {'qubits': [6, 5]}, 'purpose': 'cross-resonance', 'type': 'control'}, 'u2': {'operates': {'qubits': [1, 2]}, 'purpose': 'cross-resonance', 'type': 'control'}, 'u3': {'operates': {'qubits': [1, 3]}, 'purpose': 'cross-resonance', 'type': 'control'}, 'u4': {'operates': {'qubits': [2, 1]}, 'purpose': 'cross-resonance', 'type': 'control'}, 'u5': {'operates': {'qubits': [3, 1]}, 'purpose': 'cross-resonance', 'type': 'control'}, 'u6': {'operates': {'qubits': [3, 5]}, 'purpose': 'cross-resonance', 'type': 'control'}, 'u7': {'operates': {'qubits': [4, 5]}, 'purpose': 'cross-resonance', 'type': 'control'}, 'u8': {'operates': {'qubits': [5, 3]}, 'purpose': 'cross-resonance', 'type': 'control'}, 'u9': {'operates': {'qubits': [5, 4]}, 'purpose': 'cross-resonance', 'type': 'control'}}</td></tr><tr><td>simulator</td><td>False</td></tr><tr><td>local</td><td>False</td></tr><tr><td>backend_name</td><td>ibm_perth</td></tr><tr><td>meas_lo_range</td><td>[[6.663115502, 7.663115502], [6.6164476510000005, 7.6164476510000005], [6.84928468, 7.84928468], [6.719581694, 7.719581694], [6.637153809000001, 7.637153809000001], [6.78180398, 7.78180398], [6.6522457170000004, 7.6522457170000004]]</td></tr><tr><td>meas_map</td><td>[[0, 1, 2, 3, 4, 5, 6]]</td></tr><tr><td>allow_q_object</td><td>True</td></tr><tr><td>input_allowed</td><td>['job']</td></tr><tr><td>qubit_channel_mapping</td><td>[['u0', 'd0', 'u1', 'm0'], ['u1', 'd1', 'm1', 'u4', 'u0', 'u2', 'u3', 'u5'], ['u2', 'm2', 'd2', 'u4'], ['m3', 'u6', 'u8', 'u3', 'u5', 'd3'], ['u7', 'd4', 'm4', 'u9'], ['u7', 'u10', 'm5', 'u11', 'd5', 'u6', 'u8', 'u9'], ['d6', 'u11', 'm6', 'u10']]</td></tr><tr><td>processor_type</td><td>{'family': 'Falcon', 'revision': '5.11', 'segment': 'H'}</td></tr><tr><td>n_uchannels</td><td>12</td></tr><tr><td>rep_times</td><td>[1000.0]</td></tr><tr><td>rep_delay_range</td><td>[0.0, 500.0]</td></tr><tr><td>open_pulse</td><td>False</td></tr><tr><td>memory</td><td>True</td></tr><tr><td>n_registers</td><td>1</td></tr><tr><td>description</td><td>7 qubit device</td></tr><tr><td>pulse_num_qubits</td><td>3</td></tr><tr><td>qubit_lo_range</td><td>[[4.657387498567082, 5.657387498567082], [4.5343364566580755, 5.5343364566580755], [4.36185810782898, 5.36185810782898], [4.624409866446105, 5.624409866446105], [4.659484132471909, 5.659484132471909], [4.478871917850808, 5.478871917850808], [4.65665248009762, 5.65665248009762]]</td></tr><tr><td>dynamic_reprate_enabled</td><td>True</td></tr><tr><td>discriminators</td><td>['hw_qmfk', 'linear_discriminator', 'quadratic_discriminator']</td></tr><tr><td>meas_levels</td><td>[1, 2]</td></tr><tr><td>measure_esp_enabled</td><td>True</td></tr><tr><td>multi_meas_enabled</td><td>True</td></tr><tr><td>allow_object_storage</td><td>True</td></tr><tr><td>meas_kernels</td><td>['hw_qmfk']</td></tr><tr><td>credits_required</td><td>True</td></tr><tr><td>uchannels_enabled</td><td>True</td></tr><tr><td>conditional</td><td>False</td></tr><tr><td>default_rep_delay</td><td>250.0</td></tr><tr><td>dt</td><td>0.2222222222222222</td></tr><tr><td>acquisition_latency</td><td>[]</td></tr><tr><td>hamiltonian</td><td>$$\\begin{align} \\mathcal{H}/\\hbar = & \\sum_{i=0}^{6}\\left(\\frac{\\omega_{q,i}}{2}(\\mathbb{I}-\\sigma_i^{z})+\\frac{\\Delta_{i}}{2}(O_i^2-O_i)+\\Omega_{d,i}D_i(t)\\sigma_i^{X}\\right) \\\\ & + J_{0,1}(\\sigma_{0}^{+}\\sigma_{1}^{-}+\\sigma_{0}^{-}\\sigma_{1}^{+}) + J_{1,2}(\\sigma_{1}^{+}\\sigma_{2}^{-}+\\sigma_{1}^{-}\\sigma_{2}^{+}) + J_{4,5}(\\sigma_{4}^{+}\\sigma_{5}^{-}+\\sigma_{4}^{-}\\sigma_{5}^{+}) + J_{5,6}(\\sigma_{5}^{+}\\sigma_{6}^{-}+\\sigma_{5}^{-}\\sigma_{6}^{+}) \\\\ & + J_{1,3}(\\sigma_{1}^{+}\\sigma_{3}^{-}+\\sigma_{1}^{-}\\sigma_{3}^{+}) + J_{3,5}(\\sigma_{3}^{+}\\sigma_{5}^{-}+\\sigma_{3}^{-}\\sigma_{5}^{+}) \\\\ & + \\Omega_{d,0}(U_{0}^{(0,1)}(t))\\sigma_{0}^{X} + \\Omega_{d,1}(U_{1}^{(1,0)}(t)+U_{3}^{(1,3)}(t)+U_{2}^{(1,2)}(t))\\sigma_{1}^{X} \\\\ & + \\Omega_{d,2}(U_{4}^{(2,1)}(t))\\sigma_{2}^{X} + \\Omega_{d,3}(U_{5}^{(3,1)}(t)+U_{6}^{(3,5)}(t))\\sigma_{3}^{X} \\\\ & + \\Omega_{d,4}(U_{7}^{(4,5)}(t))\\sigma_{4}^{X} + \\Omega_{d,5}(U_{8}^{(5,3)}(t)+U_{10}^{(5,6)}(t)+U_{9}^{(5,4)}(t))\\sigma_{5}^{X} \\\\ & + \\Omega_{d,6}(U_{11}^{(6,5)}(t))\\sigma_{6}^{X} \\\\ \\end{align}$$</td></tr><tr><td>pulse_num_channels</td><td>9</td></tr><tr><td>parametric_pulses</td><td>['gaussian', 'gaussian_square', 'drag', 'constant']</td></tr><tr><td>conditional_latency</td><td>[]</td></tr></table>"
      }
     },
     "8cf95df6af66488b826c65a554aa1ca9": {
      "model_module": "@jupyter-widgets/controls",
      "model_module_version": "1.5.0",
      "model_name": "ProgressStyleModel",
      "state": {
       "bar_color": "#71cddd",
       "description_width": ""
      }
     },
     "8d396bdf788947eeb80b7a2468c1e1c7": {
      "model_module": "@jupyter-widgets/base",
      "model_module_version": "1.2.0",
      "model_name": "LayoutModel",
      "state": {
       "justify_content": "center"
      }
     },
     "8e0f038244974c41ac5bec5718cda92d": {
      "model_module": "@jupyter-widgets/controls",
      "model_module_version": "1.5.0",
      "model_name": "HTMLModel",
      "state": {
       "layout": "IPY_MODEL_5ebf5dd45a42482aa3667b650cc58aa5",
       "style": "IPY_MODEL_c5891e013d224dd29e6aa0714945a4e1",
       "value": "ibm_perth"
      }
     },
     "8e2b0345d2ab41989a6745af13f92618": {
      "model_module": "@jupyter-widgets/controls",
      "model_module_version": "1.5.0",
      "model_name": "LabelModel",
      "state": {
       "layout": "IPY_MODEL_ceb1b31807d64f4f80ba1dfbb6578485",
       "style": "IPY_MODEL_8599816dffaa4cb99cf2fbd2ce2f2ebe",
       "value": "Avg. T1 / T2"
      }
     },
     "8e74cf2d1dc74501967eef2f2216df2a": {
      "model_module": "@jupyter-widgets/controls",
      "model_module_version": "1.5.0",
      "model_name": "DescriptionStyleModel",
      "state": {
       "description_width": ""
      }
     },
     "905fa26d58764089b8a177d0bb00660f": {
      "model_module": "@jupyter-widgets/controls",
      "model_module_version": "1.5.0",
      "model_name": "DescriptionStyleModel",
      "state": {
       "description_width": ""
      }
     },
     "90bc8213d2624e4d95774a2d0d2d16cb": {
      "model_module": "@jupyter-widgets/controls",
      "model_module_version": "1.5.0",
      "model_name": "HTMLModel",
      "state": {
       "layout": "IPY_MODEL_8d396bdf788947eeb80b7a2468c1e1c7",
       "style": "IPY_MODEL_8aff9a63cf9d475e9d3a700630efd0fa",
       "value": "<h5><b>5</b></h5>"
      }
     },
     "90c6d2a574d74e318532fa8581773731": {
      "model_module": "@jupyter-widgets/controls",
      "model_module_version": "1.5.0",
      "model_name": "HTMLModel",
      "state": {
       "layout": "IPY_MODEL_d0853401a68f453d88fd219886ac4122",
       "style": "IPY_MODEL_bedad776a5dc452e9a23be1998fec498",
       "value": "<h4>ibmq_santiago</h4>"
      }
     },
     "90e0aa451ab447c88c51fcc453bdb25b": {
      "model_module": "@jupyter-widgets/output",
      "model_module_version": "1.0.0",
      "model_name": "OutputModel",
      "state": {
       "layout": "IPY_MODEL_7eb18eb0080246e286b156180d4f58ba",
       "outputs": [
        {
         "data": {
          "image/png": "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\n",
          "text/plain": "<Figure size 360x360 with 1 Axes>"
         },
         "metadata": {},
         "output_type": "display_data"
        }
       ]
      }
     },
     "9115277209d14b7798302f76e4b6bbe9": {
      "model_module": "@jupyter-widgets/controls",
      "model_module_version": "1.5.0",
      "model_name": "DescriptionStyleModel",
      "state": {
       "description_width": ""
      }
     },
     "91512b69b6584837999525b35ff799fb": {
      "model_module": "@jupyter-widgets/controls",
      "model_module_version": "1.5.0",
      "model_name": "HTMLModel",
      "state": {
       "layout": "IPY_MODEL_157650d9d9294b74852499e025923228",
       "style": "IPY_MODEL_aff6ac70ba7748e98fb8cfcd3422c5db",
       "value": "<p style='font-family: IBM Plex Sans, Arial, Helvetica, sans-serif; font-size: 20px; font-weight: medium;'>Circuit Properties</p>"
      }
     },
     "91a7b01c724f465ca26bbc87abadb96e": {
      "model_module": "@jupyter-widgets/controls",
      "model_module_version": "1.5.0",
      "model_name": "HTMLModel",
      "state": {
       "layout": "IPY_MODEL_e09126dcd7014690a44651f307bfee02",
       "style": "IPY_MODEL_d2684a72282f4e8b8110a01b0e459f61",
       "value": "<h5 style='color:#34bc6e'>True</h5>"
      }
     },
     "91bc5eb04d004e9b871f5a0568266ca2": {
      "model_module": "@jupyter-widgets/base",
      "model_module_version": "1.2.0",
      "model_name": "LayoutModel",
      "state": {
       "justify_content": "center",
       "max_width": "250px",
       "min_width": "250px"
      }
     },
     "91bd290dec1f4a9ba64b6096d02f356f": {
      "model_module": "@jupyter-widgets/controls",
      "model_module_version": "1.5.0",
      "model_name": "DescriptionStyleModel",
      "state": {
       "description_width": ""
      }
     },
     "91f0c2174c7642c9aeb86510d5c8df1d": {
      "model_module": "@jupyter-widgets/controls",
      "model_module_version": "1.5.0",
      "model_name": "DescriptionStyleModel",
      "state": {
       "description_width": ""
      }
     },
     "920bc9e4c34745bb896ebc6ffbd4166e": {
      "model_module": "@jupyter-widgets/controls",
      "model_module_version": "1.5.0",
      "model_name": "DescriptionStyleModel",
      "state": {
       "description_width": ""
      }
     },
     "920cf74169434b009ec1576fb0a60759": {
      "model_module": "@jupyter-widgets/base",
      "model_module_version": "1.2.0",
      "model_name": "LayoutModel",
      "state": {
       "justify_content": "center"
      }
     },
     "92289a253ccb4688ba8d374497029756": {
      "model_module": "@jupyter-widgets/controls",
      "model_module_version": "1.5.0",
      "model_name": "HBoxModel",
      "state": {
       "children": [
        "IPY_MODEL_e0b816a8875344628bce1ef6f235b543",
        "IPY_MODEL_572ca7709c984518b79f6022b0eafd5f",
        "IPY_MODEL_d234ea7f5b894704973dc787c9a10b93",
        "IPY_MODEL_cf156145fbe344638a0ddaee0a8852b9",
        "IPY_MODEL_a4078a1e2f1b4786b7b1541045921e4e",
        "IPY_MODEL_c7c15e6f5fd942be81e2bddaa221969e"
       ],
       "layout": "IPY_MODEL_be49c6e5655b4fbd8048ba90ee13e9d7"
      }
     },
     "92464f121271424697cf09508f44dd96": {
      "model_module": "@jupyter-widgets/output",
      "model_module_version": "1.0.0",
      "model_name": "OutputModel",
      "state": {
       "layout": "IPY_MODEL_50d92b5e8f9c448db5ccc109e3ab8d73",
       "outputs": [
        {
         "data": {
          "image/png": "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\n",
          "text/plain": "<Figure size 360x360 with 1 Axes>"
         },
         "metadata": {},
         "output_type": "display_data"
        }
       ]
      }
     },
     "92f93d01c16641ffa624b7d7c7a41d60": {
      "model_module": "@jupyter-widgets/controls",
      "model_module_version": "1.5.0",
      "model_name": "VBoxModel",
      "state": {
       "children": [
        "IPY_MODEL_a9b5b8f3bb784401afedc0f32b6ff162",
        "IPY_MODEL_e9dafaf7ef5a48d096396c89bee875ae",
        "IPY_MODEL_582f2f0fe69645c4adf211833140d9dd",
        "IPY_MODEL_fca1a2c748ca40d1ab1f1a70e58fd122",
        "IPY_MODEL_1c70391dec9d48a1a98e3f55ffce37fa",
        "IPY_MODEL_abb54946f7ab4f40ad9c847763492217",
        "IPY_MODEL_392fb6956fa441f6a92e857c8e3b1e6f",
        "IPY_MODEL_7feac45a6c9e4ec99e7e66b82fb900c5",
        "IPY_MODEL_0281e59fe4234517a1f8b334c638c955",
        "IPY_MODEL_85fbbf6ae142489682d6b55e414c6eec"
       ],
       "layout": "IPY_MODEL_bf869d64b6624c949cc9970b8cdfec8c"
      }
     },
     "934b611ba02a49debb0e07fab65878fa": {
      "model_module": "@jupyter-widgets/controls",
      "model_module_version": "1.5.0",
      "model_name": "LabelModel",
      "state": {
       "layout": "IPY_MODEL_3dd58868ca3343fdb61ea2e80477cdb6",
       "style": "IPY_MODEL_de4b376939a741e1a62ba8fb32991e8f",
       "value": "Avg. Meas. Err."
      }
     },
     "9459ec787bca4b30be58090dbf55b461": {
      "model_module": "@jupyter-widgets/controls",
      "model_module_version": "1.5.0",
      "model_name": "DescriptionStyleModel",
      "state": {
       "description_width": ""
      }
     },
     "945af75df5fe48cd8caa86ba6d7c61d0": {
      "model_module": "@jupyter-widgets/base",
      "model_module_version": "1.2.0",
      "model_name": "LayoutModel",
      "state": {
       "width": "95px"
      }
     },
     "945f0612989e4fc88c57822e42fc6f53": {
      "model_module": "@jupyter-widgets/controls",
      "model_module_version": "1.5.0",
      "model_name": "HTMLModel",
      "state": {
       "layout": "IPY_MODEL_6d8b8655ca124dd88f9d13d9a2f639d4",
       "style": "IPY_MODEL_04902aee6cb545da8671d1130b129eb4",
       "value": "<h5 style='color:#34bc6e'>True</h5>"
      }
     },
     "9482e375c3f8483996fd932445749797": {
      "model_module": "@jupyter-widgets/controls",
      "model_module_version": "1.5.0",
      "model_name": "DescriptionStyleModel",
      "state": {
       "description_width": ""
      }
     },
     "951f7c782400417dbfe53a5909656d74": {
      "model_module": "@jupyter-widgets/controls",
      "model_module_version": "1.5.0",
      "model_name": "DescriptionStyleModel",
      "state": {
       "description_width": ""
      }
     },
     "95d3e49627964578a0082bafc9f912a5": {
      "model_module": "@jupyter-widgets/controls",
      "model_module_version": "1.5.0",
      "model_name": "ProgressStyleModel",
      "state": {
       "bar_color": "#71cddd",
       "description_width": ""
      }
     },
     "95d9c9324a704dcaae728f1dae3f03bc": {
      "model_module": "@jupyter-widgets/base",
      "model_module_version": "1.2.0",
      "model_name": "LayoutModel",
      "state": {
       "align_items": "center",
       "justify_content": "center",
       "margin": "0px 0px 0px 0px",
       "max_height": "250px",
       "max_width": "250px",
       "min_height": "250px",
       "min_width": "250px"
      }
     },
     "95e229893d4f470f964632a8de2d7443": {
      "model_module": "@jupyter-widgets/base",
      "model_module_version": "1.2.0",
      "model_name": "LayoutModel",
      "state": {
       "align_items": "center",
       "display": "inline-flex",
       "flex_flow": "column"
      }
     },
     "9638112c2f0f44529a6b77feb4ad667c": {
      "model_module": "@jupyter-widgets/controls",
      "model_module_version": "1.5.0",
      "model_name": "HTMLModel",
      "state": {
       "layout": "IPY_MODEL_d669b29fcd9a49a7b34078dde675f1da",
       "style": "IPY_MODEL_a6c6944ffa1d4071adffb050a8f05adf",
       "value": "<h1 style='color:#ffffff;background-color:#000000;padding-top: 1%;padding-bottom: 1%;padding-left: 1%; margin-top: 0px'>fake_johannesburg</h1>"
      }
     },
     "97f80523ff144731bdcf247984347d07": {
      "model_module": "@jupyter-widgets/base",
      "model_module_version": "1.2.0",
      "model_name": "LayoutModel",
      "state": {}
     },
     "97f9dcbf6dff4ebd816f3b4789e8db4a": {
      "model_module": "@jupyter-widgets/controls",
      "model_module_version": "1.5.0",
      "model_name": "ProgressStyleModel",
      "state": {
       "bar_color": "#71cddd",
       "description_width": ""
      }
     },
     "99c4369b481b45a29df05be94ef1e1a8": {
      "model_module": "@jupyter-widgets/controls",
      "model_module_version": "1.5.0",
      "model_name": "GridBoxModel",
      "state": {
       "children": [
        "IPY_MODEL_25edc6f083f1433da781f34ca8c55d6d",
        "IPY_MODEL_90e0aa451ab447c88c51fcc453bdb25b",
        "IPY_MODEL_8ce379424bcf4e8c86f2dd316fe64c72"
       ],
       "layout": "IPY_MODEL_2df2075c31cf40fa9a645cf7313381b7"
      }
     },
     "9a3af98a2d7a47cca99568bbb618245a": {
      "model_module": "@jupyter-widgets/controls",
      "model_module_version": "1.5.0",
      "model_name": "HTMLModel",
      "state": {
       "layout": "IPY_MODEL_4061caf1ebe44b1dab371ceecf992ff3",
       "style": "IPY_MODEL_3722bd6956484a159a805768b30bd4de",
       "value": "<h5>0.0112</h5>"
      }
     },
     "9b6f267279f6437c9b89c8e695cbc49d": {
      "model_module": "@jupyter-widgets/base",
      "model_module_version": "1.2.0",
      "model_name": "LayoutModel",
      "state": {
       "grid_area": "bottom",
       "width": "auto"
      }
     },
     "9c59b37a785748be902a6de3862ec51a": {
      "model_module": "@jupyter-widgets/controls",
      "model_module_version": "1.5.0",
      "model_name": "DescriptionStyleModel",
      "state": {
       "description_width": ""
      }
     },
     "9cb5e7b4cb514a33ab43029e5e2d8941": {
      "model_module": "@jupyter-widgets/base",
      "model_module_version": "1.2.0",
      "model_name": "LayoutModel",
      "state": {
       "min_width": "auto"
      }
     },
     "9d4bf04b105446638e312e8896b2ead7": {
      "model_module": "@jupyter-widgets/controls",
      "model_module_version": "1.5.0",
      "model_name": "DescriptionStyleModel",
      "state": {
       "description_width": ""
      }
     },
     "9d53a4f88ac8494bae12776553f31603": {
      "model_module": "@jupyter-widgets/controls",
      "model_module_version": "1.5.0",
      "model_name": "HTMLModel",
      "state": {
       "layout": "IPY_MODEL_48437d04291c40e1a427ba6c04b0ecf7",
       "style": "IPY_MODEL_6455744e26554d34b7f462ddef30db6b",
       "value": "<h5>81.4 / 97.6 us</h5>"
      }
     },
     "9d8c57bf17d24953aad6a274048e9d43": {
      "model_module": "@jupyter-widgets/base",
      "model_module_version": "1.2.0",
      "model_name": "LayoutModel",
      "state": {
       "justify_content": "center",
       "max_width": "250px",
       "min_width": "250px"
      }
     },
     "9e35b583812b4efc9e9d3c0fe26be46f": {
      "model_module": "@jupyter-widgets/base",
      "model_module_version": "1.2.0",
      "model_name": "LayoutModel",
      "state": {
       "justify_content": "center"
      }
     },
     "9e69014ab6624f07a1d0d32215c3e7ac": {
      "model_module": "@jupyter-widgets/controls",
      "model_module_version": "1.5.0",
      "model_name": "IntProgressModel",
      "state": {
       "layout": "IPY_MODEL_ddca0eb6910d444e823900bc72233ba4",
       "max": 64,
       "style": "IPY_MODEL_20a30fbdc56d4936964b43c3ac9f37c2",
       "value": 54
      }
     },
     "9ea753f2bc54415795ff556050c58654": {
      "model_module": "@jupyter-widgets/controls",
      "model_module_version": "1.5.0",
      "model_name": "HTMLModel",
      "state": {
       "layout": "IPY_MODEL_60e2f2f699054e1bb2609db8efc76810",
       "style": "IPY_MODEL_d243fa8d400d4a59903ef68a04c054e1",
       "value": "<h5>0.0303</h5>"
      }
     },
     "9ecd95ea415c4e7f972dad347bf7395c": {
      "model_module": "@jupyter-widgets/base",
      "model_module_version": "1.2.0",
      "model_name": "LayoutModel",
      "state": {
       "align_items": "center",
       "display": "inline-flex",
       "flex_flow": "column"
      }
     },
     "9f370ca8c48c4942886029b22fcc4262": {
      "model_module": "@jupyter-widgets/base",
      "model_module_version": "1.2.0",
      "model_name": "LayoutModel",
      "state": {
       "justify_content": "center"
      }
     },
     "9f3f74f0b525499eb26462f4886b398b": {
      "model_module": "@jupyter-widgets/controls",
      "model_module_version": "1.5.0",
      "model_name": "DescriptionStyleModel",
      "state": {
       "description_width": ""
      }
     },
     "a008668a655943b4942d8f4401dc717c": {
      "model_module": "@jupyter-widgets/controls",
      "model_module_version": "1.5.0",
      "model_name": "DescriptionStyleModel",
      "state": {
       "description_width": ""
      }
     },
     "a06b3b9704494e5ab9c88302101fc3ba": {
      "model_module": "@jupyter-widgets/controls",
      "model_module_version": "1.5.0",
      "model_name": "HTMLModel",
      "state": {
       "layout": "IPY_MODEL_b918c8c5d7f54eaa8525191131508472",
       "style": "IPY_MODEL_2382843050384a4dad829b8aac469df6",
       "value": "<h5>Queue</h5>"
      }
     },
     "a0926c33a68041988e96913a452722c6": {
      "model_module": "@jupyter-widgets/controls",
      "model_module_version": "1.5.0",
      "model_name": "DescriptionStyleModel",
      "state": {
       "description_width": ""
      }
     },
     "a0d2ce528052496ca0c57249fc025e01": {
      "model_module": "@jupyter-widgets/controls",
      "model_module_version": "1.5.0",
      "model_name": "HTMLModel",
      "state": {
       "layout": "IPY_MODEL_6d2cbf604b37465094f33f7279bcfbd4",
       "style": "IPY_MODEL_8c6046bd62db408688cf6547a6383118",
       "value": "<table><style>\ntable {\n    border-collapse: collapse;\n    width: auto;\n}\n\nth, td {\n    text-align: left;\n    padding: 8px;\n}\n\ntr:nth-child(even) {background-color: #f6f6f6;};\n</style><tr><th></th><th>Type</th><th>Gate error</th></tr><tr><td><font style='font-weight:bold'>cx5_6</font></td><td>cx</td><td>0.00833</td></tr><tr><td><font style='font-weight:bold'>cx6_5</font></td><td>cx</td><td>0.00833</td></tr><tr><td><font style='font-weight:bold'>cx4_5</font></td><td>cx</td><td>0.01009</td></tr><tr><td><font style='font-weight:bold'>cx5_4</font></td><td>cx</td><td>0.01009</td></tr></table>"
      }
     },
     "a0da9f3ba245428da4499c0a80d6849a": {
      "model_module": "@jupyter-widgets/controls",
      "model_module_version": "1.5.0",
      "model_name": "HTMLModel",
      "state": {
       "layout": "IPY_MODEL_3b5b7166def64b63bdfce6d83ebc0ec8",
       "style": "IPY_MODEL_1fd8fcd04aae463b9051512ab76681dc",
       "value": "<h5>74.4 / 111.1 us</h5>"
      }
     },
     "a1b0e60afbfd4bf6805b1c0e0187716e": {
      "model_module": "@jupyter-widgets/base",
      "model_module_version": "1.2.0",
      "model_name": "LayoutModel",
      "state": {
       "align_items": "center",
       "display": "inline-flex",
       "flex_flow": "column"
      }
     },
     "a303e6ce7f7f46c3a37e222ac532a9cf": {
      "model_module": "@jupyter-widgets/base",
      "model_module_version": "1.2.0",
      "model_name": "LayoutModel",
      "state": {}
     },
     "a351e30f7a484510a17bf13c643e5210": {
      "model_module": "@jupyter-widgets/output",
      "model_module_version": "1.0.0",
      "model_name": "OutputModel",
      "state": {
       "layout": "IPY_MODEL_1b933c4ff7e74fe0bf9cfeb60dad6a3f",
       "outputs": [
        {
         "data": {
          "image/png": "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\n",
          "text/plain": "<Figure size 360x360 with 1 Axes>"
         },
         "metadata": {},
         "output_type": "display_data"
        }
       ]
      }
     },
     "a38a6ffd4f53400f85e082e6354db99e": {
      "model_module": "@jupyter-widgets/base",
      "model_module_version": "1.2.0",
      "model_name": "LayoutModel",
      "state": {
       "min_width": "auto"
      }
     },
     "a397b7192bb44ec688f45fa112095aa2": {
      "model_module": "@jupyter-widgets/controls",
      "model_module_version": "1.5.0",
      "model_name": "LabelModel",
      "state": {
       "layout": "IPY_MODEL_9cb5e7b4cb514a33ab43029e5e2d8941",
       "style": "IPY_MODEL_3bed3e5eec914567aa0307dbabd71d0f",
       "value": "50"
      }
     },
     "a3ce6b75a5b3434a908ebe7cef1b8494": {
      "model_module": "@jupyter-widgets/controls",
      "model_module_version": "1.5.0",
      "model_name": "ProgressStyleModel",
      "state": {
       "bar_color": "#71cddd",
       "description_width": ""
      }
     },
     "a3fb8ce6c80248c7af832b50ee9d5bf6": {
      "model_module": "@jupyter-widgets/output",
      "model_module_version": "1.0.0",
      "model_name": "OutputModel",
      "state": {
       "layout": "IPY_MODEL_95d9c9324a704dcaae728f1dae3f03bc",
       "outputs": [
        {
         "data": {
          "image/png": "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\n",
          "text/plain": "<Figure size 360x360 with 1 Axes>"
         },
         "metadata": {},
         "output_type": "display_data"
        }
       ]
      }
     },
     "a4078a1e2f1b4786b7b1541045921e4e": {
      "model_module": "@jupyter-widgets/controls",
      "model_module_version": "1.5.0",
      "model_name": "HTMLModel",
      "state": {
       "layout": "IPY_MODEL_1f1ecbff3a4149cba6d1f667bd44fc2c",
       "style": "IPY_MODEL_a008668a655943b4942d8f4401dc717c",
       "value": "-"
      }
     },
     "a5cb6a5c667d4ed1aeeb62b5442f5f9c": {
      "model_module": "@jupyter-widgets/controls",
      "model_module_version": "1.5.0",
      "model_name": "GridBoxModel",
      "state": {
       "children": [
        "IPY_MODEL_92f93d01c16641ffa624b7d7c7a41d60",
        "IPY_MODEL_83bfa53ec3614879a38a76c7f1959f0c",
        "IPY_MODEL_898873b4b9ee4e00b4b50dcdfbfde533",
        "IPY_MODEL_130c856fc64c404da69d49ce0a5dad21",
        "IPY_MODEL_00d13c06b4594a0b97f97c4511eb8fcc",
        "IPY_MODEL_c416c4893dc944afa323a3400eeeeaf7",
        "IPY_MODEL_3007ce77d05a4175815dcb757462b77e",
        "IPY_MODEL_37db4fda59404b43b3d335014d8fe5fa"
       ],
       "layout": "IPY_MODEL_6bc6776514b14793a688c68454209105"
      }
     },
     "a6179d8c7d58411f991d42eb633e67cb": {
      "model_module": "@jupyter-widgets/controls",
      "model_module_version": "1.5.0",
      "model_name": "LabelModel",
      "state": {
       "layout": "IPY_MODEL_f84cace58465481b831a604be1a92a53",
       "style": "IPY_MODEL_63e19005249d4b89a90b8f6bbd814c55",
       "value": "Pending Jobs"
      }
     },
     "a6c6944ffa1d4071adffb050a8f05adf": {
      "model_module": "@jupyter-widgets/controls",
      "model_module_version": "1.5.0",
      "model_name": "DescriptionStyleModel",
      "state": {
       "description_width": ""
      }
     },
     "a73f41ae615c4d4a9782cefca50005a4": {
      "model_module": "@jupyter-widgets/controls",
      "model_module_version": "1.5.0",
      "model_name": "DescriptionStyleModel",
      "state": {
       "description_width": ""
      }
     },
     "a7daa5ccb22144b394e8dafa1795ca1a": {
      "model_module": "@jupyter-widgets/base",
      "model_module_version": "1.2.0",
      "model_name": "LayoutModel",
      "state": {}
     },
     "a916bd26873f41448321bab449899736": {
      "model_module": "@jupyter-widgets/base",
      "model_module_version": "1.2.0",
      "model_name": "LayoutModel",
      "state": {
       "width": "190px"
      }
     },
     "a92d7f2814ab454ab6d99bf446a451df": {
      "model_module": "@jupyter-widgets/controls",
      "model_module_version": "1.5.0",
      "model_name": "HTMLModel",
      "state": {
       "layout": "IPY_MODEL_a7daa5ccb22144b394e8dafa1795ca1a",
       "style": "IPY_MODEL_fd8107185e9f4a75aca08ee06e9d6034",
       "value": "<h5>97.9 / 135.2 us</h5>"
      }
     },
     "a9b5b8f3bb784401afedc0f32b6ff162": {
      "model_module": "@jupyter-widgets/controls",
      "model_module_version": "1.5.0",
      "model_name": "HTMLModel",
      "state": {
       "layout": "IPY_MODEL_f4c6d00bee494bde8e5ee1b51b7f984a",
       "style": "IPY_MODEL_1957f8de19974a1bb6de964af79dbf51",
       "value": "<h4>ibm_perth</h4>"
      }
     },
     "a9d4e51f5e0c4881ac34a6fd7f809bcd": {
      "model_module": "@jupyter-widgets/base",
      "model_module_version": "1.2.0",
      "model_name": "LayoutModel",
      "state": {
       "justify_content": "center"
      }
     },
     "abb54946f7ab4f40ad9c847763492217": {
      "model_module": "@jupyter-widgets/controls",
      "model_module_version": "1.5.0",
      "model_name": "HTMLModel",
      "state": {
       "layout": "IPY_MODEL_684df29cdb674a9893fd2a46568d2e68",
       "style": "IPY_MODEL_951f7c782400417dbfe53a5909656d74",
       "value": "<h5 style='color:#34bc6e'>True</h5>"
      }
     },
     "abf7ddbc955a4415b88c683c8a893b1f": {
      "model_module": "@jupyter-widgets/base",
      "model_module_version": "1.2.0",
      "model_name": "LayoutModel",
      "state": {
       "align_items": "center",
       "display": "inline-flex",
       "flex_flow": "column"
      }
     },
     "ac1bf1bbf87b4edf9858f34dcf3e79c0": {
      "model_module": "@jupyter-widgets/base",
      "model_module_version": "1.2.0",
      "model_name": "LayoutModel",
      "state": {}
     },
     "ac2b51bc9e4c49768f36d420fad5c1e3": {
      "model_module": "@jupyter-widgets/base",
      "model_module_version": "1.2.0",
      "model_name": "LayoutModel",
      "state": {
       "justify_content": "center"
      }
     },
     "acfda4d8ee4a4091aae714761b5a0015": {
      "model_module": "@jupyter-widgets/controls",
      "model_module_version": "1.5.0",
      "model_name": "DescriptionStyleModel",
      "state": {
       "description_width": ""
      }
     },
     "ad786cb7de7e483e80641e63216cf5a9": {
      "model_module": "@jupyter-widgets/base",
      "model_module_version": "1.2.0",
      "model_name": "LayoutModel",
      "state": {}
     },
     "adae732f88904e87be7339267d555fc4": {
      "model_module": "@jupyter-widgets/base",
      "model_module_version": "1.2.0",
      "model_name": "LayoutModel",
      "state": {
       "overflow_y": "scroll"
      }
     },
     "adb8d29a1c064e1ebfbf6518770e41ac": {
      "model_module": "@jupyter-widgets/base",
      "model_module_version": "1.2.0",
      "model_name": "LayoutModel",
      "state": {}
     },
     "af684ed815a047ef811e394511fc906e": {
      "model_module": "@jupyter-widgets/controls",
      "model_module_version": "1.5.0",
      "model_name": "DescriptionStyleModel",
      "state": {
       "description_width": ""
      }
     },
     "aff6ac70ba7748e98fb8cfcd3422c5db": {
      "model_module": "@jupyter-widgets/controls",
      "model_module_version": "1.5.0",
      "model_name": "DescriptionStyleModel",
      "state": {
       "description_width": ""
      }
     },
     "b0182175218b48e08a4a9dc5cc1aa620": {
      "model_module": "@jupyter-widgets/controls",
      "model_module_version": "1.5.0",
      "model_name": "HTMLModel",
      "state": {
       "layout": "IPY_MODEL_396d4720e8694ef2b5f206f4a9cc7cc9",
       "style": "IPY_MODEL_c3a9759610b743f09e2643676b0ef6a5",
       "value": "<h5>0.0159</h5>"
      }
     },
     "b3b887582d4647468fa79fba8394e975": {
      "model_module": "@jupyter-widgets/controls",
      "model_module_version": "1.5.0",
      "model_name": "HTMLModel",
      "state": {
       "layout": "IPY_MODEL_ac2b51bc9e4c49768f36d420fad5c1e3",
       "style": "IPY_MODEL_f8a545b9701348b38ac4635c2d190e5a",
       "value": "<h5>32</h5>"
      }
     },
     "b58066654d7947a081338d7dbccd32a6": {
      "model_module": "@jupyter-widgets/controls",
      "model_module_version": "1.5.0",
      "model_name": "DescriptionStyleModel",
      "state": {
       "description_width": ""
      }
     },
     "b6d23021ea2e4488918e7969081f5a79": {
      "model_module": "@jupyter-widgets/controls",
      "model_module_version": "1.5.0",
      "model_name": "LabelModel",
      "state": {
       "layout": "IPY_MODEL_31151cfa6ece40669d5ca180d3bd21de",
       "style": "IPY_MODEL_7958ea8f2fe9438695fad0c23a643642",
       "value": "54"
      }
     },
     "b6fd769748dc4127ac22c54b502ce8d6": {
      "model_module": "@jupyter-widgets/base",
      "model_module_version": "1.2.0",
      "model_name": "LayoutModel",
      "state": {
       "min_width": "auto"
      }
     },
     "b8076a13c6fc46d9bc5fc243da96501b": {
      "model_module": "@jupyter-widgets/controls",
      "model_module_version": "1.5.0",
      "model_name": "ButtonModel",
      "state": {
       "button_style": "primary",
       "description": "Clear",
       "layout": "IPY_MODEL_464626e263554814ae38702fb7d22c55",
       "style": "IPY_MODEL_78fbf6fa0aaf45ae8bef1415616dc0a3"
      }
     },
     "b8e30a9f521f45b6b321be5b9b66ccf8": {
      "model_module": "@jupyter-widgets/output",
      "model_module_version": "1.0.0",
      "model_name": "OutputModel",
      "state": {
       "layout": "IPY_MODEL_6ed261ec35334c4595947f1fff48c191",
       "outputs": [
        {
         "data": {
          "image/png": "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\n",
          "text/plain": "<Figure size 360x360 with 1 Axes>"
         },
         "metadata": {},
         "output_type": "display_data"
        }
       ]
      }
     },
     "b918c8c5d7f54eaa8525191131508472": {
      "model_module": "@jupyter-widgets/base",
      "model_module_version": "1.2.0",
      "model_name": "LayoutModel",
      "state": {
       "width": "70px"
      }
     },
     "b972f15e3f8e4c89b19135a1805be4f6": {
      "model_module": "@jupyter-widgets/controls",
      "model_module_version": "1.5.0",
      "model_name": "LabelModel",
      "state": {
       "layout": "IPY_MODEL_e32c7b9274504ba2bea77b66c9016d0a",
       "style": "IPY_MODEL_75aa57c83c634c63b364cad086618e0a",
       "value": "Operational"
      }
     },
     "badb8ab30422492a9abe27a102d88db7": {
      "model_module": "@jupyter-widgets/controls",
      "model_module_version": "1.5.0",
      "model_name": "IntProgressModel",
      "state": {
       "layout": "IPY_MODEL_043a93be76c9474e9023f33df3260fe6",
       "max": 50,
       "style": "IPY_MODEL_8cf95df6af66488b826c65a554aa1ca9",
       "value": 12
      }
     },
     "bb4acacea14b4f8c9f1430f40ed4899c": {
      "model_module": "@jupyter-widgets/controls",
      "model_module_version": "1.5.0",
      "model_name": "DescriptionStyleModel",
      "state": {
       "description_width": ""
      }
     },
     "bc2784e7e0b7496d918e4895e941feea": {
      "model_module": "@jupyter-widgets/base",
      "model_module_version": "1.2.0",
      "model_name": "LayoutModel",
      "state": {
       "width": "145px"
      }
     },
     "bdc5117758c1477094c97760c4afc4c1": {
      "model_module": "@jupyter-widgets/controls",
      "model_module_version": "1.5.0",
      "model_name": "HBoxModel",
      "state": {
       "children": [
        "IPY_MODEL_413ba937bea34cf2b4b4a035392d2c63",
        "IPY_MODEL_d9dc67ba50614248b741bae28c789c41",
        "IPY_MODEL_bfede285c5a048dfb0673ca82d81c18d"
       ],
       "layout": "IPY_MODEL_37b943ebb7204e30b8bc96d10b706741"
      }
     },
     "be49c6e5655b4fbd8048ba90ee13e9d7": {
      "model_module": "@jupyter-widgets/base",
      "model_module_version": "1.2.0",
      "model_name": "LayoutModel",
      "state": {
       "max_width": "700px",
       "min_width": "700px"
      }
     },
     "bedad776a5dc452e9a23be1998fec498": {
      "model_module": "@jupyter-widgets/controls",
      "model_module_version": "1.5.0",
      "model_name": "DescriptionStyleModel",
      "state": {
       "description_width": ""
      }
     },
     "bf869d64b6624c949cc9970b8cdfec8c": {
      "model_module": "@jupyter-widgets/base",
      "model_module_version": "1.2.0",
      "model_name": "LayoutModel",
      "state": {
       "align_items": "center",
       "display": "inline-flex",
       "flex_flow": "column"
      }
     },
     "bfeb0942e37449e89494e435b3fc3ab5": {
      "model_module": "@jupyter-widgets/base",
      "model_module_version": "1.2.0",
      "model_name": "LayoutModel",
      "state": {
       "align_items": "center",
       "display": "inline-flex",
       "flex_flow": "column"
      }
     },
     "bfede285c5a048dfb0673ca82d81c18d": {
      "model_module": "@jupyter-widgets/controls",
      "model_module_version": "1.5.0",
      "model_name": "LabelModel",
      "state": {
       "layout": "IPY_MODEL_a38a6ffd4f53400f85e082e6354db99e",
       "style": "IPY_MODEL_2ed23e93c7a8446aa0ed2a15f5fd17f4",
       "value": "50"
      }
     },
     "c0f39a751cf845cda9913f3a911c6723": {
      "model_module": "@jupyter-widgets/base",
      "model_module_version": "1.2.0",
      "model_name": "LayoutModel",
      "state": {
       "grid_template_areas": "\n                                       \". . . . right \"\n                                        ",
       "grid_template_columns": "20% 20% 20% 20% 20%",
       "width": "100%"
      }
     },
     "c19ca131ac284e5580987a2968344457": {
      "model_module": "@jupyter-widgets/base",
      "model_module_version": "1.2.0",
      "model_name": "LayoutModel",
      "state": {
       "min_width": "auto"
      }
     },
     "c1e75582f5d34b21b42eb8e534f545e3": {
      "model_module": "@jupyter-widgets/controls",
      "model_module_version": "1.5.0",
      "model_name": "HTMLModel",
      "state": {
       "layout": "IPY_MODEL_73e11133e55a4dabb56858d509b73f30",
       "style": "IPY_MODEL_02a2796ade734b38a30820cdab187dc4",
       "value": "<h5>8</h5>"
      }
     },
     "c203003439d144b6bf0005451d467718": {
      "model_module": "@jupyter-widgets/controls",
      "model_module_version": "1.5.0",
      "model_name": "HBoxModel",
      "state": {
       "children": [
        "IPY_MODEL_47516a77271e4bec90fdf394f9b2e635",
        "IPY_MODEL_badb8ab30422492a9abe27a102d88db7",
        "IPY_MODEL_ec0fe257407643bb99f7e854219e0c93"
       ],
       "layout": "IPY_MODEL_1fd776f7a2984e2fbbaec375e4e0c2d1"
      }
     },
     "c27b9b3db3d241e3b97a0f92b020c173": {
      "model_module": "@jupyter-widgets/controls",
      "model_module_version": "1.5.0",
      "model_name": "LabelModel",
      "state": {
       "layout": "IPY_MODEL_c19ca131ac284e5580987a2968344457",
       "style": "IPY_MODEL_f489b95f789f464195f02f2e863db523",
       "value": "4"
      }
     },
     "c31e3f8704aa49189506d3575d859c21": {
      "model_module": "@jupyter-widgets/controls",
      "model_module_version": "1.5.0",
      "model_name": "HTMLModel",
      "state": {
       "layout": "IPY_MODEL_40290abf6aa04e7e8d66715d9cbf1546",
       "style": "IPY_MODEL_857781a7396d49afba379237e2c5c9ad",
       "value": "<font style='color:#34BC6E'>DONE</font>"
      }
     },
     "c377ce60918c4ed9bd115cfdb7fce973": {
      "model_module": "@jupyter-widgets/base",
      "model_module_version": "1.2.0",
      "model_name": "LayoutModel",
      "state": {}
     },
     "c377ea3479e047cdb6c7e710a889d7ea": {
      "model_module": "@jupyter-widgets/output",
      "model_module_version": "1.0.0",
      "model_name": "OutputModel",
      "state": {
       "layout": "IPY_MODEL_52df5139a4534fb7a94005b3a9871d86",
       "outputs": [
        {
         "data": {
          "image/png": "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\n",
          "text/plain": "<Figure size 360x360 with 1 Axes>"
         },
         "metadata": {},
         "output_type": "display_data"
        }
       ]
      }
     },
     "c3a9759610b743f09e2643676b0ef6a5": {
      "model_module": "@jupyter-widgets/controls",
      "model_module_version": "1.5.0",
      "model_name": "DescriptionStyleModel",
      "state": {
       "description_width": ""
      }
     },
     "c416c4893dc944afa323a3400eeeeaf7": {
      "model_module": "@jupyter-widgets/controls",
      "model_module_version": "1.5.0",
      "model_name": "VBoxModel",
      "state": {
       "children": [
        "IPY_MODEL_76a78939572143189ca9e6220df71dba",
        "IPY_MODEL_b8e30a9f521f45b6b321be5b9b66ccf8",
        "IPY_MODEL_90bc8213d2624e4d95774a2d0d2d16cb",
        "IPY_MODEL_0f9cf7fbdad148fe9c388d51b5d6f6b5",
        "IPY_MODEL_575db7b7af464d20b5ad22c9f899ac7d",
        "IPY_MODEL_4a4826f8f9aa44ee944a1e8cc1f72be9",
        "IPY_MODEL_1b9ae90b032e4b05884b51f172086ad2",
        "IPY_MODEL_a92d7f2814ab454ab6d99bf446a451df",
        "IPY_MODEL_f3506b5ca4da4b61913dd4f475524f7c",
        "IPY_MODEL_4005dc74bbd84da59f22199a943b081a"
       ],
       "layout": "IPY_MODEL_bfeb0942e37449e89494e435b3fc3ab5"
      }
     },
     "c4a8c916b1bb41038a18ff0cd0624ba6": {
      "model_module": "@jupyter-widgets/controls",
      "model_module_version": "1.5.0",
      "model_name": "HTMLModel",
      "state": {
       "layout": "IPY_MODEL_817a934e4436492ca56faa4eedfa8b94",
       "style": "IPY_MODEL_31c215e090a14442bb797165286690e1",
       "value": "<h5><b>5</b></h5>"
      }
     },
     "c53952ce9cf54dc88d8adb1ce7fd798c": {
      "model_module": "@jupyter-widgets/base",
      "model_module_version": "1.2.0",
      "model_name": "LayoutModel",
      "state": {
       "grid_area": "right"
      }
     },
     "c5891e013d224dd29e6aa0714945a4e1": {
      "model_module": "@jupyter-widgets/controls",
      "model_module_version": "1.5.0",
      "model_name": "DescriptionStyleModel",
      "state": {
       "description_width": ""
      }
     },
     "c5fc281da67049b88059e5319b6cb4f8": {
      "model_module": "@jupyter-widgets/base",
      "model_module_version": "1.2.0",
      "model_name": "LayoutModel",
      "state": {}
     },
     "c6609ad470ea482380ad5ff990e71327": {
      "model_module": "@jupyter-widgets/controls",
      "model_module_version": "1.5.0",
      "model_name": "HTMLModel",
      "state": {
       "layout": "IPY_MODEL_eaf2dfc24c1d4e28b417e590acdca5e1",
       "style": "IPY_MODEL_5cd0819993044eeea31e36c28f1c63e5",
       "value": "<table><style>\ntable {\n    border-collapse: collapse;\n    width: auto;\n}\n\nth, td {\n    text-align: left;\n    padding: 8px;\n}\n\ntr:nth-child(even) {background-color: #f6f6f6;};\n</style><tr><th></th><th>Type</th><th>Gate error</th></tr><tr><td><font style='font-weight:bold'>cx7_8</font></td><td>cx</td><td>0.01868</td></tr><tr><td><font style='font-weight:bold'>cx7_12</font></td><td>cx</td><td>0.02643</td></tr><tr><td><font style='font-weight:bold'>cx8_7</font></td><td>cx</td><td>0.01868</td></tr><tr><td><font style='font-weight:bold'>cx8_9</font></td><td>cx</td><td>0.02868</td></tr><tr><td><font style='font-weight:bold'>cx9_4</font></td><td>cx</td><td>0.02049</td></tr><tr><td><font style='font-weight:bold'>cx9_8</font></td><td>cx</td><td>0.02868</td></tr><tr><td><font style='font-weight:bold'>cx9_14</font></td><td>cx</td><td>0.03955</td></tr><tr><td><font style='font-weight:bold'>cx10_5</font></td><td>cx</td><td>0.03206</td></tr><tr><td><font style='font-weight:bold'>cx10_11</font></td><td>cx</td><td>0.01839</td></tr><tr><td><font style='font-weight:bold'>cx10_15</font></td><td>cx</td><td>0.02979</td></tr><tr><td><font style='font-weight:bold'>cx11_10</font></td><td>cx</td><td>0.01839</td></tr><tr><td><font style='font-weight:bold'>cx11_12</font></td><td>cx</td><td>0.02652</td></tr><tr><td><font style='font-weight:bold'>cx12_7</font></td><td>cx</td><td>0.02643</td></tr><tr><td><font style='font-weight:bold'>cx12_11</font></td><td>cx</td><td>0.02652</td></tr><tr><td><font style='font-weight:bold'>cx12_13</font></td><td>cx</td><td>0.01666</td></tr></table>"
      }
     },
     "c670b9235d5743bba6b836bdfc2f2e3e": {
      "model_module": "@jupyter-widgets/base",
      "model_module_version": "1.2.0",
      "model_name": "LayoutModel",
      "state": {}
     },
     "c7c15e6f5fd942be81e2bddaa221969e": {
      "model_module": "@jupyter-widgets/controls",
      "model_module_version": "1.5.0",
      "model_name": "HTMLModel",
      "state": {
       "layout": "IPY_MODEL_3a3087de529a4c2b9960c5950d7e6922",
       "style": "IPY_MODEL_de14df48306d4e0da4f48f740d2a9589",
       "value": "job has successfully run"
      }
     },
     "c7e566d464194999992cf1e613050fb2": {
      "model_module": "@jupyter-widgets/base",
      "model_module_version": "1.2.0",
      "model_name": "LayoutModel",
      "state": {
       "justify_content": "center"
      }
     },
     "c813d369323e445c85c605bace4aaa36": {
      "model_module": "@jupyter-widgets/controls",
      "model_module_version": "1.5.0",
      "model_name": "DescriptionStyleModel",
      "state": {
       "description_width": ""
      }
     },
     "c9096015517d4b0c83fa76c6c240135b": {
      "model_module": "@jupyter-widgets/controls",
      "model_module_version": "1.5.0",
      "model_name": "DescriptionStyleModel",
      "state": {
       "description_width": ""
      }
     },
     "c9480926b58f4dacaac928eb3e35fd3f": {
      "model_module": "@jupyter-widgets/base",
      "model_module_version": "1.2.0",
      "model_name": "LayoutModel",
      "state": {}
     },
     "c9c225fcb4b34d18bb2a8467fa52fc06": {
      "model_module": "@jupyter-widgets/base",
      "model_module_version": "1.2.0",
      "model_name": "LayoutModel",
      "state": {
       "grid_gap": "0px 0px",
       "grid_template_areas": "\n                                                   \"top top top\"\n                                                   \"left middle right\"\n                                                   ",
       "grid_template_columns": "33% 33% 33%",
       "grid_template_rows": "auto auto"
      }
     },
     "caa926c925ae44a49bcdaf6b592be575": {
      "model_module": "@jupyter-widgets/controls",
      "model_module_version": "1.5.0",
      "model_name": "HTMLModel",
      "state": {
       "layout": "IPY_MODEL_de8101847b6f4c24aae2b8f7e1c2ed87",
       "style": "IPY_MODEL_bb4acacea14b4f8c9f1430f40ed4899c",
       "value": "<h5>1</h5>"
      }
     },
     "caf7fdc6392f454c9cf17a75edfa8f4d": {
      "model_module": "@jupyter-widgets/controls",
      "model_module_version": "1.5.0",
      "model_name": "DescriptionStyleModel",
      "state": {
       "description_width": ""
      }
     },
     "cb1f570570d7401384bacd1de91cd9a1": {
      "model_module": "@jupyter-widgets/controls",
      "model_module_version": "1.5.0",
      "model_name": "LabelModel",
      "state": {
       "layout": "IPY_MODEL_b6fd769748dc4127ac22c54b502ce8d6",
       "style": "IPY_MODEL_5bd5b13c7784437d986e12e4aec83126",
       "value": "1"
      }
     },
     "cbd513a7684442a8bc58ebd53effe2f3": {
      "model_module": "@jupyter-widgets/controls",
      "model_module_version": "1.5.0",
      "model_name": "IntProgressModel",
      "state": {
       "layout": "IPY_MODEL_1f361e9835b4470388dd8a508fea33e0",
       "max": 50,
       "style": "IPY_MODEL_97f9dcbf6dff4ebd816f3b4789e8db4a",
       "value": 4
      }
     },
     "cdb3176a2ab346feafce19e1d2fa9047": {
      "model_module": "@jupyter-widgets/base",
      "model_module_version": "1.2.0",
      "model_name": "LayoutModel",
      "state": {
       "border": "4px solid #000000",
       "max_height": "650px",
       "min_height": "650px",
       "overflow_y": "hidden"
      }
     },
     "ce6b14abac494321ab3adb207ea8650d": {
      "model_module": "@jupyter-widgets/controls",
      "model_module_version": "1.5.0",
      "model_name": "LabelModel",
      "state": {
       "layout": "IPY_MODEL_e929673e81884e58a6d3d67626f162f4",
       "style": "IPY_MODEL_fca965ff5145492a9f9c49322e14b7a3",
       "value": "64"
      }
     },
     "ce891f1c81a547ee8bb9777a7ae72f27": {
      "model_module": "@jupyter-widgets/controls",
      "model_module_version": "1.5.0",
      "model_name": "HTMLModel",
      "state": {
       "layout": "IPY_MODEL_4b9d553fc9d64f668e40da670b7f8be0",
       "style": "IPY_MODEL_39e9973920e54c3da582fc0a57e69bcc",
       "value": "<h5>0.0288</h5>"
      }
     },
     "ceb1b31807d64f4f80ba1dfbb6578485": {
      "model_module": "@jupyter-widgets/base",
      "model_module_version": "1.2.0",
      "model_name": "LayoutModel",
      "state": {
       "margin": "10px 0px 0px 0px"
      }
     },
     "cefb1243362e4294a4ba4abdf7c36fb1": {
      "model_module": "@jupyter-widgets/controls",
      "model_module_version": "1.5.0",
      "model_name": "HTMLModel",
      "state": {
       "layout": "IPY_MODEL_d4a9b31268b5404bbb4e880a3ebb0031",
       "style": "IPY_MODEL_ec96e966a74d45ca9d84716323753c06",
       "value": "<h5 style='color:#dc267f'>False</h5>"
      }
     },
     "cf156145fbe344638a0ddaee0a8852b9": {
      "model_module": "@jupyter-widgets/controls",
      "model_module_version": "1.5.0",
      "model_name": "HTMLModel",
      "state": {
       "layout": "IPY_MODEL_6eecb86069a04b419f8f9e2a66bd798b",
       "style": "IPY_MODEL_7bad261a86da4c89a5edcf4837b07e42",
       "value": "<font style='color:#34BC6E'>DONE</font>"
      }
     },
     "d0853401a68f453d88fd219886ac4122": {
      "model_module": "@jupyter-widgets/base",
      "model_module_version": "1.2.0",
      "model_name": "LayoutModel",
      "state": {}
     },
     "d218f483cec24118bb786cf20d3015ef": {
      "model_module": "@jupyter-widgets/controls",
      "model_module_version": "1.5.0",
      "model_name": "DescriptionStyleModel",
      "state": {
       "description_width": ""
      }
     },
     "d234ea7f5b894704973dc787c9a10b93": {
      "model_module": "@jupyter-widgets/controls",
      "model_module_version": "1.5.0",
      "model_name": "HTMLModel",
      "state": {
       "layout": "IPY_MODEL_bc2784e7e0b7496d918e4895e941feea",
       "style": "IPY_MODEL_2f98424127ba4f95ac3a0b3bff0460d7",
       "value": "ibm_perth"
      }
     },
     "d243fa8d400d4a59903ef68a04c054e1": {
      "model_module": "@jupyter-widgets/controls",
      "model_module_version": "1.5.0",
      "model_name": "DescriptionStyleModel",
      "state": {
       "description_width": ""
      }
     },
     "d2684a72282f4e8b8110a01b0e459f61": {
      "model_module": "@jupyter-widgets/controls",
      "model_module_version": "1.5.0",
      "model_name": "DescriptionStyleModel",
      "state": {
       "description_width": ""
      }
     },
     "d27b09c2842442a380e2b238c216a3fb": {
      "model_module": "@jupyter-widgets/controls",
      "model_module_version": "1.5.0",
      "model_name": "HTMLModel",
      "state": {
       "layout": "IPY_MODEL_104b7e595b584b549d86727caea84b67",
       "style": "IPY_MODEL_80077ba55ca94e4ea521e7d9ed7b4d25",
       "value": "<h5><b>5</b></h5>"
      }
     },
     "d3b882e27e8a48b6b07e28f75589eaec": {
      "model_module": "@jupyter-widgets/base",
      "model_module_version": "1.2.0",
      "model_name": "LayoutModel",
      "state": {}
     },
     "d4a9b31268b5404bbb4e880a3ebb0031": {
      "model_module": "@jupyter-widgets/base",
      "model_module_version": "1.2.0",
      "model_name": "LayoutModel",
      "state": {
       "justify_content": "center"
      }
     },
     "d57e51c8ba4842a4a3c430fbde72b92f": {
      "model_module": "@jupyter-widgets/controls",
      "model_module_version": "1.5.0",
      "model_name": "HTMLModel",
      "state": {
       "layout": "IPY_MODEL_12b0461e580a42779d5c137155896023",
       "style": "IPY_MODEL_13d77017e0c24915b533d44ffc02529c",
       "value": "<h4>ibmq_belem</h4>"
      }
     },
     "d5a3d8c3c2ce4dec837aa37c52d88dbf": {
      "model_module": "@jupyter-widgets/base",
      "model_module_version": "1.2.0",
      "model_name": "LayoutModel",
      "state": {
       "justify_content": "center"
      }
     },
     "d609400e8e514ff4a968087c60dc1794": {
      "model_module": "@jupyter-widgets/controls",
      "model_module_version": "1.5.0",
      "model_name": "HTMLMathModel",
      "state": {
       "layout": "IPY_MODEL_9b6f267279f6437c9b89c8e695cbc49d",
       "style": "IPY_MODEL_5450e4d163244cc18ba879e90c06227e",
       "value": "<table><style>\ntable {\n    border-collapse: collapse;\n    width: auto;\n}\n\nth, td {\n    text-align: left;\n    padding: 8px;\n}\n\ntr:nth-child(even) {background-color: #f6f6f6;}\n</style><tr><th></th><th></th></tr><tr><td>coupling_map</td><td>[[0, 1], [0, 5], [1, 0], [1, 2], [2, 1], [2, 3], [3, 2], [3, 4], [4, 3], [4, 9], [5, 0], [5, 6], [5, 10], [6, 5], [6, 7], [7, 6], [7, 8], [7, 12], [8, 7], [8, 9], [9, 4], [9, 8], [9, 14], [10, 5], [10, 11], [10, 15], [11, 10], [11, 12], [12, 7], [12, 11], [12, 13], [13, 12], [13, 14], [14, 9], [14, 13], [14, 19], [15, 10], [15, 16], [16, 15], [16, 17], [17, 16], [17, 18], [18, 17], [18, 19], [19, 14], [19, 18]]</td></tr><tr><td>url</td><td>None</td></tr><tr><td>sample_name</td><td>Hexbert</td></tr><tr><td>u_channel_lo</td><td>[[{'q': 1, 'scale': (1+0j)}], [{'q': 5, 'scale': (1+0j)}], [{'q': 0, 'scale': (1+0j)}], [{'q': 2, 'scale': (1+0j)}], [{'q': 1, 'scale': (1+0j)}], [{'q': 3, 'scale': (1+0j)}], [{'q': 2, 'scale': (1+0j)}], [{'q': 4, 'scale': (1+0j)}], [{'q': 3, 'scale': (1+0j)}], [{'q': 9, 'scale': (1+0j)}], [{'q': 0, 'scale': (1+0j)}], [{'q': 6, 'scale': (1+0j)}], [{'q': 10, 'scale': (1+0j)}], [{'q': 5, 'scale': (1+0j)}], [{'q': 7, 'scale': (1+0j)}], [{'q': 6, 'scale': (1+0j)}], [{'q': 8, 'scale': (1+0j)}], [{'q': 12, 'scale': (1+0j)}], [{'q': 7, 'scale': (1+0j)}], [{'q': 9, 'scale': (1+0j)}], [{'q': 4, 'scale': (1+0j)}], [{'q': 8, 'scale': (1+0j)}], [{'q': 14, 'scale': (1+0j)}], [{'q': 5, 'scale': (1+0j)}], [{'q': 11, 'scale': (1+0j)}], [{'q': 15, 'scale': (1+0j)}], [{'q': 10, 'scale': (1+0j)}], [{'q': 12, 'scale': (1+0j)}], [{'q': 7, 'scale': (1+0j)}], [{'q': 11, 'scale': (1+0j)}], [{'q': 13, 'scale': (1+0j)}], [{'q': 12, 'scale': (1+0j)}], [{'q': 14, 'scale': (1+0j)}], [{'q': 9, 'scale': (1+0j)}], [{'q': 13, 'scale': (1+0j)}], [{'q': 19, 'scale': (1+0j)}], [{'q': 10, 'scale': (1+0j)}], [{'q': 16, 'scale': (1+0j)}], [{'q': 15, 'scale': (1+0j)}], [{'q': 17, 'scale': (1+0j)}], [{'q': 16, 'scale': (1+0j)}], [{'q': 18, 'scale': (1+0j)}], [{'q': 17, 'scale': (1+0j)}], [{'q': 19, 'scale': (1+0j)}], [{'q': 14, 'scale': (1+0j)}], [{'q': 18, 'scale': (1+0j)}]]</td></tr><tr><td>dtm</td><td>0.2222222222222222</td></tr><tr><td>online_date</td><td>2019-09-13 04:00:00+00:00</td></tr><tr><td>simulator</td><td>False</td></tr><tr><td>local</td><td>False</td></tr><tr><td>backend_name</td><td>fake_johannesburg</td></tr><tr><td>meas_lo_range</td><td>[[6.582440095000002, 7.582440095000002], [6.420965043000002, 7.420965043000002], [6.544025536, 7.544025536], [6.487596291, 7.487596291000002], [6.515162829, 7.515162829], [6.38843403, 7.388434030000002], [6.479164254000001, 7.479164254000001], [6.3875422130000015, 7.3875422130000015], [6.590439509, 7.590439509], [6.446428035, 7.446428035], [6.5559762710000005, 7.5559762710000005], [6.4055736460000015, 7.4055736460000015], [6.515604958000002, 7.515604958000002], [6.476179029000002, 7.476179029000002], [6.49972362, 7.49972362], [6.377593348, 7.377593348], [6.471263482, 7.471263482], [6.382423119, 7.382423119], [6.580569418000001, 7.580569418000001], [6.424848203000002, 7.424848203000002]]</td></tr><tr><td>meas_map</td><td>[[0, 1, 2, 3, 4, 5, 6, 7, 8, 9, 10, 11, 12, 13, 14, 15, 16, 17, 18, 19]]</td></tr><tr><td>allow_q_object</td><td>True</td></tr><tr><td>n_uchannels</td><td>46</td></tr><tr><td>qubit_channel_mapping</td><td>[['u2', 'm0', 'u10', 'u1', 'u0', 'd0'], ['d1', 'u2', 'u4', 'm1', 'u0', 'u3'], ['u4', 'u5', 'd2', 'm2', 'u6', 'u3'], ['u5', 'u8', 'm3', 'u6', 'd3', 'u7'], ['u20', 'u8', 'u9', 'd4', 'm4', 'u7'], ['u10', 'u1', 'u12', 'u11', 'u23', 'u13', 'd5', 'm5'], ['d6', 'u11', 'u15', 'm6', 'u13', 'u14'], ['u28', 'd7', 'u15', 'u17', 'u16', 'u18', 'm7', 'u14'], ['u18', 'u16', 'd8', 'm8', 'u19', 'u21'], ['d9', 'u9', 'u22', 'u33', 'u19', 'u21', 'm9', 'u20'], ['u24', 'd10', 'u12', 'u25', 'u23', 'u26', 'u36', 'm10'], ['u24', 'u29', 'm11', 'u26', 'u27', 'd11'], ['d12', 'u28', 'u29', 'u31', 'u30', 'u17', 'u27', 'm12'], ['u31', 'm13', 'u32', 'd13', 'u30', 'u34'], ['u44', 'd14', 'u32', 'u35', 'u22', 'm14', 'u33', 'u34'], ['d15', 'u38', 'u25', 'm15', 'u37', 'u36'], ['u39', 'u38', 'u40', 'u37', 'm16', 'd16'], ['d17', 'u42', 'u39', 'u41', 'u40', 'm17'], ['u43', 'm18', 'u41', 'u45', 'd18', 'u42'], ['u44', 'u43', 'm19', 'u45', 'u35', 'd19']]</td></tr><tr><td>rep_times</td><td>[1000.0]</td></tr><tr><td>open_pulse</td><td>True</td></tr><tr><td>memory</td><td>True</td></tr><tr><td>n_registers</td><td>1</td></tr><tr><td>description</td><td>20 qubit device Johannesburg</td></tr><tr><td>qubit_lo_range</td><td>[[4.164921219025063, 5.164921219025063], [4.26767163657472, 5.267671636574722], [4.118034101840273, 5.118034101840273], [4.522627765569717, 5.522627765569717], [4.155787513438005, 5.155787513438007], [4.245781392793495, 5.245781392793495], [4.331680271816184, 5.331680271816184], [4.205694167284576, 5.205694167284576], [4.398401743238063, 5.398401743238063], [4.240604573181179, 5.240604573181179], [4.341305536370642, 5.341305536370642], [4.257092566528682, 5.257092566528682], [4.1198621405375295, 5.11986214053753], [4.353945886402921, 5.353945886402921], [3.901271095555993, 4.901271095555994], [4.193544830088672, 5.193544830088672], [4.012673616968253, 5.012673616968254], [4.224206493424603, 5.224206493424605], [3.8350998481550134, 4.8350998481550125], [4.0862258365306365, 5.086225836530638]]</td></tr><tr><td>discriminators</td><td>['linear_discriminator', 'quadratic_discriminator']</td></tr><tr><td>dynamic_reprate_enabled</td><td>False</td></tr><tr><td>meas_levels</td><td>[1, 2]</td></tr><tr><td>allow_object_storage</td><td>True</td></tr><tr><td>meas_kernels</td><td>['boxcar']</td></tr><tr><td>credits_required</td><td>True</td></tr><tr><td>uchannels_enabled</td><td>True</td></tr><tr><td>conditional</td><td>False</td></tr><tr><td>dt</td><td>0.2222222222222222</td></tr><tr><td>acquisition_latency</td><td>[]</td></tr><tr><td>hamiltonian</td><td>$$\\begin{align} \\mathcal{H}/\\hbar = & \\sum_{i=0}^{19}\\left(\\frac{\\omega_{q,i}}{2}(\\mathbb{I}-\\sigma_i^{z})+\\frac{\\Delta_{i}}{2}(O_i^2-O_i)+\\Omega_{d,i}D_i(t)\\sigma_i^{X}\\right) \\\\ & + J_{10,11}(\\sigma_{10}^{+}\\sigma_{11}^{-}+\\sigma_{10}^{-}\\sigma_{11}^{+}) + J_{7,12}(\\sigma_{7}^{+}\\sigma_{12}^{-}+\\sigma_{7}^{-}\\sigma_{12}^{+}) + J_{5,6}(\\sigma_{5}^{+}\\sigma_{6}^{-}+\\sigma_{5}^{-}\\sigma_{6}^{+}) + J_{8,9}(\\sigma_{8}^{+}\\sigma_{9}^{-}+\\sigma_{8}^{-}\\sigma_{9}^{+}) \\\\ & + J_{10,15}(\\sigma_{10}^{+}\\sigma_{15}^{-}+\\sigma_{10}^{-}\\sigma_{15}^{+}) + J_{15,16}(\\sigma_{15}^{+}\\sigma_{16}^{-}+\\sigma_{15}^{-}\\sigma_{16}^{+}) + J_{18,19}(\\sigma_{18}^{+}\\sigma_{19}^{-}+\\sigma_{18}^{-}\\sigma_{19}^{+}) + J_{1,2}(\\sigma_{1}^{+}\\sigma_{2}^{-}+\\sigma_{1}^{-}\\sigma_{2}^{+}) \\\\ & + J_{16,17}(\\sigma_{16}^{+}\\sigma_{17}^{-}+\\sigma_{16}^{-}\\sigma_{17}^{+}) + J_{4,9}(\\sigma_{4}^{+}\\sigma_{9}^{-}+\\sigma_{4}^{-}\\sigma_{9}^{+}) + J_{6,7}(\\sigma_{6}^{+}\\sigma_{7}^{-}+\\sigma_{6}^{-}\\sigma_{7}^{+}) + J_{12,13}(\\sigma_{12}^{+}\\sigma_{13}^{-}+\\sigma_{12}^{-}\\sigma_{13}^{+}) \\\\ & + J_{3,4}(\\sigma_{3}^{+}\\sigma_{4}^{-}+\\sigma_{3}^{-}\\sigma_{4}^{+}) + J_{9,14}(\\sigma_{9}^{+}\\sigma_{14}^{-}+\\sigma_{9}^{-}\\sigma_{14}^{+}) + J_{14,19}(\\sigma_{14}^{+}\\sigma_{19}^{-}+\\sigma_{14}^{-}\\sigma_{19}^{+}) + J_{0,5}(\\sigma_{0}^{+}\\sigma_{5}^{-}+\\sigma_{0}^{-}\\sigma_{5}^{+}) \\\\ & + J_{2,3}(\\sigma_{2}^{+}\\sigma_{3}^{-}+\\sigma_{2}^{-}\\sigma_{3}^{+}) + J_{11,12}(\\sigma_{11}^{+}\\sigma_{12}^{-}+\\sigma_{11}^{-}\\sigma_{12}^{+}) + J_{17,18}(\\sigma_{17}^{+}\\sigma_{18}^{-}+\\sigma_{17}^{-}\\sigma_{18}^{+}) + J_{0,1}(\\sigma_{0}^{+}\\sigma_{1}^{-}+\\sigma_{0}^{-}\\sigma_{1}^{+}) \\\\ & + J_{5,10}(\\sigma_{5}^{+}\\sigma_{10}^{-}+\\sigma_{5}^{-}\\sigma_{10}^{+}) + J_{13,14}(\\sigma_{13}^{+}\\sigma_{14}^{-}+\\sigma_{13}^{-}\\sigma_{14}^{+}) + J_{7,8}(\\sigma_{7}^{+}\\sigma_{8}^{-}+\\sigma_{7}^{-}\\sigma_{8}^{+}) \\\\ & + \\Omega_{d,0}(U_{0}^{(0,1)}(t)+U_{1}^{(0,5)}(t))\\sigma_{0}^{X} + \\Omega_{d,1}(U_{2}^{(1,0)}(t)+U_{3}^{(1,2)}(t))\\sigma_{1}^{X} \\\\ & + \\Omega_{d,2}(U_{4}^{(2,1)}(t)+U_{5}^{(2,3)}(t))\\sigma_{2}^{X} + \\Omega_{d,3}(U_{7}^{(3,4)}(t)+U_{6}^{(3,2)}(t))\\sigma_{3}^{X} \\\\ & + \\Omega_{d,4}(U_{8}^{(4,3)}(t)+U_{9}^{(4,9)}(t))\\sigma_{4}^{X} + \\Omega_{d,5}(U_{10}^{(5,0)}(t)+U_{12}^{(5,10)}(t)+U_{11}^{(5,6)}(t))\\sigma_{5}^{X} \\\\ & + \\Omega_{d,6}(U_{14}^{(6,7)}(t)+U_{13}^{(6,5)}(t))\\sigma_{6}^{X} + \\Omega_{d,7}(U_{15}^{(7,6)}(t)+U_{16}^{(7,8)}(t)+U_{17}^{(7,12)}(t))\\sigma_{7}^{X} \\\\ & + \\Omega_{d,8}(U_{18}^{(8,7)}(t)+U_{19}^{(8,9)}(t))\\sigma_{8}^{X} + \\Omega_{d,9}(U_{20}^{(9,4)}(t)+U_{21}^{(9,8)}(t)+U_{22}^{(9,14)}(t))\\sigma_{9}^{X} \\\\ & + \\Omega_{d,10}(U_{24}^{(10,11)}(t)+U_{23}^{(10,5)}(t)+U_{25}^{(10,15)}(t))\\sigma_{10}^{X} + \\Omega_{d,11}(U_{27}^{(11,12)}(t)+U_{26}^{(11,10)}(t))\\sigma_{11}^{X} \\\\ & + \\Omega_{d,12}(U_{28}^{(12,7)}(t)+U_{30}^{(12,13)}(t)+U_{29}^{(12,11)}(t))\\sigma_{12}^{X} + \\Omega_{d,13}(U_{31}^{(13,12)}(t)+U_{32}^{(13,14)}(t))\\sigma_{13}^{X} \\\\ & + \\Omega_{d,14}(U_{35}^{(14,19)}(t)+U_{34}^{(14,13)}(t)+U_{33}^{(14,9)}(t))\\sigma_{14}^{X} + \\Omega_{d,15}(U_{36}^{(15,10)}(t)+U_{37}^{(15,16)}(t))\\sigma_{15}^{X} \\\\ & + \\Omega_{d,16}(U_{38}^{(16,15)}(t)+U_{39}^{(16,17)}(t))\\sigma_{16}^{X} + \\Omega_{d,17}(U_{41}^{(17,18)}(t)+U_{40}^{(17,16)}(t))\\sigma_{17}^{X} \\\\ & + \\Omega_{d,18}(U_{43}^{(18,19)}(t)+U_{42}^{(18,17)}(t))\\sigma_{18}^{X} + \\Omega_{d,19}(U_{45}^{(19,18)}(t)+U_{44}^{(19,14)}(t))\\sigma_{19}^{X} \\\\ \\end{align}$$</td></tr><tr><td>parametric_pulses</td><td>[]</td></tr><tr><td>conditional_latency</td><td>[]</td></tr></table>"
      }
     },
     "d63934558b384200855508945769cafa": {
      "model_module": "@jupyter-widgets/base",
      "model_module_version": "1.2.0",
      "model_name": "LayoutModel",
      "state": {}
     },
     "d669b29fcd9a49a7b34078dde675f1da": {
      "model_module": "@jupyter-widgets/base",
      "model_module_version": "1.2.0",
      "model_name": "LayoutModel",
      "state": {
       "margin": "0px 0px 0px 0px"
      }
     },
     "d6cbc66e92df4942bc1f635129f2e59c": {
      "model_module": "@jupyter-widgets/controls",
      "model_module_version": "1.5.0",
      "model_name": "HTMLModel",
      "state": {
       "layout": "IPY_MODEL_75db519e84524b358837708978df7e9a",
       "style": "IPY_MODEL_caf7fdc6392f454c9cf17a75edfa8f4d",
       "value": "<h5 style='color:#34bc6e'>True</h5>"
      }
     },
     "d8098d8797fb419dbc763b032db8d89f": {
      "model_module": "@jupyter-widgets/controls",
      "model_module_version": "1.5.0",
      "model_name": "VBoxModel",
      "state": {
       "children": [
        "IPY_MODEL_3886211918a04335874856f03db7c45b",
        "IPY_MODEL_7a5ae75f3984478fae3f22279109e358",
        "IPY_MODEL_a6179d8c7d58411f991d42eb633e67cb",
        "IPY_MODEL_b972f15e3f8e4c89b19135a1805be4f6",
        "IPY_MODEL_7c835e6433664dd1852d494d2193896b",
        "IPY_MODEL_8e2b0345d2ab41989a6745af13f92618",
        "IPY_MODEL_6f65fd54196b427aba658b7f7ef701c9",
        "IPY_MODEL_934b611ba02a49debb0e07fab65878fa"
       ],
       "layout": "IPY_MODEL_33c43dfddc1c460db56a28abb99f35b9"
      }
     },
     "d8befcca03c64cb6a51cbcfb2dd3ebf6": {
      "model_module": "@jupyter-widgets/base",
      "model_module_version": "1.2.0",
      "model_name": "LayoutModel",
      "state": {}
     },
     "d8c44ddc146a4d3c90438c937e28a946": {
      "model_module": "@jupyter-widgets/controls",
      "model_module_version": "1.5.0",
      "model_name": "DescriptionStyleModel",
      "state": {
       "description_width": ""
      }
     },
     "d90d6a6b948840e695cb5aaf9d91e780": {
      "model_module": "@jupyter-widgets/controls",
      "model_module_version": "1.5.0",
      "model_name": "GridBoxModel",
      "state": {
       "children": [
        "IPY_MODEL_b8076a13c6fc46d9bc5fc243da96501b"
       ],
       "layout": "IPY_MODEL_c0f39a751cf845cda9913f3a911c6723"
      }
     },
     "d9dc67ba50614248b741bae28c789c41": {
      "model_module": "@jupyter-widgets/controls",
      "model_module_version": "1.5.0",
      "model_name": "IntProgressModel",
      "state": {
       "layout": "IPY_MODEL_ec561c9577f84ee88e3bad5d3a1a5cda",
       "max": 50,
       "style": "IPY_MODEL_7422486f1ccf4d0488804c3c3873883a"
      }
     },
     "da8cdad7a4054db3a12d4a3167554d38": {
      "model_module": "@jupyter-widgets/controls",
      "model_module_version": "1.5.0",
      "model_name": "DescriptionStyleModel",
      "state": {
       "description_width": ""
      }
     },
     "da957a1bf289404f9de240543dc66741": {
      "model_module": "@jupyter-widgets/controls",
      "model_module_version": "1.5.0",
      "model_name": "LabelModel",
      "state": {
       "layout": "IPY_MODEL_70e5201e18b64cc297fc52a500fbe817",
       "style": "IPY_MODEL_1842ab503de94035b1a3ea2265dd6bde",
       "value": "10"
      }
     },
     "dbbc122de08d4ea99a9bc9f54464bdd3": {
      "model_module": "@jupyter-widgets/base",
      "model_module_version": "1.2.0",
      "model_name": "LayoutModel",
      "state": {
       "overflow_y": "scroll"
      }
     },
     "dcd210de77864d35a4580aa6e22b67cd": {
      "model_module": "@jupyter-widgets/base",
      "model_module_version": "1.2.0",
      "model_name": "LayoutModel",
      "state": {
       "justify_content": "center"
      }
     },
     "dcd6c89b1f2a40878b105b9e91e47d07": {
      "model_module": "@jupyter-widgets/controls",
      "model_module_version": "1.5.0",
      "model_name": "DescriptionStyleModel",
      "state": {
       "description_width": ""
      }
     },
     "ddbcf3d756074c4580e988029e533eb0": {
      "model_module": "@jupyter-widgets/base",
      "model_module_version": "1.2.0",
      "model_name": "LayoutModel",
      "state": {
       "grid_area": "middle"
      }
     },
     "ddca0eb6910d444e823900bc72233ba4": {
      "model_module": "@jupyter-widgets/base",
      "model_module_version": "1.2.0",
      "model_name": "LayoutModel",
      "state": {
       "max_width": "180px"
      }
     },
     "de0fe651c54c4d58b389822b6b601590": {
      "model_module": "@jupyter-widgets/base",
      "model_module_version": "1.2.0",
      "model_name": "LayoutModel",
      "state": {}
     },
     "de14df48306d4e0da4f48f740d2a9589": {
      "model_module": "@jupyter-widgets/controls",
      "model_module_version": "1.5.0",
      "model_name": "DescriptionStyleModel",
      "state": {
       "description_width": ""
      }
     },
     "de4b376939a741e1a62ba8fb32991e8f": {
      "model_module": "@jupyter-widgets/controls",
      "model_module_version": "1.5.0",
      "model_name": "DescriptionStyleModel",
      "state": {
       "description_width": ""
      }
     },
     "de8101847b6f4c24aae2b8f7e1c2ed87": {
      "model_module": "@jupyter-widgets/base",
      "model_module_version": "1.2.0",
      "model_name": "LayoutModel",
      "state": {
       "justify_content": "center"
      }
     },
     "dee3e13c349c4a21b8c0dab02b79111c": {
      "model_module": "@jupyter-widgets/base",
      "model_module_version": "1.2.0",
      "model_name": "LayoutModel",
      "state": {
       "margin": "0px 0px 0px 0px"
      }
     },
     "dfa931165e624b7f9edfb79c7d2eb7f7": {
      "model_module": "@jupyter-widgets/controls",
      "model_module_version": "1.5.0",
      "model_name": "DescriptionStyleModel",
      "state": {
       "description_width": ""
      }
     },
     "e079d0f3de1e43379c420a4e36460d2c": {
      "model_module": "@jupyter-widgets/controls",
      "model_module_version": "1.5.0",
      "model_name": "DescriptionStyleModel",
      "state": {
       "description_width": ""
      }
     },
     "e09126dcd7014690a44651f307bfee02": {
      "model_module": "@jupyter-widgets/base",
      "model_module_version": "1.2.0",
      "model_name": "LayoutModel",
      "state": {
       "justify_content": "center"
      }
     },
     "e0b816a8875344628bce1ef6f235b543": {
      "model_module": "@jupyter-widgets/controls",
      "model_module_version": "1.5.0",
      "model_name": "ButtonModel",
      "state": {
       "icon": "close",
       "layout": "IPY_MODEL_85a8e1bf42034727a850e7de749bdf49",
       "style": "IPY_MODEL_7d6f648249d54fc0b6553cc2cb209dff"
      }
     },
     "e1056b777add41bd8f458e323d713446": {
      "model_module": "@jupyter-widgets/controls",
      "model_module_version": "1.5.0",
      "model_name": "HTMLModel",
      "state": {
       "layout": "IPY_MODEL_97f80523ff144731bdcf247984347d07",
       "style": "IPY_MODEL_56b3571adde2477b82db0f6dbdd59c6f",
       "value": "<h5>0.008</h5>"
      }
     },
     "e14eb7c49171420995e069528065a285": {
      "model_module": "@jupyter-widgets/controls",
      "model_module_version": "1.5.0",
      "model_name": "DescriptionStyleModel",
      "state": {
       "description_width": ""
      }
     },
     "e158a97e2a9f4505a7b56a445eaf84a9": {
      "model_module": "@jupyter-widgets/controls",
      "model_module_version": "1.5.0",
      "model_name": "DescriptionStyleModel",
      "state": {
       "description_width": ""
      }
     },
     "e21f74fead5a476ab8d121287acced58": {
      "model_module": "@jupyter-widgets/controls",
      "model_module_version": "1.5.0",
      "model_name": "HTMLModel",
      "state": {
       "layout": "IPY_MODEL_1a5c78f4a93f4ecab19b2df6bd5606ee",
       "style": "IPY_MODEL_9f3f74f0b525499eb26462f4886b398b",
       "value": "<h5>0.0118</h5>"
      }
     },
     "e29e6e95cad645b0af4638bd030aefd8": {
      "model_module": "@jupyter-widgets/base",
      "model_module_version": "1.2.0",
      "model_name": "LayoutModel",
      "state": {
       "grid_area": "top"
      }
     },
     "e32c7b9274504ba2bea77b66c9016d0a": {
      "model_module": "@jupyter-widgets/base",
      "model_module_version": "1.2.0",
      "model_name": "LayoutModel",
      "state": {
       "margin": "5px 0px 0px 0px"
      }
     },
     "e4054dc428b246c08198f3e429eee00f": {
      "model_module": "@jupyter-widgets/base",
      "model_module_version": "1.2.0",
      "model_name": "LayoutModel",
      "state": {
       "margin": "0px 5px 0px 0px",
       "width": "32px"
      }
     },
     "e464f3a121224a3c812a8d1fb0d4b1b4": {
      "model_module": "@jupyter-widgets/controls",
      "model_module_version": "1.5.0",
      "model_name": "HTMLModel",
      "state": {
       "layout": "IPY_MODEL_dcd210de77864d35a4580aa6e22b67cd",
       "style": "IPY_MODEL_5fe23f927d824b7eaed28591f0f40256",
       "value": "<h5><b>5</b></h5>"
      }
     },
     "e4a912b8615f40d7a6a2f8302f7fda26": {
      "model_module": "@jupyter-widgets/base",
      "model_module_version": "1.2.0",
      "model_name": "LayoutModel",
      "state": {
       "min_width": "auto"
      }
     },
     "e63a7fce31154fbb98ca5c2ea3e75e2e": {
      "model_module": "@jupyter-widgets/controls",
      "model_module_version": "1.5.0",
      "model_name": "DescriptionStyleModel",
      "state": {
       "description_width": ""
      }
     },
     "e6f92091632e46579f16ad75e264f152": {
      "model_module": "@jupyter-widgets/output",
      "model_module_version": "1.0.0",
      "model_name": "OutputModel",
      "state": {
       "layout": "IPY_MODEL_16d9840a0bc84f7ab6278292d81ade1f",
       "outputs": [
        {
         "data": {
          "image/png": "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\n",
          "text/plain": "<Figure size 360x360 with 1 Axes>"
         },
         "metadata": {},
         "output_type": "display_data"
        }
       ]
      }
     },
     "e70e3fca01054049bca60232b8d4c96e": {
      "model_module": "@jupyter-widgets/controls",
      "model_module_version": "1.5.0",
      "model_name": "HTMLModel",
      "state": {
       "layout": "IPY_MODEL_a9d4e51f5e0c4881ac34a6fd7f809bcd",
       "style": "IPY_MODEL_acfda4d8ee4a4091aae714761b5a0015",
       "value": "<h5><b>5</b></h5>"
      }
     },
     "e75363ac47ba493da8c30ad87f22a9d0": {
      "model_module": "@jupyter-widgets/controls",
      "model_module_version": "1.5.0",
      "model_name": "HTMLMathModel",
      "state": {
       "layout": "IPY_MODEL_7ff3261d72b64b48a91c4e06d7346762",
       "style": "IPY_MODEL_3453740fcca045ddaba2f48b738726be",
       "value": "<table><style>\ntable {\n    border-collapse: collapse;\n    width: auto;\n}\n\nth, td {\n    text-align: left;\n    padding: 8px;\n}\n\ntr:nth-child(even) {background-color: #f6f6f6;}\n</style><tr><th>Property</th><th>Value</th></tr><tr><td><font style='font-weight:bold'>n_qubits</font></td><td>20</td></tr><tr><td><font style='font-weight:bold'>quantum_volume</font></td><td>32</td></tr><tr><td><font style='font-weight:bold'>operational</font></td><td>True</td></tr><tr><td><font style='font-weight:bold'>status_msg</font></td><td></td></tr><tr><td><font style='font-weight:bold'>pending_jobs</font></td><td>0</td></tr><tr><td><font style='font-weight:bold'>backend_version</font></td><td>1.2.2</td></tr><tr><td><font style='font-weight:bold'>basis_gates</font></td><td>['id', 'u1', 'u2', 'u3', 'cx']</td></tr><tr><td><font style='font-weight:bold'>max_shots</font></td><td>8192</td></tr><tr><td><font style='font-weight:bold'>max_experiments</font></td><td>900</td></tr></table>"
      }
     },
     "e929673e81884e58a6d3d67626f162f4": {
      "model_module": "@jupyter-widgets/base",
      "model_module_version": "1.2.0",
      "model_name": "LayoutModel",
      "state": {
       "min_width": "auto"
      }
     },
     "e9c545c0cd104a6c98772ce9d60b9e17": {
      "model_module": "@jupyter-widgets/controls",
      "model_module_version": "1.5.0",
      "model_name": "DescriptionStyleModel",
      "state": {
       "description_width": ""
      }
     },
     "e9dafaf7ef5a48d096396c89bee875ae": {
      "model_module": "@jupyter-widgets/output",
      "model_module_version": "1.0.0",
      "model_name": "OutputModel",
      "state": {
       "layout": "IPY_MODEL_eec5a16eaca94221a779aec566b1fba0",
       "outputs": [
        {
         "data": {
          "image/png": "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\n",
          "text/plain": "<Figure size 360x360 with 1 Axes>"
         },
         "metadata": {},
         "output_type": "display_data"
        }
       ]
      }
     },
     "ea00ab82c0004748bda6e62c775bdbe5": {
      "model_module": "@jupyter-widgets/base",
      "model_module_version": "1.2.0",
      "model_name": "LayoutModel",
      "state": {}
     },
     "ea299d38f737419d82a8a5654cf16a1e": {
      "model_module": "@jupyter-widgets/controls",
      "model_module_version": "1.5.0",
      "model_name": "HTMLModel",
      "state": {
       "layout": "IPY_MODEL_01b09fa8c9154910ac4777983d159c92",
       "style": "IPY_MODEL_79003e58f9a24fc0849c4a0699970db3",
       "value": "<h2 style ='color:#ffffff; background-color:#000000;padding-top: 1%; padding-bottom: 1%;padding-left: 1%;margin-top: 0px'>Backend Overview</h2>"
      }
     },
     "eaf2dfc24c1d4e28b417e590acdca5e1": {
      "model_module": "@jupyter-widgets/base",
      "model_module_version": "1.2.0",
      "model_name": "LayoutModel",
      "state": {
       "grid_area": "middle"
      }
     },
     "ec0fe257407643bb99f7e854219e0c93": {
      "model_module": "@jupyter-widgets/controls",
      "model_module_version": "1.5.0",
      "model_name": "LabelModel",
      "state": {
       "layout": "IPY_MODEL_24950f5967be4016a49f56007f7a2a28",
       "style": "IPY_MODEL_91f0c2174c7642c9aeb86510d5c8df1d",
       "value": "50"
      }
     },
     "ec561c9577f84ee88e3bad5d3a1a5cda": {
      "model_module": "@jupyter-widgets/base",
      "model_module_version": "1.2.0",
      "model_name": "LayoutModel",
      "state": {
       "max_width": "180px"
      }
     },
     "ec96e966a74d45ca9d84716323753c06": {
      "model_module": "@jupyter-widgets/controls",
      "model_module_version": "1.5.0",
      "model_name": "DescriptionStyleModel",
      "state": {
       "description_width": ""
      }
     },
     "ee45a968841f48da9b48f874b7b07cf1": {
      "model_module": "@jupyter-widgets/base",
      "model_module_version": "1.2.0",
      "model_name": "LayoutModel",
      "state": {
       "align_items": "center",
       "display": "inline-flex",
       "flex_flow": "column"
      }
     },
     "ee963528e4214827a4f437ba2cf1b37f": {
      "model_module": "@jupyter-widgets/controls",
      "model_module_version": "1.5.0",
      "model_name": "HTMLModel",
      "state": {
       "layout": "IPY_MODEL_dee3e13c349c4a21b8c0dab02b79111c",
       "style": "IPY_MODEL_068b3ec832eb4562bc7e93c0a3c5bc33",
       "value": "<h1 style='color:#ffffff;background-color:#000000;padding-top: 1%;padding-bottom: 1%;padding-left: 1%; margin-top: 0px'>ibm_perth</h1>"
      }
     },
     "eec5a16eaca94221a779aec566b1fba0": {
      "model_module": "@jupyter-widgets/base",
      "model_module_version": "1.2.0",
      "model_name": "LayoutModel",
      "state": {
       "align_items": "center",
       "justify_content": "center",
       "margin": "0px 0px 0px 0px",
       "max_height": "250px",
       "max_width": "250px",
       "min_height": "250px",
       "min_width": "250px"
      }
     },
     "efc16269ad5a40b691135bb87b7db00c": {
      "model_module": "@jupyter-widgets/controls",
      "model_module_version": "1.5.0",
      "model_name": "DescriptionStyleModel",
      "state": {
       "description_width": ""
      }
     },
     "efcb1a34899c4d2ca4f8cd4ab29098e7": {
      "model_module": "@jupyter-widgets/controls",
      "model_module_version": "1.5.0",
      "model_name": "DescriptionStyleModel",
      "state": {
       "description_width": ""
      }
     },
     "f11baed3e7dd48cca49e7e69910a5d48": {
      "model_module": "@jupyter-widgets/controls",
      "model_module_version": "1.5.0",
      "model_name": "DescriptionStyleModel",
      "state": {
       "description_width": ""
      }
     },
     "f205c86d88784f71bfac58fd2651d2b4": {
      "model_module": "@jupyter-widgets/base",
      "model_module_version": "1.2.0",
      "model_name": "LayoutModel",
      "state": {
       "min_width": "auto"
      }
     },
     "f26bad065b0946a18817a412646723bd": {
      "model_module": "@jupyter-widgets/base",
      "model_module_version": "1.2.0",
      "model_name": "LayoutModel",
      "state": {}
     },
     "f29ce7e4fdb8424a97189ce6b4a7b861": {
      "model_module": "@jupyter-widgets/controls",
      "model_module_version": "1.5.0",
      "model_name": "DescriptionStyleModel",
      "state": {
       "description_width": ""
      }
     },
     "f2b86ec854ee4f6596784f3501b7c181": {
      "model_module": "@jupyter-widgets/controls",
      "model_module_version": "1.5.0",
      "model_name": "DescriptionStyleModel",
      "state": {
       "description_width": ""
      }
     },
     "f3506b5ca4da4b61913dd4f475524f7c": {
      "model_module": "@jupyter-widgets/controls",
      "model_module_version": "1.5.0",
      "model_name": "HTMLModel",
      "state": {
       "layout": "IPY_MODEL_2315c6e7734f4a78b09f0b5483ba05a0",
       "style": "IPY_MODEL_dfa931165e624b7f9edfb79c7d2eb7f7",
       "value": "<h5>0.0088</h5>"
      }
     },
     "f38f7ee583a245a693391b519b6d7b95": {
      "model_module": "@jupyter-widgets/controls",
      "model_module_version": "1.5.0",
      "model_name": "LabelModel",
      "state": {
       "layout": "IPY_MODEL_fdc9b682b38c4fd7af86d5da438b8113",
       "style": "IPY_MODEL_03f466e7a474437aaa55f3b27e9fba3e",
       "value": "50"
      }
     },
     "f489b95f789f464195f02f2e863db523": {
      "model_module": "@jupyter-widgets/controls",
      "model_module_version": "1.5.0",
      "model_name": "DescriptionStyleModel",
      "state": {
       "description_width": ""
      }
     },
     "f4c6d00bee494bde8e5ee1b51b7f984a": {
      "model_module": "@jupyter-widgets/base",
      "model_module_version": "1.2.0",
      "model_name": "LayoutModel",
      "state": {}
     },
     "f4c6fa5a3c964c62afb6722a842de737": {
      "model_module": "@jupyter-widgets/controls",
      "model_module_version": "1.5.0",
      "model_name": "HBoxModel",
      "state": {
       "children": [
        "IPY_MODEL_f7ba6d40455e407b87989259a356a5ba",
        "IPY_MODEL_33f1d7150d424201a927d114e96e8147",
        "IPY_MODEL_2b985b59915b499db621f7eff6a382e7"
       ],
       "layout": "IPY_MODEL_09a994f098e84b0488ec72e39609ef12"
      }
     },
     "f599d552430042cb91009b7740534f04": {
      "model_module": "@jupyter-widgets/base",
      "model_module_version": "1.2.0",
      "model_name": "LayoutModel",
      "state": {}
     },
     "f6df220e363741c6b68fc4d3b710f20b": {
      "model_module": "@jupyter-widgets/controls",
      "model_module_version": "1.5.0",
      "model_name": "HTMLModel",
      "state": {
       "layout": "IPY_MODEL_de0fe651c54c4d58b389822b6b601590",
       "style": "IPY_MODEL_4ec52d930ddb4efcabab35ff971071b8",
       "value": "<h4>ibmq_manila</h4>"
      }
     },
     "f7ba6d40455e407b87989259a356a5ba": {
      "model_module": "@jupyter-widgets/controls",
      "model_module_version": "1.5.0",
      "model_name": "LabelModel",
      "state": {
       "layout": "IPY_MODEL_2808216aa5ff43c9b6bdfbb1b9649231",
       "style": "IPY_MODEL_49617ce6fece4ab89f94e8908ff8f626",
       "value": "42"
      }
     },
     "f84cace58465481b831a604be1a92a53": {
      "model_module": "@jupyter-widgets/base",
      "model_module_version": "1.2.0",
      "model_name": "LayoutModel",
      "state": {
       "margin": "5px 0px 0px 0px"
      }
     },
     "f898276c5f6c465696529817ca102e96": {
      "model_module": "@jupyter-widgets/controls",
      "model_module_version": "1.5.0",
      "model_name": "DescriptionStyleModel",
      "state": {
       "description_width": ""
      }
     },
     "f8a545b9701348b38ac4635c2d190e5a": {
      "model_module": "@jupyter-widgets/controls",
      "model_module_version": "1.5.0",
      "model_name": "DescriptionStyleModel",
      "state": {
       "description_width": ""
      }
     },
     "f8c06900545f4922899fc0de185bdcc3": {
      "model_module": "@jupyter-widgets/controls",
      "model_module_version": "1.5.0",
      "model_name": "HTMLModel",
      "state": {
       "layout": "IPY_MODEL_c5fc281da67049b88059e5319b6cb4f8",
       "style": "IPY_MODEL_3282ecd3cb9942b0a7e99ec44b2f050f",
       "value": "<h5>0.0073</h5>"
      }
     },
     "f9e617c4ede145ca9be54f1ba69f1820": {
      "model_module": "@jupyter-widgets/base",
      "model_module_version": "1.2.0",
      "model_name": "LayoutModel",
      "state": {
       "max_height": "620px"
      }
     },
     "fa4af0220f5b48dcac36128ad369530a": {
      "model_module": "@jupyter-widgets/base",
      "model_module_version": "1.2.0",
      "model_name": "LayoutModel",
      "state": {
       "justify_content": "center"
      }
     },
     "fa5f213e0d1644f48254a1fc8d7e56f2": {
      "model_module": "@jupyter-widgets/base",
      "model_module_version": "1.2.0",
      "model_name": "LayoutModel",
      "state": {
       "width": "70px"
      }
     },
     "fca1a2c748ca40d1ab1f1a70e58fd122": {
      "model_module": "@jupyter-widgets/controls",
      "model_module_version": "1.5.0",
      "model_name": "HTMLModel",
      "state": {
       "layout": "IPY_MODEL_33c84763576643399915873faae97371",
       "style": "IPY_MODEL_1d8fe86d9f6a42bfaa1b742ea306883b",
       "value": "<h5>32</h5>"
      }
     },
     "fca965ff5145492a9f9c49322e14b7a3": {
      "model_module": "@jupyter-widgets/controls",
      "model_module_version": "1.5.0",
      "model_name": "DescriptionStyleModel",
      "state": {
       "description_width": ""
      }
     },
     "fd4fbd52e95f4d76b81087eb443c2797": {
      "model_module": "@jupyter-widgets/controls",
      "model_module_version": "1.5.0",
      "model_name": "HTMLModel",
      "state": {
       "layout": "IPY_MODEL_4ed4a504abfe48ada9a098990a363c30",
       "style": "IPY_MODEL_f11baed3e7dd48cca49e7e69910a5d48",
       "value": "<h5><b>5</b></h5>"
      }
     },
     "fd8107185e9f4a75aca08ee06e9d6034": {
      "model_module": "@jupyter-widgets/controls",
      "model_module_version": "1.5.0",
      "model_name": "DescriptionStyleModel",
      "state": {
       "description_width": ""
      }
     },
     "fd8e769d07d74fdd8dde686cbb8634a4": {
      "model_module": "@jupyter-widgets/controls",
      "model_module_version": "1.5.0",
      "model_name": "HTMLModel",
      "state": {
       "layout": "IPY_MODEL_d8befcca03c64cb6a51cbcfb2dd3ebf6",
       "style": "IPY_MODEL_62723f87340441ae99bb0951af0694ed",
       "value": "<table><style>\ntable {\n    border-collapse: collapse;\n    width: auto;\n}\n\nth, td {\n    text-align: left;\n    padding: 8px;\n}\n\ntr:nth-child(even) {background-color: #f6f6f6;}\n</style><tr><th></th><th>Frequency</th><th>T1</th><th>T2</th><th>RZ</th><th>SX</th><th>X</th><th>Readout error</th></tr><tr><td><font style='font-weight:bold'>Q0</font></td><td>5.15739 GHz</td><td>154.9979 us</td><td>103.88292 us</td><td>0</td><td>0.00022</td><td>0.00022</td><td>0.0111 </td><tr><td><font style='font-weight:bold'>Q1</font></td><td>5.03434 GHz</td><td>116.28562 us</td><td>108.95784 us</td><td>0</td><td>0.00028</td><td>0.00028</td><td>0.0175 </td><tr><td><font style='font-weight:bold'>Q2</font></td><td>4.86186 GHz</td><td>138.17305 us</td><td>158.52777 us</td><td>0</td><td>0.00028</td><td>0.00028</td><td>0.0868 </td><tr><td><font style='font-weight:bold'>Q3</font></td><td>5.12441 GHz</td><td>134.04195 us</td><td>178.04785 us</td><td>0</td><td>0.00021</td><td>0.00021</td><td>0.0107 </td><tr><td><font style='font-weight:bold'>Q4</font></td><td>5.15948 GHz</td><td>183.15212 us</td><td>143.41655 us</td><td>0</td><td>0.00036</td><td>0.00036</td><td>0.0092 </td><tr><td><font style='font-weight:bold'>Q5</font></td><td>4.97887 GHz</td><td>103.28455 us</td><td>129.20303 us</td><td>0</td><td>0.00037</td><td>0.00037</td><td>0.0134 </td><tr><td><font style='font-weight:bold'>Q6</font></td><td>5.15665 GHz</td><td>132.8957 us</td><td>225.32449 us</td><td>0</td><td>0.00033</td><td>0.00033</td><td>0.0055 </td></table>"
      }
     },
     "fdc9b682b38c4fd7af86d5da438b8113": {
      "model_module": "@jupyter-widgets/base",
      "model_module_version": "1.2.0",
      "model_name": "LayoutModel",
      "state": {
       "min_width": "auto"
      }
     }
    },
    "version_major": 2,
    "version_minor": 0
   }
  }
 },
 "nbformat": 4,
 "nbformat_minor": 4
}
