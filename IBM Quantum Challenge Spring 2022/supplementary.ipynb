{
 "cells": [
  {
   "cell_type": "markdown",
   "metadata": {
    "id": "IT3xoU8Pp85F"
   },
   "source": [
    "<!-- Title: -->\n",
    "<div align=\"center\">\n",
    "  <h1> Supplementary Material for IBM Quantum Spring Challenge 2022 </h1>\n",
    "</div>\n",
    "<br>\n",
    "\n"
   ]
  },
  {
   "cell_type": "markdown",
   "metadata": {
    "id": "3G4RQpd5Yj32"
   },
   "source": [
    "---\n",
    "This notebook presents the step-by-step derivation of the quantum circuits provided as solutions to the first challenge. \n",
    "\n",
    "The useful linear algebra identities for quantum circuits are now in the [quantum-circuit-theory](https://github.com/QuCAI-Lab/quantum-circuit-theory/blob/dev/notebooks/algebraic_identities.ipynb) dedicated repository to avoid information overload.\n",
    "\n",
    "Qiskit little-endian convention is now in the [here](https://github.com/QuCAI-Lab/quantum-circuit-theory/blob/dev/notebooks/08_circuit_identities.ipynb).\n",
    "\n",
    "---"
   ]
  },
  {
   "cell_type": "markdown",
   "metadata": {
    "id": "Z5A_IdrZZaZW"
   },
   "source": [
    "# &nbsp; <a href=\"#\"><img valign=\"middle\" height=\"45px\" src=\"https://img.icons8.com/python\" width=\"45\" hspace=\"0px\" vspace=\"0px\"></a> Importing dependencies\n"
   ]
  },
  {
   "cell_type": "code",
   "execution_count": 2,
   "metadata": {
    "executionInfo": {
     "elapsed": 1058,
     "status": "ok",
     "timestamp": 1663628021379,
     "user": {
      "displayName": "Lucas Camponogara Viera",
      "userId": "14322290658374940800"
     },
     "user_tz": -480
    },
    "id": "WPCsJKuAsCmn"
   },
   "outputs": [],
   "source": [
    "import numpy as np\n",
    "import sympy as sym\n",
    "from sympy import exp # Symbolic exponentiation.\n",
    "from scipy.linalg import expm # Numerical exponentiation.\n",
    "from sympy.physics.quantum import TensorProduct, OuterProduct\n",
    "\n",
    "from qiskit import Aer, QuantumRegister, QuantumCircuit, assemble, execute\n",
    "from qiskit.quantum_info import Statevector\n",
    "from qiskit.circuit import Parameter\n",
    "from qiskit.opflow import I, X, Y, Z\n",
    "\n",
    "import pylatexenc # Required to use 'MatplotlibDrawer'."
   ]
  },
  {
   "cell_type": "markdown",
   "metadata": {
    "id": "utzuBj5057RX"
   },
   "source": [
    "# Numpy\n",
    "- Defining the eigenstates, projector operators, and gates that will be used to verify the identites."
   ]
  },
  {
   "cell_type": "code",
   "execution_count": 3,
   "metadata": {
    "colab": {
     "base_uri": "https://localhost:8080/"
    },
    "executionInfo": {
     "elapsed": 3,
     "status": "ok",
     "timestamp": 1663628021380,
     "user": {
      "displayName": "Lucas Camponogara Viera",
      "userId": "14322290658374940800"
     },
     "user_tz": -480
    },
    "id": "XcreQB7QtBYv",
    "outputId": "edd5b739-09b3-4876-a382-48c2044f2050"
   },
   "outputs": [
    {
     "data": {
      "text/plain": [
       "((2, 2), (2, 2), (2, 2), (2, 2), (2, 2), (2, 2), (4, 4), (4, 4))"
      ]
     },
     "execution_count": 3,
     "metadata": {},
     "output_type": "execute_result"
    }
   ],
   "source": [
    "'''1-qubit gates SU(2):'''\n",
    "sigma0 = np.identity(2) # Matrix of the identity gate.\n",
    "sigma1 = np.array([[0,1],[1,0]], dtype=(np.float32)) # Matrix of the Pauli-X gate that performs a Pi radian rotation around the x-axis.\n",
    "sigma2 = np.array([[0,-1j],[1j,0]], dtype=(np.complex64)) # Matrix of the Pauli-Y gate = iXZ.\n",
    "sigma3 = np.array([[1,0],[0,-1]], dtype=(np.float32)) # Matrix of the Pauli-Z gate = P(pi).\n",
    "had = (1/np.sqrt(2))*np.array([[1,1],[1,-1]]) # Matrix of the Hadamard gate that performs a Pi radian rotation around an axis between the x and z axes.\n",
    "phase = np.array([[1,0],[0,1j]]) #  Matrix of the Phase gate S = P(pi/2) = square-root of Pauli-Z.\n",
    "\n",
    "'''2-qubit gates SU(4):'''\n",
    "XX = np.kron(sigma1,sigma1) # Matrix of the XX gate.\n",
    "YY = np.kron(sigma2,sigma2) # Matrix of the YY gate.\n",
    "\n",
    "'''Array dimensions:'''\n",
    "sigma0.shape, sigma1.shape, sigma2.shape, sigma3.shape, had.shape, phase.shape, XX.shape, YY.shape"
   ]
  },
  {
   "cell_type": "markdown",
   "metadata": {
    "id": "864_5ltpEXc5"
   },
   "source": [
    "# Deriving Quantum Circuits\n",
    "\n",
    "- $ZZ(t)$, $XX(t)$, and $YY(t)$ gates."
   ]
  },
  {
   "cell_type": "markdown",
   "metadata": {
    "id": "ZjouLXJGTgOf"
   },
   "source": [
    "## Short notes on linear algebra\n",
    "\n"
   ]
  },
  {
   "cell_type": "markdown",
   "metadata": {
    "id": "z95HyKwK9aNs"
   },
   "source": [
    "Recall that Pauli operators $X, Y,$ and $Z$ are all represented by matrices that are both Hermitian and Unitary and, therefore, Involutory. Since they are Involutory, their eigenvalues are $\\pm 1$. Moreover, Hermitian and Unitary matrices are Normal matrices. The converse is not true, i.e, Normal matrices are not always Hermitian and Unitary. A Normal matrix is Unitary iff all of its eigenvalues (the matrix spectrum) lie on the unit circle of the complex plane, i.e, they have modulus (absolute value) equal to one ($|\\lambda|=1$), and hence they can be written in the form $\\lambda=e^{i\\theta}$ for some real-valued number $\\theta$. And a Normal matrix is Hermitian iff all of its eigenvalues are real ($\\lambda=\\lambda^*$)."
   ]
  },
  {
   "cell_type": "markdown",
   "metadata": {
    "id": "jC_YxNaqOZAY"
   },
   "source": [
    "**Spectral decomposition theorem for Normal matrices** *Any Normal operator $\\hat{\\mathcal{O}}$ on a vector space $V$ of dimension $\\dim V=d$ is unitarily diagonalizable with respect to some orthonormal basis for $V$. Conversely, any unitarily diagonalizable operator is normal.*\n",
    "\n",
    "It follows that an operator is Normal iff it is unitarily diagonalizable. Therefore, any Normal operator has a spectral (eigenvalue) decomposition in terms of the outer product representation, and in the basis of its eigenvectors, of the form:\n",
    "\n",
    "$$ \\hat{O} = \\sum_{j=1}^{d}= o_j P_{o_j} = \\sum_{j=1}^{d} o_j |o_j \\rangle \\langle o_j|.$$\n",
    "\n",
    "Where:\n",
    "\n",
    "- $o_j$ and $P_{o_j}$ are the corresponding eigenvalue and projector operator of the observable $\\hat{O}$, respectively. \n",
    "\n",
    "- $\\{o_j\\}|_{j=1}^d$ is a basis set of $d$ linearly independent orthonormal eigenvectors $|o_j\\rangle$ of $\\hat{O}$ with eigenvalue $o_j$.\n",
    "\n",
    "Note that:\n",
    "\n",
    "$$ \\Bigg( \\sum_{j=1}^{d} o_j |o_j \\rangle \\langle o_j| \\Bigg) |o_k \\rangle =  \\sum_{j=1}^{d} o_j |o_j \\rangle \\delta_{jk}= o_k |o_k \\rangle = \\hat{O} |o_k \\rangle.$$\n",
    "\n",
    "**Note:** the above theorem does not imply that any diagonalizable operator is Normal, this is only true for `unitary diagonalization`. There are matrices which are not Normal, but are diagonalizable by orthogonal operators (`orthogonal diagonalization`). See the `spectral theorem for Symmetric matrices` for more information."
   ]
  },
  {
   "cell_type": "markdown",
   "metadata": {
    "id": "oIo-DkFdR8M7"
   },
   "source": [
    "Let $A \\in M^{n,n}$ be a square matrix of dimension $n$x$n$.\n",
    "\n",
    "- 1) $A$ is `unitary diagonalizable` if and only if $A$ is Normal: $AA^{\\dagger}=A^{\\dagger}A$.\n",
    "\n",
    "- 2) $A$ is `orthogonally diagonalizable` if and only if $A$ is symmetric: $A=A^{T}$."
   ]
  },
  {
   "cell_type": "markdown",
   "metadata": {
    "id": "2iE8qfEO1Z8c"
   },
   "source": [
    "Given the spectral decomposition theorem, it is possible to write the operator function (matrix function) on a Normal matrix $\\hat{O}$ as follows:\n",
    "\n",
    "$$f(\\hat{O})= \\sum_j f(o_j) |o_j\\rangle \\langle o_j|,$$\n",
    "\n",
    "which is equivalent to (after writing $\\hat{O} = UDU^{\\dagger}$)\n",
    "\n",
    "\\begin{eqnarray}\n",
    "f(\\hat{O}) = Uf(D)U^{\\dagger}.\n",
    "\\end{eqnarray}\n",
    "\n",
    "For the exponential function over the field $\\mathbb{C}^n$ of the complex numbers, this becomes:\n",
    "\n",
    "$$ e^{i\\theta\\hat{O}} = \\sum_{j=1}^n e^{i\\theta o_j} |o_j\\rangle \\langle o_j| = e^{i\\theta o_1} |o_{1}\\rangle \\langle o_{1}| + \\cdots + e^{i\\theta o_n} |o_{n}\\rangle \\langle o_{n}|.$$\n",
    "\n",
    "To see this is true, recall that the eigenvalues of a matrix are multiplied by a scalar when the matrix is multiplied by the same scalar, while the eigenvectors are left unchanged. One can extend this identity to a tensor product of Normal operators noting that `the tensor product of two Hermitian operators is another Hermitian operator`. Recall that Hermitian and Unitary operators are also Normal operators and, therefore, they also have a spectral decomposition in terms of the outer product representation."
   ]
  },
  {
   "cell_type": "markdown",
   "metadata": {
    "id": "tBmjoW4bPpij"
   },
   "source": [
    "## $ZZ(t)$ gate\n",
    "\n",
    "\n"
   ]
  },
  {
   "cell_type": "markdown",
   "metadata": {
    "id": "t1JD2jrePv7-"
   },
   "source": [
    "In this section, the following circuit for the ZZ(t) gate will be verified:\n",
    "\n",
    "$$ZZ(t) \\equiv e^{-itZ \\otimes Z} = CX^{01} \\big(\\mathbb{I} \\otimes R_z (2t)\\big) CX^{01} = CX^{01} \\big(\\mathbb{I} \\otimes e^{-itZ} \\big) CX^{01}.$$"
   ]
  },
  {
   "cell_type": "code",
   "execution_count": 4,
   "metadata": {
    "colab": {
     "base_uri": "https://localhost:8080/",
     "height": 0
    },
    "executionInfo": {
     "elapsed": 6,
     "status": "ok",
     "timestamp": 1663628039271,
     "user": {
      "displayName": "Lucas Camponogara Viera",
      "userId": "14322290658374940800"
     },
     "user_tz": -480
    },
    "id": "_-XB-2gmS0gR",
    "outputId": "9ae680cf-f232-4000-db8a-e68f4697fa99"
   },
   "outputs": [
    {
     "data": {
      "image/png": "[encoded data removed]",
      "text/plain": [
       "<Figure size 370.906x200.667 with 1 Axes>"
      ]
     },
     "execution_count": 4,
     "metadata": {},
     "output_type": "execute_result"
    }
   ],
   "source": [
    "# Circuit for the ZZ(t) gate:\n",
    "\n",
    "'''\n",
    "from qiskit import QuantumCircuit\n",
    "from qiskit.circuit import Parameter\n",
    "'''\n",
    "\n",
    "t = Parameter('t')\n",
    "\n",
    "qc = QuantumCircuit(2, name='ZZ')\n",
    "qc.cnot(0,1) # CX^{01}.\n",
    "qc.rz(2 * t, 1) # R_z(2t).\n",
    "qc.cnot(0,1) # CX^{01}.\n",
    "qc.draw(output='mpl') # '!pip install pylatexenc' library is required to use 'MatplotlibDrawer'."
   ]
  },
  {
   "cell_type": "markdown",
   "metadata": {
    "id": "nSUsnUnGU4x8"
   },
   "source": [
    "### Obtaining the ZZ(t) gate via spectral decomposition theorem"
   ]
  },
  {
   "cell_type": "markdown",
   "metadata": {
    "id": "XcvM6VJ-7ByW"
   },
   "source": [
    "Recall that a general single-qubit standard rotation gate can be written as:\n",
    "\n",
    "$$ R_{\\hat{n}}(\\theta) \\doteq e^{\\pm i(\\hat{n} \\cdot \\vec{\\sigma})\\theta /2}= \\cos(\\theta/2) I \\pm i \\sin(\\theta/2)(\\hat{n}\\cdot \\hat{\\sigma}),$$\n",
    "\n",
    "and after defining $\\theta \\doteq 2t$, one has\n",
    "\n",
    "\\begin{eqnarray}\n",
    "RZ(2t) \\equiv R_z(2t)&=& R_{(0,0,1)}(2t) \\doteq \\exp(- iZ2t/2) = e^{-itZ} \n",
    "= cos(t)I -isin(t)Z = \n",
    "\\begin{bmatrix} e^{- it} & 0 \\\\0 &  e^{it}\n",
    "\\end{bmatrix} = e^{- it}|0 \\rangle\\langle 0| + e^{it} |1 \\rangle\\langle 1|.\n",
    "\\end{eqnarray}\n",
    "\n",
    "With that, the $e^{-itZZ}$ gate (a.k.a [RZZ](https://qiskit.org/documentation/stubs/qiskit.circuit.library.RZZGate.html)(2t)) can be written as follows:\n",
    "\n",
    "\\begin{equation}\n",
    "R_{zz}(2t)= \\exp(-it Z\\otimes Z)=cos\\left(t\\right)(\\mathbb{I}_2\\otimes \\mathbb{I}_2)-isin\\left(t\\right)(Z\\otimes Z).\n",
    "\\end{equation}"
   ]
  },
  {
   "cell_type": "markdown",
   "metadata": {
    "id": "YkHuY5ZfNEwT"
   },
   "source": [
    "The $e^{-itZ\\otimes Z}$ gate is already diagonalized in the canonical basis a.k.a $Z$-basis. To see this is true, recall that Pauli operators are Normal operators, therefore, one can write the following spectral decomposition for the Pauli-$Z$ gate in the canonical basis: \n",
    "\n",
    "$$Z=\\sum_{j=1}^{d} z_j |z_j \\rangle \\langle z_j|=|0\\rangle\\langle 0|-|1\\rangle\\langle 1|.$$\n",
    "\n",
    "Note that the eigenvalues are $o_j = \\pm 1$, since Pauli operators are represented by Involutory matrices. With that, one then has \n",
    "\n",
    "\\begin{eqnarray}\n",
    "Z\\otimes Z &=& (|0\\rangle\\langle 0|-|1\\rangle\\langle 1|)\\otimes(|0\\rangle\\langle 0|-|1\\rangle\\langle 1|) \\tag{ZZ1}\\\\\n",
    "&=& (|0\\rangle\\langle 0|) \\otimes (|0\\rangle\\langle 0|) - (|0\\rangle\\langle 0|) \\otimes (|1\\rangle\\langle 1|) - (|1\\rangle\\langle 1|) \\otimes (|0\\rangle\\langle 0|) + (|1\\rangle\\langle 1|)\\otimes(|1\\rangle\\langle 1|) \\tag{ZZ2}\\\\\n",
    "&=&|00\\rangle\\langle 00|-|01\\rangle\\langle 01|-|10\\rangle\\langle 10|+|11\\rangle\\langle 11| \\tag{ZZ3} \\\\\n",
    "&=& \n",
    "\\begin{bmatrix} \n",
    "1 & 0 & 0 & 0 \\\\ \n",
    "0 & -1 & 0 & 0 \\\\ \n",
    "0 & 0 & -1 & 0 \\\\\n",
    "0 & 0 & 0 & 1  \n",
    "\\end{bmatrix}.\n",
    "\\end{eqnarray}\n",
    "\n",
    "- Eq. ($ZZ2$) was obtained from Eq. ($ZZ1$) using the distributive property for matrices:\n",
    "\n",
    "$$(A+B) \\otimes (C+D)=A\\otimes C+A\\otimes D+B\\otimes C+B\\otimes D.$$\n",
    "\n",
    "- Eq. ($ZZ3$) was obtained from Eq. ($ZZ2$) using:\n",
    "\n",
    "$$|a\\rangle \\langle c| \\otimes |b\\rangle \\langle d|  = (|a\\rangle \\otimes |b\\rangle)(\\langle c| \\otimes \\langle d|) \\equiv |ab\\rangle\\langle cd|.$$\n",
    "\n",
    "Finally, \n",
    "\n",
    "\\begin{eqnarray}\n",
    "e^{-itZ \\otimes Z}&=&e^{-it}|00\\rangle\\langle 00|+ e^{it}|01\\rangle\\langle 01|+ e^{it}|10\\rangle\\langle 10|+e^{-it}|11\\rangle\\langle 11|\\tag{ZZ4} \\\\\n",
    "&=&e^{-it}\\bigg(|00\\rangle\\langle 00|+|11\\rangle\\langle 11|\\bigg)+e^{it}\\bigg(|01\\rangle\\langle 01|+|10\\rangle\\langle 10|\\bigg) \\\\\n",
    "&=& \n",
    "\\begin{bmatrix} \n",
    "e^{-it} & 0 & 0 & 0 \\\\ \n",
    "0 & e^{it} & 0 & 0 \\\\ \n",
    "0 & 0 & e^{it} & 0 \\\\ \n",
    "0 & 0 & 0 & e^{-it}  \n",
    "\\end{bmatrix}.\n",
    "\\end{eqnarray}\n",
    "\n",
    "- Eq. ($ZZ4$) is the result of acting an operator function (in this case $e^{i\\theta \\hat{O}}$) on a Normal matrix (in this case $Z\\otimes Z$) represented by its spectral decomposition, according to:\n",
    "\n",
    "$$ e^{i\\theta\\hat{O}} = \\sum_{j=1}^n e^{i\\theta o_j} |o_j\\rangle \\langle o_j| = e^{i\\theta o_1} |o_{1}\\rangle \\langle o_{1}| + \\cdots + e^{i\\theta o_n} |o_{n}\\rangle \\langle o_{n}|.$$\n",
    "\n",
    "In another perspective, when the matrix is diagonal, the operator function acts on its diagonal entries."
   ]
  },
  {
   "cell_type": "markdown",
   "metadata": {
    "id": "hMcXCCQWVPVY"
   },
   "source": [
    "### Obtaining the ZZ(t) gate via parity trick\n",
    "\n",
    "- Computing the parity information by acting with the $ZZ$ operator."
   ]
  },
  {
   "cell_type": "markdown",
   "metadata": {
    "id": "E4p8FcXo-IBY"
   },
   "source": [
    "\n",
    "To build quantum circuits corresponding to unitary evolution operators from exponentials of the form $U=e^{-i\\hat{H}\\Delta t}$, one can use the parity trick (see Ref. [[1](#ref1)], Sec. 4.7.3). In this case, one can obtain Eq. ($ZZ4$) by computing the parity information, as follows:\n",
    "\n",
    "\\begin{eqnarray}\n",
    "(Z\\otimes Z)|00\\rangle &=& |00\\rangle, \\\\\n",
    "(Z\\otimes Z)|10\\rangle &=& -|10\\rangle, \\\\\n",
    "(Z\\otimes Z)|01\\rangle &=& -|01\\rangle, \\\\\n",
    "(Z\\otimes Z)|11\\rangle &=& |11\\rangle. \\\\\n",
    "\\end{eqnarray}\n",
    "\n",
    "One can see that a minus sign (phase) is introduced whenever the basis state has odd parity (01 or 10). Therefore, in the computational basis, a phase shift will be applied to the system according to $e^{i\\Delta t}$ if the parity of the $n$ qubits in the computational basis is odd, otherwise, the phase shift will be $e^{-i\\Delta t}$ if the parity is even (see Ref. [[1](#ref1)], Sec. 4.7.3). With this result, one can write:\n",
    "\n",
    "\\begin{eqnarray}\n",
    "e^{-itZ \\otimes Z} = e^{-it} |00\\rangle\\langle 00| + e^{it} |01\\rangle\\langle 01| + e^{it} |10 \\rangle\\langle 10| + e^{-it} |11 \\rangle\\langle 11|.\n",
    "\\end{eqnarray}"
   ]
  },
  {
   "cell_type": "markdown",
   "metadata": {
    "id": "5ykI4VoJVpI-"
   },
   "source": [
    "### Implementing the parity computation circuit"
   ]
  },
  {
   "cell_type": "markdown",
   "metadata": {
    "id": "n9t4dM7BUyPN"
   },
   "source": [
    "The above circuit can be obtained using the parity trick, where the first CNOT gate (a.k.a CX) computes the parity, and the second CNOT gate uncomputes the operation, since the CNOT gate is both a Unitary and Hermitian operator ($CX \\cdot CX = CX \\cdot CX^{\\dagger} = \\mathbb{I}$)."
   ]
  },
  {
   "cell_type": "markdown",
   "metadata": {
    "id": "mFT2hncsDjEq"
   },
   "source": [
    "\n",
    "\n",
    "\\begin{eqnarray}\n",
    "CX^{01}\\big(\\mathbb{I} \\otimes R_z(2t)\\big)CX^{01} =\n",
    "CX^{01}\\big(\\mathbb{I} \\otimes e^{-itZ}\\big)CX^{01},\n",
    "\\end{eqnarray}\n",
    "\n",
    "where it was used $RZ(2t) = e^{-itZ}$.\n",
    "\n",
    "Using the equation for a generic CU gate, one can write $CX^{01} = \\mathbb{I} \\otimes |0\\rangle\\langle 0\\rangle + X \\otimes |1 \\rangle \\langle 1|$. However, in textbook convention the CNOT gate reads $CX^{01}=|0\\rangle\\langle 0|\\otimes \\mathbb{I} +|1\\rangle\\langle 1|\\otimes X$. One then has\n",
    "\n",
    "\\begin{eqnarray}\n",
    "CX^{01}\\big(\\mathbb{I} \\otimes e^{-itZ}\\big)CX^{01}=CX^{01}\\big( \\mathbb{I} \\otimes e^{-itZ}\\big)\\big(|0\\rangle\\langle 0|\\otimes \\mathbb{I}  +|1\\rangle\\langle 1|\\otimes X \\big).\n",
    "\\end{eqnarray}\n",
    "\n",
    "From here, the distributive property of matrix multiplication over matrix addition yelds:\n",
    "\n",
    "$$\\big(\\mathbb{I}\\otimes e^{-itZ}\\big)\\big(|0\\rangle\\langle 0|\\otimes \\mathbb{I} +|1\\rangle\\langle 1|\\otimes X \\big) = \\big(\\mathbb{I}\\otimes e^{-itZ}\\big) \\big(|0\\rangle\\langle 0|\\otimes \\mathbb{I} \\big) + \\big(\\mathbb{I} \\otimes e^{-itZ}\\big)\\big(|1\\rangle\\langle 1|\\otimes X \\big).$$\n",
    "\n",
    "Using $(A\\otimes B)\\cdot(C\\otimes D)=A\\cdot C\\otimes B\\cdot D$, the right hand side becomes:\n",
    "\n",
    "$$\\Bigg[(\\mathbb{I} \\cdot |0\\rangle\\langle 0|) \\otimes (e^{-itZ} \\cdot \\mathbb{I})\\Bigg] + \\Bigg[ (\\mathbb{I} \\cdot |1\\rangle\\langle 1|) \\otimes (e^{-itZ} \\cdot X) \\Bigg] = \\Bigg(|0\\rangle\\langle 0|\\otimes e^{-itZ} \\Bigg) + \\Bigg(|1\\rangle\\langle 1|\\otimes e^{-itZ}X \\Bigg) .$$ \n",
    "\n",
    "With that, one then has:\n",
    "\n",
    "\\begin{eqnarray}\n",
    "CX^{01}\\bigg(\\mathbb{I}\\otimes e^{-itZ}\\bigg)CX^{01} &=& CX^{01}\\bigg(|0\\rangle\\langle 0|\\otimes e^{-itZ} +|1\\rangle\\langle 1|\\otimes e^{-itZ}X \\bigg) = \\bigg(|0\\rangle\\langle 0|\\otimes \\mathbb{I} +|1\\rangle\\langle 1|\\otimes X \\bigg)\\bigg(|0\\rangle\\langle 0|\\otimes e^{-itZ} +|1\\rangle\\langle 1|\\otimes e^{-itZ}X \\bigg).\n",
    "\\end{eqnarray}\n",
    "\n",
    "Once again, applying the distributive property over matrix addition, the last term becomes\n",
    "\n",
    "\\begin{eqnarray}\n",
    "CX^{01}\\bigg(\\mathbb{I}\\otimes e^{-itZ}\\bigg)CX^{01} &=& \\bigg(|0\\rangle\\langle 0|\\otimes \\mathbb{I} \\Bigg)\\bigg(|0\\rangle\\langle 0|\\otimes e^{-itZ} \\Bigg)+\\bigg(|0\\rangle\\langle 0|\\otimes \\mathbb{I} \\Bigg)\\bigg(|1\\rangle\\langle 1|\\otimes e^{-itZ}X \\Bigg)\\\\\n",
    "&+&\\bigg(|1\\rangle\\langle 1|\\otimes X\\bigg)\\bigg(|0\\rangle\\langle 0|\\otimes e^{-itZ}\\bigg)+\\bigg(|1\\rangle\\langle 1|\\otimes X\\bigg)\\bigg(|1\\rangle\\langle 1|\\otimes e^{-itZ}X\\bigg).\n",
    "\\end{eqnarray}\n",
    "\n",
    "Now, applying $(A\\otimes B)\\cdot(C\\otimes D)=A\\cdot C\\otimes B\\cdot D$, one gets\n",
    "\n",
    "\\begin{eqnarray}\n",
    "CX^{01}\\bigg(\\mathbb{I}\\otimes e^{-itZ}\\bigg)CX^{01} &=& \\Bigg(|0\\rangle\\langle 0|0\\rangle\\langle 0| \\otimes e^{-itZ}\\Bigg)+\\Bigg(|0\\rangle\\langle 0|1\\rangle\\langle 1| \\otimes e^{-itZ}X\\Bigg)+\\Bigg(|1\\rangle\\langle 1|0\\rangle\\langle 0| \\otimes Xe^{-itZ}\\Bigg)+\\Bigg(|1\\rangle\\langle 1|1\\rangle\\langle 1| \\otimes Xe^{-itZ}X\\Bigg)\\\\\n",
    "&=& \\Bigg(|0\\rangle\\langle 0|\\otimes e^{-itZ} \\Bigg)+\\Bigg(|1\\rangle\\langle 1|\\otimes Xe^{-itZ}X \\Bigg),\n",
    "\\end{eqnarray}\n",
    "\n",
    "where it was used $\\langle i|j\\rangle = \\delta_{ij}$ for a set of orthonormal eigenvectors. \n",
    "\n",
    "From here, recall that $e^{-itZ}=e^{- it}|0 \\rangle\\langle 0| + e^{it} |1 \\rangle\\langle 1|$, such that the last term writes\n",
    "\n",
    "\\begin{eqnarray}\n",
    "CX^{01}\\bigg(\\mathbb{I}\\otimes e^{-itZ}\\bigg)CX^{01} &=& \\Bigg(|0\\rangle\\langle 0|\\otimes (e^{-it}|0\\rangle\\langle 0|+e^{it}|1\\rangle\\langle 1|)\\Bigg) +\\Bigg(|1\\rangle\\langle 1|\\otimes X (e^{-it}|0\\rangle\\langle 0|+e^{it}|1\\rangle\\langle 1|)X\\Bigg) \\\\\n",
    "&=&\\Bigg(|0\\rangle\\langle 0|\\otimes (e^{-it}|0\\rangle\\langle 0|+e^{it}|1\\rangle\\langle 1|)\\Bigg) +\\Bigg(|1\\rangle\\langle 1|\\otimes  (e^{-it}X|0\\rangle\\langle 0|X+e^{it}X|1\\rangle\\langle 1|X)\\Bigg).\n",
    "\\end{eqnarray}\n",
    "\n",
    "To compute $\\big(e^{-it}X|0\\rangle\\langle 0|X+e^{it}X|1\\rangle\\langle 1|X\\big)$, one should note that \n",
    "\n",
    "\\begin{eqnarray}\n",
    "X|0\\rangle &=& |1\\rangle, \\\\\n",
    "X|1\\rangle &=& |0\\rangle, \\\\\n",
    "(A|\\psi\\rangle)^{\\dagger} &=& |\\psi\\rangle^{\\dagger} A^{\\dagger} = \\langle \\psi| A^{\\dagger}, \\\\\n",
    "X^{\\dagger}&=&X,\\\\\n",
    "\\langle 0| X &=& (X|0\\rangle)^{\\dagger} = (|1\\rangle)^{\\dagger} = \\langle 1|,\\\\\n",
    "\\langle 1| X &=& (X|1\\rangle)^{\\dagger} = (|0\\rangle)^{\\dagger} = \\langle 0|.\n",
    "\\end{eqnarray}\n",
    "\n",
    "Finally,\n",
    "\\begin{eqnarray}\n",
    "CX^{01}(\\mathbb{I}\\otimes e^{-itZ})CX^{01}&=& \\Bigg(|0\\rangle\\langle 0|\\otimes (e^{-it}|0\\rangle\\langle 0|+e^{it}|1\\rangle\\langle 1|)\\Bigg) + \\Bigg(|1\\rangle\\langle 1|\\otimes (e^{-it}|1\\rangle\\langle 1|+e^{it}|0\\rangle\\langle 0|)\\Bigg) \\\\\n",
    "&=& \\Bigg(e^{-it}|0\\rangle\\langle 0|\\otimes|0\\rangle\\langle 0|+e^{it}|0\\rangle\\langle 0|\\otimes|1\\rangle\\langle 1|\\Bigg) + \\Bigg(e^{-it}|1\\rangle\\langle 1|\\otimes|1\\rangle\\langle 1|+e^{it}|1\\rangle\\langle 1|\\otimes|0\\rangle\\langle 0|\\Bigg) \\\\\n",
    "&=& e^{-it}|00\\rangle\\langle 00| + e^{it}|01\\rangle\\langle 01| + e^{-it}|11\\rangle\\langle 11|+ e^{it}|10\\rangle\\langle 10| \\\\\n",
    "&=& e^{-itZZ},\n",
    "\\end{eqnarray}\n",
    "\n",
    "where it was used the left–distributive property $$A \\otimes (B+C) = A\\otimes B+A\\otimes C,$$ and the identity $$(|a\\rangle \\langle c|) \\otimes (|b\\rangle \\langle d|)=(|a\\rangle \\otimes |b\\rangle)(\\langle c| \\otimes \\langle d|) \\equiv |ab\\rangle \\langle cd|.$$\n",
    "\n",
    "Q.E.D."
   ]
  },
  {
   "cell_type": "markdown",
   "metadata": {
    "id": "f640c94a-c8a9-4675-a91d-07e12b12aa1c",
    "jp-MarkdownHeadingCollapsed": true,
    "tags": []
   },
   "source": [
    "## $XX(t)$ gate"
   ]
  },
  {
   "cell_type": "code",
   "execution_count": 5,
   "metadata": {
    "colab": {
     "base_uri": "https://localhost:8080/",
     "height": 0
    },
    "executionInfo": {
     "elapsed": 535,
     "status": "ok",
     "timestamp": 1663628039801,
     "user": {
      "displayName": "Lucas Camponogara Viera",
      "userId": "14322290658374940800"
     },
     "user_tz": -480
    },
    "id": "hvjrgoOnPHtu",
    "outputId": "d0892456-d787-4277-e7ea-1154935b3dcc"
   },
   "outputs": [
    {
     "data": {
      "image/png": "[encoded data removed]",
      "text/plain": [
       "<Figure size 538.128x200.667 with 1 Axes>"
      ]
     },
     "execution_count": 5,
     "metadata": {},
     "output_type": "execute_result"
    }
   ],
   "source": [
    "# Circuit for the XX(t) gate:\n",
    "\n",
    "'''\n",
    "from qiskit import QuantumCircuit\n",
    "from qiskit.circuit import Parameter\n",
    "'''\n",
    "\n",
    "t = Parameter('t')\n",
    "\n",
    "qc = QuantumCircuit(2, name='XX')\n",
    "qc.h([0,1])\n",
    "qc.cx(0, 1)\n",
    "qc.rz(2 * t, 1)\n",
    "qc.cx(0, 1)\n",
    "qc.h([0,1])\n",
    "qc.draw(output='mpl')"
   ]
  },
  {
   "cell_type": "markdown",
   "metadata": {
    "id": "Jrs0h4pmqrFc"
   },
   "source": [
    "### Obtaining the XX(t) gate via spectral decomposition theorem"
   ]
  },
  {
   "cell_type": "markdown",
   "metadata": {
    "id": "7e08e7df-6055-4169-907d-db244ba97a6a"
   },
   "source": [
    "One should note that $e^{-itXX}$ is shorthand for $e^{-itX \\otimes X}.$ Recall that Pauli operators are all involutory operators, i.e, their eigenvalues are $o_j = \\pm 1$. According to the spectral decomposition theorem for Normal matrices, one then has:\n",
    "\n",
    "$$X = \\sum_{j=1}^{d} x_j |x_j \\rangle \\langle x_j| = |+\\rangle\\langle +|-|-\\rangle\\langle -|,$$\n",
    "\n",
    "where $$ |\\pm\\rangle \\equiv \\frac{1}{\\sqrt{2}}(|0\\rangle\\pm|1\\rangle) $$ \n",
    "\n",
    "denotes the two orthonormal eigenstates (eigenvectors) of the Pauli $X$-gate according to:\n",
    "\n",
    "$$X |+\\rangle = \\frac{1}{\\sqrt{2}}(X|0\\rangle+X|1\\rangle)=\\frac{1}{\\sqrt{2}}(|1\\rangle+|0\\rangle)=|+\\rangle,$$\n",
    "$$X |-\\rangle = \\frac{1}{\\sqrt{2}}(X|0\\rangle-X|1\\rangle) =\\frac{1}{\\sqrt{2}}(|1\\rangle-|0\\rangle)=-|-\\rangle.$$\n",
    "\n",
    "With that, one gets:\n",
    "\n",
    "\\begin{eqnarray}\n",
    "XX &\\equiv& X\\otimes X = (|+\\rangle\\langle +|-|-\\rangle\\langle -|)\\otimes(|+\\rangle\\langle +|-|-\\rangle\\langle -|) \\tag{XX1}\\\\\n",
    "&=& (|+\\rangle\\langle +|) \\otimes (|+\\rangle\\langle +|) - (|+\\rangle\\langle +|) \\otimes (|-\\rangle\\langle -|) - (|-\\rangle\\langle -|)\\otimes (|+\\rangle\\langle +|) + (|-\\rangle\\langle -|) \\otimes (|-\\rangle\\langle -|) \\tag{XX2} \\\\\n",
    "&=& (|++\\rangle\\langle ++|)-(|+-\\rangle\\langle +-|)-(|-+\\rangle\\langle -+|)+(|--\\rangle\\langle --|) \\tag{XX3} \\\\\n",
    "\\implies e^{-itX \\otimes X}\n",
    "&=&e^{-it}|++\\rangle\\langle ++|+ e^{-it}|--\\rangle\\langle --|+e^{it}|+-\\rangle\\langle +-|+ e^{it}|-+\\rangle\\langle -+|\\tag{XX4} \\\\\n",
    "&=&e^{-it}\\bigg(|++\\rangle\\langle ++|+|--\\rangle\\langle --|\\bigg)+e^{it}\\bigg(|+-\\rangle\\langle +-|+|-+\\rangle\\langle -+|\\bigg).\n",
    "\\end{eqnarray}\n",
    "\n",
    "- Eq. ($XX2$) was obtained from Eq. ($XX1$) using the distributive property for matrices:\n",
    "\n",
    "$$(A+B) \\otimes (C+D)=A\\otimes C+A\\otimes D+B\\otimes C+B\\otimes D.$$\n",
    "\n",
    "- Eq. ($XX3$) was obtained from Eq. ($XX2$) using:\n",
    "\n",
    "$$|a\\rangle \\langle c| \\otimes |b\\rangle \\langle d|  = (|a\\rangle \\otimes |b\\rangle)(\\langle c| \\otimes \\langle d|) \\equiv |ab\\rangle\\langle cd|.$$\n",
    "\n",
    "- Just as before, Eq. ($XX4$) is the result of acting an operator function (in this case $e^{i\\theta \\hat{O}}$) on a Normal matrix (in this case $X\\otimes X$) represented by its corresponding spectral decomposition. \n",
    "\n",
    "As one can see, the $e^{-itX\\otimes X}$ gate is not diagonalized in the $Z$-basis. Since measurements are computed in the $Z$-basis, one must apply a Hadamard gate to change between the $X$ and $Z$ bases according to\n",
    "\n",
    "\\begin{eqnarray}\n",
    "|+\\rangle &=& H|0\\rangle = R_y(\\pi/2)|0\\rangle, \\\\\n",
    "|-\\rangle &=& H|1\\rangle = R_y(-\\pi/2)|0\\rangle, \\\\\n",
    "\\langle +| &=& (|+\\rangle)^{\\dagger} = (H|0\\rangle)^{\\dagger} = (|0\\rangle)^{\\dagger}H^{\\dagger} = \\langle 0|H,\\\\\n",
    "\\langle -| &=& (|-\\rangle)^{\\dagger} == (H|1\\rangle)^{\\dagger} = (|1\\rangle)^{\\dagger}H^{\\dagger} = \\langle 1|H.\n",
    "\\end{eqnarray}"
   ]
  },
  {
   "cell_type": "markdown",
   "metadata": {
    "id": "OOzoRtcgcEmN"
   },
   "source": [
    "With that, and using $A |v\\rangle \\otimes B |w\\rangle = (A\\otimes B)(|v\\rangle \\otimes |w\\rangle),$ one can write the respective outer products as follows:\n",
    "\n",
    "\\begin{eqnarray}\n",
    "|++\\rangle\\langle ++| &=& (H|0\\rangle \\otimes H|0\\rangle)(\\langle 0| H \\otimes \\langle 0| H)\\\\\n",
    "&=& \\Bigg[(H \\otimes H)(|0\\rangle \\otimes |0\\rangle)\\Bigg]\\Bigg[(\\langle 0| \\otimes \\langle 0|)(H \\otimes H)\\Bigg] \\\\\n",
    "&=&(H\\otimes H)|00\\rangle\\langle 00|(H\\otimes H),\\\\\n",
    "\\end{eqnarray}"
   ]
  },
  {
   "cell_type": "markdown",
   "metadata": {
    "id": "04MLdxyqnP4X"
   },
   "source": [
    "\\begin{eqnarray}\n",
    "|--\\rangle\\langle --| &=& (H|1\\rangle \\otimes H|1\\rangle)(\\langle 1| H\\otimes \\langle 1| H)\\\\\n",
    "&=& \\Bigg[(H \\otimes H)(|1\\rangle \\otimes |1\\rangle)\\Bigg]\\Bigg[(\\langle 1| \\otimes \\langle 1|)(H \\otimes H)\\Bigg] \\\\\n",
    "&=&(H\\otimes H)|11\\rangle\\langle 11|(H\\otimes H),\n",
    "\\end{eqnarray}"
   ]
  },
  {
   "cell_type": "markdown",
   "metadata": {
    "id": "0PZzU-pLnQH4"
   },
   "source": [
    "\\begin{eqnarray}\n",
    "|+-\\rangle\\langle +-| &=& (H|0\\rangle \\otimes H|1\\rangle)(\\langle 0| H \\otimes \\langle 1| H)\\\\\n",
    "&=& \\Bigg[(H \\otimes H)(|0\\rangle \\otimes |1\\rangle)\\Bigg]\\Bigg[(\\langle 0| \\otimes \\langle 1|)(H \\otimes H)\\Bigg] \\\\\n",
    "&=&(H\\otimes H)|01\\rangle\\langle 01|(H\\otimes H),\n",
    "\\end{eqnarray}"
   ]
  },
  {
   "cell_type": "markdown",
   "metadata": {
    "id": "LTQESG6GolZd"
   },
   "source": [
    "\\begin{eqnarray}\n",
    "|-+\\rangle\\langle -+| &=& (H|1\\rangle \\otimes H|0\\rangle)(\\langle 1| H \\otimes \\langle 0| H)\\\\\n",
    "&=& \\Bigg[(H \\otimes H)(|1\\rangle \\otimes |0\\rangle)\\Bigg]\\Bigg[(\\langle 1| \\otimes \\langle 0|)(H \\otimes H)\\Bigg] \\\\\n",
    "&=&(H\\otimes H)|10\\rangle\\langle 10|(H\\otimes H).\n",
    "\\end{eqnarray}"
   ]
  },
  {
   "cell_type": "markdown",
   "metadata": {
    "id": "NPtcXZv3bxaU"
   },
   "source": [
    "Finally,\n",
    "\n",
    "\\begin{eqnarray}\n",
    "e^{-it X \\otimes X} &=& e^{-it}\\Bigg[(H\\otimes H)|00\\rangle\\langle 00|(H\\otimes H)+(H\\otimes H)|11\\rangle\\langle 11|(H\\otimes H)\\Bigg]+e^{it}\\Bigg[(H\\otimes H)|01\\rangle\\langle 01|(H\\otimes H)+(H\\otimes H)|10\\rangle\\langle 10|(H\\otimes H)\\Bigg] \\\\\n",
    "&=& (H\\otimes H)\\Bigg[e^{-it}\\Bigg(|00\\rangle\\langle 00|+|11\\rangle\\langle 11|\\Bigg)+e^{it}\\Bigg(|01\\rangle\\langle 01|+|10\\rangle\\langle 10|\\Bigg)\\Bigg](H\\otimes H)\\\\\n",
    "&=& (H\\otimes H) e^{-it Z \\otimes Z}(H\\otimes H) \\\\\n",
    "&=& (H\\otimes H) C_x^{01}\\big(\\mathbb{I}\\otimes e^{-itZ}\\big) C_x^{01}(H\\otimes H) \\\\\n",
    "&=& (H\\otimes H) C_x^{01}\\big(\\mathbb{I}\\otimes R_Z(2t)\\big) C_x^{01}(H\\otimes H),\n",
    "\\end{eqnarray}\n",
    "\n",
    "where it was used the previously obtained decomposition of the $ZZ(t)$ gate, given by\n",
    "\n",
    "\\begin{eqnarray}\n",
    "ZZ(t)=e^{-itZ\\otimes Z} &=& e^{-it}\\Bigg(|00\\rangle\\langle 00|+|11\\rangle\\langle 11|\\Bigg)+e^{it}\\Bigg(|01\\rangle\\langle 01|+|10\\rangle\\langle 10|\\Bigg)=C_x^{01}\\big(\\mathbb{I}\\otimes e^{-itZ}\\big)C_x^{01},\n",
    "\\end{eqnarray}\n",
    "\n",
    "and the fact that $e^{-itZ} = R_z(2t)$.\n",
    "\n",
    "Q.E.D."
   ]
  },
  {
   "cell_type": "markdown",
   "metadata": {
    "id": "ftiavwHYO1Zn"
   },
   "source": [
    "From the fact that \n",
    "\n",
    "$$H|0\\rangle = R_y(\\pi/2)|0\\rangle = \\frac{1}{\\sqrt{2}}(|0\\rangle+|1\\rangle) \\equiv |+\\rangle,$$ \n",
    "\n",
    "and \n",
    "\n",
    "$$H|1\\rangle = R_y(-\\pi/2)|0\\rangle = \\frac{1}{\\sqrt{2}}(|0\\rangle-|1\\rangle) \\equiv |-\\rangle,$$ \n",
    "\n",
    "one equivalent quantum circuit is:"
   ]
  },
  {
   "cell_type": "code",
   "execution_count": 6,
   "metadata": {
    "colab": {
     "base_uri": "https://localhost:8080/",
     "height": 0
    },
    "executionInfo": {
     "elapsed": 4,
     "status": "ok",
     "timestamp": 1663628039801,
     "user": {
      "displayName": "Lucas Camponogara Viera",
      "userId": "14322290658374940800"
     },
     "user_tz": -480
    },
    "id": "XMR4d5oZOz0q",
    "outputId": "fdb9389a-89ea-4e1f-ac04-d2286bd3e75a"
   },
   "outputs": [
    {
     "data": {
      "image/png": "[encoded data removed]",
      "text/plain": [
       "<Figure size 538.128x200.667 with 1 Axes>"
      ]
     },
     "execution_count": 6,
     "metadata": {},
     "output_type": "execute_result"
    }
   ],
   "source": [
    "# Equivalent circuit for the XX(t) gate:\n",
    "\n",
    "qc = QuantumCircuit(2, name='XX')\n",
    "qc.ry(np.pi/2,[0,1])\n",
    "qc.cnot(0,1)\n",
    "qc.rz(2 * t, 1)\n",
    "qc.cnot(0,1)\n",
    "qc.ry(-np.pi/2,[0,1])\n",
    "\n",
    "qc.draw(output='mpl')"
   ]
  },
  {
   "cell_type": "markdown",
   "metadata": {
    "id": "9r6uJ7Owq28n"
   },
   "source": [
    "### Obtaining the XX(t) gate via single qubit rotations"
   ]
  },
  {
   "cell_type": "markdown",
   "metadata": {
    "id": "IVeHCX6vq3rv"
   },
   "source": [
    "Another method to obtain the $XX(t) \\equiv e^{(-it X\\otimes X)}$ gate is by performing single-qubit rotations on the $ZZ(t)$ gate. To this end, note that\n",
    "\n",
    "$$R_y(\\pi/2) Z R_y(-\\pi/2) = X,$$\n",
    "\n",
    "such that \n",
    "\n",
    "$$\\Bigg(R_y(\\pi/2) \\otimes R_y(\\pi/2) \\Bigg) (Z\\otimes Z) \\Bigg(R_y(-\\pi/2) \\otimes R_y(-\\pi/2) \\Bigg) = X\\otimes X.$$\n"
   ]
  },
  {
   "cell_type": "markdown",
   "metadata": {
    "id": "H3KgAu5N2UtJ"
   },
   "source": [
    "The corresponding $XX(t)^{(0,1)}$ circuit acting on qubits 0 and 1 is then obtained by exponentiating the $Z\\otimes Z$ operator in the equation above:\n",
    "\n",
    "\\begin{align}\n",
    "\\Bigg(R_y(\\pi/2) \\otimes R_y(\\pi/2) \\Bigg) e^{(-itZ\\otimes Z)} \\Bigg(R_y(-\\pi/2) \\otimes R_y(-\\pi/2) \\Bigg) =& \\\\\n",
    "e^{-i \\frac{\\pi}{4}(Y\\otimes I+I\\otimes Y)} e^{(-itZ\\otimes Z)} e^{i \\frac{\\pi}{4}(Y\\otimes I+I\\otimes Y)} =& \\cdots \\\\\n",
    "=& e^{(-it X\\otimes X)} \\\\\n",
    "\\equiv& XX(t).\n",
    "\\end{align}"
   ]
  },
  {
   "cell_type": "markdown",
   "metadata": {
    "id": "h1ELB_rvDUQJ"
   },
   "source": [
    "The full procedure can be found at [ibmq-qsim-sup-mat.ipynb](https://github.com/qiskit-community/open-science-prize-2021/blob/main/ibmq-qsim-sup-mat.ipynb), where the following identity was used: \n",
    "\n",
    "$$R_{\\hat{n}_j}(\\theta_1) \\otimes R_{\\hat{n}_k}(\\theta_2)=e^{-i(\\hat{n}_j\\cdot \\vec{\\sigma})\\theta_1/2} \\otimes e^{-i(\\hat{n}_k\\cdot \\vec{\\sigma})\\theta_2/2} = e^{-\\frac{i}{2}(\\hat{\\sigma}_j\\theta_1 \\otimes I+I \\otimes \\hat{\\sigma}_k\\theta_2)},$$\n",
    "\n",
    "which follows from\n",
    "\n",
    "$$e^A \\otimes e^B=e^{A \\otimes \\mathbb{I}_n} e^{\\mathbb{I}_m \\otimes B}=e^{A \\otimes \\mathbb{I}_n + \\mathbb{I}_m \\otimes B}.$$"
   ]
  },
  {
   "cell_type": "markdown",
   "metadata": {
    "id": "e8e7e781-9bca-4a00-acc0-d920b7bf3161",
    "jp-MarkdownHeadingCollapsed": true,
    "tags": []
   },
   "source": [
    "## $YY(t)$ gate"
   ]
  },
  {
   "cell_type": "code",
   "execution_count": 7,
   "metadata": {
    "colab": {
     "base_uri": "https://localhost:8080/",
     "height": 0
    },
    "executionInfo": {
     "elapsed": 513,
     "status": "ok",
     "timestamp": 1663628040311,
     "user": {
      "displayName": "Lucas Camponogara Viera",
      "userId": "14322290658374940800"
     },
     "user_tz": -480
    },
    "id": "36Ejq1rWNBem",
    "outputId": "10a7373a-afc5-4526-cf7e-ac65f12198ae"
   },
   "outputs": [
    {
     "data": {
      "image/png": "[encoded data removed]",
      "text/plain": [
       "<Figure size 723.379x200.667 with 1 Axes>"
      ]
     },
     "execution_count": 7,
     "metadata": {},
     "output_type": "execute_result"
    }
   ],
   "source": [
    "# Circuit for the YY(t) gate:\n",
    "\n",
    "'''\n",
    "from qiskit import QuantumCircuit\n",
    "from qiskit.circuit import Parameter\n",
    "'''\n",
    "\n",
    "t = Parameter('t')\n",
    "\n",
    "qr = QuantumRegister(2)\n",
    "qc = QuantumCircuit(qr, name='YY')\n",
    "qc.sdg([0,1])\n",
    "qc.h([0,1])\n",
    "qc.cx(0, 1)\n",
    "qc.rz(2 * t, 1)\n",
    "qc.cx(0, 1)\n",
    "qc.h([0,1])\n",
    "qc.s([0,1])\n",
    "qc.draw(output='mpl')"
   ]
  },
  {
   "cell_type": "markdown",
   "metadata": {
    "id": "8391ff44-f7df-4a49-a719-1f70fff7557a"
   },
   "source": [
    "One should note that $e^{-itYY}$ is shorthand for $e^{-itY \\otimes Y}$. Following the same thought process as before, one writes the spectral decomposition of the Pauli operator $Y$ in the basis of its eigenvectors:\n",
    "\n",
    "$$Y=\\sum_{j=1}^{d} y_j |y_j \\rangle \\langle y_j|=|\\oplus\\rangle\\langle \\oplus|-|\\ominus\\rangle\\langle \\ominus|,$$\n",
    "\n",
    "where\n",
    "\n",
    "\\begin{eqnarray}\n",
    "|+y\\rangle &\\equiv& |\\oplus\\rangle \\doteq \\frac{1}{\\sqrt{2}}(|0\\rangle+i|1\\rangle), \\\\\n",
    "|-y\\rangle &\\equiv& |\\ominus\\rangle \\doteq \\frac{1}{\\sqrt{2}}(|0\\rangle-i|1\\rangle),\n",
    "\\end{eqnarray}\n",
    "\n",
    "denotes the two orthonormal eigenstates (eigenvectors) of the Pauli $Y$-gate. "
   ]
  },
  {
   "cell_type": "markdown",
   "metadata": {
    "id": "v-YoV0T8RxDZ"
   },
   "source": [
    "With that, one has\n",
    "\n",
    "\\begin{eqnarray}\n",
    "YY &\\equiv& Y \\otimes Y = (|\\oplus\\rangle\\langle \\oplus|-|\\ominus\\rangle\\langle \\ominus|)\\otimes(|\\oplus\\rangle\\langle \\oplus|-|\\ominus\\rangle\\langle \\ominus|) \\tag{YY1}\\\\\n",
    "&=& (|\\oplus\\rangle\\langle \\oplus|) \\otimes (|\\oplus\\rangle\\langle \\oplus|) - (|\\oplus\\rangle\\langle \\oplus|) \\otimes (|\\ominus\\rangle\\langle \\ominus|) - (|\\ominus\\rangle\\langle \\ominus|)\\otimes(|\\oplus\\rangle\\langle \\oplus|) + (|\\ominus\\rangle\\langle \\ominus|)\\otimes(|\\ominus\\rangle\\langle \\ominus|) \\tag{YY2}\\\\\n",
    "&=&|\\oplus\\oplus\\rangle\\langle \\oplus\\oplus|-|\\oplus\\ominus\\rangle\\langle \\oplus\\ominus|-|\\ominus\\oplus\\rangle\\langle \\ominus\\oplus|+|\\ominus\\ominus\\rangle\\langle \\ominus\\ominus| \\tag{YY3}.\n",
    "\\end{eqnarray}\n",
    "\n",
    "- Eq. ($YY2$) was obtained from Eq. ($YY1$) using the distributive property for matrices:\n",
    "\n",
    "$$(A+B) \\otimes (C+D)=A\\otimes C+A\\otimes D+B\\otimes C+B\\otimes D.$$\n",
    "\n",
    "- Eq. ($YY3$) was obtained from Eq. ($YY2$) using:\n",
    "\n",
    "$$|a\\rangle \\langle c| \\otimes |b\\rangle \\langle d|  = (|a\\rangle \\otimes |b\\rangle)(\\langle c| \\otimes \\langle d|) \\equiv |ab\\rangle\\langle cd|.$$"
   ]
  },
  {
   "cell_type": "markdown",
   "metadata": {
    "id": "X6m_pwNwUPHe"
   },
   "source": [
    "Henceforth, \n",
    "\n",
    "\\begin{eqnarray}\n",
    "e^{-itY \\otimes Y}&=&e^{-it}|\\oplus\\oplus\\rangle\\langle \\oplus\\oplus|+ e^{it}|\\oplus\\ominus\\rangle\\langle \\oplus\\ominus|+ e^{it}|\\ominus\\oplus\\rangle\\langle \\ominus\\oplus|+e^{-it}|\\ominus\\ominus\\rangle\\langle \\ominus\\ominus|\\tag{YY4} \\\\\n",
    "&=&e^{-it}\\Bigg(|\\oplus\\oplus\\rangle\\langle \\oplus\\oplus|+|\\ominus\\ominus\\rangle\\langle \\ominus\\ominus|\\Bigg) + e^{it}\\Bigg(|\\oplus\\ominus\\rangle\\langle \\oplus\\ominus|+|\\ominus\\oplus\\rangle\\langle \\ominus\\oplus|\\Bigg).\n",
    "\\end{eqnarray}\n",
    "\n",
    "- Once more, Eq. ($YY4$) is the result of acting an operator function (in this case $e^{i\\theta \\hat{O}}$) on a Normal matrix (in this case $Y\\otimes Y$) with the spectral decomposition, according to:\n",
    "\n",
    "$$ e^{i\\theta\\hat{O}} = \\sum_{j=1}^n e^{i\\theta o_j} |o_j\\rangle \\langle o_j| = e^{i\\theta o_1} |o_{1}\\rangle \\langle o_{1}| + \\cdots + e^{i\\theta o_n} |o_{n}\\rangle \\langle o_{n}|.$$"
   ]
  },
  {
   "cell_type": "markdown",
   "metadata": {
    "id": "YFNot9kqS98Z"
   },
   "source": [
    "As one can see, the $e^{-itY\\otimes Y}$ gate is not diagonalized in the $Z$-basis. Since measurements are computed in the $Z$-basis, the next step is to apply a basis change, as follows:\n",
    "\n",
    "\\begin{eqnarray}\n",
    "|\\oplus\\rangle &=& SH|0\\rangle = R_x(-\\pi/2)|0\\rangle, \\\\\n",
    "|\\ominus\\rangle &=& SH|1\\rangle = R_x(\\pi/2)|0\\rangle, \\\\\n",
    "\\langle \\oplus| &=& (|\\oplus\\rangle)^{\\dagger} = (SH|0\\rangle)^{\\dagger} = (|0\\rangle)^{\\dagger} (SH)^{\\dagger} = \\langle 0| H^{\\dagger}S^{\\dagger}=\\langle 0|HS^{\\dagger},\\\\\n",
    "\\langle \\ominus| &=& (|\\ominus\\rangle)^{\\dagger} = (SH|1\\rangle)^{\\dagger} = (|1\\rangle)^{\\dagger} (SH)^{\\dagger} = \\langle 1| H^{\\dagger}S^{\\dagger}=\\langle 1|HS^{\\dagger}.\n",
    "\\end{eqnarray}"
   ]
  },
  {
   "cell_type": "markdown",
   "metadata": {
    "id": "m8rg8UVZFioC"
   },
   "source": [
    "With that, and using $A |v\\rangle \\otimes B |w\\rangle = (A\\otimes B)(|v\\rangle \\otimes |w\\rangle),$ one can write the respective outer products as follows:\n",
    "\n",
    "\\begin{eqnarray}\n",
    "|\\oplus\\oplus\\rangle\\langle \\oplus\\oplus| &=& (SH|0\\rangle \\otimes SH|0\\rangle)(\\langle 0| HS^{\\dagger} \\otimes \\langle 0| HS^{\\dagger})\\\\\n",
    "&=& \\Bigg[(SH \\otimes SH)(|0\\rangle \\otimes |0\\rangle)\\Bigg]\\Bigg[(\\langle 0| \\otimes \\langle 0|)(HS^{\\dagger} \\otimes HS^{\\dagger})\\Bigg] \\\\\n",
    "&=&(S\\otimes S)(H\\otimes H)|00\\rangle\\langle 00|(H\\otimes H)(S^{\\dagger}\\otimes S^{\\dagger}),\n",
    "\\end{eqnarray}"
   ]
  },
  {
   "cell_type": "markdown",
   "metadata": {
    "id": "u4womFgXFs4h"
   },
   "source": [
    "\\begin{eqnarray}\n",
    "|\\ominus\\ominus\\rangle\\langle \\ominus\\ominus| &=& (SH|1\\rangle \\otimes SH|1\\rangle)(\\langle 1| HS^{\\dagger} \\otimes \\langle 1| HS^{\\dagger})\\\\\n",
    "&=& \\Bigg[(SH \\otimes SH)(|1\\rangle \\otimes |1\\rangle)\\Bigg]\\Bigg[(\\langle 1| \\otimes \\langle 1|)(HS^{\\dagger} \\otimes HS^{\\dagger})\\Bigg] \\\\\n",
    "&=&(S\\otimes S)(H\\otimes H)|11\\rangle\\langle 11|(H\\otimes H)(S^{\\dagger}\\otimes S^{\\dagger}),\n",
    "\\end{eqnarray}"
   ]
  },
  {
   "cell_type": "markdown",
   "metadata": {
    "id": "-6R-H7OGJB7H"
   },
   "source": [
    "\\begin{eqnarray}\n",
    "|\\oplus\\ominus\\rangle\\langle \\oplus\\ominus| &=& (SH|0\\rangle \\otimes SH|1\\rangle)(\\langle 0| HS^{\\dagger} \\otimes \\langle 1| HS^{\\dagger})\\\\\n",
    "&=& \\Bigg[(SH \\otimes SH)(|0\\rangle \\otimes |1\\rangle)\\Bigg]\\Bigg[(\\langle 0| \\otimes \\langle 1|)(HS^{\\dagger} \\otimes HS^{\\dagger})\\Bigg] \\\\\n",
    "&=&(S\\otimes S)(H\\otimes H)|01\\rangle\\langle 01|(H\\otimes H)(S^{\\dagger}\\otimes S^{\\dagger}),\n",
    "\\end{eqnarray}"
   ]
  },
  {
   "cell_type": "markdown",
   "metadata": {
    "id": "74QSfo9jKTvA"
   },
   "source": [
    "\\begin{eqnarray}\n",
    "|\\ominus\\oplus\\rangle\\langle \\ominus\\oplus| &=& (SH|1\\rangle \\otimes SH|0\\rangle)(\\langle 1| HS^{\\dagger} \\otimes \\langle 0| HS^{\\dagger})\\\\\n",
    "&=& \\Bigg[(SH \\otimes SH)(|1\\rangle \\otimes |0\\rangle)\\Bigg]\\Bigg[(\\langle 1| \\otimes \\langle 0|)(HS^{\\dagger} \\otimes HS^{\\dagger})\\Bigg] \\\\\n",
    "&=&(S\\otimes S)(H\\otimes H)|10\\rangle\\langle 10|(H\\otimes H)(S^{\\dagger}\\otimes S^{\\dagger}).\n",
    "\\end{eqnarray}"
   ]
  },
  {
   "cell_type": "markdown",
   "metadata": {
    "id": "LcnEviuCnjP8"
   },
   "source": [
    "Finally,\n",
    "\n",
    "\\begin{eqnarray}\n",
    "e^{-itY\\otimes Y} &=& e^{-it}\\Bigg((S\\otimes S)(H\\otimes H)|00\\rangle\\langle 00|(H\\otimes H)(S^{\\dagger}\\otimes S^{\\dagger})+(S\\otimes S)(H\\otimes H)|11\\rangle\\langle 11|(H\\otimes H) (S^{\\dagger}\\otimes S^{\\dagger})\\Bigg) \\\\\n",
    "&+& e^{it}\\Bigg((S\\otimes S) (H\\otimes H)|01\\rangle\\langle 01|(H\\otimes H)(S^{\\dagger}\\otimes S^{\\dagger}) + (S\\otimes S)(H\\otimes H)|10\\rangle\\langle 10|(H\\otimes H)(S^{\\dagger}\\otimes S^{\\dagger}) \\Bigg)\\\\\n",
    "&=& (S\\otimes S)(H\\otimes H) \\Bigg[e^{-it}\\Bigg(|00\\rangle\\langle 00|+|11\\rangle\\langle 11|\\Bigg)+e^{it} \\Bigg(|01\\rangle\\langle 01|+|10\\rangle\\langle 10|\\Bigg)\\Bigg](H\\otimes H)(S^{\\dagger}\\otimes S^{\\dagger}) \\\\\n",
    "& =& (S\\otimes S) (H\\otimes H)e^{-itZ \\otimes Z}(H\\otimes H)(S^{\\dagger}\\otimes S^{\\dagger}) \\\\\n",
    "&=&(S \\otimes S) (H \\otimes H) C_x^{01}\\big(\\mathbb{I}\\otimes e^{-itZ}\\big) C_x^{01} (H \\otimes H) (S^{\\dagger} \\otimes S^{\\dagger}) \\\\\n",
    "&=& (S \\otimes S) (H \\otimes H) C_x^{01} \\big(\\mathbb{I}\\otimes R_z(2t)\\big) C_x^{01} (H \\otimes H) (S^{\\dagger} \\otimes S^{\\dagger}).\n",
    "\\end{eqnarray}\n",
    "\n",
    "Where it was used the previously obtained result for the decomposition of the $ZZ(t)=e^{-itZ\\otimes Z}$ gate and the equality $e^{-itZ} = R_z(2t)$.\n",
    "\n",
    "Q.E.D."
   ]
  },
  {
   "cell_type": "markdown",
   "metadata": {
    "id": "BFU_nbDWNUre"
   },
   "source": [
    "From the fact that \n",
    "\n",
    "$$SH|0\\rangle = R_x(-\\pi/2)|0\\rangle = \\frac{1}{\\sqrt{2}}(|0\\rangle+i|1\\rangle) \\equiv |\\oplus\\rangle,$$ \n",
    "\n",
    "and \n",
    "\n",
    "$$SH|1\\rangle = R_x(\\pi/2)|0\\rangle = \\frac{1}{\\sqrt{2}}(|0\\rangle-i|1\\rangle) \\equiv |\\ominus\\rangle,$$ \n",
    "\n",
    "one equivalent quantum circuit is:"
   ]
  },
  {
   "cell_type": "code",
   "execution_count": 8,
   "metadata": {
    "colab": {
     "base_uri": "https://localhost:8080/",
     "height": 0
    },
    "executionInfo": {
     "elapsed": 652,
     "status": "ok",
     "timestamp": 1663628040961,
     "user": {
      "displayName": "Lucas Camponogara Viera",
      "userId": "14322290658374940800"
     },
     "user_tz": -480
    },
    "id": "YiD1rtEoNBem",
    "outputId": "ddbf444b-e8b6-4661-dce3-30ee2cb01a13"
   },
   "outputs": [
    {
     "data": {
      "image/png": "[encoded data removed]",
      "text/plain": [
       "<Figure size 556.358x200.667 with 1 Axes>"
      ]
     },
     "execution_count": 8,
     "metadata": {},
     "output_type": "execute_result"
    }
   ],
   "source": [
    "# Equivalent circuit for the YY(t) gate:\n",
    "\n",
    "qr = QuantumRegister(2)\n",
    "qc = QuantumCircuit(qr, name='YY')\n",
    "qc.rx(np.pi/2,[0,1])\n",
    "qc.cnot(0,1)\n",
    "qc.rz(2 * t, 1)\n",
    "qc.cnot(0,1)\n",
    "qc.rx(-np.pi/2,[0,1])\n",
    "\n",
    "qc.draw(output='mpl')"
   ]
  },
  {
   "cell_type": "markdown",
   "metadata": {
    "id": "UtW6S_Xi8KT5"
   },
   "source": [
    "# About the Trotterized Evolution"
   ]
  },
  {
   "cell_type": "markdown",
   "metadata": {
    "id": "NDgoHlY2984d"
   },
   "source": [
    "Consider the trotterized circuit below. Is it possible to change the order of the two-qubit gates in this circuit?"
   ]
  },
  {
   "cell_type": "code",
   "execution_count": 9,
   "metadata": {
    "colab": {
     "base_uri": "https://localhost:8080/",
     "height": 0
    },
    "executionInfo": {
     "elapsed": 8,
     "status": "ok",
     "timestamp": 1663628040961,
     "user": {
      "displayName": "Lucas Camponogara Viera",
      "userId": "14322290658374940800"
     },
     "user_tz": -480
    },
    "id": "NZaH0G0tYaci",
    "outputId": "e7d76a8f-a6d3-4fbf-e6f3-f4d96dc8d6c6"
   },
   "outputs": [
    {
     "data": {
      "image/png": "[encoded data removed]",
      "text/plain": [
       "<Figure size 473.151x284.278 with 1 Axes>"
      ]
     },
     "execution_count": 9,
     "metadata": {},
     "output_type": "execute_result"
    }
   ],
   "source": [
    "t = Parameter('t')\n",
    "qr = QuantumRegister(2)\n",
    "\n",
    "ZZ_qc = QuantumCircuit(qr, name='ZZ')\n",
    "ZZ_qc.cnot(0,1)\n",
    "ZZ_qc.rz(2 * t, 1)\n",
    "ZZ_qc.cnot(0,1)\n",
    "ZZg = ZZ_qc.to_instruction()\n",
    "\n",
    "XX_qc = QuantumCircuit(qr, name='XX')\n",
    "XX_qc.h([0,1])\n",
    "XX_qc.append(ZZg, [0,1])\n",
    "XX_qc.h([0,1])\n",
    "XXg = XX_qc.to_instruction()\n",
    "\n",
    "YY_qc = QuantumCircuit(qr, name='YY')\n",
    "YY_qc.sdg([0,1])\n",
    "YY_qc.h([0,1])\n",
    "YY_qc.append(ZZg, [0,1])\n",
    "YY_qc.h([0,1])\n",
    "YY_qc.s([0,1])\n",
    "YYg = YY_qc.to_instruction()\n",
    "\n",
    "num_qubits = 3\n",
    "Trot_qr = QuantumRegister(num_qubits)\n",
    "Trot_qc = QuantumCircuit(Trot_qr, name='Trot')\n",
    "for i in range(0, num_qubits - 1):\n",
    "    Trot_qc.append(YYg, [Trot_qr[i], Trot_qr[i+1]])\n",
    "    Trot_qc.append(XXg, [Trot_qr[i], Trot_qr[i+1]])\n",
    "Trot_gate = Trot_qc.to_instruction()\n",
    "Trot_qc.draw(output='mpl')"
   ]
  },
  {
   "cell_type": "markdown",
   "metadata": {
    "id": "6UhxC5JVw3vh"
   },
   "source": [
    "The unitary operator for the circuit above reads (little-endian convention):\n",
    "\n",
    "\\begin{eqnarray}\n",
    "U(\\Delta t) &=& (e^{-i \\Delta t (X_2 \\otimes X_1)}\\otimes \\mathbb{I}_0) (e^{-i \\Delta t (Y_2 \\otimes Y_1)}\\otimes \\mathbb{I}_0) (\\mathbb{I}_2\\otimes e^{-i \\Delta t (X_1\\otimes X_0)}) (\\mathbb{I}_2 \\otimes e^{-i \\Delta t (Y_1\\otimes Y_0)})\\\\ \n",
    "&=& e^{-i \\Delta t (X_2 \\otimes X_1 \\otimes \\mathbb{I}_0)} e^{-i \\Delta t (Y_2 \\otimes Y_1 \\otimes \\mathbb{I}_0)} e^{-i \\Delta t (\\mathbb{I}_2\\otimes X_1\\otimes X_0)} e^{-i \\Delta t (\\mathbb{I}_2 \\otimes Y_1\\otimes Y_0)},\n",
    "\\end{eqnarray}\n",
    "\n",
    "where it was used $e^{A\\otimes \\mathbb{I}} = e^{A}\\otimes \\mathbb{I}$."
   ]
  },
  {
   "cell_type": "markdown",
   "metadata": {
    "id": "e2c65504-7c8c-4046-98c9-f2df5414b140"
   },
   "source": [
    "Moreover, (for $j\\neq k$):\n",
    "\n",
    "$$[\\sigma_j\\otimes\\sigma_j,\\sigma_k\\otimes\\sigma_k]=\\mathbb{O},$$\n",
    "\n",
    "meaning that\n",
    "$$[X \\otimes X, Y \\otimes Y] = [X \\otimes X, Z \\otimes Z] = [Y \\otimes Y, Z \\otimes Z]=\\mathbb{O}.$$\n",
    "\n",
    "And since $e^Ae^B=e^{A+B}$ iff $[A,B] = \\mathbb{O}$, one then has\n",
    "\n",
    "$$e^{-i\\Delta t X\\otimes X\\otimes \\mathbb{I}}e^{-i\\Delta tY\\otimes Y\\otimes \\mathbb{I}} = e^{-i \\Delta t(X\\otimes X\\otimes \\mathbb{I} + Y\\otimes Y\\otimes \\mathbb{I})},$$\n",
    "\n",
    "hence\n",
    "\n",
    "$$e^{-i \\Delta t X\\otimes X \\otimes \\mathbb{I}} e^{-i \\Delta t Y\\otimes Y \\otimes \\mathbb{I}} = e^{-i \\Delta t Y\\otimes Y \\otimes \\mathbb{I}}  e^{-i \\Delta t X\\otimes X \\otimes \\mathbb{I}}.$$"
   ]
  },
  {
   "cell_type": "markdown",
   "metadata": {
    "id": "PmvxsyTk7B3k"
   },
   "source": [
    "However, one should also note that (for $j\\neq k$):\n",
    "\n",
    "$$[\\sigma_j\\otimes\\sigma_j\\otimes\\sigma_0,\\sigma_0\\otimes\\sigma_k\\otimes\\sigma_k] \\ne \\mathbb{O},$$\n",
    "\n",
    "so that\n",
    "\\begin{eqnarray}\n",
    "e^{-i\\Delta t (Y\\otimes Y \\otimes \\mathbb{I}+\\mathbb{I}\\otimes X\\otimes X)} &\\neq& e^{-i\\Delta t Y\\otimes Y\\otimes \\mathbb{I}} e^{-i\\Delta t \\mathbb{I}\\otimes X\\otimes X},\n",
    "\\end{eqnarray}\n",
    "\n",
    "hence\n",
    "\n",
    "\\begin{eqnarray}\n",
    "e^{-i\\Delta t Y\\otimes Y \\otimes \\mathbb{I}}e^{-i\\Delta t\\mathbb{I} \\otimes X \\otimes X} &\\ne& e^{-i\\Delta t\\mathbb{I}\\otimes X \\otimes X}e^{-i\\Delta t Y \\otimes Y \\otimes \\mathbb{I}}.\n",
    "\\end{eqnarray}"
   ]
  },
  {
   "cell_type": "markdown",
   "metadata": {
    "id": "6tD0fsgvH_id"
   },
   "source": [
    "### **Verifying with NumPy:**"
   ]
  },
  {
   "cell_type": "markdown",
   "metadata": {
    "id": "11nrY8HDRGaB"
   },
   "source": [
    "$$e^{-i\\Delta t (X\\otimes X \\otimes \\mathbb{I} + Y\\otimes Y \\otimes \\mathbb{I})} = e^{-i\\Delta t X\\otimes X \\otimes \\mathbb{I}}e^{-i\\Delta t Y\\otimes Y \\otimes \\mathbb{I}}:$$\n",
    "\n",
    "Obs: setting $\\Delta t=1$."
   ]
  },
  {
   "cell_type": "code",
   "execution_count": 10,
   "metadata": {
    "colab": {
     "base_uri": "https://localhost:8080/"
    },
    "executionInfo": {
     "elapsed": 6,
     "status": "ok",
     "timestamp": 1663628040961,
     "user": {
      "displayName": "Lucas Camponogara Viera",
      "userId": "14322290658374940800"
     },
     "user_tz": -480
    },
    "id": "m5tt_tadh28Y",
    "outputId": "b4015464-170f-4480-a362-94015dfe3d28"
   },
   "outputs": [
    {
     "data": {
      "text/plain": [
       "True"
      ]
     },
     "execution_count": 10,
     "metadata": {},
     "output_type": "execute_result"
    }
   ],
   "source": [
    "XXI = np.kron(XX, sigma0)\n",
    "YYI = np.kron(YY, sigma0)\n",
    "\n",
    "(expm(-1j*(XXI+YYI)).round(6) == (expm(-1j*XXI)@expm(-1j*YYI)).round(6)).all()"
   ]
  },
  {
   "cell_type": "markdown",
   "metadata": {
    "id": "-inhuouWRLvP"
   },
   "source": [
    "$$ e^{-i \\Delta t X\\otimes X \\otimes \\mathbb{I}} e^{-i \\Delta t Y\\otimes Y \\otimes \\mathbb{I}} = e^{-i \\Delta t Y\\otimes Y \\otimes \\mathbb{I}}  e^{-i \\Delta t X\\otimes X \\otimes \\mathbb{I}}:$$\n",
    "\n",
    "Obs: setting $\\Delta t=1$."
   ]
  },
  {
   "cell_type": "code",
   "execution_count": 11,
   "metadata": {
    "colab": {
     "base_uri": "https://localhost:8080/"
    },
    "executionInfo": {
     "elapsed": 6,
     "status": "ok",
     "timestamp": 1663628040961,
     "user": {
      "displayName": "Lucas Camponogara Viera",
      "userId": "14322290658374940800"
     },
     "user_tz": -480
    },
    "id": "VdvYYYFRFKbW",
    "outputId": "4929cbd5-6c15-4d14-f4e6-091af057efd3"
   },
   "outputs": [
    {
     "data": {
      "text/plain": [
       "True"
      ]
     },
     "execution_count": 11,
     "metadata": {},
     "output_type": "execute_result"
    }
   ],
   "source": [
    "((expm(-1j*XXI)@expm(-1j*YYI)).round(6) == (expm(-1j*YYI)@expm(-1j*XXI)).round(6)).all()"
   ]
  },
  {
   "cell_type": "markdown",
   "metadata": {
    "id": "WGLFTOZdRMcr"
   },
   "source": [
    "$$e^{-i\\Delta t (Y\\otimes Y \\otimes \\mathbb{I}+\\mathbb{I}\\otimes X\\otimes X)} \\ne e^{-i\\Delta t Y\\otimes Y\\otimes \\mathbb{I}} e^{-i\\Delta t \\mathbb{I}\\otimes X\\otimes X}:$$\n",
    "\n",
    "Obs: setting $\\Delta t=1$."
   ]
  },
  {
   "cell_type": "code",
   "execution_count": 12,
   "metadata": {
    "colab": {
     "base_uri": "https://localhost:8080/"
    },
    "executionInfo": {
     "elapsed": 6,
     "status": "ok",
     "timestamp": 1663628040962,
     "user": {
      "displayName": "Lucas Camponogara Viera",
      "userId": "14322290658374940800"
     },
     "user_tz": -480
    },
    "id": "EIKZbAIwC_8x",
    "outputId": "44a0b3c9-7ce6-4965-9d58-d8107e4887b2"
   },
   "outputs": [
    {
     "data": {
      "text/plain": [
       "False"
      ]
     },
     "execution_count": 12,
     "metadata": {},
     "output_type": "execute_result"
    }
   ],
   "source": [
    "'''Return should be >>> False.'''\n",
    "\n",
    "YYI = np.kron(YY, sigma0)\n",
    "IXX = np.kron(sigma0, XX)\n",
    "\n",
    "(expm(-1j*(YYI+IXX)).round(6) == (expm(-1j*YYI)@expm(-1j*IXX)).round(6)).all()"
   ]
  },
  {
   "cell_type": "markdown",
   "metadata": {
    "id": "L585XioAIDxn"
   },
   "source": [
    "### **Verifying with Qiskit Opflow:**"
   ]
  },
  {
   "cell_type": "markdown",
   "metadata": {
    "id": "Jqqgp64PN39I"
   },
   "source": [
    "$$e^{-i\\Delta t (X\\otimes X \\otimes \\mathbb{I} + Y\\otimes Y \\otimes \\mathbb{I})} = e^{-i\\Delta t X\\otimes X \\otimes \\mathbb{I}}e^{-i\\Delta t Y\\otimes Y \\otimes \\mathbb{I}}:$$\n",
    "\n",
    "Obs: setting $\\Delta t=1$."
   ]
  },
  {
   "cell_type": "code",
   "execution_count": 13,
   "metadata": {
    "colab": {
     "base_uri": "https://localhost:8080/"
    },
    "executionInfo": {
     "elapsed": 6,
     "status": "ok",
     "timestamp": 1663628040962,
     "user": {
      "displayName": "Lucas Camponogara Viera",
      "userId": "14322290658374940800"
     },
     "user_tz": -480
    },
    "id": "tV-13SqeGlZB",
    "outputId": "f432d2e7-7b64-44e9-aaf4-02418472fb6c"
   },
   "outputs": [
    {
     "data": {
      "text/plain": [
       "True"
      ]
     },
     "execution_count": 13,
     "metadata": {},
     "output_type": "execute_result"
    }
   ],
   "source": [
    "from qiskit.opflow import I, X, Y, Z\n",
    "\n",
    "H1 = (X^X^I)+(Y^Y^I)\n",
    "(H1.exp_i().to_matrix().round(7) == ((X^X^I).exp_i()@(Y^Y^I).exp_i()).to_matrix().round(7)).all()"
   ]
  },
  {
   "cell_type": "markdown",
   "metadata": {
    "id": "EWFv7gnkNv3R"
   },
   "source": [
    "$$e^{-i\\Delta t (Y\\otimes Y \\otimes \\mathbb{I}+\\mathbb{I}\\otimes X\\otimes X)} \\ne e^{-i\\Delta t Y\\otimes Y\\otimes \\mathbb{I}} e^{-i\\Delta t \\mathbb{I}\\otimes X\\otimes X}:$$\n",
    "\n",
    "Obs: setting $\\Delta t=1$."
   ]
  },
  {
   "cell_type": "code",
   "execution_count": 14,
   "metadata": {
    "colab": {
     "base_uri": "https://localhost:8080/"
    },
    "executionInfo": {
     "elapsed": 6,
     "status": "ok",
     "timestamp": 1663628040962,
     "user": {
      "displayName": "Lucas Camponogara Viera",
      "userId": "14322290658374940800"
     },
     "user_tz": -480
    },
    "id": "PNpYAFZaNFgp",
    "outputId": "7ee484cc-c2df-4bf6-e318-d898b0954ae3"
   },
   "outputs": [
    {
     "data": {
      "text/plain": [
       "False"
      ]
     },
     "execution_count": 14,
     "metadata": {},
     "output_type": "execute_result"
    }
   ],
   "source": [
    "'''Return should be >>> False.'''\n",
    "\n",
    "H2 = (Y^Y^I)+(I^X^X)\n",
    "(H2.exp_i().to_matrix().round(3) == ((Y^Y^I).exp_i()@(I^X^X).exp_i()).to_matrix().round(3)).all()"
   ]
  },
  {
   "cell_type": "markdown",
   "metadata": {
    "id": "2kL8R2XDa2ms"
   },
   "source": [
    "# &nbsp; <a href=\"#\"><img valign=\"middle\" height=\"45px\" src=\"https://img.icons8.com/book\" width=\"45\" hspace=\"0px\" vspace=\"0px\"></a> References"
   ]
  },
  {
   "cell_type": "markdown",
   "metadata": {
    "id": "izjUWbeEa3_t"
   },
   "source": [
    "[1] Nielsen MA, Chuang IL. 2010. Quantum Computation and Quantum Information. New York: [Cambridge Univ. Press.](https://doi.org/10.1017/CBO9780511976667) 10th Anniv. Ed.  \n",
    "\n",
    "[2] Horn, R., & Johnson, C. (1991). Frontmatter. In Topics in Matrix Analysis (pp. I-Iv). [Cambridge: Cambridge University Press](https://www.cambridge.org/core/books/topics-in-matrix-analysis/B988495A235F1C3406EA484A2C477B03).\n",
    "\n"
   ]
  }
 ],
 "metadata": {
  "colab": {
   "collapsed_sections": [
    "xwXf6-wNYjml",
    "Z5A_IdrZZaZW",
    "utzuBj5057RX",
    "2l8Al1ELgStT",
    "97bo8XwtNBeO",
    "vRsClU6V59yo",
    "F3sWroElytGE",
    "QzxKksEQ6MKk",
    "H0EFpINa4EJn",
    "5TrmsyXLOu4h",
    "MzhJuoWmOzxk",
    "SUcD93s2h3-O",
    "M4m7mpxuLqup",
    "7u-Oe5jSK9WM",
    "eHrS4GS8pzPZ",
    "yw1fpzTxK7a3",
    "QtKzgiXgL4g0",
    "uManQMaCLtV3",
    "2CW5PC7iDq8b",
    "-YWAORdbJJ8y",
    "3fQsmU4YAlzb",
    "t3oYZ1YydwtD",
    "G11Tdyb5rzTo",
    "dlxWB10nN7_O",
    "8JRVm3-Jzhth",
    "VOJRQ1w_dwrM",
    "5j32HyrMrOaE",
    "8reczGGXXwbq",
    "b7fab640-60fe-4291-ac17-51c11c156a5f",
    "vyWqJ6eF4-z7",
    "QSZIi6ATn4AX",
    "HvWn175P0bXC",
    "DnB_dlXYUBt3",
    "r8jiPap9UAvj",
    "Sy1J816qq8Ll",
    "rh0zMoBap3ed",
    "NNFyBlG94rym",
    "PxWzSF8Y5Unu",
    "r61zXyt-1kDJ",
    "tubczuM4SyIu",
    "1e2d62d7-368d-41eb-b319-cbb80644d976",
    "k1_Iu7Kc_F4f",
    "jGitZhadHchZ",
    "8bMlUIyiHfYi",
    "ac2270ef-5017-465e-a63f-4e6a9f33b832",
    "fNtjVj0s_ZeK",
    "Hs7SWqISCLKr",
    "7bwVZbAgCHb5",
    "7fb2137d-da89-4235-b909-4e6c74a4a872",
    "ed3acf9f-8827-4f78-bb36-1b0572e8906a",
    "c880929d-a2dc-4c0d-848a-60f2d6619380",
    "48887a12-eceb-4ac8-bec6-1a5a435bd0c3",
    "do1SmhqTtjxw",
    "_7p0lsFKxo01",
    "7a08e005-68b0-41d4-a630-fa041d05f0ee",
    "pNX20mawmyTV",
    "SLv8GF-omxgR",
    "8a2c441a-59c5-45e3-84dd-e71e8f194bab",
    "1etC8lPllTKu",
    "5h52fMirlNya",
    "a8f39d7c-0407-4eaa-9b25-bec76cde9de9",
    "ks5dw2UcMdT7",
    "tEFvH073NUMP",
    "YjhmLTGIgh8-",
    "qGlKa7uOZtSH",
    "HBxBEuEJZ44h",
    "k29_l-HtR5Gz",
    "IAaok5xP_nED",
    "rZKVlDABFYWS",
    "hhoPoTD1wJdw",
    "8mTa4ilkydaQ",
    "8vR5LBJE-haj",
    "9L6GTAZy-lxz",
    "b2YEKLgBXOTq",
    "Ft4XpBZxjiTe",
    "PKegnniy-Cfy",
    "vcSsuPn-bEv1",
    "X6xAeSvWbEBx",
    "NQ7jex-O_kW_",
    "_eO57siH-nZo",
    "864_5ltpEXc5",
    "ZjouLXJGTgOf",
    "tBmjoW4bPpij",
    "nSUsnUnGU4x8",
    "hMcXCCQWVPVY",
    "5ykI4VoJVpI-",
    "f640c94a-c8a9-4675-a91d-07e12b12aa1c",
    "Jrs0h4pmqrFc",
    "9r6uJ7Owq28n",
    "e8e7e781-9bca-4a00-acc0-d920b7bf3161",
    "UtW6S_Xi8KT5",
    "6tD0fsgvH_id",
    "L585XioAIDxn",
    "2kL8R2XDa2ms"
   ],
   "provenance": []
  },
  "kernelspec": {
   "display_name": "Python 3 (ipykernel)",
   "language": "python",
   "name": "python3"
  },
  "language_info": {
   "codemirror_mode": {
    "name": "ipython",
    "version": 3
   },
   "file_extension": ".py",
   "mimetype": "text/x-python",
   "name": "python",
   "nbconvert_exporter": "python",
   "pygments_lexer": "ipython3",
   "version": "3.10.9"
  }
 },
 "nbformat": 4,
 "nbformat_minor": 1
}
