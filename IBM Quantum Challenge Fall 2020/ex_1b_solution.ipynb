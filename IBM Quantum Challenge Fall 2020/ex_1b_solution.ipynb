{
  "cells": [
   {
    "cell_type": "markdown",
    "metadata": {},
    "source": [
     "# Learning Exercise I-B\n",
     "Find the number of iterations with the largest amplitude when you run the Grover's algorithm with one solution in a database with $N = 2 ^ 7$. As shown above, change the number of iterations and check the amplification. The answer must be an integer.\n",
     "\n",
     "Hint: Fewer than 15 times. "
    ]
   },
   {
    "cell_type": "markdown",
    "metadata": {},
    "source": [
     "## Answer \n",
     "As explained in hint by Ryoko, the optimal number of times can be calculated using the following formula.\n",
     "$$t = \\frac{\\pi}{4}\\sqrt{N}-\\frac{1}{2}$$\n",
     "\n",
     "Let's find the optimum number of iterations (approximate) when N is up to $2^{16}$."
    ]
   },
   {
    "cell_type": "code",
    "execution_count": 1,
    "metadata": {},
    "outputs": [
     {
      "name": "stdout",
      "output_type": "stream",
      "text": [
       "['N:1', 'Number of iteration:0.2853981633974483']\n",
       "['N:2', 'Number of iteration:0.6107207345395915']\n",
       "['N:4', 'Number of iteration:1.0707963267948966']\n",
       "['N:8', 'Number of iteration:1.721441469079183']\n",
       "['N:16', 'Number of iteration:2.641592653589793']\n",
       "['N:32', 'Number of iteration:3.942882938158366']\n",
       "['N:64', 'Number of iteration:5.783185307179586']\n",
       "['N:128', 'Number of iteration:8.385765876316732']\n",
       "['N:256', 'Number of iteration:12.066370614359172']\n",
       "['N:512', 'Number of iteration:17.271531752633464']\n",
       "['N:1024', 'Number of iteration:24.632741228718345']\n",
       "['N:2048', 'Number of iteration:35.04306350526693']\n",
       "['N:4096', 'Number of iteration:49.76548245743669']\n",
       "['N:8192', 'Number of iteration:70.58612701053386']\n",
       "['N:16384', 'Number of iteration:100.03096491487338']\n",
       "['N:32768', 'Number of iteration:141.67225402106772']\n"
      ]
     }
    ],
    "source": [
     "# Number of iteration \n",
     "import math\n",
     "import numpy as np\n",
     "def num_iter(n):\n",
     "    res = ((np.pi/4) * (math.sqrt(n))) - (1/2)\n",
     "    iter_list = ['N:'+str(n), 'Number of iteration:'+ str(res)]\n",
     "    return iter_list\n",
     "\n",
     "for i in range(16):\n",
     "    n = 2**i\n",
     "    print(num_iter(n))"
    ]
   },
   {
    "cell_type": "markdown",
    "metadata": {},
    "source": [
     "We got 8.39. It's about 8.\n",
     "\n",
     "Let's generate a quantum circuit and check the actual amplification. Generate a circuit to search for 47 (use any number up to $2^7$-1) from $2^7$."
    ]
   },
   {
    "cell_type": "code",
    "execution_count": 2,
    "metadata": {},
    "outputs": [],
    "source": [
     "# importing Qiskit\n",
     "from qiskit import Aer\n",
     "from qiskit import QuantumCircuit, ClassicalRegister, QuantumRegister, execute\n",
     "from qiskit.providers.aer import QasmSimulator\n",
     "\n",
     "backend = Aer.get_backend('qasm_simulator')\n",
     "prob_of_ans = []\n",
     "\n",
     "for x in range(15):\n",
     "    database = QuantumRegister(7)\n",
     "    oracle = QuantumRegister(1)\n",
     "    ancilla = QuantumRegister(5) \n",
     "    cr = ClassicalRegister(7)\n",
     "    qc = QuantumCircuit(database, oracle, ancilla, cr)\n",
     "    qc.h(database[:])\n",
     "    qc.x(oracle[0])\n",
     "    qc.h(oracle[0])\n",
     "\n",
     "\n",
     "    for j in range(x):\n",
     "    # oracle_7q\n",
     "        # search 47: 0101111\n",
     "        qc.x(database[0])\n",
     "        qc.x(database[2])\n",
     "        qc.mct(database[:], oracle[0], ancilla[:], mode='basic') \n",
     "        qc.x(database[0])\n",
     "        qc.x(database[2])\n",
     "\n",
     "    # diffusion_７q\n",
     "        qc.h(database[:])\n",
     "        qc.x(database[:])\n",
     "        qc.h(database[6])\n",
     "        qc.mct(database[0:6], database[6], ancilla[:], mode='basic')\n",
     "        qc.h(database[6])\n",
     "        qc.x(database[:])\n",
     "        qc.h(database[:])\n",
     "\n",
     "\n",
     "    qc.h(oracle[0])\n",
     "    qc.x(oracle[0])\n",
     "    qc.measure(database,cr)\n",
     "    # Change the endian \n",
     "    qc = qc.reverse_bits() \n",
     "\n",
     "    job = execute(qc, backend=backend, shots=1000, backend_options={\"fusion_enable\":True})\n",
     "    result = job.result()\n",
     "    count = result.get_counts()\n",
     "    answer = count['0101111']\n",
     "    prob_of_ans.append(answer)"
    ]
   },
   {
    "cell_type": "code",
    "execution_count": 3,
    "metadata": {},
    "outputs": [
     {
      "data": {
       "text/plain": [
        "Text(0, 0.5, '# of times the solution was obtained')"
       ]
      },
      "execution_count": 3,
      "metadata": {},
      "output_type": "execute_result"
     },
     {
      "data": {
       "image/png": "[encoded data removed]",
       "text/plain": [
        "<Figure size 432x288 with 1 Axes>"
       ]
      },
      "metadata": {
       "needs_background": "light"
      },
      "output_type": "display_data"
     }
    ],
    "source": [
     "import matplotlib.pyplot as plt\n",
     "iteration = [i for i in range(15)]\n",
     "plt.bar(iteration, prob_of_ans)\n",
     "plt.xlabel('# of iteration')\n",
     "plt.ylabel('# of times the solution was obtained')"
    ]
   },
   {
    "cell_type": "markdown",
    "metadata": {},
    "source": [
     "The answer is 8. "
    ]
   }
  ],
  "metadata": {
   "kernelspec": {
    "display_name": "Python 3",
    "language": "python",
    "name": "python3"
   },
   "language_info": {
    "codemirror_mode": {
     "name": "ipython",
     "version": 3
    },
    "file_extension": ".py",
    "mimetype": "text/x-python",
    "name": "python",
    "nbconvert_exporter": "python",
    "pygments_lexer": "ipython3",
    "version": "3.7.4"
   }
  },
  "nbformat": 4,
  "nbformat_minor": 4
 }